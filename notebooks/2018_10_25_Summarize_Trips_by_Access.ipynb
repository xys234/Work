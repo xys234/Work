{
 "cells": [
  {
   "cell_type": "code",
   "execution_count": 7,
   "metadata": {
    "collapsed": true
   },
   "outputs": [],
   "source": [
    "import itertools\n",
    "import os\n",
    "import pandas as pd"
   ]
  },
  {
   "cell_type": "code",
   "execution_count": 10,
   "metadata": {
    "collapsed": true
   },
   "outputs": [],
   "source": [
    "data_dir = r'X:\\Non_VDOT\\WMATA_JD_MD\\JD_RTSP\\2016_TP_demand_adj\\Run\\S2S'\n",
    "periods = ['AM', 'OP']\n",
    "access = ['DR', 'KR', 'WK']\n",
    "mode = ['MR', 'BM']"
   ]
  },
  {
   "cell_type": "code",
   "execution_count": 14,
   "metadata": {},
   "outputs": [
    {
     "data": {
      "text/plain": [
       "['AM_DR_MR',\n",
       " 'AM_DR_BM',\n",
       " 'AM_KR_MR',\n",
       " 'AM_KR_BM',\n",
       " 'AM_WK_MR',\n",
       " 'AM_WK_BM',\n",
       " 'OP_DR_MR',\n",
       " 'OP_DR_BM',\n",
       " 'OP_KR_MR',\n",
       " 'OP_KR_BM',\n",
       " 'OP_WK_MR',\n",
       " 'OP_WK_BM']"
      ]
     },
     "execution_count": 14,
     "metadata": {},
     "output_type": "execute_result"
    }
   ],
   "source": [
    "names = [p+'_'+a+'_'+m for p, a, m in itertools.product(periods, access, mode)]\n",
    "names"
   ]
  },
  {
   "cell_type": "code",
   "execution_count": 11,
   "metadata": {},
   "outputs": [
    {
     "data": {
      "text/plain": [
       "['X:\\\\Non_VDOT\\\\WMATA_JD_MD\\\\JD_RTSP\\\\2016_TP_demand_adj\\\\Run\\\\S2S\\\\AM_DR_MR.csv',\n",
       " 'X:\\\\Non_VDOT\\\\WMATA_JD_MD\\\\JD_RTSP\\\\2016_TP_demand_adj\\\\Run\\\\S2S\\\\AM_DR_BM.csv',\n",
       " 'X:\\\\Non_VDOT\\\\WMATA_JD_MD\\\\JD_RTSP\\\\2016_TP_demand_adj\\\\Run\\\\S2S\\\\AM_KR_MR.csv',\n",
       " 'X:\\\\Non_VDOT\\\\WMATA_JD_MD\\\\JD_RTSP\\\\2016_TP_demand_adj\\\\Run\\\\S2S\\\\AM_KR_BM.csv',\n",
       " 'X:\\\\Non_VDOT\\\\WMATA_JD_MD\\\\JD_RTSP\\\\2016_TP_demand_adj\\\\Run\\\\S2S\\\\AM_WK_MR.csv',\n",
       " 'X:\\\\Non_VDOT\\\\WMATA_JD_MD\\\\JD_RTSP\\\\2016_TP_demand_adj\\\\Run\\\\S2S\\\\AM_WK_BM.csv',\n",
       " 'X:\\\\Non_VDOT\\\\WMATA_JD_MD\\\\JD_RTSP\\\\2016_TP_demand_adj\\\\Run\\\\S2S\\\\OP_DR_MR.csv',\n",
       " 'X:\\\\Non_VDOT\\\\WMATA_JD_MD\\\\JD_RTSP\\\\2016_TP_demand_adj\\\\Run\\\\S2S\\\\OP_DR_BM.csv',\n",
       " 'X:\\\\Non_VDOT\\\\WMATA_JD_MD\\\\JD_RTSP\\\\2016_TP_demand_adj\\\\Run\\\\S2S\\\\OP_KR_MR.csv',\n",
       " 'X:\\\\Non_VDOT\\\\WMATA_JD_MD\\\\JD_RTSP\\\\2016_TP_demand_adj\\\\Run\\\\S2S\\\\OP_KR_BM.csv',\n",
       " 'X:\\\\Non_VDOT\\\\WMATA_JD_MD\\\\JD_RTSP\\\\2016_TP_demand_adj\\\\Run\\\\S2S\\\\OP_WK_MR.csv',\n",
       " 'X:\\\\Non_VDOT\\\\WMATA_JD_MD\\\\JD_RTSP\\\\2016_TP_demand_adj\\\\Run\\\\S2S\\\\OP_WK_BM.csv']"
      ]
     },
     "execution_count": 11,
     "metadata": {},
     "output_type": "execute_result"
    }
   ],
   "source": [
    "station_files = [os.path.join(data_dir, p+'_'+a+'_'+m+'.csv') for p, a, m in itertools.product(periods, access, mode)]\n",
    "station_files"
   ]
  },
  {
   "cell_type": "code",
   "execution_count": 12,
   "metadata": {
    "collapsed": true
   },
   "outputs": [],
   "source": [
    "dfs_station_trips = [pd.read_csv(f) for f in station_files]"
   ]
  },
  {
   "cell_type": "code",
   "execution_count": 19,
   "metadata": {},
   "outputs": [
    {
     "data": {
      "text/html": [
       "<div>\n",
       "<style scoped>\n",
       "    .dataframe tbody tr th:only-of-type {\n",
       "        vertical-align: middle;\n",
       "    }\n",
       "\n",
       "    .dataframe tbody tr th {\n",
       "        vertical-align: top;\n",
       "    }\n",
       "\n",
       "    .dataframe thead th {\n",
       "        text-align: right;\n",
       "    }\n",
       "</style>\n",
       "<table border=\"1\" class=\"dataframe\">\n",
       "  <thead>\n",
       "    <tr style=\"text-align: right;\">\n",
       "      <th></th>\n",
       "      <th>TOD</th>\n",
       "      <th>ACC</th>\n",
       "      <th>Mode</th>\n",
       "      <th>I</th>\n",
       "      <th>J</th>\n",
       "      <th>FST</th>\n",
       "      <th>LST</th>\n",
       "      <th>TRP</th>\n",
       "    </tr>\n",
       "  </thead>\n",
       "  <tbody>\n",
       "    <tr>\n",
       "      <th>0</th>\n",
       "      <td>AM</td>\n",
       "      <td>DR</td>\n",
       "      <td>MR</td>\n",
       "      <td>109.0</td>\n",
       "      <td>1.0</td>\n",
       "      <td>23.0</td>\n",
       "      <td>14.0</td>\n",
       "      <td>0.61</td>\n",
       "    </tr>\n",
       "    <tr>\n",
       "      <th>1</th>\n",
       "      <td>AM</td>\n",
       "      <td>DR</td>\n",
       "      <td>MR</td>\n",
       "      <td>109.0</td>\n",
       "      <td>9.0</td>\n",
       "      <td>23.0</td>\n",
       "      <td>15.0</td>\n",
       "      <td>0.02</td>\n",
       "    </tr>\n",
       "    <tr>\n",
       "      <th>2</th>\n",
       "      <td>AM</td>\n",
       "      <td>DR</td>\n",
       "      <td>MR</td>\n",
       "      <td>109.0</td>\n",
       "      <td>11.0</td>\n",
       "      <td>23.0</td>\n",
       "      <td>70.0</td>\n",
       "      <td>0.30</td>\n",
       "    </tr>\n",
       "    <tr>\n",
       "      <th>3</th>\n",
       "      <td>AM</td>\n",
       "      <td>DR</td>\n",
       "      <td>MR</td>\n",
       "      <td>109.0</td>\n",
       "      <td>12.0</td>\n",
       "      <td>23.0</td>\n",
       "      <td>70.0</td>\n",
       "      <td>0.47</td>\n",
       "    </tr>\n",
       "    <tr>\n",
       "      <th>4</th>\n",
       "      <td>AM</td>\n",
       "      <td>DR</td>\n",
       "      <td>MR</td>\n",
       "      <td>109.0</td>\n",
       "      <td>14.0</td>\n",
       "      <td>23.0</td>\n",
       "      <td>15.0</td>\n",
       "      <td>0.01</td>\n",
       "    </tr>\n",
       "  </tbody>\n",
       "</table>\n",
       "</div>"
      ],
      "text/plain": [
       "  TOD ACC Mode      I     J   FST   LST   TRP\n",
       "0  AM  DR   MR  109.0   1.0  23.0  14.0  0.61\n",
       "1  AM  DR   MR  109.0   9.0  23.0  15.0  0.02\n",
       "2  AM  DR   MR  109.0  11.0  23.0  70.0  0.30\n",
       "3  AM  DR   MR  109.0  12.0  23.0  70.0  0.47\n",
       "4  AM  DR   MR  109.0  14.0  23.0  15.0  0.01"
      ]
     },
     "execution_count": 19,
     "metadata": {},
     "output_type": "execute_result"
    }
   ],
   "source": [
    "df_trips = pd.concat(dfs_station_trips)\n",
    "df_trips.head()"
   ]
  },
  {
   "cell_type": "code",
   "execution_count": 20,
   "metadata": {
    "collapsed": true
   },
   "outputs": [],
   "source": [
    "station_id = 3"
   ]
  },
  {
   "cell_type": "code",
   "execution_count": 22,
   "metadata": {},
   "outputs": [
    {
     "data": {
      "text/html": [
       "<div>\n",
       "<style scoped>\n",
       "    .dataframe tbody tr th:only-of-type {\n",
       "        vertical-align: middle;\n",
       "    }\n",
       "\n",
       "    .dataframe tbody tr th {\n",
       "        vertical-align: top;\n",
       "    }\n",
       "\n",
       "    .dataframe thead th {\n",
       "        text-align: right;\n",
       "    }\n",
       "</style>\n",
       "<table border=\"1\" class=\"dataframe\">\n",
       "  <thead>\n",
       "    <tr style=\"text-align: right;\">\n",
       "      <th></th>\n",
       "      <th>FST</th>\n",
       "      <th>LST</th>\n",
       "      <th>TRP</th>\n",
       "    </tr>\n",
       "  </thead>\n",
       "  <tbody>\n",
       "    <tr>\n",
       "      <th>0</th>\n",
       "      <td>1.0</td>\n",
       "      <td>1.0</td>\n",
       "      <td>1.67</td>\n",
       "    </tr>\n",
       "    <tr>\n",
       "      <th>1</th>\n",
       "      <td>1.0</td>\n",
       "      <td>2.0</td>\n",
       "      <td>948.98</td>\n",
       "    </tr>\n",
       "    <tr>\n",
       "      <th>2</th>\n",
       "      <td>1.0</td>\n",
       "      <td>3.0</td>\n",
       "      <td>880.14</td>\n",
       "    </tr>\n",
       "    <tr>\n",
       "      <th>3</th>\n",
       "      <td>1.0</td>\n",
       "      <td>4.0</td>\n",
       "      <td>1156.63</td>\n",
       "    </tr>\n",
       "    <tr>\n",
       "      <th>4</th>\n",
       "      <td>1.0</td>\n",
       "      <td>5.0</td>\n",
       "      <td>128.30</td>\n",
       "    </tr>\n",
       "  </tbody>\n",
       "</table>\n",
       "</div>"
      ],
      "text/plain": [
       "   FST  LST      TRP\n",
       "0  1.0  1.0     1.67\n",
       "1  1.0  2.0   948.98\n",
       "2  1.0  3.0   880.14\n",
       "3  1.0  4.0  1156.63\n",
       "4  1.0  5.0   128.30"
      ]
     },
     "execution_count": 22,
     "metadata": {},
     "output_type": "execute_result"
    }
   ],
   "source": [
    "trips_mr = df_trips.loc[df_trips.Mode.isin(['MR', 'BM'])].groupby(['FST','LST'], as_index=False)['TRP'].sum()\n",
    "trips_mr.head()"
   ]
  },
  {
   "cell_type": "code",
   "execution_count": 23,
   "metadata": {},
   "outputs": [
    {
     "data": {
      "text/html": [
       "<div>\n",
       "<style scoped>\n",
       "    .dataframe tbody tr th:only-of-type {\n",
       "        vertical-align: middle;\n",
       "    }\n",
       "\n",
       "    .dataframe tbody tr th {\n",
       "        vertical-align: top;\n",
       "    }\n",
       "\n",
       "    .dataframe thead th {\n",
       "        text-align: right;\n",
       "    }\n",
       "</style>\n",
       "<table border=\"1\" class=\"dataframe\">\n",
       "  <thead>\n",
       "    <tr style=\"text-align: right;\">\n",
       "      <th></th>\n",
       "      <th>FST</th>\n",
       "      <th>LST</th>\n",
       "      <th>TRP</th>\n",
       "    </tr>\n",
       "  </thead>\n",
       "  <tbody>\n",
       "    <tr>\n",
       "      <th>189</th>\n",
       "      <td>3.0</td>\n",
       "      <td>14.0</td>\n",
       "      <td>603.27</td>\n",
       "    </tr>\n",
       "    <tr>\n",
       "      <th>188</th>\n",
       "      <td>3.0</td>\n",
       "      <td>13.0</td>\n",
       "      <td>602.04</td>\n",
       "    </tr>\n",
       "    <tr>\n",
       "      <th>190</th>\n",
       "      <td>3.0</td>\n",
       "      <td>15.0</td>\n",
       "      <td>423.80</td>\n",
       "    </tr>\n",
       "    <tr>\n",
       "      <th>177</th>\n",
       "      <td>3.0</td>\n",
       "      <td>2.0</td>\n",
       "      <td>327.50</td>\n",
       "    </tr>\n",
       "    <tr>\n",
       "      <th>182</th>\n",
       "      <td>3.0</td>\n",
       "      <td>7.0</td>\n",
       "      <td>304.09</td>\n",
       "    </tr>\n",
       "  </tbody>\n",
       "</table>\n",
       "</div>"
      ],
      "text/plain": [
       "     FST   LST     TRP\n",
       "189  3.0  14.0  603.27\n",
       "188  3.0  13.0  602.04\n",
       "190  3.0  15.0  423.80\n",
       "177  3.0   2.0  327.50\n",
       "182  3.0   7.0  304.09"
      ]
     },
     "execution_count": 23,
     "metadata": {},
     "output_type": "execute_result"
    }
   ],
   "source": [
    "trips_mr.loc[trips_mr.FST == station_id].sort_values(by='TRP', ascending=False).head(5)"
   ]
  },
  {
   "cell_type": "code",
   "execution_count": null,
   "metadata": {
    "collapsed": true
   },
   "outputs": [],
   "source": []
  }
 ],
 "metadata": {
  "kernelspec": {
   "display_name": "Python 3",
   "language": "python",
   "name": "python3"
  },
  "language_info": {
   "codemirror_mode": {
    "name": "ipython",
    "version": 3
   },
   "file_extension": ".py",
   "mimetype": "text/x-python",
   "name": "python",
   "nbconvert_exporter": "python",
   "pygments_lexer": "ipython3",
   "version": "3.6.3"
  }
 },
 "nbformat": 4,
 "nbformat_minor": 2
}
