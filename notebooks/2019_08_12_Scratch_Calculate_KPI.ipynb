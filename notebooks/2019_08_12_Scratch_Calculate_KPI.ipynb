{
 "cells": [
  {
   "cell_type": "markdown",
   "metadata": {},
   "source": [
    "#### Calculate the Congestion KPIs"
   ]
  },
  {
   "cell_type": "code",
   "execution_count": 184,
   "metadata": {
    "collapsed": true
   },
   "outputs": [],
   "source": [
    "import os\n",
    "import itertools\n",
    "\n",
    "import numpy as np\n",
    "import pandas as pd\n",
    "from simpledbf import Dbf5"
   ]
  },
  {
   "cell_type": "code",
   "execution_count": 185,
   "metadata": {
    "collapsed": true
   },
   "outputs": [],
   "source": [
    "import matplotlib.pyplot as plt\n",
    "import seaborn as sns\n",
    "%matplotlib inline"
   ]
  },
  {
   "cell_type": "code",
   "execution_count": 186,
   "metadata": {
    "collapsed": true
   },
   "outputs": [],
   "source": [
    "from scipy.stats import trim_mean"
   ]
  },
  {
   "cell_type": "code",
   "execution_count": 187,
   "metadata": {
    "collapsed": true
   },
   "outputs": [],
   "source": [
    "S01_Existing = 'S01_Existing'\n",
    "S03_HGAC = 'S03_HGAC'\n",
    "S04_HG = 'S04_HG'\n",
    "S06_HG_MT = 'S06_HG_MT'\n",
    "S08_HG_HT_Sprawl_TDM_N3 = 'S08_HG_HT_Sprawl_TDM_N3'\n",
    "S12_HG_HT_Infill_Pricing_N3 = 'S12_HG_HT_Infill_Pricing_N3'\n",
    "S14_HG_HT_Infill_Transit_N3 = 'S14_HG_HT_Infill_Transit_N3'"
   ]
  },
  {
   "cell_type": "code",
   "execution_count": 219,
   "metadata": {},
   "outputs": [
    {
     "name": "stdout",
     "output_type": "stream",
     "text": [
      "Input Grid File: L:\\DCS\\Projects\\_Legacy\\60563434_SWIFT\\400_Technical\\SWIFT_Workspace\\Scenarios\\Scenario_2017\\STM\\STM_A\\04_KPI_PreProcessor\\02_Results\\Grids_KPI.dbf\n"
     ]
    }
   ],
   "source": [
    "scenario = 'Scenario_2017'\n",
    "workspace = r'L:\\DCS\\Projects\\_Legacy\\60563434_SWIFT\\400_Technical\\SWIFT_Workspace\\Scenarios'\n",
    "grid_file = r'STM\\STM_A\\04_KPI_PreProcessor\\02_Results\\Grids_KPI.dbf'\n",
    "grid_file = os.path.join(workspace, scenario, grid_file)\n",
    "print(\"Input Grid File:\", grid_file)"
   ]
  },
  {
   "cell_type": "code",
   "execution_count": 189,
   "metadata": {
    "collapsed": true
   },
   "outputs": [],
   "source": [
    "df_grids = Dbf5(grid_file).to_dataframe()"
   ]
  },
  {
   "cell_type": "code",
   "execution_count": 190,
   "metadata": {},
   "outputs": [],
   "source": [
    "# df_grids.info()"
   ]
  },
  {
   "cell_type": "code",
   "execution_count": 191,
   "metadata": {
    "collapsed": true
   },
   "outputs": [],
   "source": [
    "df_grids.fillna(0, inplace=True)"
   ]
  },
  {
   "cell_type": "markdown",
   "metadata": {
    "collapsed": true
   },
   "source": [
    "#### Travel Time Index"
   ]
  },
  {
   "cell_type": "code",
   "execution_count": 192,
   "metadata": {},
   "outputs": [
    {
     "name": "stdout",
     "output_type": "stream",
     "text": [
      "Daily Study Area Unweighted Travel Time Index = 1.84\n"
     ]
    }
   ],
   "source": [
    "region_tti = np.sum(df_grids.DAILY_VHT) / np.sum(df_grids.DAILY_VHT.values - df_grids.DAILY_VHD.values)\n",
    "print('Daily Study Area Unweighted Travel Time Index = {:.2f}'.format(float(region_tti)))"
   ]
  },
  {
   "cell_type": "code",
   "execution_count": 193,
   "metadata": {
    "collapsed": true
   },
   "outputs": [],
   "source": [
    "def tti_weighted_by_mt(vmt, vht, vhd, v):\n",
    "    weights = vmt / (v+1)\n",
    "    tti = np.dot(vht, weights) / (np.dot(vht, weights) - np.dot(vhd, weights))\n",
    "    return tti"
   ]
  },
  {
   "cell_type": "code",
   "execution_count": 194,
   "metadata": {},
   "outputs": [
    {
     "name": "stdout",
     "output_type": "stream",
     "text": [
      "Daily Study Area Unweighted Travel Time Index = 1.84\n"
     ]
    }
   ],
   "source": [
    "region_tti_weighted_by_mt = tti_weighted_by_mt(df_grids.DAILY_VMT.values, df_grids.DAILY_VHT.values,df_grids.DAILY_VHD.values,df_grids.DAILY_VOL.values)\n",
    "print('Daily Study Area Unweighted Travel Time Index = {:.2f}'.format(float(region_tti)))"
   ]
  },
  {
   "cell_type": "markdown",
   "metadata": {},
   "source": [
    "#####  Travel Time Index by Segments"
   ]
  },
  {
   "cell_type": "code",
   "execution_count": 195,
   "metadata": {},
   "outputs": [
    {
     "name": "stdout",
     "output_type": "stream",
     "text": [
      "Daily Travel Time Index for segment1 = 1.63\n",
      "Daily Travel Time Index for segment2 = 2.41\n",
      "Daily Travel Time Index for segment3 = 2.49\n",
      "Daily Travel Time Index for segment4 = 3.09\n",
      "Daily Travel Time Index for segment5 = 1.87\n"
     ]
    }
   ],
   "source": [
    "seg = ['segment'+str(i) for i in range(1, 6)]\n",
    "for s in seg:\n",
    "    df_grids_seg = df_grids[df_grids[s] == 1]\n",
    "    seg_tti = np.sum(df_grids_seg.DAILY_VHT) / np.sum(df_grids_seg.DAILY_VHT.values - df_grids_seg.DAILY_VHD.values)\n",
    "    print(f'Daily Travel Time Index for {s} = {seg_tti:.2f}')"
   ]
  },
  {
   "cell_type": "markdown",
   "metadata": {},
   "source": [
    "#### Peak Congestion Index\n",
    "\n",
    "Volume-to-Capacity Ratio weighted by VMT"
   ]
  },
  {
   "cell_type": "code",
   "execution_count": 196,
   "metadata": {
    "collapsed": true
   },
   "outputs": [],
   "source": [
    "def congestion_index(df, period='AM'):\n",
    "    am_length, pm_length = 3, 4\n",
    "    if period.upper() == 'AM':\n",
    "        return np.dot(df.AM_VOL.values, df.AM_VMT.values) / np.dot((df.CAP_AB.values+df.CAP_BA.values)*am_length, df.AM_VMT.values)\n",
    "    else:\n",
    "        return np.dot(df.PM_VOL.values, df.PM_VMT.values) / np.dot((df.CAP_AB.values+df.CAP_BA.values)*pm_length, df.PM_VMT.values)"
   ]
  },
  {
   "cell_type": "code",
   "execution_count": 197,
   "metadata": {},
   "outputs": [
    {
     "name": "stdout",
     "output_type": "stream",
     "text": [
      "AM Period Congestion Index (Weighted V/C) = 0.36\n",
      "PM Period Congestion Index (Weighted V/C) = 0.56\n"
     ]
    }
   ],
   "source": [
    "am_congestion_index = congestion_index(df_grids, period='AM')\n",
    "pm_congestion_index = congestion_index(df_grids, period='PM')\n",
    "print(f'AM Period Congestion Index (Weighted V/C) = {am_congestion_index:.2f}')\n",
    "print(f'PM Period Congestion Index (Weighted V/C) = {pm_congestion_index:.2f}')"
   ]
  },
  {
   "cell_type": "code",
   "execution_count": 198,
   "metadata": {},
   "outputs": [
    {
     "name": "stdout",
     "output_type": "stream",
     "text": [
      "Period Congestion Index for segment1 in AM = 0.36\n",
      "Period Congestion Index for segment1 in PM = 0.57\n",
      "Period Congestion Index for segment2 in AM = 0.48\n",
      "Period Congestion Index for segment2 in PM = 0.82\n",
      "Period Congestion Index for segment3 in AM = 0.34\n",
      "Period Congestion Index for segment3 in PM = 0.48\n",
      "Period Congestion Index for segment4 in AM = 0.33\n",
      "Period Congestion Index for segment4 in PM = 0.45\n",
      "Period Congestion Index for segment5 in AM = 0.46\n",
      "Period Congestion Index for segment5 in PM = 0.70\n"
     ]
    }
   ],
   "source": [
    "for s, p in itertools.product(seg, ('AM', 'PM')):\n",
    "    df_grids_seg = df_grids[df_grids[s] == 1]\n",
    "    ci = congestion_index(df_grids_seg, period=p)\n",
    "    print(f'Period Congestion Index for {s} in {p} = {ci:.2f}')"
   ]
  },
  {
   "cell_type": "markdown",
   "metadata": {},
   "source": [
    "#### Congestion Duration"
   ]
  },
  {
   "cell_type": "code",
   "execution_count": 199,
   "metadata": {},
   "outputs": [],
   "source": [
    "# df_grids.CONG_TIME.describe()"
   ]
  },
  {
   "cell_type": "code",
   "execution_count": 200,
   "metadata": {},
   "outputs": [],
   "source": [
    "def congestion_duration(df, trim_proportion=0.05):\n",
    "    return trim_mean(df.CONG_TIME.values, trim_proportion)"
   ]
  },
  {
   "cell_type": "code",
   "execution_count": 201,
   "metadata": {},
   "outputs": [
    {
     "name": "stdout",
     "output_type": "stream",
     "text": [
      "Congestion Duration (Minutes) = 41\n"
     ]
    },
    {
     "name": "stderr",
     "output_type": "stream",
     "text": [
      "C:\\Anaconda3\\lib\\site-packages\\scipy\\stats\\stats.py:2831: FutureWarning: Using a non-tuple sequence for multidimensional indexing is deprecated; use `arr[tuple(seq)]` instead of `arr[seq]`. In the future this will be interpreted as an array index, `arr[np.array(seq)]`, which will result either in an error or a different result.\n",
      "  return np.mean(atmp[sl], axis=axis)\n"
     ]
    }
   ],
   "source": [
    "cong_dur = congestion_duration(df_grids)\n",
    "print(f'Congestion Duration (Minutes) = {cong_dur:.0f}')"
   ]
  },
  {
   "cell_type": "markdown",
   "metadata": {},
   "source": [
    "#### Average Commuting Time"
   ]
  },
  {
   "cell_type": "code",
   "execution_count": 220,
   "metadata": {},
   "outputs": [
    {
     "name": "stdout",
     "output_type": "stream",
     "text": [
      "Input Skim Files: ['L:\\\\DCS\\\\Projects\\\\_Legacy\\\\60563434_SWIFT\\\\400_Technical\\\\SWIFT_Workspace\\\\Scenarios\\\\Scenario_2017\\\\STM\\\\STM_A\\\\03_Performance_Summarizer\\\\04_Results\\\\Zone_Skim_CAV_1_WK.csv', 'L:\\\\DCS\\\\Projects\\\\_Legacy\\\\60563434_SWIFT\\\\400_Technical\\\\SWIFT_Workspace\\\\Scenarios\\\\Scenario_2017\\\\STM\\\\STM_A\\\\03_Performance_Summarizer\\\\04_Results\\\\Zone_Skim_CAV_2P_WK.csv', 'L:\\\\DCS\\\\Projects\\\\_Legacy\\\\60563434_SWIFT\\\\400_Technical\\\\SWIFT_Workspace\\\\Scenarios\\\\Scenario_2017\\\\STM\\\\STM_A\\\\03_Performance_Summarizer\\\\04_Results\\\\Zone_Skim_REG_1_WK.csv', 'L:\\\\DCS\\\\Projects\\\\_Legacy\\\\60563434_SWIFT\\\\400_Technical\\\\SWIFT_Workspace\\\\Scenarios\\\\Scenario_2017\\\\STM\\\\STM_A\\\\03_Performance_Summarizer\\\\04_Results\\\\Zone_Skim_REG_2P_WK.csv']\n"
     ]
    }
   ],
   "source": [
    "skim_files = (\n",
    "    r'STM\\STM_A\\03_Performance_Summarizer\\04_Results\\Zone_Skim_CAV_1_WK.csv',\n",
    "    r'STM\\STM_A\\03_Performance_Summarizer\\04_Results\\Zone_Skim_CAV_2P_WK.csv',\n",
    "    r'STM\\STM_A\\03_Performance_Summarizer\\04_Results\\Zone_Skim_REG_1_WK.csv',\n",
    "    r'STM\\STM_A\\03_Performance_Summarizer\\04_Results\\Zone_Skim_REG_2P_WK.csv',\n",
    "             )\n",
    "skim_files = [os.path.join(workspace, scenario, f) for f in skim_files]\n",
    "print(\"Input Skim Files:\", skim_files)"
   ]
  },
  {
   "cell_type": "code",
   "execution_count": 221,
   "metadata": {
    "collapsed": true
   },
   "outputs": [],
   "source": [
    "df_skim = pd.concat([pd.read_csv(f) for f in skim_files])"
   ]
  },
  {
   "cell_type": "code",
   "execution_count": 222,
   "metadata": {},
   "outputs": [],
   "source": [
    "# df_skim.head()"
   ]
  },
  {
   "cell_type": "code",
   "execution_count": 223,
   "metadata": {},
   "outputs": [],
   "source": [
    "def avg_commute_stats(df):\n",
    "    avg_time = np.dot(df.TIME.values, df.COUNT.values) / np.sum(df.COUNT.values)\n",
    "    avg_distance = np.dot(df.DISTANCE.values, df.COUNT.values) / np.sum(df.COUNT.values)\n",
    "    avg_cost = np.dot(df.COST.values, df.COUNT.values) / np.sum(df.COUNT.values)\n",
    "    \n",
    "    return avg_time, avg_distance, avg_cost"
   ]
  },
  {
   "cell_type": "code",
   "execution_count": 224,
   "metadata": {},
   "outputs": [
    {
     "name": "stdout",
     "output_type": "stream",
     "text": [
      "Average Commute Time (minutes)   = 19\n",
      "Average Commute Distance (miles) = 11\n",
      "Average Commute Cost (cents)     = 3\n"
     ]
    }
   ],
   "source": [
    "avg_time, avg_dist, avg_cost = avg_commute_stats(df_skim)\n",
    "print(f'Average Commute Time (minutes)   = {avg_time:.0f}')\n",
    "print(f'Average Commute Distance (miles) = {avg_dist:.0f}')\n",
    "print(f'Average Commute Cost (cents)     = {avg_cost:.0f}')"
   ]
  },
  {
   "cell_type": "code",
   "execution_count": null,
   "metadata": {
    "collapsed": true
   },
   "outputs": [],
   "source": []
  }
 ],
 "metadata": {
  "kernelspec": {
   "display_name": "Python 3",
   "language": "python",
   "name": "python3"
  },
  "language_info": {
   "codemirror_mode": {
    "name": "ipython",
    "version": 3
   },
   "file_extension": ".py",
   "mimetype": "text/x-python",
   "name": "python",
   "nbconvert_exporter": "python",
   "pygments_lexer": "ipython3",
   "version": "3.6.3"
  }
 },
 "nbformat": 4,
 "nbformat_minor": 2
}
