{
 "cells": [
  {
   "cell_type": "code",
   "execution_count": 1,
   "metadata": {
    "collapsed": true
   },
   "outputs": [],
   "source": [
    "import numpy as np\n",
    "import pandas as pd\n",
    "from dbfread import DBF"
   ]
  },
  {
   "cell_type": "code",
   "execution_count": 78,
   "metadata": {
    "collapsed": true
   },
   "outputs": [],
   "source": [
    "FILE_OD_TRIP_ATTR = r\"T:\\SLD\\Danville_OD_premium_trip_4712_TravelCount\\Danville_OD_premium_4712_od_trip_attributes_counts_all.csv\"\n",
    "FILE_ZONE_DISTRICT_DBF = r\"R:\\Danville\\DATA\\Data_Received\\DanvilleMPO_TAZ_RevDist_06182018\\DanvilleMPO_TAZ_RevDist_06182018.dbf\"\n",
    "FILE_OD_TRIP_PURP = r\"T:\\SLD\\Danville_OD_premium_trip_4712_TravelCount\\Danville_OD_premium_4712_od_trip_purpose_counts.csv\"\n",
    "FILE_MODEL_TRIP = r\"C:\\Projects\\2018\\Danville\\SLD_Comparison\\Model_OD_Trips.csv\"\n",
    "FILE_MODEL_DIST = r\"C:\\Projects\\2018\\Danville\\SLD_Comparison\\Model_Skim_Distance.csv\"\n",
    "FILE_MODEL_PA_TRIP = r\"T:\\TransCAD_Conventional_UI\\2016_test\\Outputs\\Auto_Trips.csv\""
   ]
  },
  {
   "cell_type": "code",
   "execution_count": 7,
   "metadata": {},
   "outputs": [],
   "source": [
    "df_od_trip = pd.read_csv(FILE_OD_TRIP_ATTR)"
   ]
  },
  {
   "cell_type": "code",
   "execution_count": 34,
   "metadata": {},
   "outputs": [],
   "source": [
    "useful_col = ['Type of Travel',\n",
    " 'Origin Zone ID',\n",
    " 'Destination Zone ID',\n",
    " 'Day Type',\n",
    " 'Day Part',\n",
    " 'O-D Traffic (Trip Counts)',\n",
    " 'O-D Traffic (StL Index)',\n",
    " 'Avg Trip Duration (sec)',\n",
    " 'Avg All Trip Duration (sec)',\n",
    " 'Avg Trip Length (mi)',\n",
    " 'Avg All Trip Length (mi)',\n",
    " 'Avg Trip Speed (mph)',\n",
    " 'Avg All Trip Speed (mph)',\n",
    " 'Avg All Trip Circuity']"
   ]
  },
  {
   "cell_type": "code",
   "execution_count": 10,
   "metadata": {
    "collapsed": true
   },
   "outputs": [],
   "source": [
    "df_od_trip = df_od_trip.loc[:, useful_col]"
   ]
  },
  {
   "cell_type": "code",
   "execution_count": 11,
   "metadata": {},
   "outputs": [
    {
     "data": {
      "text/html": [
       "<div>\n",
       "<style scoped>\n",
       "    .dataframe tbody tr th:only-of-type {\n",
       "        vertical-align: middle;\n",
       "    }\n",
       "\n",
       "    .dataframe tbody tr th {\n",
       "        vertical-align: top;\n",
       "    }\n",
       "\n",
       "    .dataframe thead th {\n",
       "        text-align: right;\n",
       "    }\n",
       "</style>\n",
       "<table border=\"1\" class=\"dataframe\">\n",
       "  <thead>\n",
       "    <tr style=\"text-align: right;\">\n",
       "      <th></th>\n",
       "      <th>0</th>\n",
       "      <th>6</th>\n",
       "    </tr>\n",
       "  </thead>\n",
       "  <tbody>\n",
       "    <tr>\n",
       "      <th>Type of Travel</th>\n",
       "      <td>Personal</td>\n",
       "      <td>Personal</td>\n",
       "    </tr>\n",
       "    <tr>\n",
       "      <th>Origin Zone ID</th>\n",
       "      <td>1</td>\n",
       "      <td>1</td>\n",
       "    </tr>\n",
       "    <tr>\n",
       "      <th>Origin Zone Name</th>\n",
       "      <td>1</td>\n",
       "      <td>1</td>\n",
       "    </tr>\n",
       "    <tr>\n",
       "      <th>Origin Zone Is Pass-Through</th>\n",
       "      <td>no</td>\n",
       "      <td>no</td>\n",
       "    </tr>\n",
       "    <tr>\n",
       "      <th>Origin Zone Direction (degrees)</th>\n",
       "      <td>NaN</td>\n",
       "      <td>NaN</td>\n",
       "    </tr>\n",
       "    <tr>\n",
       "      <th>Origin Zone is Bi-Direction</th>\n",
       "      <td>no</td>\n",
       "      <td>no</td>\n",
       "    </tr>\n",
       "    <tr>\n",
       "      <th>Destination Zone ID</th>\n",
       "      <td>10</td>\n",
       "      <td>10</td>\n",
       "    </tr>\n",
       "    <tr>\n",
       "      <th>Destination Zone Name</th>\n",
       "      <td>10</td>\n",
       "      <td>10</td>\n",
       "    </tr>\n",
       "    <tr>\n",
       "      <th>Destination Zone Is Pass-Through</th>\n",
       "      <td>no</td>\n",
       "      <td>no</td>\n",
       "    </tr>\n",
       "    <tr>\n",
       "      <th>Destination Zone Direction (degrees)</th>\n",
       "      <td>NaN</td>\n",
       "      <td>NaN</td>\n",
       "    </tr>\n",
       "    <tr>\n",
       "      <th>Destination Zone is Bi-Direction</th>\n",
       "      <td>no</td>\n",
       "      <td>no</td>\n",
       "    </tr>\n",
       "    <tr>\n",
       "      <th>Day Type</th>\n",
       "      <td>0: Average Day (M-Su)</td>\n",
       "      <td>1: Average Weekday (M-F)</td>\n",
       "    </tr>\n",
       "    <tr>\n",
       "      <th>Day Part</th>\n",
       "      <td>0: All Day (12am-12am)</td>\n",
       "      <td>0: All Day (12am-12am)</td>\n",
       "    </tr>\n",
       "    <tr>\n",
       "      <th>O-D Traffic (Trip Counts)</th>\n",
       "      <td>15</td>\n",
       "      <td>12</td>\n",
       "    </tr>\n",
       "    <tr>\n",
       "      <th>O-D Traffic (StL Index)</th>\n",
       "      <td>7</td>\n",
       "      <td>8</td>\n",
       "    </tr>\n",
       "    <tr>\n",
       "      <th>Avg Trip Duration (sec)</th>\n",
       "      <td>875</td>\n",
       "      <td>820</td>\n",
       "    </tr>\n",
       "    <tr>\n",
       "      <th>Avg All Trip Duration (sec)</th>\n",
       "      <td>1218</td>\n",
       "      <td>1262</td>\n",
       "    </tr>\n",
       "    <tr>\n",
       "      <th>Avg Trip Length (mi)</th>\n",
       "      <td>0.7</td>\n",
       "      <td>0.7</td>\n",
       "    </tr>\n",
       "    <tr>\n",
       "      <th>Avg All Trip Length (mi)</th>\n",
       "      <td>1</td>\n",
       "      <td>1.1</td>\n",
       "    </tr>\n",
       "    <tr>\n",
       "      <th>Avg Trip Speed (mph)</th>\n",
       "      <td>4</td>\n",
       "      <td>4</td>\n",
       "    </tr>\n",
       "    <tr>\n",
       "      <th>Avg All Trip Speed (mph)</th>\n",
       "      <td>4</td>\n",
       "      <td>4</td>\n",
       "    </tr>\n",
       "    <tr>\n",
       "      <th>Avg All Trip Circuity</th>\n",
       "      <td>2.793</td>\n",
       "      <td>3.083</td>\n",
       "    </tr>\n",
       "  </tbody>\n",
       "</table>\n",
       "</div>"
      ],
      "text/plain": [
       "                                                           0  \\\n",
       "Type of Travel                                      Personal   \n",
       "Origin Zone ID                                             1   \n",
       "Origin Zone Name                                           1   \n",
       "Origin Zone Is Pass-Through                               no   \n",
       "Origin Zone Direction (degrees)                          NaN   \n",
       "Origin Zone is Bi-Direction                               no   \n",
       "Destination Zone ID                                       10   \n",
       "Destination Zone Name                                     10   \n",
       "Destination Zone Is Pass-Through                          no   \n",
       "Destination Zone Direction (degrees)                     NaN   \n",
       "Destination Zone is Bi-Direction                          no   \n",
       "Day Type                               0: Average Day (M-Su)   \n",
       "Day Part                              0: All Day (12am-12am)   \n",
       "O-D Traffic (Trip Counts)                                 15   \n",
       "O-D Traffic (StL Index)                                    7   \n",
       "Avg Trip Duration (sec)                                  875   \n",
       "Avg All Trip Duration (sec)                             1218   \n",
       "Avg Trip Length (mi)                                     0.7   \n",
       "Avg All Trip Length (mi)                                   1   \n",
       "Avg Trip Speed (mph)                                       4   \n",
       "Avg All Trip Speed (mph)                                   4   \n",
       "Avg All Trip Circuity                                  2.793   \n",
       "\n",
       "                                                             6  \n",
       "Type of Travel                                        Personal  \n",
       "Origin Zone ID                                               1  \n",
       "Origin Zone Name                                             1  \n",
       "Origin Zone Is Pass-Through                                 no  \n",
       "Origin Zone Direction (degrees)                            NaN  \n",
       "Origin Zone is Bi-Direction                                 no  \n",
       "Destination Zone ID                                         10  \n",
       "Destination Zone Name                                       10  \n",
       "Destination Zone Is Pass-Through                            no  \n",
       "Destination Zone Direction (degrees)                       NaN  \n",
       "Destination Zone is Bi-Direction                            no  \n",
       "Day Type                              1: Average Weekday (M-F)  \n",
       "Day Part                                0: All Day (12am-12am)  \n",
       "O-D Traffic (Trip Counts)                                   12  \n",
       "O-D Traffic (StL Index)                                      8  \n",
       "Avg Trip Duration (sec)                                    820  \n",
       "Avg All Trip Duration (sec)                               1262  \n",
       "Avg Trip Length (mi)                                       0.7  \n",
       "Avg All Trip Length (mi)                                   1.1  \n",
       "Avg Trip Speed (mph)                                         4  \n",
       "Avg All Trip Speed (mph)                                     4  \n",
       "Avg All Trip Circuity                                    3.083  "
      ]
     },
     "execution_count": 11,
     "metadata": {},
     "output_type": "execute_result"
    }
   ],
   "source": [
    "df_od_trip.iloc[[0,6]].T"
   ]
  },
  {
   "cell_type": "code",
   "execution_count": 12,
   "metadata": {
    "collapsed": true
   },
   "outputs": [],
   "source": [
    "df_zones = pd.DataFrame(iter(DBF(FILE_ZONE_DISTRICT_DBF)))"
   ]
  },
  {
   "cell_type": "code",
   "execution_count": 13,
   "metadata": {
    "collapsed": true
   },
   "outputs": [],
   "source": [
    "zone_district_mapper = df_zones.set_index('TAZ_2018').loc[:,'DistName']"
   ]
  },
  {
   "cell_type": "code",
   "execution_count": 14,
   "metadata": {
    "collapsed": true
   },
   "outputs": [],
   "source": [
    "df_od_trip.loc[:,'O_District'] = df_od_trip['Origin Zone ID'].map(zone_district_mapper)\n",
    "df_od_trip.loc[:,'D_District'] = df_od_trip['Destination Zone ID'].map(zone_district_mapper)\n",
    "df_od_trip.loc[:,'Trip_Length'] = df_od_trip['Avg All Trip Length (mi)'] * df_od_trip['O-D Traffic (Trip Counts)']"
   ]
  },
  {
   "cell_type": "code",
   "execution_count": 17,
   "metadata": {
    "collapsed": true
   },
   "outputs": [],
   "source": [
    "selection = (df_od_trip['Day Type'] == '1: Average Weekday (M-F)') & (df_od_trip['Day Part'] == '0: All Day (12am-12am)') \n",
    "df_od_trip = df_od_trip.loc[selection]"
   ]
  },
  {
   "cell_type": "code",
   "execution_count": 35,
   "metadata": {
    "collapsed": true
   },
   "outputs": [],
   "source": [
    "# Number of trips between districts \n",
    "df_od_traffic = df_od_trip.loc[selection].groupby(['O_District', 'D_District'])['O-D Traffic (Trip Counts)','Trip_Length'].sum().reset_index()\n",
    "df_od_traffic['Avg_Trip_Len'] = df_od_traffic['Trip_Length'] / df_od_traffic['O-D Traffic (Trip Counts)']"
   ]
  },
  {
   "cell_type": "code",
   "execution_count": 54,
   "metadata": {
    "collapsed": true
   },
   "outputs": [],
   "source": [
    "df_od_traffic.loc[:,['O_District','D_District','Avg_Trip_Len']].pivot(index='O_District', columns='D_District', values='Avg_Trip_Len').to_csv('Avg_Trip_Length.csv')"
   ]
  },
  {
   "cell_type": "code",
   "execution_count": 28,
   "metadata": {},
   "outputs": [
    {
     "name": "stdout",
     "output_type": "stream",
     "text": [
      "Average trip length for trips to Danville Mall = 3.97 miles\n"
     ]
    }
   ],
   "source": [
    "# Average trip length to Danville Mall\n",
    "df_mall = df_od_trip.loc[selection&(df_od_trip.D_District == \"Danville Mall\")]\n",
    "print(\"Average trip length for trips to Danville Mall = {0:.2f} miles\".format(sum(df_mall.Trip_Length)/sum(df_mall['O-D Traffic (Trip Counts)'])))"
   ]
  },
  {
   "cell_type": "code",
   "execution_count": 146,
   "metadata": {},
   "outputs": [
    {
     "name": "stdout",
     "output_type": "stream",
     "text": [
      "Average trip length for trips to Danville Mall = 4.40 miles\n"
     ]
    }
   ],
   "source": [
    "df_mall = df_od_trip.loc[selection&((df_od_trip.D_District == \"Danville Mall\") | (df_od_trip.O_District == \"Danville Mall\"))]\n",
    "print(\"Average trip length for trips to Danville Mall = {0:.2f} miles\".format(sum(df_mall.Trip_Length)/sum(df_mall['O-D Traffic (Trip Counts)'])))"
   ]
  },
  {
   "cell_type": "markdown",
   "metadata": {},
   "source": [
    "#### By Purpose"
   ]
  },
  {
   "cell_type": "code",
   "execution_count": 45,
   "metadata": {
    "collapsed": true
   },
   "outputs": [],
   "source": [
    "df_od_purp = pd.read_csv(FILE_OD_TRIP_PURP)"
   ]
  },
  {
   "cell_type": "code",
   "execution_count": 46,
   "metadata": {},
   "outputs": [
    {
     "name": "stdout",
     "output_type": "stream",
     "text": [
      "<class 'pandas.core.frame.DataFrame'>\n",
      "RangeIndex: 178542 entries, 0 to 178541\n",
      "Data columns (total 18 columns):\n",
      "Type of Travel                          178542 non-null object\n",
      "Origin Zone ID                          178542 non-null int64\n",
      "Origin Zone Name                        178542 non-null int64\n",
      "Origin Zone Is Pass-Through             178542 non-null object\n",
      "Origin Zone Direction (degrees)         0 non-null float64\n",
      "Origin Zone is Bi-Direction             178542 non-null object\n",
      "Destination Zone ID                     178542 non-null int64\n",
      "Destination Zone Name                   178542 non-null int64\n",
      "Destination Zone Is Pass-Through        178542 non-null object\n",
      "Destination Zone Direction (degrees)    0 non-null float64\n",
      "Destination Zone is Bi-Direction        178542 non-null object\n",
      "Day Type                                178542 non-null object\n",
      "Day Part                                178542 non-null object\n",
      "O-D Traffic (Trip Counts)               178542 non-null int64\n",
      "O-D Traffic (StL Index)                 178542 non-null int64\n",
      "Purpose HBW (percent)                   158695 non-null float64\n",
      "Purpose HBO (percent)                   158695 non-null float64\n",
      "Purpose NHB (percent)                   158695 non-null float64\n",
      "dtypes: float64(5), int64(6), object(7)\n",
      "memory usage: 24.5+ MB\n"
     ]
    }
   ],
   "source": [
    "df_od_purp.info()"
   ]
  },
  {
   "cell_type": "code",
   "execution_count": 47,
   "metadata": {
    "collapsed": true
   },
   "outputs": [],
   "source": [
    "df_od_purp['HBW_Trip'] = df_od_purp['O-D Traffic (StL Index)'] * df_od_purp['Purpose HBW (percent)']\n",
    "df_od_purp['HBO_Trip'] = df_od_purp['O-D Traffic (StL Index)'] * df_od_purp['Purpose HBO (percent)']\n",
    "df_od_purp['NHB_Trip'] = df_od_purp['O-D Traffic (StL Index)'] * df_od_purp['Purpose NHB (percent)']"
   ]
  },
  {
   "cell_type": "code",
   "execution_count": 48,
   "metadata": {
    "collapsed": true
   },
   "outputs": [],
   "source": [
    "df_od_purp.loc[:,'O_District'] = df_od_purp['Origin Zone ID'].map(zone_district_mapper)\n",
    "df_od_purp.loc[:,'D_District'] = df_od_purp['Destination Zone ID'].map(zone_district_mapper)"
   ]
  },
  {
   "cell_type": "code",
   "execution_count": 49,
   "metadata": {
    "collapsed": true
   },
   "outputs": [],
   "source": [
    "selection = (df_od_purp['Day Type'] == '1: Average Weekday (M-F)') & (df_od_purp['Day Part'] == '0: All Day (12am-12am)') \n",
    "df_od_purp_gb = df_od_purp.loc[selection].groupby(['O_District', 'D_District'])['HBW_Trip','HBO_Trip','NHB_Trip'].sum().reset_index()"
   ]
  },
  {
   "cell_type": "code",
   "execution_count": 50,
   "metadata": {
    "collapsed": true
   },
   "outputs": [],
   "source": [
    "df_od_purp_gb.sort_values(by=['O_District','D_District']).loc[:,['O_District','D_District','HBW_Trip']].pivot(index='O_District', columns='D_District', values='HBW_Trip').to_csv('HBW_Trips_STL.csv')\n",
    "df_od_purp_gb.sort_values(by=['O_District','D_District']).loc[:,['O_District','D_District','HBO_Trip']].pivot(index='O_District', columns='D_District', values='HBO_Trip').to_csv('HBO_Trips_STL.csv')\n",
    "df_od_purp_gb.sort_values(by=['O_District','D_District']).loc[:,['O_District','D_District','NHB_Trip']].pivot(index='O_District', columns='D_District', values='NHB_Trip').to_csv('NHB_Trips_STL.csv')"
   ]
  },
  {
   "cell_type": "code",
   "execution_count": 51,
   "metadata": {},
   "outputs": [
    {
     "data": {
      "text/plain": [
       "559    22\n",
       "Name: O-D Traffic (StL Index), dtype: int64"
      ]
     },
     "execution_count": 51,
     "metadata": {},
     "output_type": "execute_result"
    }
   ],
   "source": [
    "# See if two data files have the same number of trips in a certain zone pair\n",
    "df_od_trip.loc[(df_od_trip['Origin Zone ID'] == 1) & (df_od_trip['Destination Zone ID'] == 55),'O-D Traffic (StL Index)']"
   ]
  },
  {
   "cell_type": "markdown",
   "metadata": {},
   "source": [
    "### Model District Flows - INTERNAL TRIPS ONLY"
   ]
  },
  {
   "cell_type": "code",
   "execution_count": 192,
   "metadata": {},
   "outputs": [
    {
     "data": {
      "text/html": [
       "<div>\n",
       "<style scoped>\n",
       "    .dataframe tbody tr th:only-of-type {\n",
       "        vertical-align: middle;\n",
       "    }\n",
       "\n",
       "    .dataframe tbody tr th {\n",
       "        vertical-align: top;\n",
       "    }\n",
       "\n",
       "    .dataframe thead th {\n",
       "        text-align: right;\n",
       "    }\n",
       "</style>\n",
       "<table border=\"1\" class=\"dataframe\">\n",
       "  <thead>\n",
       "    <tr style=\"text-align: right;\">\n",
       "      <th></th>\n",
       "      <th>O</th>\n",
       "      <th>D</th>\n",
       "      <th>HBW_Trip</th>\n",
       "      <th>HBO_Trip</th>\n",
       "      <th>NHB_Trip</th>\n",
       "    </tr>\n",
       "  </thead>\n",
       "  <tbody>\n",
       "    <tr>\n",
       "      <th>0</th>\n",
       "      <td>1</td>\n",
       "      <td>1</td>\n",
       "      <td>0.0</td>\n",
       "      <td>0.0</td>\n",
       "      <td>0.684369</td>\n",
       "    </tr>\n",
       "    <tr>\n",
       "      <th>1</th>\n",
       "      <td>1</td>\n",
       "      <td>2</td>\n",
       "      <td>0.0</td>\n",
       "      <td>0.0</td>\n",
       "      <td>0.575456</td>\n",
       "    </tr>\n",
       "    <tr>\n",
       "      <th>2</th>\n",
       "      <td>1</td>\n",
       "      <td>3</td>\n",
       "      <td>0.0</td>\n",
       "      <td>0.0</td>\n",
       "      <td>0.752683</td>\n",
       "    </tr>\n",
       "    <tr>\n",
       "      <th>3</th>\n",
       "      <td>1</td>\n",
       "      <td>4</td>\n",
       "      <td>0.0</td>\n",
       "      <td>0.0</td>\n",
       "      <td>0.690665</td>\n",
       "    </tr>\n",
       "    <tr>\n",
       "      <th>4</th>\n",
       "      <td>1</td>\n",
       "      <td>5</td>\n",
       "      <td>0.0</td>\n",
       "      <td>0.0</td>\n",
       "      <td>0.196167</td>\n",
       "    </tr>\n",
       "  </tbody>\n",
       "</table>\n",
       "</div>"
      ],
      "text/plain": [
       "   O  D  HBW_Trip  HBO_Trip  NHB_Trip\n",
       "0  1  1       0.0       0.0  0.684369\n",
       "1  1  2       0.0       0.0  0.575456\n",
       "2  1  3       0.0       0.0  0.752683\n",
       "3  1  4       0.0       0.0  0.690665\n",
       "4  1  5       0.0       0.0  0.196167"
      ]
     },
     "execution_count": 192,
     "metadata": {},
     "output_type": "execute_result"
    }
   ],
   "source": [
    "df_model_pa_trips = pd.read_csv(FILE_MODEL_PA_TRIP, names=['O','D','HBW_Trip', 'HBO_Trip', 'NHB_Trip'])\n",
    "df_model_pa_trips.head()"
   ]
  },
  {
   "cell_type": "code",
   "execution_count": 193,
   "metadata": {},
   "outputs": [],
   "source": [
    "df_model_pa_trips.loc[:,'O_District'] = df_model_pa_trips['O'].map(zone_district_mapper)\n",
    "df_model_pa_trips.loc[:,'D_District'] = df_model_pa_trips['D'].map(zone_district_mapper)"
   ]
  },
  {
   "cell_type": "code",
   "execution_count": 194,
   "metadata": {
    "collapsed": true
   },
   "outputs": [],
   "source": [
    "# Get only the internal trips\n",
    "df_model_pa_trips = df_model_pa_trips.loc[(df_model_pa_trips.O < 167) & (df_model_pa_trips.D < 167)]"
   ]
  },
  {
   "cell_type": "code",
   "execution_count": 195,
   "metadata": {},
   "outputs": [
    {
     "data": {
      "text/html": [
       "<div>\n",
       "<style scoped>\n",
       "    .dataframe tbody tr th:only-of-type {\n",
       "        vertical-align: middle;\n",
       "    }\n",
       "\n",
       "    .dataframe tbody tr th {\n",
       "        vertical-align: top;\n",
       "    }\n",
       "\n",
       "    .dataframe thead th {\n",
       "        text-align: right;\n",
       "    }\n",
       "</style>\n",
       "<table border=\"1\" class=\"dataframe\">\n",
       "  <thead>\n",
       "    <tr style=\"text-align: right;\">\n",
       "      <th></th>\n",
       "      <th>O</th>\n",
       "      <th>D</th>\n",
       "      <th>HBW_Trip</th>\n",
       "      <th>HBO_Trip</th>\n",
       "      <th>NHB_Trip</th>\n",
       "      <th>O_District</th>\n",
       "      <th>D_District</th>\n",
       "    </tr>\n",
       "  </thead>\n",
       "  <tbody>\n",
       "    <tr>\n",
       "      <th>24883</th>\n",
       "      <td>133</td>\n",
       "      <td>68</td>\n",
       "      <td>111.657669</td>\n",
       "      <td>140.110352</td>\n",
       "      <td>30.837294</td>\n",
       "      <td>Mount Cross</td>\n",
       "      <td>Danville Mall</td>\n",
       "    </tr>\n",
       "    <tr>\n",
       "      <th>24884</th>\n",
       "      <td>133</td>\n",
       "      <td>69</td>\n",
       "      <td>84.858253</td>\n",
       "      <td>200.981476</td>\n",
       "      <td>48.041981</td>\n",
       "      <td>Mount Cross</td>\n",
       "      <td>Danville Mall</td>\n",
       "    </tr>\n",
       "    <tr>\n",
       "      <th>24695</th>\n",
       "      <td>132</td>\n",
       "      <td>68</td>\n",
       "      <td>69.858673</td>\n",
       "      <td>102.266235</td>\n",
       "      <td>16.203678</td>\n",
       "      <td>Mount Cross</td>\n",
       "      <td>Danville Mall</td>\n",
       "    </tr>\n",
       "    <tr>\n",
       "      <th>14168</th>\n",
       "      <td>76</td>\n",
       "      <td>69</td>\n",
       "      <td>56.398529</td>\n",
       "      <td>167.490662</td>\n",
       "      <td>60.572048</td>\n",
       "      <td>Woodbury</td>\n",
       "      <td>Danville Mall</td>\n",
       "    </tr>\n",
       "    <tr>\n",
       "      <th>14167</th>\n",
       "      <td>76</td>\n",
       "      <td>68</td>\n",
       "      <td>53.147587</td>\n",
       "      <td>73.875542</td>\n",
       "      <td>24.250967</td>\n",
       "      <td>Woodbury</td>\n",
       "      <td>Danville Mall</td>\n",
       "    </tr>\n",
       "    <tr>\n",
       "      <th>16424</th>\n",
       "      <td>88</td>\n",
       "      <td>69</td>\n",
       "      <td>51.370430</td>\n",
       "      <td>135.952789</td>\n",
       "      <td>61.482494</td>\n",
       "      <td>Nordan</td>\n",
       "      <td>Danville Mall</td>\n",
       "    </tr>\n",
       "    <tr>\n",
       "      <th>16423</th>\n",
       "      <td>88</td>\n",
       "      <td>68</td>\n",
       "      <td>51.330391</td>\n",
       "      <td>65.653931</td>\n",
       "      <td>27.036629</td>\n",
       "      <td>Nordan</td>\n",
       "      <td>Danville Mall</td>\n",
       "    </tr>\n",
       "    <tr>\n",
       "      <th>17176</th>\n",
       "      <td>92</td>\n",
       "      <td>69</td>\n",
       "      <td>51.328625</td>\n",
       "      <td>137.259369</td>\n",
       "      <td>40.604816</td>\n",
       "      <td>Nordan</td>\n",
       "      <td>Danville Mall</td>\n",
       "    </tr>\n",
       "    <tr>\n",
       "      <th>24885</th>\n",
       "      <td>133</td>\n",
       "      <td>70</td>\n",
       "      <td>51.253105</td>\n",
       "      <td>124.258377</td>\n",
       "      <td>29.578182</td>\n",
       "      <td>Mount Cross</td>\n",
       "      <td>Danville Mall</td>\n",
       "    </tr>\n",
       "    <tr>\n",
       "      <th>17175</th>\n",
       "      <td>92</td>\n",
       "      <td>68</td>\n",
       "      <td>50.492870</td>\n",
       "      <td>64.868721</td>\n",
       "      <td>17.462715</td>\n",
       "      <td>Nordan</td>\n",
       "      <td>Danville Mall</td>\n",
       "    </tr>\n",
       "  </tbody>\n",
       "</table>\n",
       "</div>"
      ],
      "text/plain": [
       "         O   D    HBW_Trip    HBO_Trip   NHB_Trip   O_District     D_District\n",
       "24883  133  68  111.657669  140.110352  30.837294  Mount Cross  Danville Mall\n",
       "24884  133  69   84.858253  200.981476  48.041981  Mount Cross  Danville Mall\n",
       "24695  132  68   69.858673  102.266235  16.203678  Mount Cross  Danville Mall\n",
       "14168   76  69   56.398529  167.490662  60.572048     Woodbury  Danville Mall\n",
       "14167   76  68   53.147587   73.875542  24.250967     Woodbury  Danville Mall\n",
       "16424   88  69   51.370430  135.952789  61.482494       Nordan  Danville Mall\n",
       "16423   88  68   51.330391   65.653931  27.036629       Nordan  Danville Mall\n",
       "17176   92  69   51.328625  137.259369  40.604816       Nordan  Danville Mall\n",
       "24885  133  70   51.253105  124.258377  29.578182  Mount Cross  Danville Mall\n",
       "17175   92  68   50.492870   64.868721  17.462715       Nordan  Danville Mall"
      ]
     },
     "execution_count": 195,
     "metadata": {},
     "output_type": "execute_result"
    }
   ],
   "source": [
    "# Top 10 feeding zones to Danville Mall\n",
    "df_model_pa_trips.loc[df_model_pa_trips.D_District == 'Danville Mall'].sort_values(by='HBW_Trip', ascending=False).head(10)"
   ]
  },
  {
   "cell_type": "code",
   "execution_count": 196,
   "metadata": {},
   "outputs": [
    {
     "data": {
      "text/plain": [
       "11185.82582"
      ]
     },
     "execution_count": 196,
     "metadata": {},
     "output_type": "execute_result"
    }
   ],
   "source": [
    "df_model_pa_trips.loc[df_model_pa_trips.D_District == 'Danville Mall', 'HBW_Trip'].sum()"
   ]
  },
  {
   "cell_type": "code",
   "execution_count": 197,
   "metadata": {},
   "outputs": [
    {
     "data": {
      "text/plain": [
       "968.8217480000001"
      ]
     },
     "execution_count": 197,
     "metadata": {},
     "output_type": "execute_result"
    }
   ],
   "source": [
    "df_model_pa_trips.loc[df_model_pa_trips.O_District == 'Danville Mall', 'HBW_Trip'].sum()"
   ]
  },
  {
   "cell_type": "code",
   "execution_count": 198,
   "metadata": {},
   "outputs": [],
   "source": [
    "df_model_hbw = df_model_pa_trips.groupby(['O_District','D_District'])['HBW_Trip'].sum().reset_index().pivot(index='O_District', columns='D_District', values='HBW_Trip')\n",
    "df_model_hbo = df_model_pa_trips.groupby(['O_District','D_District'])['HBO_Trip'].sum().reset_index().pivot(index='O_District', columns='D_District', values='HBO_Trip')\n",
    "df_model_nhb = df_model_pa_trips.groupby(['O_District','D_District'])['NHB_Trip'].sum().reset_index().pivot(index='O_District', columns='D_District', values='NHB_Trip')"
   ]
  },
  {
   "cell_type": "code",
   "execution_count": 199,
   "metadata": {},
   "outputs": [],
   "source": [
    "# Convert from PA to OD\n",
    "df_model_hbw = pd.DataFrame(data=(df_model_hbw.values.T +df_model_hbw.values)/2.0, index=df_model_hbw.index, columns=df_model_hbw.columns)\n",
    "df_model_hbo = pd.DataFrame(data=(df_model_hbo.values.T +df_model_hbo.values)/2.0, index=df_model_hbw.index, columns=df_model_hbw.columns)\n",
    "df_model_nhb = pd.DataFrame(data=(df_model_nhb.values.T +df_model_nhb.values)/2.0, index=df_model_hbw.index, columns=df_model_hbw.columns)\n"
   ]
  },
  {
   "cell_type": "code",
   "execution_count": 200,
   "metadata": {
    "collapsed": true
   },
   "outputs": [],
   "source": [
    "df_model_hbw.to_csv('HBW_Trips_Model.csv')\n",
    "df_model_hbo.to_csv('HBO_Trips_Model.csv')\n",
    "df_model_nhb.to_csv('NHB_Trips_Model.csv')"
   ]
  },
  {
   "cell_type": "code",
   "execution_count": null,
   "metadata": {
    "collapsed": true
   },
   "outputs": [],
   "source": []
  },
  {
   "cell_type": "code",
   "execution_count": null,
   "metadata": {
    "collapsed": true
   },
   "outputs": [],
   "source": []
  },
  {
   "cell_type": "markdown",
   "metadata": {},
   "source": [
    "#### Model Stats"
   ]
  },
  {
   "cell_type": "code",
   "execution_count": 60,
   "metadata": {
    "collapsed": true
   },
   "outputs": [],
   "source": [
    "df_model_trip = pd.read_csv(FILE_MODEL_TRIP, names=['O','D','Trips'])\n",
    "df_model_dist = pd.read_csv(FILE_MODEL_DIST)"
   ]
  },
  {
   "cell_type": "code",
   "execution_count": 62,
   "metadata": {},
   "outputs": [],
   "source": [
    "df_model_trip.loc[:,'O_District'] = df_model_trip['O'].map(zone_district_mapper)\n",
    "df_model_trip.loc[:,'D_District'] = df_model_trip['D'].map(zone_district_mapper)\n",
    "df_model_dist.loc[:,'O_District'] = df_model_dist['O'].map(zone_district_mapper)\n",
    "df_model_dist.loc[:,'D_District'] = df_model_dist['D'].map(zone_district_mapper)"
   ]
  },
  {
   "cell_type": "markdown",
   "metadata": {},
   "source": [
    "#### Find the zones that have most trips going to Danville Mall"
   ]
  },
  {
   "cell_type": "code",
   "execution_count": 73,
   "metadata": {},
   "outputs": [
    {
     "data": {
      "text/html": [
       "<div>\n",
       "<style scoped>\n",
       "    .dataframe tbody tr th:only-of-type {\n",
       "        vertical-align: middle;\n",
       "    }\n",
       "\n",
       "    .dataframe tbody tr th {\n",
       "        vertical-align: top;\n",
       "    }\n",
       "\n",
       "    .dataframe thead th {\n",
       "        text-align: right;\n",
       "    }\n",
       "</style>\n",
       "<table border=\"1\" class=\"dataframe\">\n",
       "  <thead>\n",
       "    <tr style=\"text-align: right;\">\n",
       "      <th></th>\n",
       "      <th>O</th>\n",
       "      <th>D</th>\n",
       "      <th>Trips</th>\n",
       "      <th>O_District</th>\n",
       "      <th>D_District</th>\n",
       "    </tr>\n",
       "  </thead>\n",
       "  <tbody>\n",
       "    <tr>\n",
       "      <th>12852</th>\n",
       "      <td>69</td>\n",
       "      <td>69</td>\n",
       "      <td>222.843170</td>\n",
       "      <td>Danville Mall</td>\n",
       "      <td>Danville Mall</td>\n",
       "    </tr>\n",
       "    <tr>\n",
       "      <th>24884</th>\n",
       "      <td>133</td>\n",
       "      <td>69</td>\n",
       "      <td>217.515366</td>\n",
       "      <td>Mount Cross</td>\n",
       "      <td>Danville Mall</td>\n",
       "    </tr>\n",
       "    <tr>\n",
       "      <th>12851</th>\n",
       "      <td>69</td>\n",
       "      <td>68</td>\n",
       "      <td>206.047119</td>\n",
       "      <td>Danville Mall</td>\n",
       "      <td>Danville Mall</td>\n",
       "    </tr>\n",
       "    <tr>\n",
       "      <th>12664</th>\n",
       "      <td>68</td>\n",
       "      <td>69</td>\n",
       "      <td>206.047119</td>\n",
       "      <td>Danville Mall</td>\n",
       "      <td>Danville Mall</td>\n",
       "    </tr>\n",
       "    <tr>\n",
       "      <th>12476</th>\n",
       "      <td>67</td>\n",
       "      <td>69</td>\n",
       "      <td>202.301727</td>\n",
       "      <td>Danville Mall</td>\n",
       "      <td>Danville Mall</td>\n",
       "    </tr>\n",
       "    <tr>\n",
       "      <th>12850</th>\n",
       "      <td>69</td>\n",
       "      <td>67</td>\n",
       "      <td>202.301727</td>\n",
       "      <td>Danville Mall</td>\n",
       "      <td>Danville Mall</td>\n",
       "    </tr>\n",
       "    <tr>\n",
       "      <th>14168</th>\n",
       "      <td>76</td>\n",
       "      <td>69</td>\n",
       "      <td>187.790039</td>\n",
       "      <td>Woodbury</td>\n",
       "      <td>Danville Mall</td>\n",
       "    </tr>\n",
       "    <tr>\n",
       "      <th>16424</th>\n",
       "      <td>88</td>\n",
       "      <td>69</td>\n",
       "      <td>169.758209</td>\n",
       "      <td>Nordan</td>\n",
       "      <td>Danville Mall</td>\n",
       "    </tr>\n",
       "    <tr>\n",
       "      <th>12853</th>\n",
       "      <td>69</td>\n",
       "      <td>70</td>\n",
       "      <td>160.078094</td>\n",
       "      <td>Danville Mall</td>\n",
       "      <td>Danville Mall</td>\n",
       "    </tr>\n",
       "    <tr>\n",
       "      <th>13040</th>\n",
       "      <td>70</td>\n",
       "      <td>69</td>\n",
       "      <td>160.078094</td>\n",
       "      <td>Danville Mall</td>\n",
       "      <td>Danville Mall</td>\n",
       "    </tr>\n",
       "    <tr>\n",
       "      <th>17176</th>\n",
       "      <td>92</td>\n",
       "      <td>69</td>\n",
       "      <td>149.935013</td>\n",
       "      <td>Nordan</td>\n",
       "      <td>Danville Mall</td>\n",
       "    </tr>\n",
       "    <tr>\n",
       "      <th>8904</th>\n",
       "      <td>48</td>\n",
       "      <td>69</td>\n",
       "      <td>148.502213</td>\n",
       "      <td>West Danville</td>\n",
       "      <td>Danville Mall</td>\n",
       "    </tr>\n",
       "    <tr>\n",
       "      <th>24883</th>\n",
       "      <td>133</td>\n",
       "      <td>68</td>\n",
       "      <td>146.531830</td>\n",
       "      <td>Mount Cross</td>\n",
       "      <td>Danville Mall</td>\n",
       "    </tr>\n",
       "    <tr>\n",
       "      <th>6836</th>\n",
       "      <td>37</td>\n",
       "      <td>69</td>\n",
       "      <td>136.221359</td>\n",
       "      <td>Wedgewood</td>\n",
       "      <td>Danville Mall</td>\n",
       "    </tr>\n",
       "    <tr>\n",
       "      <th>13228</th>\n",
       "      <td>71</td>\n",
       "      <td>69</td>\n",
       "      <td>135.749268</td>\n",
       "      <td>Danville Mall</td>\n",
       "      <td>Danville Mall</td>\n",
       "    </tr>\n",
       "    <tr>\n",
       "      <th>12854</th>\n",
       "      <td>69</td>\n",
       "      <td>71</td>\n",
       "      <td>135.749268</td>\n",
       "      <td>Danville Mall</td>\n",
       "      <td>Danville Mall</td>\n",
       "    </tr>\n",
       "    <tr>\n",
       "      <th>8528</th>\n",
       "      <td>46</td>\n",
       "      <td>69</td>\n",
       "      <td>134.359100</td>\n",
       "      <td>Averett</td>\n",
       "      <td>Danville Mall</td>\n",
       "    </tr>\n",
       "    <tr>\n",
       "      <th>24885</th>\n",
       "      <td>133</td>\n",
       "      <td>70</td>\n",
       "      <td>133.652802</td>\n",
       "      <td>Mount Cross</td>\n",
       "      <td>Danville Mall</td>\n",
       "    </tr>\n",
       "    <tr>\n",
       "      <th>11536</th>\n",
       "      <td>62</td>\n",
       "      <td>69</td>\n",
       "      <td>128.139435</td>\n",
       "      <td>Westover</td>\n",
       "      <td>Danville Mall</td>\n",
       "    </tr>\n",
       "    <tr>\n",
       "      <th>12838</th>\n",
       "      <td>69</td>\n",
       "      <td>55</td>\n",
       "      <td>126.646835</td>\n",
       "      <td>Danville Mall</td>\n",
       "      <td>Danville Mall</td>\n",
       "    </tr>\n",
       "  </tbody>\n",
       "</table>\n",
       "</div>"
      ],
      "text/plain": [
       "         O   D       Trips     O_District     D_District\n",
       "12852   69  69  222.843170  Danville Mall  Danville Mall\n",
       "24884  133  69  217.515366    Mount Cross  Danville Mall\n",
       "12851   69  68  206.047119  Danville Mall  Danville Mall\n",
       "12664   68  69  206.047119  Danville Mall  Danville Mall\n",
       "12476   67  69  202.301727  Danville Mall  Danville Mall\n",
       "12850   69  67  202.301727  Danville Mall  Danville Mall\n",
       "14168   76  69  187.790039       Woodbury  Danville Mall\n",
       "16424   88  69  169.758209         Nordan  Danville Mall\n",
       "12853   69  70  160.078094  Danville Mall  Danville Mall\n",
       "13040   70  69  160.078094  Danville Mall  Danville Mall\n",
       "17176   92  69  149.935013         Nordan  Danville Mall\n",
       "8904    48  69  148.502213  West Danville  Danville Mall\n",
       "24883  133  68  146.531830    Mount Cross  Danville Mall\n",
       "6836    37  69  136.221359      Wedgewood  Danville Mall\n",
       "13228   71  69  135.749268  Danville Mall  Danville Mall\n",
       "12854   69  71  135.749268  Danville Mall  Danville Mall\n",
       "8528    46  69  134.359100        Averett  Danville Mall\n",
       "24885  133  70  133.652802    Mount Cross  Danville Mall\n",
       "11536   62  69  128.139435       Westover  Danville Mall\n",
       "12838   69  55  126.646835  Danville Mall  Danville Mall"
      ]
     },
     "execution_count": 73,
     "metadata": {},
     "output_type": "execute_result"
    }
   ],
   "source": [
    "df_top10_zones_to_mall = df_model_trip.loc[(df_model_trip.D_District == \"Danville Mall\") & (~df_model_trip.O_District.isnull())].sort_values(by='Trips', ascending=False).head(20)\n",
    "df_top10_zones_to_mall"
   ]
  },
  {
   "cell_type": "code",
   "execution_count": 74,
   "metadata": {},
   "outputs": [
    {
     "data": {
      "text/plain": [
       "3310.2477870000007"
      ]
     },
     "execution_count": 74,
     "metadata": {},
     "output_type": "execute_result"
    }
   ],
   "source": [
    "df_top10_zones_to_mall.Trips.sum()"
   ]
  },
  {
   "cell_type": "code",
   "execution_count": 147,
   "metadata": {},
   "outputs": [
    {
     "data": {
      "text/plain": [
       "[37, 46, 48, 62, 67, 68, 69, 70, 71, 76, 88, 92, 133]"
      ]
     },
     "execution_count": 147,
     "metadata": {},
     "output_type": "execute_result"
    }
   ],
   "source": [
    "sorted(df_top10_zones_to_mall.O.unique())"
   ]
  },
  {
   "cell_type": "code",
   "execution_count": 75,
   "metadata": {},
   "outputs": [
    {
     "data": {
      "text/html": [
       "<div>\n",
       "<style scoped>\n",
       "    .dataframe tbody tr th:only-of-type {\n",
       "        vertical-align: middle;\n",
       "    }\n",
       "\n",
       "    .dataframe tbody tr th {\n",
       "        vertical-align: top;\n",
       "    }\n",
       "\n",
       "    .dataframe thead th {\n",
       "        text-align: right;\n",
       "    }\n",
       "</style>\n",
       "<table border=\"1\" class=\"dataframe\">\n",
       "  <thead>\n",
       "    <tr style=\"text-align: right;\">\n",
       "      <th></th>\n",
       "      <th></th>\n",
       "      <th>Distance</th>\n",
       "      <th>O_District</th>\n",
       "      <th>D_District</th>\n",
       "    </tr>\n",
       "    <tr>\n",
       "      <th>O</th>\n",
       "      <th>D</th>\n",
       "      <th></th>\n",
       "      <th></th>\n",
       "      <th></th>\n",
       "    </tr>\n",
       "  </thead>\n",
       "  <tbody>\n",
       "    <tr>\n",
       "      <th>69</th>\n",
       "      <th>69</th>\n",
       "      <td>0.000001</td>\n",
       "      <td>Danville Mall</td>\n",
       "      <td>Danville Mall</td>\n",
       "    </tr>\n",
       "    <tr>\n",
       "      <th>133</th>\n",
       "      <th>69</th>\n",
       "      <td>6.471440</td>\n",
       "      <td>Mount Cross</td>\n",
       "      <td>Danville Mall</td>\n",
       "    </tr>\n",
       "    <tr>\n",
       "      <th>69</th>\n",
       "      <th>68</th>\n",
       "      <td>1.325580</td>\n",
       "      <td>Danville Mall</td>\n",
       "      <td>Danville Mall</td>\n",
       "    </tr>\n",
       "    <tr>\n",
       "      <th>68</th>\n",
       "      <th>69</th>\n",
       "      <td>1.327900</td>\n",
       "      <td>Danville Mall</td>\n",
       "      <td>Danville Mall</td>\n",
       "    </tr>\n",
       "    <tr>\n",
       "      <th>67</th>\n",
       "      <th>69</th>\n",
       "      <td>1.630750</td>\n",
       "      <td>Danville Mall</td>\n",
       "      <td>Danville Mall</td>\n",
       "    </tr>\n",
       "    <tr>\n",
       "      <th>69</th>\n",
       "      <th>67</th>\n",
       "      <td>1.636860</td>\n",
       "      <td>Danville Mall</td>\n",
       "      <td>Danville Mall</td>\n",
       "    </tr>\n",
       "    <tr>\n",
       "      <th>76</th>\n",
       "      <th>69</th>\n",
       "      <td>1.922240</td>\n",
       "      <td>Woodbury</td>\n",
       "      <td>Danville Mall</td>\n",
       "    </tr>\n",
       "    <tr>\n",
       "      <th>88</th>\n",
       "      <th>69</th>\n",
       "      <td>3.872111</td>\n",
       "      <td>Nordan</td>\n",
       "      <td>Danville Mall</td>\n",
       "    </tr>\n",
       "    <tr>\n",
       "      <th>69</th>\n",
       "      <th>70</th>\n",
       "      <td>0.402150</td>\n",
       "      <td>Danville Mall</td>\n",
       "      <td>Danville Mall</td>\n",
       "    </tr>\n",
       "    <tr>\n",
       "      <th>70</th>\n",
       "      <th>69</th>\n",
       "      <td>0.402150</td>\n",
       "      <td>Danville Mall</td>\n",
       "      <td>Danville Mall</td>\n",
       "    </tr>\n",
       "    <tr>\n",
       "      <th>92</th>\n",
       "      <th>69</th>\n",
       "      <td>3.513601</td>\n",
       "      <td>Nordan</td>\n",
       "      <td>Danville Mall</td>\n",
       "    </tr>\n",
       "    <tr>\n",
       "      <th>48</th>\n",
       "      <th>69</th>\n",
       "      <td>2.692750</td>\n",
       "      <td>West Danville</td>\n",
       "      <td>Danville Mall</td>\n",
       "    </tr>\n",
       "    <tr>\n",
       "      <th>133</th>\n",
       "      <th>68</th>\n",
       "      <td>5.705499</td>\n",
       "      <td>Mount Cross</td>\n",
       "      <td>Danville Mall</td>\n",
       "    </tr>\n",
       "    <tr>\n",
       "      <th>37</th>\n",
       "      <th>69</th>\n",
       "      <td>4.576399</td>\n",
       "      <td>Wedgewood</td>\n",
       "      <td>Danville Mall</td>\n",
       "    </tr>\n",
       "    <tr>\n",
       "      <th>71</th>\n",
       "      <th>69</th>\n",
       "      <td>0.839940</td>\n",
       "      <td>Danville Mall</td>\n",
       "      <td>Danville Mall</td>\n",
       "    </tr>\n",
       "    <tr>\n",
       "      <th>69</th>\n",
       "      <th>71</th>\n",
       "      <td>1.095970</td>\n",
       "      <td>Danville Mall</td>\n",
       "      <td>Danville Mall</td>\n",
       "    </tr>\n",
       "    <tr>\n",
       "      <th>46</th>\n",
       "      <th>69</th>\n",
       "      <td>2.086040</td>\n",
       "      <td>Averett</td>\n",
       "      <td>Danville Mall</td>\n",
       "    </tr>\n",
       "    <tr>\n",
       "      <th>133</th>\n",
       "      <th>70</th>\n",
       "      <td>6.437940</td>\n",
       "      <td>Mount Cross</td>\n",
       "      <td>Danville Mall</td>\n",
       "    </tr>\n",
       "    <tr>\n",
       "      <th>62</th>\n",
       "      <th>69</th>\n",
       "      <td>3.568580</td>\n",
       "      <td>Westover</td>\n",
       "      <td>Danville Mall</td>\n",
       "    </tr>\n",
       "    <tr>\n",
       "      <th>69</th>\n",
       "      <th>55</th>\n",
       "      <td>0.609220</td>\n",
       "      <td>Danville Mall</td>\n",
       "      <td>Danville Mall</td>\n",
       "    </tr>\n",
       "  </tbody>\n",
       "</table>\n",
       "</div>"
      ],
      "text/plain": [
       "        Distance     O_District     D_District\n",
       "O   D                                         \n",
       "69  69  0.000001  Danville Mall  Danville Mall\n",
       "133 69  6.471440    Mount Cross  Danville Mall\n",
       "69  68  1.325580  Danville Mall  Danville Mall\n",
       "68  69  1.327900  Danville Mall  Danville Mall\n",
       "67  69  1.630750  Danville Mall  Danville Mall\n",
       "69  67  1.636860  Danville Mall  Danville Mall\n",
       "76  69  1.922240       Woodbury  Danville Mall\n",
       "88  69  3.872111         Nordan  Danville Mall\n",
       "69  70  0.402150  Danville Mall  Danville Mall\n",
       "70  69  0.402150  Danville Mall  Danville Mall\n",
       "92  69  3.513601         Nordan  Danville Mall\n",
       "48  69  2.692750  West Danville  Danville Mall\n",
       "133 68  5.705499    Mount Cross  Danville Mall\n",
       "37  69  4.576399      Wedgewood  Danville Mall\n",
       "71  69  0.839940  Danville Mall  Danville Mall\n",
       "69  71  1.095970  Danville Mall  Danville Mall\n",
       "46  69  2.086040        Averett  Danville Mall\n",
       "133 70  6.437940    Mount Cross  Danville Mall\n",
       "62  69  3.568580       Westover  Danville Mall\n",
       "69  55  0.609220  Danville Mall  Danville Mall"
      ]
     },
     "execution_count": 75,
     "metadata": {},
     "output_type": "execute_result"
    }
   ],
   "source": [
    "df_model_dist.set_index(['O','D']).loc[df_top10_zones_to_mall.set_index(['O','D']).index]"
   ]
  },
  {
   "cell_type": "code",
   "execution_count": 103,
   "metadata": {},
   "outputs": [
    {
     "data": {
      "text/plain": [
       "array([ 55,  64,  65,  67,  68,  69,  70,  71,  72,  73,  78, 130],\n",
       "      dtype=int64)"
      ]
     },
     "execution_count": 103,
     "metadata": {},
     "output_type": "execute_result"
    }
   ],
   "source": [
    "df_model_trip.loc[df_model_trip.D_District == \"Danville Mall\",'D'].unique()"
   ]
  },
  {
   "cell_type": "code",
   "execution_count": 64,
   "metadata": {},
   "outputs": [
    {
     "name": "stdout",
     "output_type": "stream",
     "text": [
      "Average trip length for trips to Danville Mall = 5.69 miles\n"
     ]
    }
   ],
   "source": [
    "df_model_trip_mall = df_model_trip.loc[df_model_trip.D_District == \"Danville Mall\"]\n",
    "df_model_dist_mall = df_model_dist.loc[df_model_dist.D_District == \"Danville Mall\"]\n",
    "print(\"Average trip length for trips to Danville Mall = {0:.2f} miles\".format(np.dot(df_model_trip_mall.Trips, df_model_dist_mall.Distance)/sum(df_model_trip_mall.Trips)))"
   ]
  },
  {
   "cell_type": "code",
   "execution_count": 145,
   "metadata": {},
   "outputs": [
    {
     "name": "stdout",
     "output_type": "stream",
     "text": [
      "Average trip length for trips from and to Danville Mall = 6.11 miles\n"
     ]
    }
   ],
   "source": [
    "df_model_trip_mall = df_model_trip.loc[(df_model_trip.D_District == \"Danville Mall\") | (df_model_trip.O_District == \"Danville Mall\")]\n",
    "df_model_dist_mall = df_model_dist.loc[(df_model_trip.D_District == \"Danville Mall\") | (df_model_trip.O_District == \"Danville Mall\")]\n",
    "print(\"Average trip length for trips from and to Danville Mall = {0:.2f} miles\".format(np.dot(df_model_trip_mall.Trips, df_model_dist_mall.Distance)/sum(df_model_trip_mall.Trips)))"
   ]
  },
  {
   "cell_type": "code",
   "execution_count": null,
   "metadata": {
    "collapsed": true
   },
   "outputs": [],
   "source": []
  },
  {
   "cell_type": "code",
   "execution_count": null,
   "metadata": {
    "collapsed": true
   },
   "outputs": [],
   "source": []
  },
  {
   "cell_type": "code",
   "execution_count": 100,
   "metadata": {
    "collapsed": true
   },
   "outputs": [],
   "source": [
    "di = np.diag_indices(4)"
   ]
  },
  {
   "cell_type": "code",
   "execution_count": 101,
   "metadata": {},
   "outputs": [
    {
     "data": {
      "text/plain": [
       "array([[ 0,  1,  2,  3],\n",
       "       [ 4,  5,  6,  7],\n",
       "       [ 8,  9, 10, 11],\n",
       "       [12, 13, 14, 15]])"
      ]
     },
     "execution_count": 101,
     "metadata": {},
     "output_type": "execute_result"
    }
   ],
   "source": [
    "a = np.arange(16).reshape(4, 4)\n",
    "a"
   ]
  },
  {
   "cell_type": "code",
   "execution_count": 102,
   "metadata": {},
   "outputs": [
    {
     "data": {
      "text/plain": [
       "array([[10,  1,  2,  3],\n",
       "       [ 4, 20,  6,  7],\n",
       "       [ 8,  9, 30, 11],\n",
       "       [12, 13, 14, 40]])"
      ]
     },
     "execution_count": 102,
     "metadata": {},
     "output_type": "execute_result"
    }
   ],
   "source": [
    "a[di] = np.array([10, 20, 30, 40])\n",
    "a"
   ]
  },
  {
   "cell_type": "code",
   "execution_count": null,
   "metadata": {
    "collapsed": true
   },
   "outputs": [],
   "source": []
  }
 ],
 "metadata": {
  "kernelspec": {
   "display_name": "Python 3",
   "language": "python",
   "name": "python3"
  },
  "language_info": {
   "codemirror_mode": {
    "name": "ipython",
    "version": 3
   },
   "file_extension": ".py",
   "mimetype": "text/x-python",
   "name": "python",
   "nbconvert_exporter": "python",
   "pygments_lexer": "ipython3",
   "version": "3.6.3"
  }
 },
 "nbformat": 4,
 "nbformat_minor": 2
}
