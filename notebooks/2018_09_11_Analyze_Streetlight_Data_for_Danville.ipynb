{
 "cells": [
  {
   "cell_type": "code",
   "execution_count": 1,
   "metadata": {
    "collapsed": true
   },
   "outputs": [],
   "source": [
    "import numpy as np\n",
    "import pandas as pd\n",
    "from dbfread import DBF"
   ]
  },
  {
   "cell_type": "code",
   "execution_count": 2,
   "metadata": {
    "collapsed": true
   },
   "outputs": [],
   "source": [
    "FILE_OD_TRIP_ATTR = r\"T:\\SLD\\Danville_OD_premium_trip_4712_TravelCount\\Danville_OD_premium_4712_od_trip_attributes_counts_all.csv\"\n",
    "FILE_ZONE_DISTRICT_DBF = r\"R:\\Danville\\DATA\\Data_Received\\DanvilleMPO_TAZ_RevDist_06182018\\DanvilleMPO_TAZ_RevDist_06182018.dbf\"\n",
    "FILE_OD_TRIP_PURP = r\"T:\\SLD\\Danville_OD_premium_trip_4712_TravelCount\\Danville_OD_premium_4712_od_trip_purpose_counts.csv\"\n",
    "FILE_MODEL_TRIP = r\"T:\\TransCAD_Conventional_UI\\2016_test\\Outputs\\Auto_Trips.csv\"\n",
    "FILE_MODEL_DIST = r\"C:\\Projects\\2018\\Danville\\SLD_Comparison\\Model_Skim_Distance.csv\""
   ]
  },
  {
   "cell_type": "markdown",
   "metadata": {},
   "source": [
    "#### Zone District Mapper"
   ]
  },
  {
   "cell_type": "code",
   "execution_count": 3,
   "metadata": {
    "collapsed": true
   },
   "outputs": [],
   "source": [
    "df_zones = pd.DataFrame(iter(DBF(FILE_ZONE_DISTRICT_DBF)))"
   ]
  },
  {
   "cell_type": "code",
   "execution_count": 4,
   "metadata": {
    "collapsed": true
   },
   "outputs": [],
   "source": [
    "zone_district_mapper = df_zones.set_index('TAZ_2018').loc[:,'DistName']"
   ]
  },
  {
   "cell_type": "markdown",
   "metadata": {},
   "source": [
    "#### SLD Data"
   ]
  },
  {
   "cell_type": "code",
   "execution_count": 7,
   "metadata": {
    "collapsed": true
   },
   "outputs": [],
   "source": [
    "df_od_trip = pd.read_csv(FILE_OD_TRIP_ATTR)"
   ]
  },
  {
   "cell_type": "code",
   "execution_count": 8,
   "metadata": {
    "collapsed": true
   },
   "outputs": [
    {
     "name": "stdout",
     "output_type": "stream",
     "text": [
      "<class 'pandas.core.frame.DataFrame'>\n",
      "RangeIndex: 178542 entries, 0 to 178541\n",
      "Data columns (total 68 columns):\n",
      "Type of Travel                          178542 non-null object\n",
      "Origin Zone ID                          178542 non-null int64\n",
      "Origin Zone Name                        178542 non-null int64\n",
      "Origin Zone Is Pass-Through             178542 non-null object\n",
      "Origin Zone Direction (degrees)         0 non-null float64\n",
      "Origin Zone is Bi-Direction             178542 non-null object\n",
      "Destination Zone ID                     178542 non-null int64\n",
      "Destination Zone Name                   178542 non-null int64\n",
      "Destination Zone Is Pass-Through        178542 non-null object\n",
      "Destination Zone Direction (degrees)    0 non-null float64\n",
      "Destination Zone is Bi-Direction        178542 non-null object\n",
      "Day Type                                178542 non-null object\n",
      "Day Part                                178542 non-null object\n",
      "O-D Traffic (Trip Counts)               178542 non-null int64\n",
      "O-D Traffic (StL Index)                 178542 non-null int64\n",
      "Avg Trip Duration (sec)                 176142 non-null float64\n",
      "Avg All Trip Duration (sec)             178542 non-null int64\n",
      "Avg Trip Length (mi)                    176142 non-null float64\n",
      "Avg All Trip Length (mi)                178542 non-null float64\n",
      "Avg Trip Speed (mph)                    174735 non-null float64\n",
      "Avg All Trip Speed (mph)                178538 non-null float64\n",
      "Avg All Trip Circuity                   178542 non-null float64\n",
      "Trip Duration 0-10 min (percent)        178542 non-null float64\n",
      "Trip Duration 10-20 min (percent)       178542 non-null float64\n",
      "Trip Duration 20-30 min (percent)       178542 non-null float64\n",
      "Trip Duration 30-40 min (percent)       178542 non-null float64\n",
      "Trip Duration 40-50 min (percent)       178542 non-null float64\n",
      "Trip Duration 50-60 min (percent)       178542 non-null float64\n",
      "Trip Duration 60-70 min (percent)       178542 non-null float64\n",
      "Trip Duration 70-80 min (percent)       178542 non-null float64\n",
      "Trip Duration 80-90 min (percent)       178542 non-null float64\n",
      "Trip Duration 90-100 min (percent)      178542 non-null float64\n",
      "Trip Duration 100-110 min (percent)     178542 non-null float64\n",
      "Trip Duration 110-120 min (percent)     178542 non-null float64\n",
      "Trip Duration 120-130 min (percent)     178542 non-null float64\n",
      "Trip Duration 130-140 min (percent)     178542 non-null float64\n",
      "Trip Duration 140-150 min (percent)     178542 non-null float64\n",
      "Trip Duration 150+ min (percent)        178542 non-null float64\n",
      "Trip Length 0-1 mi (percent)            178542 non-null float64\n",
      "Trip Length 1-2 mi (percent)            178542 non-null float64\n",
      "Trip Length 2-5 mi (percent)            178542 non-null float64\n",
      "Trip Length 5-10 mi (percent)           178542 non-null float64\n",
      "Trip Length 10-20 mi (percent)          178542 non-null float64\n",
      "Trip Length 20-30 mi (percent)          178542 non-null float64\n",
      "Trip Length 30-40 mi (percent)          178542 non-null float64\n",
      "Trip Length 40-50 mi (percent)          178542 non-null float64\n",
      "Trip Length 50-60 mi (percent)          178542 non-null float64\n",
      "Trip Length 60-70 mi (percent)          178542 non-null float64\n",
      "Trip Length 70-80 mi (percent)          178542 non-null float64\n",
      "Trip Length 80-90 mi (percent)          178542 non-null float64\n",
      "Trip Length 90-100 mi (percent)         178542 non-null float64\n",
      "Trip Length 100+ mi (percent)           178542 non-null float64\n",
      "Circuity 1-2 (percent)                  178542 non-null float64\n",
      "Circuity 2-3 (percent)                  178542 non-null float64\n",
      "Circuity 3-4 (percent)                  178542 non-null float64\n",
      "Circuity 4-5 (percent)                  178542 non-null float64\n",
      "Circuity 5-6 (percent)                  178542 non-null float64\n",
      "Circuity 6+ (percent)                   178542 non-null float64\n",
      "Trip Speed 0-10 mph (percent)           178538 non-null float64\n",
      "Trip Speed 10-20 mph (percent)          178538 non-null float64\n",
      "Trip Speed 20-30 mph (percent)          178538 non-null float64\n",
      "Trip Speed 30-40 mph (percent)          178538 non-null float64\n",
      "Trip Speed 40-50 mph (percent)          178538 non-null float64\n",
      "Trip Speed 50-60 mph (percent)          178538 non-null float64\n",
      "Trip Speed 60-70 mph (percent)          178538 non-null float64\n",
      "Trip Speed 70-80 mph (percent)          178538 non-null float64\n",
      "Trip Speed 80-90 mph (percent)          178538 non-null float64\n",
      "Trip Speed 90+ mph (percent)            178538 non-null float64\n",
      "dtypes: float64(54), int64(7), object(7)\n",
      "memory usage: 92.6+ MB\n"
     ]
    }
   ],
   "source": [
    "df_od_trip.info()"
   ]
  },
  {
   "cell_type": "code",
   "execution_count": 34,
   "metadata": {
    "collapsed": true
   },
   "outputs": [],
   "source": [
    "useful_col = ['Type of Travel',\n",
    " 'Origin Zone ID',\n",
    " 'Destination Zone ID',\n",
    " 'Day Type',\n",
    " 'Day Part',\n",
    " 'O-D Traffic (Trip Counts)',\n",
    " 'O-D Traffic (StL Index)',\n",
    " 'Avg Trip Duration (sec)',\n",
    " 'Avg All Trip Duration (sec)',\n",
    " 'Avg Trip Length (mi)',\n",
    " 'Avg All Trip Length (mi)',\n",
    " 'Avg Trip Speed (mph)',\n",
    " 'Avg All Trip Speed (mph)',\n",
    " 'Avg All Trip Circuity']"
   ]
  },
  {
   "cell_type": "code",
   "execution_count": 10,
   "metadata": {
    "collapsed": true
   },
   "outputs": [],
   "source": [
    "df_od_trip = df_od_trip.loc[:, useful_col]"
   ]
  },
  {
   "cell_type": "code",
   "execution_count": 11,
   "metadata": {},
   "outputs": [
    {
     "data": {
      "text/html": [
       "<div>\n",
       "<style scoped>\n",
       "    .dataframe tbody tr th:only-of-type {\n",
       "        vertical-align: middle;\n",
       "    }\n",
       "\n",
       "    .dataframe tbody tr th {\n",
       "        vertical-align: top;\n",
       "    }\n",
       "\n",
       "    .dataframe thead th {\n",
       "        text-align: right;\n",
       "    }\n",
       "</style>\n",
       "<table border=\"1\" class=\"dataframe\">\n",
       "  <thead>\n",
       "    <tr style=\"text-align: right;\">\n",
       "      <th></th>\n",
       "      <th>0</th>\n",
       "      <th>6</th>\n",
       "    </tr>\n",
       "  </thead>\n",
       "  <tbody>\n",
       "    <tr>\n",
       "      <th>Type of Travel</th>\n",
       "      <td>Personal</td>\n",
       "      <td>Personal</td>\n",
       "    </tr>\n",
       "    <tr>\n",
       "      <th>Origin Zone ID</th>\n",
       "      <td>1</td>\n",
       "      <td>1</td>\n",
       "    </tr>\n",
       "    <tr>\n",
       "      <th>Origin Zone Name</th>\n",
       "      <td>1</td>\n",
       "      <td>1</td>\n",
       "    </tr>\n",
       "    <tr>\n",
       "      <th>Origin Zone Is Pass-Through</th>\n",
       "      <td>no</td>\n",
       "      <td>no</td>\n",
       "    </tr>\n",
       "    <tr>\n",
       "      <th>Origin Zone Direction (degrees)</th>\n",
       "      <td>NaN</td>\n",
       "      <td>NaN</td>\n",
       "    </tr>\n",
       "    <tr>\n",
       "      <th>Origin Zone is Bi-Direction</th>\n",
       "      <td>no</td>\n",
       "      <td>no</td>\n",
       "    </tr>\n",
       "    <tr>\n",
       "      <th>Destination Zone ID</th>\n",
       "      <td>10</td>\n",
       "      <td>10</td>\n",
       "    </tr>\n",
       "    <tr>\n",
       "      <th>Destination Zone Name</th>\n",
       "      <td>10</td>\n",
       "      <td>10</td>\n",
       "    </tr>\n",
       "    <tr>\n",
       "      <th>Destination Zone Is Pass-Through</th>\n",
       "      <td>no</td>\n",
       "      <td>no</td>\n",
       "    </tr>\n",
       "    <tr>\n",
       "      <th>Destination Zone Direction (degrees)</th>\n",
       "      <td>NaN</td>\n",
       "      <td>NaN</td>\n",
       "    </tr>\n",
       "    <tr>\n",
       "      <th>Destination Zone is Bi-Direction</th>\n",
       "      <td>no</td>\n",
       "      <td>no</td>\n",
       "    </tr>\n",
       "    <tr>\n",
       "      <th>Day Type</th>\n",
       "      <td>0: Average Day (M-Su)</td>\n",
       "      <td>1: Average Weekday (M-F)</td>\n",
       "    </tr>\n",
       "    <tr>\n",
       "      <th>Day Part</th>\n",
       "      <td>0: All Day (12am-12am)</td>\n",
       "      <td>0: All Day (12am-12am)</td>\n",
       "    </tr>\n",
       "    <tr>\n",
       "      <th>O-D Traffic (Trip Counts)</th>\n",
       "      <td>15</td>\n",
       "      <td>12</td>\n",
       "    </tr>\n",
       "    <tr>\n",
       "      <th>O-D Traffic (StL Index)</th>\n",
       "      <td>7</td>\n",
       "      <td>8</td>\n",
       "    </tr>\n",
       "    <tr>\n",
       "      <th>Avg Trip Duration (sec)</th>\n",
       "      <td>875</td>\n",
       "      <td>820</td>\n",
       "    </tr>\n",
       "    <tr>\n",
       "      <th>Avg All Trip Duration (sec)</th>\n",
       "      <td>1218</td>\n",
       "      <td>1262</td>\n",
       "    </tr>\n",
       "    <tr>\n",
       "      <th>Avg Trip Length (mi)</th>\n",
       "      <td>0.7</td>\n",
       "      <td>0.7</td>\n",
       "    </tr>\n",
       "    <tr>\n",
       "      <th>Avg All Trip Length (mi)</th>\n",
       "      <td>1</td>\n",
       "      <td>1.1</td>\n",
       "    </tr>\n",
       "    <tr>\n",
       "      <th>Avg Trip Speed (mph)</th>\n",
       "      <td>4</td>\n",
       "      <td>4</td>\n",
       "    </tr>\n",
       "    <tr>\n",
       "      <th>Avg All Trip Speed (mph)</th>\n",
       "      <td>4</td>\n",
       "      <td>4</td>\n",
       "    </tr>\n",
       "    <tr>\n",
       "      <th>Avg All Trip Circuity</th>\n",
       "      <td>2.793</td>\n",
       "      <td>3.083</td>\n",
       "    </tr>\n",
       "  </tbody>\n",
       "</table>\n",
       "</div>"
      ],
      "text/plain": [
       "                                                           0  \\\n",
       "Type of Travel                                      Personal   \n",
       "Origin Zone ID                                             1   \n",
       "Origin Zone Name                                           1   \n",
       "Origin Zone Is Pass-Through                               no   \n",
       "Origin Zone Direction (degrees)                          NaN   \n",
       "Origin Zone is Bi-Direction                               no   \n",
       "Destination Zone ID                                       10   \n",
       "Destination Zone Name                                     10   \n",
       "Destination Zone Is Pass-Through                          no   \n",
       "Destination Zone Direction (degrees)                     NaN   \n",
       "Destination Zone is Bi-Direction                          no   \n",
       "Day Type                               0: Average Day (M-Su)   \n",
       "Day Part                              0: All Day (12am-12am)   \n",
       "O-D Traffic (Trip Counts)                                 15   \n",
       "O-D Traffic (StL Index)                                    7   \n",
       "Avg Trip Duration (sec)                                  875   \n",
       "Avg All Trip Duration (sec)                             1218   \n",
       "Avg Trip Length (mi)                                     0.7   \n",
       "Avg All Trip Length (mi)                                   1   \n",
       "Avg Trip Speed (mph)                                       4   \n",
       "Avg All Trip Speed (mph)                                   4   \n",
       "Avg All Trip Circuity                                  2.793   \n",
       "\n",
       "                                                             6  \n",
       "Type of Travel                                        Personal  \n",
       "Origin Zone ID                                               1  \n",
       "Origin Zone Name                                             1  \n",
       "Origin Zone Is Pass-Through                                 no  \n",
       "Origin Zone Direction (degrees)                            NaN  \n",
       "Origin Zone is Bi-Direction                                 no  \n",
       "Destination Zone ID                                         10  \n",
       "Destination Zone Name                                       10  \n",
       "Destination Zone Is Pass-Through                            no  \n",
       "Destination Zone Direction (degrees)                       NaN  \n",
       "Destination Zone is Bi-Direction                            no  \n",
       "Day Type                              1: Average Weekday (M-F)  \n",
       "Day Part                                0: All Day (12am-12am)  \n",
       "O-D Traffic (Trip Counts)                                   12  \n",
       "O-D Traffic (StL Index)                                      8  \n",
       "Avg Trip Duration (sec)                                    820  \n",
       "Avg All Trip Duration (sec)                               1262  \n",
       "Avg Trip Length (mi)                                       0.7  \n",
       "Avg All Trip Length (mi)                                   1.1  \n",
       "Avg Trip Speed (mph)                                         4  \n",
       "Avg All Trip Speed (mph)                                     4  \n",
       "Avg All Trip Circuity                                    3.083  "
      ]
     },
     "execution_count": 11,
     "metadata": {},
     "output_type": "execute_result"
    }
   ],
   "source": [
    "df_od_trip.iloc[[0,6]].T"
   ]
  },
  {
   "cell_type": "code",
   "execution_count": 14,
   "metadata": {
    "collapsed": true
   },
   "outputs": [],
   "source": [
    "df_od_trip.loc[:,'O_District'] = df_od_trip['Origin Zone ID'].map(zone_district_mapper)\n",
    "df_od_trip.loc[:,'D_District'] = df_od_trip['Destination Zone ID'].map(zone_district_mapper)\n",
    "df_od_trip.loc[:,'Trip_Length'] = df_od_trip['Avg All Trip Length (mi)'] * df_od_trip['O-D Traffic (Trip Counts)']"
   ]
  },
  {
   "cell_type": "code",
   "execution_count": 17,
   "metadata": {
    "collapsed": true
   },
   "outputs": [],
   "source": [
    "selection = (df_od_trip['Day Type'] == '1: Average Weekday (M-F)') & (df_od_trip['Day Part'] == '0: All Day (12am-12am)') \n",
    "df_od_trip = df_od_trip.loc[selection]"
   ]
  },
  {
   "cell_type": "code",
   "execution_count": 35,
   "metadata": {
    "collapsed": true
   },
   "outputs": [],
   "source": [
    "# Number of trips between districts \n",
    "df_od_traffic = df_od_trip.loc[selection].groupby(['O_District', 'D_District'])['O-D Traffic (Trip Counts)','Trip_Length'].sum().reset_index()\n",
    "df_od_traffic['Avg_Trip_Len'] = df_od_traffic['Trip_Length'] / df_od_traffic['O-D Traffic (Trip Counts)']"
   ]
  },
  {
   "cell_type": "code",
   "execution_count": 54,
   "metadata": {
    "collapsed": true
   },
   "outputs": [],
   "source": [
    "df_od_traffic.loc[:,['O_District','D_District','Avg_Trip_Len']].pivot(index='O_District', columns='D_District', values='Avg_Trip_Len').to_csv('Avg_Trip_Length.csv')"
   ]
  },
  {
   "cell_type": "code",
   "execution_count": 28,
   "metadata": {},
   "outputs": [
    {
     "name": "stdout",
     "output_type": "stream",
     "text": [
      "Average trip length for trips to Danville Mall = 3.97 miles\n"
     ]
    }
   ],
   "source": [
    "# Average trip length to Danville Mall\n",
    "df_mall = df_od_trip.loc[selection&(df_od_trip.D_District == \"Danville Mall\")]\n",
    "print(\"Average trip length for trips to Danville Mall = {0:.2f} miles\".format(sum(df_mall.Trip_Length)/sum(df_mall['O-D Traffic (Trip Counts)'])))"
   ]
  },
  {
   "cell_type": "markdown",
   "metadata": {},
   "source": [
    "#### By Purpose"
   ]
  },
  {
   "cell_type": "code",
   "execution_count": 45,
   "metadata": {
    "collapsed": true
   },
   "outputs": [],
   "source": [
    "df_od_purp = pd.read_csv(FILE_OD_TRIP_PURP)"
   ]
  },
  {
   "cell_type": "code",
   "execution_count": 46,
   "metadata": {},
   "outputs": [
    {
     "name": "stdout",
     "output_type": "stream",
     "text": [
      "<class 'pandas.core.frame.DataFrame'>\n",
      "RangeIndex: 178542 entries, 0 to 178541\n",
      "Data columns (total 18 columns):\n",
      "Type of Travel                          178542 non-null object\n",
      "Origin Zone ID                          178542 non-null int64\n",
      "Origin Zone Name                        178542 non-null int64\n",
      "Origin Zone Is Pass-Through             178542 non-null object\n",
      "Origin Zone Direction (degrees)         0 non-null float64\n",
      "Origin Zone is Bi-Direction             178542 non-null object\n",
      "Destination Zone ID                     178542 non-null int64\n",
      "Destination Zone Name                   178542 non-null int64\n",
      "Destination Zone Is Pass-Through        178542 non-null object\n",
      "Destination Zone Direction (degrees)    0 non-null float64\n",
      "Destination Zone is Bi-Direction        178542 non-null object\n",
      "Day Type                                178542 non-null object\n",
      "Day Part                                178542 non-null object\n",
      "O-D Traffic (Trip Counts)               178542 non-null int64\n",
      "O-D Traffic (StL Index)                 178542 non-null int64\n",
      "Purpose HBW (percent)                   158695 non-null float64\n",
      "Purpose HBO (percent)                   158695 non-null float64\n",
      "Purpose NHB (percent)                   158695 non-null float64\n",
      "dtypes: float64(5), int64(6), object(7)\n",
      "memory usage: 24.5+ MB\n"
     ]
    }
   ],
   "source": [
    "df_od_purp.info()"
   ]
  },
  {
   "cell_type": "code",
   "execution_count": 47,
   "metadata": {
    "collapsed": true
   },
   "outputs": [],
   "source": [
    "df_od_purp['HBW_Trip'] = df_od_purp['O-D Traffic (StL Index)'] * df_od_purp['Purpose HBW (percent)']\n",
    "df_od_purp['HBO_Trip'] = df_od_purp['O-D Traffic (StL Index)'] * df_od_purp['Purpose HBO (percent)']\n",
    "df_od_purp['NHB_Trip'] = df_od_purp['O-D Traffic (StL Index)'] * df_od_purp['Purpose NHB (percent)']"
   ]
  },
  {
   "cell_type": "code",
   "execution_count": 48,
   "metadata": {
    "collapsed": true
   },
   "outputs": [],
   "source": [
    "df_od_purp.loc[:,'O_District'] = df_od_purp['Origin Zone ID'].map(zone_district_mapper)\n",
    "df_od_purp.loc[:,'D_District'] = df_od_purp['Destination Zone ID'].map(zone_district_mapper)"
   ]
  },
  {
   "cell_type": "code",
   "execution_count": 49,
   "metadata": {
    "collapsed": true
   },
   "outputs": [],
   "source": [
    "selection = (df_od_purp['Day Type'] == '1: Average Weekday (M-F)') & (df_od_purp['Day Part'] == '0: All Day (12am-12am)') \n",
    "df_od_purp_gb = df_od_purp.loc[selection].groupby(['O_District', 'D_District'])['HBW_Trip','HBO_Trip','NHB_Trip'].sum().reset_index()"
   ]
  },
  {
   "cell_type": "code",
   "execution_count": 50,
   "metadata": {
    "collapsed": true
   },
   "outputs": [],
   "source": [
    "df_od_purp_gb.sort_values(by=['O_District','D_District']).loc[:,['O_District','D_District','HBW_Trip']].pivot(index='O_District', columns='D_District', values='HBW_Trip').to_csv('HBW_Trips_STL.csv')\n",
    "df_od_purp_gb.sort_values(by=['O_District','D_District']).loc[:,['O_District','D_District','HBO_Trip']].pivot(index='O_District', columns='D_District', values='HBO_Trip').to_csv('HBO_Trips_STL.csv')\n",
    "df_od_purp_gb.sort_values(by=['O_District','D_District']).loc[:,['O_District','D_District','NHB_Trip']].pivot(index='O_District', columns='D_District', values='NHB_Trip').to_csv('NHB_Trips_STL.csv')"
   ]
  },
  {
   "cell_type": "code",
   "execution_count": 51,
   "metadata": {},
   "outputs": [
    {
     "data": {
      "text/plain": [
       "559    22\n",
       "Name: O-D Traffic (StL Index), dtype: int64"
      ]
     },
     "execution_count": 51,
     "metadata": {},
     "output_type": "execute_result"
    }
   ],
   "source": [
    "# See if two data files have the same number of trips in a certain zone pair\n",
    "df_od_trip.loc[(df_od_trip['Origin Zone ID'] == 1) & (df_od_trip['Destination Zone ID'] == 55),'O-D Traffic (StL Index)']"
   ]
  },
  {
   "cell_type": "code",
   "execution_count": 54,
   "metadata": {
    "collapsed": true
   },
   "outputs": [
    {
     "data": {
      "text/html": [
       "<div>\n",
       "<style scoped>\n",
       "    .dataframe tbody tr th:only-of-type {\n",
       "        vertical-align: middle;\n",
       "    }\n",
       "\n",
       "    .dataframe tbody tr th {\n",
       "        vertical-align: top;\n",
       "    }\n",
       "\n",
       "    .dataframe thead th {\n",
       "        text-align: right;\n",
       "    }\n",
       "</style>\n",
       "<table border=\"1\" class=\"dataframe\">\n",
       "  <thead>\n",
       "    <tr style=\"text-align: right;\">\n",
       "      <th></th>\n",
       "      <th>Type of Travel</th>\n",
       "      <th>Origin Zone ID</th>\n",
       "      <th>Origin Zone Name</th>\n",
       "      <th>Origin Zone Is Pass-Through</th>\n",
       "      <th>Origin Zone Direction (degrees)</th>\n",
       "      <th>Origin Zone is Bi-Direction</th>\n",
       "      <th>Destination Zone ID</th>\n",
       "      <th>Destination Zone Name</th>\n",
       "      <th>Destination Zone Is Pass-Through</th>\n",
       "      <th>Destination Zone Direction (degrees)</th>\n",
       "      <th>...</th>\n",
       "      <th>O-D Traffic (Trip Counts)</th>\n",
       "      <th>O-D Traffic (StL Index)</th>\n",
       "      <th>Purpose HBW (percent)</th>\n",
       "      <th>Purpose HBO (percent)</th>\n",
       "      <th>Purpose NHB (percent)</th>\n",
       "      <th>HBW_Trip</th>\n",
       "      <th>HBO_Trip</th>\n",
       "      <th>NHB_Trip</th>\n",
       "      <th>O_District</th>\n",
       "      <th>D_District</th>\n",
       "    </tr>\n",
       "  </thead>\n",
       "  <tbody>\n",
       "    <tr>\n",
       "      <th>554</th>\n",
       "      <td>Personal</td>\n",
       "      <td>1</td>\n",
       "      <td>1</td>\n",
       "      <td>no</td>\n",
       "      <td>NaN</td>\n",
       "      <td>no</td>\n",
       "      <td>55</td>\n",
       "      <td>55</td>\n",
       "      <td>no</td>\n",
       "      <td>NaN</td>\n",
       "      <td>...</td>\n",
       "      <td>37</td>\n",
       "      <td>18</td>\n",
       "      <td>0.0</td>\n",
       "      <td>0.0</td>\n",
       "      <td>1.0</td>\n",
       "      <td>0.0</td>\n",
       "      <td>0.0</td>\n",
       "      <td>18.0</td>\n",
       "      <td>CBD</td>\n",
       "      <td>Danville Mall</td>\n",
       "    </tr>\n",
       "    <tr>\n",
       "      <th>555</th>\n",
       "      <td>Personal</td>\n",
       "      <td>1</td>\n",
       "      <td>1</td>\n",
       "      <td>no</td>\n",
       "      <td>NaN</td>\n",
       "      <td>no</td>\n",
       "      <td>55</td>\n",
       "      <td>55</td>\n",
       "      <td>no</td>\n",
       "      <td>NaN</td>\n",
       "      <td>...</td>\n",
       "      <td>1</td>\n",
       "      <td>1</td>\n",
       "      <td>0.0</td>\n",
       "      <td>0.0</td>\n",
       "      <td>1.0</td>\n",
       "      <td>0.0</td>\n",
       "      <td>0.0</td>\n",
       "      <td>1.0</td>\n",
       "      <td>CBD</td>\n",
       "      <td>Danville Mall</td>\n",
       "    </tr>\n",
       "    <tr>\n",
       "      <th>556</th>\n",
       "      <td>Personal</td>\n",
       "      <td>1</td>\n",
       "      <td>1</td>\n",
       "      <td>no</td>\n",
       "      <td>NaN</td>\n",
       "      <td>no</td>\n",
       "      <td>55</td>\n",
       "      <td>55</td>\n",
       "      <td>no</td>\n",
       "      <td>NaN</td>\n",
       "      <td>...</td>\n",
       "      <td>22</td>\n",
       "      <td>9</td>\n",
       "      <td>0.0</td>\n",
       "      <td>0.0</td>\n",
       "      <td>1.0</td>\n",
       "      <td>0.0</td>\n",
       "      <td>0.0</td>\n",
       "      <td>9.0</td>\n",
       "      <td>CBD</td>\n",
       "      <td>Danville Mall</td>\n",
       "    </tr>\n",
       "    <tr>\n",
       "      <th>557</th>\n",
       "      <td>Personal</td>\n",
       "      <td>1</td>\n",
       "      <td>1</td>\n",
       "      <td>no</td>\n",
       "      <td>NaN</td>\n",
       "      <td>no</td>\n",
       "      <td>55</td>\n",
       "      <td>55</td>\n",
       "      <td>no</td>\n",
       "      <td>NaN</td>\n",
       "      <td>...</td>\n",
       "      <td>7</td>\n",
       "      <td>5</td>\n",
       "      <td>0.0</td>\n",
       "      <td>0.0</td>\n",
       "      <td>1.0</td>\n",
       "      <td>0.0</td>\n",
       "      <td>0.0</td>\n",
       "      <td>5.0</td>\n",
       "      <td>CBD</td>\n",
       "      <td>Danville Mall</td>\n",
       "    </tr>\n",
       "    <tr>\n",
       "      <th>558</th>\n",
       "      <td>Personal</td>\n",
       "      <td>1</td>\n",
       "      <td>1</td>\n",
       "      <td>no</td>\n",
       "      <td>NaN</td>\n",
       "      <td>no</td>\n",
       "      <td>55</td>\n",
       "      <td>55</td>\n",
       "      <td>no</td>\n",
       "      <td>NaN</td>\n",
       "      <td>...</td>\n",
       "      <td>7</td>\n",
       "      <td>3</td>\n",
       "      <td>0.0</td>\n",
       "      <td>0.0</td>\n",
       "      <td>1.0</td>\n",
       "      <td>0.0</td>\n",
       "      <td>0.0</td>\n",
       "      <td>3.0</td>\n",
       "      <td>CBD</td>\n",
       "      <td>Danville Mall</td>\n",
       "    </tr>\n",
       "    <tr>\n",
       "      <th>559</th>\n",
       "      <td>Personal</td>\n",
       "      <td>1</td>\n",
       "      <td>1</td>\n",
       "      <td>no</td>\n",
       "      <td>NaN</td>\n",
       "      <td>no</td>\n",
       "      <td>55</td>\n",
       "      <td>55</td>\n",
       "      <td>no</td>\n",
       "      <td>NaN</td>\n",
       "      <td>...</td>\n",
       "      <td>33</td>\n",
       "      <td>22</td>\n",
       "      <td>0.0</td>\n",
       "      <td>0.0</td>\n",
       "      <td>1.0</td>\n",
       "      <td>0.0</td>\n",
       "      <td>0.0</td>\n",
       "      <td>22.0</td>\n",
       "      <td>CBD</td>\n",
       "      <td>Danville Mall</td>\n",
       "    </tr>\n",
       "    <tr>\n",
       "      <th>560</th>\n",
       "      <td>Personal</td>\n",
       "      <td>1</td>\n",
       "      <td>1</td>\n",
       "      <td>no</td>\n",
       "      <td>NaN</td>\n",
       "      <td>no</td>\n",
       "      <td>55</td>\n",
       "      <td>55</td>\n",
       "      <td>no</td>\n",
       "      <td>NaN</td>\n",
       "      <td>...</td>\n",
       "      <td>1</td>\n",
       "      <td>1</td>\n",
       "      <td>0.0</td>\n",
       "      <td>0.0</td>\n",
       "      <td>1.0</td>\n",
       "      <td>0.0</td>\n",
       "      <td>0.0</td>\n",
       "      <td>1.0</td>\n",
       "      <td>CBD</td>\n",
       "      <td>Danville Mall</td>\n",
       "    </tr>\n",
       "    <tr>\n",
       "      <th>561</th>\n",
       "      <td>Personal</td>\n",
       "      <td>1</td>\n",
       "      <td>1</td>\n",
       "      <td>no</td>\n",
       "      <td>NaN</td>\n",
       "      <td>no</td>\n",
       "      <td>55</td>\n",
       "      <td>55</td>\n",
       "      <td>no</td>\n",
       "      <td>NaN</td>\n",
       "      <td>...</td>\n",
       "      <td>19</td>\n",
       "      <td>11</td>\n",
       "      <td>0.0</td>\n",
       "      <td>0.0</td>\n",
       "      <td>1.0</td>\n",
       "      <td>0.0</td>\n",
       "      <td>0.0</td>\n",
       "      <td>11.0</td>\n",
       "      <td>CBD</td>\n",
       "      <td>Danville Mall</td>\n",
       "    </tr>\n",
       "    <tr>\n",
       "      <th>562</th>\n",
       "      <td>Personal</td>\n",
       "      <td>1</td>\n",
       "      <td>1</td>\n",
       "      <td>no</td>\n",
       "      <td>NaN</td>\n",
       "      <td>no</td>\n",
       "      <td>55</td>\n",
       "      <td>55</td>\n",
       "      <td>no</td>\n",
       "      <td>NaN</td>\n",
       "      <td>...</td>\n",
       "      <td>7</td>\n",
       "      <td>7</td>\n",
       "      <td>0.0</td>\n",
       "      <td>0.0</td>\n",
       "      <td>1.0</td>\n",
       "      <td>0.0</td>\n",
       "      <td>0.0</td>\n",
       "      <td>7.0</td>\n",
       "      <td>CBD</td>\n",
       "      <td>Danville Mall</td>\n",
       "    </tr>\n",
       "    <tr>\n",
       "      <th>563</th>\n",
       "      <td>Personal</td>\n",
       "      <td>1</td>\n",
       "      <td>1</td>\n",
       "      <td>no</td>\n",
       "      <td>NaN</td>\n",
       "      <td>no</td>\n",
       "      <td>55</td>\n",
       "      <td>55</td>\n",
       "      <td>no</td>\n",
       "      <td>NaN</td>\n",
       "      <td>...</td>\n",
       "      <td>6</td>\n",
       "      <td>4</td>\n",
       "      <td>0.0</td>\n",
       "      <td>0.0</td>\n",
       "      <td>1.0</td>\n",
       "      <td>0.0</td>\n",
       "      <td>0.0</td>\n",
       "      <td>4.0</td>\n",
       "      <td>CBD</td>\n",
       "      <td>Danville Mall</td>\n",
       "    </tr>\n",
       "    <tr>\n",
       "      <th>564</th>\n",
       "      <td>Personal</td>\n",
       "      <td>1</td>\n",
       "      <td>1</td>\n",
       "      <td>no</td>\n",
       "      <td>NaN</td>\n",
       "      <td>no</td>\n",
       "      <td>55</td>\n",
       "      <td>55</td>\n",
       "      <td>no</td>\n",
       "      <td>NaN</td>\n",
       "      <td>...</td>\n",
       "      <td>4</td>\n",
       "      <td>6</td>\n",
       "      <td>0.0</td>\n",
       "      <td>0.0</td>\n",
       "      <td>1.0</td>\n",
       "      <td>0.0</td>\n",
       "      <td>0.0</td>\n",
       "      <td>6.0</td>\n",
       "      <td>CBD</td>\n",
       "      <td>Danville Mall</td>\n",
       "    </tr>\n",
       "    <tr>\n",
       "      <th>565</th>\n",
       "      <td>Personal</td>\n",
       "      <td>1</td>\n",
       "      <td>1</td>\n",
       "      <td>no</td>\n",
       "      <td>NaN</td>\n",
       "      <td>no</td>\n",
       "      <td>55</td>\n",
       "      <td>55</td>\n",
       "      <td>no</td>\n",
       "      <td>NaN</td>\n",
       "      <td>...</td>\n",
       "      <td>3</td>\n",
       "      <td>5</td>\n",
       "      <td>0.0</td>\n",
       "      <td>0.0</td>\n",
       "      <td>1.0</td>\n",
       "      <td>0.0</td>\n",
       "      <td>0.0</td>\n",
       "      <td>5.0</td>\n",
       "      <td>CBD</td>\n",
       "      <td>Danville Mall</td>\n",
       "    </tr>\n",
       "    <tr>\n",
       "      <th>566</th>\n",
       "      <td>Personal</td>\n",
       "      <td>1</td>\n",
       "      <td>1</td>\n",
       "      <td>no</td>\n",
       "      <td>NaN</td>\n",
       "      <td>no</td>\n",
       "      <td>55</td>\n",
       "      <td>55</td>\n",
       "      <td>no</td>\n",
       "      <td>NaN</td>\n",
       "      <td>...</td>\n",
       "      <td>1</td>\n",
       "      <td>1</td>\n",
       "      <td>0.0</td>\n",
       "      <td>0.0</td>\n",
       "      <td>1.0</td>\n",
       "      <td>0.0</td>\n",
       "      <td>0.0</td>\n",
       "      <td>1.0</td>\n",
       "      <td>CBD</td>\n",
       "      <td>Danville Mall</td>\n",
       "    </tr>\n",
       "  </tbody>\n",
       "</table>\n",
       "<p>13 rows × 23 columns</p>\n",
       "</div>"
      ],
      "text/plain": [
       "    Type of Travel  Origin Zone ID  Origin Zone Name  \\\n",
       "554       Personal               1                 1   \n",
       "555       Personal               1                 1   \n",
       "556       Personal               1                 1   \n",
       "557       Personal               1                 1   \n",
       "558       Personal               1                 1   \n",
       "559       Personal               1                 1   \n",
       "560       Personal               1                 1   \n",
       "561       Personal               1                 1   \n",
       "562       Personal               1                 1   \n",
       "563       Personal               1                 1   \n",
       "564       Personal               1                 1   \n",
       "565       Personal               1                 1   \n",
       "566       Personal               1                 1   \n",
       "\n",
       "    Origin Zone Is Pass-Through  Origin Zone Direction (degrees)  \\\n",
       "554                          no                              NaN   \n",
       "555                          no                              NaN   \n",
       "556                          no                              NaN   \n",
       "557                          no                              NaN   \n",
       "558                          no                              NaN   \n",
       "559                          no                              NaN   \n",
       "560                          no                              NaN   \n",
       "561                          no                              NaN   \n",
       "562                          no                              NaN   \n",
       "563                          no                              NaN   \n",
       "564                          no                              NaN   \n",
       "565                          no                              NaN   \n",
       "566                          no                              NaN   \n",
       "\n",
       "    Origin Zone is Bi-Direction  Destination Zone ID  Destination Zone Name  \\\n",
       "554                          no                   55                     55   \n",
       "555                          no                   55                     55   \n",
       "556                          no                   55                     55   \n",
       "557                          no                   55                     55   \n",
       "558                          no                   55                     55   \n",
       "559                          no                   55                     55   \n",
       "560                          no                   55                     55   \n",
       "561                          no                   55                     55   \n",
       "562                          no                   55                     55   \n",
       "563                          no                   55                     55   \n",
       "564                          no                   55                     55   \n",
       "565                          no                   55                     55   \n",
       "566                          no                   55                     55   \n",
       "\n",
       "    Destination Zone Is Pass-Through  Destination Zone Direction (degrees)  \\\n",
       "554                               no                                   NaN   \n",
       "555                               no                                   NaN   \n",
       "556                               no                                   NaN   \n",
       "557                               no                                   NaN   \n",
       "558                               no                                   NaN   \n",
       "559                               no                                   NaN   \n",
       "560                               no                                   NaN   \n",
       "561                               no                                   NaN   \n",
       "562                               no                                   NaN   \n",
       "563                               no                                   NaN   \n",
       "564                               no                                   NaN   \n",
       "565                               no                                   NaN   \n",
       "566                               no                                   NaN   \n",
       "\n",
       "         ...       O-D Traffic (Trip Counts) O-D Traffic (StL Index)  \\\n",
       "554      ...                              37                      18   \n",
       "555      ...                               1                       1   \n",
       "556      ...                              22                       9   \n",
       "557      ...                               7                       5   \n",
       "558      ...                               7                       3   \n",
       "559      ...                              33                      22   \n",
       "560      ...                               1                       1   \n",
       "561      ...                              19                      11   \n",
       "562      ...                               7                       7   \n",
       "563      ...                               6                       4   \n",
       "564      ...                               4                       6   \n",
       "565      ...                               3                       5   \n",
       "566      ...                               1                       1   \n",
       "\n",
       "    Purpose HBW (percent)  Purpose HBO (percent)  Purpose NHB (percent)  \\\n",
       "554                   0.0                    0.0                    1.0   \n",
       "555                   0.0                    0.0                    1.0   \n",
       "556                   0.0                    0.0                    1.0   \n",
       "557                   0.0                    0.0                    1.0   \n",
       "558                   0.0                    0.0                    1.0   \n",
       "559                   0.0                    0.0                    1.0   \n",
       "560                   0.0                    0.0                    1.0   \n",
       "561                   0.0                    0.0                    1.0   \n",
       "562                   0.0                    0.0                    1.0   \n",
       "563                   0.0                    0.0                    1.0   \n",
       "564                   0.0                    0.0                    1.0   \n",
       "565                   0.0                    0.0                    1.0   \n",
       "566                   0.0                    0.0                    1.0   \n",
       "\n",
       "     HBW_Trip  HBO_Trip  NHB_Trip  O_District     D_District  \n",
       "554       0.0       0.0      18.0         CBD  Danville Mall  \n",
       "555       0.0       0.0       1.0         CBD  Danville Mall  \n",
       "556       0.0       0.0       9.0         CBD  Danville Mall  \n",
       "557       0.0       0.0       5.0         CBD  Danville Mall  \n",
       "558       0.0       0.0       3.0         CBD  Danville Mall  \n",
       "559       0.0       0.0      22.0         CBD  Danville Mall  \n",
       "560       0.0       0.0       1.0         CBD  Danville Mall  \n",
       "561       0.0       0.0      11.0         CBD  Danville Mall  \n",
       "562       0.0       0.0       7.0         CBD  Danville Mall  \n",
       "563       0.0       0.0       4.0         CBD  Danville Mall  \n",
       "564       0.0       0.0       6.0         CBD  Danville Mall  \n",
       "565       0.0       0.0       5.0         CBD  Danville Mall  \n",
       "566       0.0       0.0       1.0         CBD  Danville Mall  \n",
       "\n",
       "[13 rows x 23 columns]"
      ]
     },
     "execution_count": 54,
     "metadata": {},
     "output_type": "execute_result"
    }
   ],
   "source": [
    "df_od_purp.loc[(df_od_purp['Origin Zone ID'] == 1) & (df_od_purp['Destination Zone ID'] == 55)]"
   ]
  },
  {
   "cell_type": "code",
   "execution_count": null,
   "metadata": {
    "collapsed": true
   },
   "outputs": [],
   "source": []
  },
  {
   "cell_type": "code",
   "execution_count": null,
   "metadata": {
    "collapsed": true
   },
   "outputs": [],
   "source": [
    "df_mall = df_od_purp.loc[selection&(df_od_trip.D_District == \"Danville Mall\")]"
   ]
  },
  {
   "cell_type": "markdown",
   "metadata": {},
   "source": [
    "#### Model Trip District Distribution"
   ]
  },
  {
   "cell_type": "code",
   "execution_count": 28,
   "metadata": {},
   "outputs": [
    {
     "data": {
      "text/html": [
       "<div>\n",
       "<style scoped>\n",
       "    .dataframe tbody tr th:only-of-type {\n",
       "        vertical-align: middle;\n",
       "    }\n",
       "\n",
       "    .dataframe tbody tr th {\n",
       "        vertical-align: top;\n",
       "    }\n",
       "\n",
       "    .dataframe thead th {\n",
       "        text-align: right;\n",
       "    }\n",
       "</style>\n",
       "<table border=\"1\" class=\"dataframe\">\n",
       "  <thead>\n",
       "    <tr style=\"text-align: right;\">\n",
       "      <th></th>\n",
       "      <th>O</th>\n",
       "      <th>D</th>\n",
       "      <th>HBW_Trip</th>\n",
       "      <th>HBO_Trip</th>\n",
       "      <th>NHB_Trip</th>\n",
       "    </tr>\n",
       "  </thead>\n",
       "  <tbody>\n",
       "    <tr>\n",
       "      <th>0</th>\n",
       "      <td>1</td>\n",
       "      <td>1</td>\n",
       "      <td>0.0</td>\n",
       "      <td>0.0</td>\n",
       "      <td>0.683564</td>\n",
       "    </tr>\n",
       "    <tr>\n",
       "      <th>1</th>\n",
       "      <td>1</td>\n",
       "      <td>2</td>\n",
       "      <td>0.0</td>\n",
       "      <td>0.0</td>\n",
       "      <td>0.574935</td>\n",
       "    </tr>\n",
       "    <tr>\n",
       "      <th>2</th>\n",
       "      <td>1</td>\n",
       "      <td>3</td>\n",
       "      <td>0.0</td>\n",
       "      <td>0.0</td>\n",
       "      <td>0.751772</td>\n",
       "    </tr>\n",
       "    <tr>\n",
       "      <th>3</th>\n",
       "      <td>1</td>\n",
       "      <td>4</td>\n",
       "      <td>0.0</td>\n",
       "      <td>0.0</td>\n",
       "      <td>0.689432</td>\n",
       "    </tr>\n",
       "    <tr>\n",
       "      <th>4</th>\n",
       "      <td>1</td>\n",
       "      <td>5</td>\n",
       "      <td>0.0</td>\n",
       "      <td>0.0</td>\n",
       "      <td>0.195913</td>\n",
       "    </tr>\n",
       "  </tbody>\n",
       "</table>\n",
       "</div>"
      ],
      "text/plain": [
       "   O  D  HBW_Trip  HBO_Trip  NHB_Trip\n",
       "0  1  1       0.0       0.0  0.683564\n",
       "1  1  2       0.0       0.0  0.574935\n",
       "2  1  3       0.0       0.0  0.751772\n",
       "3  1  4       0.0       0.0  0.689432\n",
       "4  1  5       0.0       0.0  0.195913"
      ]
     },
     "execution_count": 28,
     "metadata": {},
     "output_type": "execute_result"
    }
   ],
   "source": [
    "df_model_trip = pd.read_csv(FILE_MODEL_TRIP, names=['O', 'D', 'HBW_Trip', 'HBO_Trip', 'NHB_Trip'])\n",
    "df_model_trip.head()"
   ]
  },
  {
   "cell_type": "code",
   "execution_count": 29,
   "metadata": {
    "collapsed": true
   },
   "outputs": [],
   "source": [
    "df_model_trip.loc[:,'O_District'] = df_model_trip['O'].map(zone_district_mapper)\n",
    "df_model_trip.loc[:,'D_District'] = df_model_trip['D'].map(zone_district_mapper)"
   ]
  },
  {
   "cell_type": "code",
   "execution_count": 30,
   "metadata": {},
   "outputs": [
    {
     "data": {
      "text/html": [
       "<div>\n",
       "<style scoped>\n",
       "    .dataframe tbody tr th:only-of-type {\n",
       "        vertical-align: middle;\n",
       "    }\n",
       "\n",
       "    .dataframe tbody tr th {\n",
       "        vertical-align: top;\n",
       "    }\n",
       "\n",
       "    .dataframe thead th {\n",
       "        text-align: right;\n",
       "    }\n",
       "</style>\n",
       "<table border=\"1\" class=\"dataframe\">\n",
       "  <thead>\n",
       "    <tr style=\"text-align: right;\">\n",
       "      <th></th>\n",
       "      <th>O_District</th>\n",
       "      <th>D_District</th>\n",
       "      <th>HBW_Trip</th>\n",
       "      <th>HBO_Trip</th>\n",
       "      <th>NHB_Trip</th>\n",
       "    </tr>\n",
       "  </thead>\n",
       "  <tbody>\n",
       "    <tr>\n",
       "      <th>0</th>\n",
       "      <td>Airport Industrial</td>\n",
       "      <td>Airport Industrial</td>\n",
       "      <td>150.298569</td>\n",
       "      <td>182.063174</td>\n",
       "      <td>126.468439</td>\n",
       "    </tr>\n",
       "    <tr>\n",
       "      <th>1</th>\n",
       "      <td>Airport Industrial</td>\n",
       "      <td>Averett</td>\n",
       "      <td>8.048068</td>\n",
       "      <td>17.210042</td>\n",
       "      <td>10.297805</td>\n",
       "    </tr>\n",
       "    <tr>\n",
       "      <th>2</th>\n",
       "      <td>Airport Industrial</td>\n",
       "      <td>Berry Hill</td>\n",
       "      <td>0.124813</td>\n",
       "      <td>4.931917</td>\n",
       "      <td>3.614509</td>\n",
       "    </tr>\n",
       "    <tr>\n",
       "      <th>3</th>\n",
       "      <td>Airport Industrial</td>\n",
       "      <td>Blairs</td>\n",
       "      <td>31.255012</td>\n",
       "      <td>89.460990</td>\n",
       "      <td>76.759000</td>\n",
       "    </tr>\n",
       "    <tr>\n",
       "      <th>4</th>\n",
       "      <td>Airport Industrial</td>\n",
       "      <td>Brosville</td>\n",
       "      <td>3.902006</td>\n",
       "      <td>11.270106</td>\n",
       "      <td>10.708159</td>\n",
       "    </tr>\n",
       "  </tbody>\n",
       "</table>\n",
       "</div>"
      ],
      "text/plain": [
       "           O_District          D_District    HBW_Trip    HBO_Trip    NHB_Trip\n",
       "0  Airport Industrial  Airport Industrial  150.298569  182.063174  126.468439\n",
       "1  Airport Industrial             Averett    8.048068   17.210042   10.297805\n",
       "2  Airport Industrial          Berry Hill    0.124813    4.931917    3.614509\n",
       "3  Airport Industrial              Blairs   31.255012   89.460990   76.759000\n",
       "4  Airport Industrial           Brosville    3.902006   11.270106   10.708159"
      ]
     },
     "execution_count": 30,
     "metadata": {},
     "output_type": "execute_result"
    }
   ],
   "source": [
    "df_model_purp_gb = df_model_trip.groupby(['O_District', 'D_District'])['HBW_Trip','HBO_Trip','NHB_Trip'].sum().reset_index()\n",
    "df_model_purp_gb.head()"
   ]
  },
  {
   "cell_type": "code",
   "execution_count": 31,
   "metadata": {},
   "outputs": [],
   "source": [
    "HBW_district_distribution_file = r\"T:\\TransCAD_Conventional_UI\\2016_test\\HBW_Model_District_Distribution.csv\"\n",
    "df_hbw_pa = df_model_purp_gb.sort_values(by=['O_District','D_District']).loc[:,['O_District','D_District','HBW_Trip']].pivot(index='O_District', columns='D_District', values='HBW_Trip')\n",
    "df_hbw_od = pd.DataFrame(data = (df_hbw_pa.values + df_hbw_pa.T.values)/2, columns=df_hbw_pa.columns, index=df_hbw_pa.index)\n",
    "df_hbw_od.to_csv(HBW_district_distribution_file)"
   ]
  },
  {
   "cell_type": "code",
   "execution_count": 32,
   "metadata": {
    "collapsed": true
   },
   "outputs": [],
   "source": [
    "HBO_district_distribution_file = r\"T:\\TransCAD_Conventional_UI\\2016_test\\HBO_Model_District_Distribution.csv\"\n",
    "df_hbo_pa = df_model_purp_gb.sort_values(by=['O_District','D_District']).loc[:,['O_District','D_District','HBO_Trip']].pivot(index='O_District', columns='D_District', values='HBO_Trip')\n",
    "df_hbo_od = pd.DataFrame(data = (df_hbo_pa.values + df_hbo_pa.T.values)/2, columns=df_hbo_pa.columns, index=df_hbo_pa.index)\n",
    "df_hbo_od.to_csv(HBO_district_distribution_file)"
   ]
  },
  {
   "cell_type": "code",
   "execution_count": 33,
   "metadata": {
    "collapsed": true
   },
   "outputs": [],
   "source": [
    "NHB_district_distribution_file = r\"T:\\TransCAD_Conventional_UI\\2016_test\\NHB_Model_District_Distribution.csv\"\n",
    "df_nhb_pa = df_model_purp_gb.sort_values(by=['O_District','D_District']).loc[:,['O_District','D_District','NHB_Trip']].pivot(index='O_District', columns='D_District', values='NHB_Trip')\n",
    "df_nhb_od = pd.DataFrame(data = (df_nhb_pa.values + df_nhb_pa.T.values)/2, columns=df_nhb_pa.columns, index=df_nhb_pa.index)\n",
    "df_nhb_od.to_csv(NHB_district_distribution_file)"
   ]
  },
  {
   "cell_type": "code",
   "execution_count": null,
   "metadata": {
    "collapsed": true
   },
   "outputs": [],
   "source": []
  },
  {
   "cell_type": "markdown",
   "metadata": {},
   "source": [
    "#### Model Trip Distance Distribution"
   ]
  },
  {
   "cell_type": "code",
   "execution_count": null,
   "metadata": {
    "collapsed": true
   },
   "outputs": [],
   "source": [
    "df_model_dist_mall = df_model_dist.loc[df_model_dist.D_District == \"Danville Mall\"]\n",
    "print(\"Average trip length for trips to Danville Mall = {0:.2f} miles\".format(np.dot(df_model_trip_mall.Trips, df_model_dist_mall.Distance)/sum(df_model_trip_mall.Trips)))"
   ]
  },
  {
   "cell_type": "markdown",
   "metadata": {},
   "source": [
    "#### Scracth"
   ]
  },
  {
   "cell_type": "code",
   "execution_count": 19,
   "metadata": {
    "collapsed": true
   },
   "outputs": [],
   "source": [
    "s = 'TITLE\\t\\t\\tConvertTrips'"
   ]
  },
  {
   "cell_type": "code",
   "execution_count": 20,
   "metadata": {},
   "outputs": [
    {
     "data": {
      "text/plain": [
       "'TITLE            ConvertTrips'"
      ]
     },
     "execution_count": 20,
     "metadata": {},
     "output_type": "execute_result"
    }
   ],
   "source": [
    "s1 = s.replace(\"\\t\", \"    \")\n",
    "s1"
   ]
  },
  {
   "cell_type": "code",
   "execution_count": 21,
   "metadata": {
    "collapsed": true
   },
   "outputs": [],
   "source": [
    "import re"
   ]
  },
  {
   "cell_type": "code",
   "execution_count": 22,
   "metadata": {},
   "outputs": [
    {
     "data": {
      "text/plain": [
       "['TITLE', 'ConvertTrips']"
      ]
     },
     "execution_count": 22,
     "metadata": {},
     "output_type": "execute_result"
    }
   ],
   "source": [
    "re.split(r\"[\\s]{2,}\", s1)"
   ]
  },
  {
   "cell_type": "code",
   "execution_count": 18,
   "metadata": {},
   "outputs": [
    {
     "data": {
      "text/plain": [
       "['title', 'value']"
      ]
     },
     "execution_count": 18,
     "metadata": {},
     "output_type": "execute_result"
    }
   ],
   "source": [
    "re.split(r\"[\\s]{2,}\", \"title   value\")"
   ]
  },
  {
   "cell_type": "code",
   "execution_count": 25,
   "metadata": {},
   "outputs": [
    {
     "name": "stdout",
     "output_type": "stream",
     "text": [
      "TITLE            ConvertTrips\n",
      "['TITLE            ConvertTrips']\n"
     ]
    }
   ],
   "source": [
    "line = \"TITLE\\t\\t\\tConvertTrips\"\n",
    "line2 = line.replace(\"\\t\", \"    \")\n",
    "print(line2)\n",
    "res = re.split(r\"[\\s]{2+}\", line2)\n",
    "print(res)"
   ]
  },
  {
   "cell_type": "code",
   "execution_count": 27,
   "metadata": {},
   "outputs": [
    {
     "name": "stdout",
     "output_type": "stream",
     "text": [
      "(2, 3)\n"
     ]
    }
   ],
   "source": [
    "def foo():\n",
    "    return 2,3\n",
    "\n",
    "res = foo()\n",
    "print(res)"
   ]
  },
  {
   "cell_type": "code",
   "execution_count": null,
   "metadata": {
    "collapsed": true
   },
   "outputs": [],
   "source": []
  }
 ],
 "metadata": {
  "kernelspec": {
   "display_name": "Python 3",
   "language": "python",
   "name": "python3"
  },
  "language_info": {
   "codemirror_mode": {
    "name": "ipython",
    "version": 3
   },
   "file_extension": ".py",
   "mimetype": "text/x-python",
   "name": "python",
   "nbconvert_exporter": "python",
   "pygments_lexer": "ipython3",
   "version": "3.6.3"
  }
 },
 "nbformat": 4,
 "nbformat_minor": 2
}
