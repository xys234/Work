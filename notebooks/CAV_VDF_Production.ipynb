{
 "cells": [
  {
   "cell_type": "code",
   "execution_count": 1,
   "metadata": {
    "collapsed": false
   },
   "outputs": [
    {
     "name": "stderr",
     "output_type": "stream",
     "text": [
      "C:\\Anaconda2\\lib\\site-packages\\matplotlib\\__init__.py:1401: UserWarning:  This call to matplotlib.use() has no effect\n",
      "because the backend has already been chosen;\n",
      "matplotlib.use() must be called *before* pylab, matplotlib.pyplot,\n",
      "or matplotlib.backends is imported for the first time.\n",
      "\n",
      "  warnings.warn(_use_error_msg)\n"
     ]
    }
   ],
   "source": [
    "import math\n",
    "\n",
    "import numpy as np\n",
    "import matplotlib.pyplot as plt\n",
    "import matplotlib as mpl\n",
    "\n",
    "import pandas as pd\n",
    "\n",
    "from scipy.optimize import curve_fit\n",
    "\n",
    "mpl.use(\"nbagg\")\n",
    "\n",
    "# %matplotlib inline\n",
    "# %matplotlib nbagg"
   ]
  },
  {
   "cell_type": "code",
   "execution_count": 2,
   "metadata": {
    "collapsed": true
   },
   "outputs": [],
   "source": [
    "class volume_delay_equation:\n",
    "    def __init__(self, name=\"\"):\n",
    "        self.name = name\n",
    "    def __str__(self):\n",
    "        print '''Volume Delay Equation: {0}\n",
    "        '''.format(self.name)"
   ]
  },
  {
   "cell_type": "code",
   "execution_count": 3,
   "metadata": {
    "collapsed": true
   },
   "outputs": [],
   "source": [
    "class bpr_volume_delay_equation(volume_delay_equation):\n",
    "    def __init__(self, a=0.15, b=4, name=\"BPR\"):\n",
    "            self.a = a\n",
    "            self.b = b\n",
    "            self.name = name\n",
    "    def __str__(self):\n",
    "        return(\n",
    "            '''Volume Delay Equation: {0}\n",
    "                 Parameter a = {1:.4f}\n",
    "                 Parameter b = {2:.4f}\n",
    "        '''.format(self.name, self.a, self.b)\n",
    "        )\n",
    "    \n",
    "    def evaluate(self, qr):\n",
    "        vr = 1 + self.a*(qr**self.b)\n",
    "        return(vr)\n",
    "    \n",
    "    def equation(self):\n",
    "        def f(x, a, b):\n",
    "            return(1+a*(x**b))\n",
    "        return(f)\n",
    "    \n",
    "    def estimate(self, qr, vr):\n",
    "        # Estimate the parameters using least-square\n",
    "        func = self.equation()\n",
    "        popt, _ = curve_fit(func, qr, vr)\n",
    "        self.a = popt[0]\n",
    "        self.b = popt[1]"
   ]
  },
  {
   "cell_type": "code",
   "execution_count": 4,
   "metadata": {
    "collapsed": true
   },
   "outputs": [],
   "source": [
    "class conic_volume_delay_equation(volume_delay_equation):\n",
    "    def __init__(self, a=10, name=\"Conic\"):\n",
    "        self.a = a\n",
    "        self.b = (2.0*self.a-1.0)/(2.0*self.a-2.0)\n",
    "        self.name = name\n",
    "    def __str__(self):\n",
    "        return(\n",
    "            '''Volume Delay Equation: {0}\n",
    "                 Parameter a = {1:.4f}\n",
    "                 Parameter b = {2:.4f}\n",
    "        '''.format(self.name, self.a, self.b)\n",
    "        )\n",
    "    \n",
    "    def evaluate(self, qr):\n",
    "        vr = 2+np.sqrt(self.a**2*(1-qr)**2+self.b**2)-self.a*(1-qr)-self.b\n",
    "        return(vr)\n",
    "    \n",
    "    def equation(self):\n",
    "        def f(x, a):\n",
    "            return(2+np.sqrt(a**2*(1-x)**2+((2.0*a-1.0)/(2.0*a-2.0))**2)-a*(1-x)-((2.0*a-1.0)/(2.0*a-2.0)))\n",
    "        return(f)\n",
    "    \n",
    "    def estimate(self, qr, vr):\n",
    "        # Estimating the parameters using least-square\n",
    "        func = self.equation()\n",
    "        popt, _ = curve_fit(func, qr, vr, p0 = 8.0)\n",
    "        self.a = popt[0]\n",
    "        self.b = (2.0*self.a-1.0)/(2.0*self.a-2.0)"
   ]
  },
  {
   "cell_type": "code",
   "execution_count": 5,
   "metadata": {
    "collapsed": true
   },
   "outputs": [],
   "source": [
    "def plot_vdf(qr, vr, labels, title=\"\"):\n",
    "    _, axes = plt.subplots(1,1, figsize=(16,12))\n",
    "    if (vr.ndim == 1):\n",
    "        axes.scatter(qr, vr, label = labels, marker=\"o\", s=2)\n",
    "    else:\n",
    "        for k in range(0, vr.shape[0]):\n",
    "            axes.scatter(qr[k], vr[k], label = labels[k], marker=\"o\", s=4)\n",
    "    \n",
    "    axes.set_xlim([0,2.5])\n",
    "    axes.set_ylim([1,10])\n",
    "    axes.set_xlabel(\"Flow Ratio/Density Ratio\")\n",
    "    axes.set_ylabel(\"Speed Ratio\")\n",
    "    axes.legend(loc='upper left', prop={'size': 14})\n",
    "    axes.grid(True)\n",
    "    axes.set_title(title)\n",
    "    \n",
    "    for item in ([axes.title, axes.xaxis.label, axes.yaxis.label] + axes.get_xticklabels() + axes.get_yticklabels()):\n",
    "        item.set_fontsize(14)\n",
    "    \n",
    "    return axes"
   ]
  },
  {
   "cell_type": "code",
   "execution_count": 6,
   "metadata": {
    "collapsed": true
   },
   "outputs": [],
   "source": [
    "def plot_estimation(ax, qr, vr, labels, title=\"\"):\n",
    "    # tr needs to be a 2-element list. one for observed, one for predictions    \n",
    "    # _, axes = plt.subplots(1,1, figsize=(12,8))\n",
    "    \n",
    "    for k in range(0, len(vr)):\n",
    "        ax.scatter(qr[k], vr[k], label = labels[k], marker=\"o\", s=4)\n",
    "        \n",
    "    ax.set_xlim([0,2.5])\n",
    "    ax.set_ylim([1,10])\n",
    "    ax.set_xlabel(\"Flow Ratio/Density Ratio\")\n",
    "    ax.set_ylabel(\"Speed Ratio\")\n",
    "    ax.legend(loc='upper left', prop={'size': 11})\n",
    "    ax.grid(True)\n",
    "    ax.set_title(title)"
   ]
  },
  {
   "cell_type": "code",
   "execution_count": 7,
   "metadata": {
    "collapsed": true
   },
   "outputs": [],
   "source": [
    "def plot_estimation_grid(qrs, vrs, labels, titles):\n",
    "    _, axes = plt.subplots(len(qrs)/2,len(qrs)/2, figsize=(16,12))\n",
    "    axes = axes.flatten()\n",
    "    k = 0\n",
    "    for q, v, l, t in zip(qrs, vrs, labels, titles):\n",
    "        plot_estimation(axes[k], q, v, l, t)\n",
    "        k += 1"
   ]
  },
  {
   "cell_type": "code",
   "execution_count": 8,
   "metadata": {
    "collapsed": true
   },
   "outputs": [],
   "source": [
    "def get_rmse(y, y_pred):\n",
    "    return np.sqrt(np.mean((y - y_pred)**2))"
   ]
  },
  {
   "cell_type": "code",
   "execution_count": 9,
   "metadata": {
    "collapsed": true
   },
   "outputs": [],
   "source": [
    "def report_rmse(obs, est, labels):\n",
    "    for y, y_pred, l in zip(obs, est, labels):\n",
    "        print(\"RMSE for Model {0} = {1:.2f}\".format(l, get_rmse(y, y_pred)) )"
   ]
  },
  {
   "cell_type": "markdown",
   "metadata": {},
   "source": [
    "### Estimation Using VISSIM Data "
   ]
  },
  {
   "cell_type": "code",
   "execution_count": 98,
   "metadata": {
    "collapsed": true
   },
   "outputs": [],
   "source": [
    "MPR = str(100)\n",
    "FT = \"MINOR\"\n",
    "BPR_MODEL_FIG = \"FIGURES\\BPR_\"+FT+\"_\"+\"M\"+MPR+\".png\"\n",
    "BPR_MODEL_EVAL_FIG = \"FIGURES\\BPR_MODEL_EVAL_\"+\"M\"+MPR+\"_\"+FT+\".png\"\n",
    "\n",
    "CONIC_MODEL_FIG = \"FIGURES\\CONIC_\"+FT+\"_\"+\"M\"+MPR+\".png\"\n",
    "CONIC_MODEL_EVAL_FIG = \"FIGURES\\CONIC_MODEL_EVAL_\"+\"M\"+MPR+\"_\"+FT+\".png\"\n",
    "\n",
    "DATA_FILE = \"Link_Seg_Data_\"+FT+\"_M\"+MPR+\".csv\"\n",
    "PARA_FILE = \"spd_cal_\"+FT+\"_M\"+MPR+\"_adv.out\"\n",
    "LINK_SELECTION_FREEWAY = [10,11,17]\n",
    "LINK_SELECTION_MAJOR = [78, 81, 82, 83, 101, 102] \n",
    "LINK_SELECTION_MINOR = [108, 110, 111, 114, 124, 130]\n",
    "\n",
    "LINK_SELECTION = LINK_SELECTION_MINOR"
   ]
  },
  {
   "cell_type": "code",
   "execution_count": 99,
   "metadata": {
    "collapsed": false
   },
   "outputs": [],
   "source": [
    "data_mpr = pd.read_csv(DATA_FILE)\n",
    "params_mpr = pd.read_csv(PARA_FILE, sep=\"\\s*\", skiprows=5, engine='python')\n",
    "data_mpr_CRITICAL_DENSITY = params_mpr.loc[:,\"Cap\"][0] / (params_mpr.loc[:,\"SC\"][0] / 1.6)\n",
    "data_mpr_FF_SPD = params_mpr.loc[:,\"FS\"][0] / 1.6\n",
    "data_mpr_CRITICAL_SPD = params_mpr.loc[:,\"SC\"][0] / 1.6\n",
    "data_mpr_CAP = params_mpr.loc[:,\"Cap\"][0]"
   ]
  },
  {
   "cell_type": "code",
   "execution_count": 100,
   "metadata": {
    "collapsed": false
   },
   "outputs": [],
   "source": [
    "# Compute the DENSITYRATIO, TIMERATIO\n",
    "data_mpr[\"DENSITY_RATIO\"] = data_mpr.LANEDENSITY/data_mpr_CRITICAL_DENSITY\n",
    "data_mpr[\"TIME_RATIO\"] = data_mpr_FF_SPD / data_mpr.SPEED\n",
    "data_mpr[\"VOLUME_RATIO\"] = data_mpr.LANEFLOW / data_mpr_CAP\n",
    "data_mpr[\"VOLUME_RATIO_2\"] = data_mpr.VOLUME_RATIO\n",
    "data_mpr.loc[data_mpr.SPEED < data_mpr_CRITICAL_SPD,  \"VOLUME_RATIO_2\"] = (2*data_mpr_CAP-data_mpr.LANEFLOW) / data_mpr_CAP"
   ]
  },
  {
   "cell_type": "code",
   "execution_count": 101,
   "metadata": {
    "collapsed": false
   },
   "outputs": [],
   "source": [
    "kr = data_mpr.loc[data_mpr.LINK.isin(LINK_SELECTION) & (data_mpr.SPEED > 0), \"DENSITY_RATIO\"].values\n",
    "tr = data_mpr.loc[data_mpr.LINK.isin(LINK_SELECTION) & (data_mpr.SPEED > 0), \"TIME_RATIO\"].values\n",
    "fr = data_mpr.loc[data_mpr.LINK.isin(LINK_SELECTION) & (data_mpr.SPEED > 0), \"VOLUME_RATIO\"].values\n",
    "fr2 = data_mpr.loc[data_mpr.LINK.isin(LINK_SELECTION) & (data_mpr.SPEED > 0), \"VOLUME_RATIO_2\"].values"
   ]
  },
  {
   "cell_type": "code",
   "execution_count": 102,
   "metadata": {
    "collapsed": false
   },
   "outputs": [
    {
     "data": {
      "text/html": [
       "<div>\n",
       "<table border=\"1\" class=\"dataframe\">\n",
       "  <thead>\n",
       "    <tr style=\"text-align: right;\">\n",
       "      <th></th>\n",
       "      <th>kr</th>\n",
       "      <th>tr</th>\n",
       "      <th>fr</th>\n",
       "      <th>fr_transformed</th>\n",
       "    </tr>\n",
       "  </thead>\n",
       "  <tbody>\n",
       "    <tr>\n",
       "      <th>count</th>\n",
       "      <td>436918.000000</td>\n",
       "      <td>436918.000000</td>\n",
       "      <td>436918.000000</td>\n",
       "      <td>436918.000000</td>\n",
       "    </tr>\n",
       "    <tr>\n",
       "      <th>mean</th>\n",
       "      <td>0.293532</td>\n",
       "      <td>1.104286</td>\n",
       "      <td>0.303543</td>\n",
       "      <td>0.355009</td>\n",
       "    </tr>\n",
       "    <tr>\n",
       "      <th>std</th>\n",
       "      <td>0.423681</td>\n",
       "      <td>1.026900</td>\n",
       "      <td>0.340921</td>\n",
       "      <td>0.430425</td>\n",
       "    </tr>\n",
       "    <tr>\n",
       "      <th>min</th>\n",
       "      <td>0.000125</td>\n",
       "      <td>0.957866</td>\n",
       "      <td>0.000085</td>\n",
       "      <td>0.000085</td>\n",
       "    </tr>\n",
       "    <tr>\n",
       "      <th>25%</th>\n",
       "      <td>0.022295</td>\n",
       "      <td>1.001623</td>\n",
       "      <td>0.026671</td>\n",
       "      <td>0.026671</td>\n",
       "    </tr>\n",
       "    <tr>\n",
       "      <th>50%</th>\n",
       "      <td>0.053434</td>\n",
       "      <td>1.007154</td>\n",
       "      <td>0.062231</td>\n",
       "      <td>0.066677</td>\n",
       "    </tr>\n",
       "    <tr>\n",
       "      <th>75%</th>\n",
       "      <td>0.506443</td>\n",
       "      <td>1.013002</td>\n",
       "      <td>0.578534</td>\n",
       "      <td>0.620958</td>\n",
       "    </tr>\n",
       "    <tr>\n",
       "      <th>max</th>\n",
       "      <td>6.327419</td>\n",
       "      <td>108.445946</td>\n",
       "      <td>1.283042</td>\n",
       "      <td>1.999237</td>\n",
       "    </tr>\n",
       "  </tbody>\n",
       "</table>\n",
       "</div>"
      ],
      "text/plain": [
       "                  kr             tr             fr  fr_transformed\n",
       "count  436918.000000  436918.000000  436918.000000   436918.000000\n",
       "mean        0.293532       1.104286       0.303543        0.355009\n",
       "std         0.423681       1.026900       0.340921        0.430425\n",
       "min         0.000125       0.957866       0.000085        0.000085\n",
       "25%         0.022295       1.001623       0.026671        0.026671\n",
       "50%         0.053434       1.007154       0.062231        0.066677\n",
       "75%         0.506443       1.013002       0.578534        0.620958\n",
       "max         6.327419     108.445946       1.283042        1.999237"
      ]
     },
     "execution_count": 102,
     "metadata": {},
     "output_type": "execute_result"
    }
   ],
   "source": [
    "pd.DataFrame(np.vstack([kr, tr, fr, fr2]).T, columns=[\"kr\", \"tr\", \"fr\", \"fr_transformed\"]).describe()"
   ]
  },
  {
   "cell_type": "markdown",
   "metadata": {},
   "source": [
    "### BPR Function"
   ]
  },
  {
   "cell_type": "code",
   "execution_count": 103,
   "metadata": {
    "collapsed": false
   },
   "outputs": [
    {
     "name": "stdout",
     "output_type": "stream",
     "text": [
      "Volume Delay Equation: Standard BPR\n",
      "                 Parameter a = 0.1500\n",
      "                 Parameter b = 4.0000\n",
      "        \n",
      "Volume Delay Equation: Flow Ratio\n",
      "                 Parameter a = 0.1502\n",
      "                 Parameter b = 0.1761\n",
      "        \n",
      "Volume Delay Equation: Transformed Flow Ratio\n",
      "                 Parameter a = 0.3943\n",
      "                 Parameter b = 2.8341\n",
      "        \n",
      "Volume Delay Equation: Density Ratio\n",
      "                 Parameter a = 0.4446\n",
      "                 Parameter b = 2.2596\n",
      "        \n"
     ]
    }
   ],
   "source": [
    "bpr_std = bpr_volume_delay_equation(a=0.15, b=4, name=\"Standard BPR\")\n",
    "bpr_fr = bpr_volume_delay_equation(name=\"Flow Ratio\")\n",
    "bpr_fr2 = bpr_volume_delay_equation(name=\"Transformed Flow Ratio\")\n",
    "bpr_kr = bpr_volume_delay_equation(name=\"Density Ratio\")\n",
    "\n",
    "bpr_kr.estimate(kr, tr)\n",
    "bpr_fr.estimate(fr, tr)\n",
    "bpr_fr2.estimate(fr2, tr)\n",
    "\n",
    "tr_std = bpr_std.evaluate(kr)\n",
    "tr_kr = bpr_kr.evaluate(kr)\n",
    "tr_fr = bpr_fr.evaluate(kr)\n",
    "tr_fr2 = bpr_fr2.evaluate(kr)\n",
    "\n",
    "print(bpr_std)\n",
    "print(bpr_fr)\n",
    "print(bpr_fr2)\n",
    "print(bpr_kr)\n",
    "\n",
    "h = plot_vdf([kr, kr, kr, kr],np.array([tr_kr, tr_fr, tr_fr2, tr_std]),\n",
    "             [bpr_kr.name, bpr_fr.name, bpr_fr2.name, bpr_std.name], \n",
    "             \"BPR Function - FREEWAY - MPR = 0%\")\n",
    "plt.savefig(BPR_MODEL_FIG)"
   ]
  },
  {
   "cell_type": "code",
   "execution_count": 104,
   "metadata": {
    "collapsed": false
   },
   "outputs": [
    {
     "name": "stdout",
     "output_type": "stream",
     "text": [
      "RMSE for Model Density Ratio = 0.69\n",
      "RMSE for Model Flow Ratio = 1.02\n",
      "RMSE for Model Transformed Flow Ratio = 1.05\n",
      "RMSE for Model Standard BPR = 2.76\n"
     ]
    }
   ],
   "source": [
    "report_rmse([tr_kr, tr_fr, tr_fr2, tr_std], [tr]*4, [bpr_kr.name, bpr_fr.name, bpr_fr2.name, bpr_std.name])"
   ]
  },
  {
   "cell_type": "code",
   "execution_count": 105,
   "metadata": {
    "collapsed": false
   },
   "outputs": [],
   "source": [
    "plot_estimation_grid([[kr, kr], [fr, fr], [fr2, fr2], [kr, kr]], \n",
    "                     [[tr, tr_kr], [tr, tr_fr], [tr, tr_fr2], [tr, tr_std]], \n",
    "                     [(\"Observed\", \"Predicted\")]*4, \n",
    "                     [\"Density Ratio\", \"Flow Ratio\", \"Transformed Flow Ratio\", \"Standard BPR\"])\n",
    "plt.savefig(BPR_MODEL_EVAL_FIG)"
   ]
  },
  {
   "cell_type": "markdown",
   "metadata": {},
   "source": [
    "### Conic Function"
   ]
  },
  {
   "cell_type": "code",
   "execution_count": 106,
   "metadata": {
    "collapsed": false
   },
   "outputs": [
    {
     "name": "stdout",
     "output_type": "stream",
     "text": [
      "Volume Delay Equation: Alpha = 15\n",
      "                 Parameter a = 15.0000\n",
      "                 Parameter b = 1.0357\n",
      "        \n",
      "Volume Delay Equation: Flow Ratio\n",
      "                 Parameter a = 3.1343\n",
      "                 Parameter b = 1.2343\n",
      "        \n",
      "Volume Delay Equation: Transformed Flow Ratio\n",
      "                 Parameter a = 1.6891\n",
      "                 Parameter b = 1.7256\n",
      "        \n",
      "Volume Delay Equation: Density Ratio\n",
      "                 Parameter a = 1.8417\n",
      "                 Parameter b = 1.5940\n",
      "        \n"
     ]
    }
   ],
   "source": [
    "conic_std = conic_volume_delay_equation(a=15, name=\"Alpha = 15\")\n",
    "conic_fr  = conic_volume_delay_equation(name=\"Flow Ratio\")\n",
    "conic_fr2 = conic_volume_delay_equation(name=\"Transformed Flow Ratio\")\n",
    "conic_kr  = conic_volume_delay_equation(name=\"Density Ratio\")\n",
    "\n",
    "conic_kr.estimate(kr, tr)\n",
    "conic_fr.estimate(fr, tr)\n",
    "conic_fr2.estimate(fr2, tr)\n",
    "\n",
    "conic_tr_std = conic_std.evaluate(kr)\n",
    "conic_tr_kr  = conic_kr.evaluate(kr)\n",
    "conic_tr_fr  = conic_fr.evaluate(kr)\n",
    "conic_tr_fr2 = conic_fr2.evaluate(kr)\n",
    "\n",
    "print(conic_std)\n",
    "print(conic_fr)\n",
    "print(conic_fr2)\n",
    "print(conic_kr)\n",
    "\n",
    "h = plot_vdf([kr, kr, kr, kr],np.array([conic_tr_kr, conic_tr_fr, conic_tr_fr2, conic_tr_std]),\n",
    "             [conic_kr.name, conic_fr.name, conic_fr2.name, conic_std.name], \"Conic Function - FREEWAY - MPR = 0%\")\n",
    "plt.savefig(CONIC_MODEL_FIG)"
   ]
  },
  {
   "cell_type": "code",
   "execution_count": 107,
   "metadata": {
    "collapsed": false
   },
   "outputs": [
    {
     "name": "stdout",
     "output_type": "stream",
     "text": [
      "RMSE for Model Density Ratio = 0.74\n",
      "RMSE for Model Flow Ratio = 0.96\n",
      "RMSE for Model Transformed Flow Ratio = 0.74\n",
      "RMSE for Model Alpha = 15 = 6.12\n"
     ]
    }
   ],
   "source": [
    "report_rmse([conic_tr_kr, conic_tr_fr, conic_tr_fr2, conic_tr_std], [tr]*4, \n",
    "            [conic_kr.name, conic_fr.name, conic_fr2.name, conic_std.name])"
   ]
  },
  {
   "cell_type": "code",
   "execution_count": 108,
   "metadata": {
    "collapsed": false
   },
   "outputs": [],
   "source": [
    "plot_estimation_grid([[kr, kr], [fr, fr], [fr2, fr2], [kr, kr]], \n",
    "                     [[tr, conic_tr_kr], [tr, conic_tr_fr], [tr, conic_tr_fr2], [tr, conic_tr_std]], \n",
    "                     [(\"Observed\", \"Predicted\")]*4, \n",
    "                     [\"Density Ratio\", \"Flow Ratio\", \"Transformed Flow Ratio\", \"Standard BPR\"])\n",
    "plt.savefig(CONIC_MODEL_EVAL_FIG)"
   ]
  },
  {
   "cell_type": "code",
   "execution_count": null,
   "metadata": {
    "collapsed": true
   },
   "outputs": [],
   "source": []
  }
 ],
 "metadata": {
  "kernelspec": {
   "display_name": "Python [conda root]",
   "language": "python",
   "name": "conda-root-py"
  },
  "language_info": {
   "codemirror_mode": {
    "name": "ipython",
    "version": 2
   },
   "file_extension": ".py",
   "mimetype": "text/x-python",
   "name": "python",
   "nbconvert_exporter": "python",
   "pygments_lexer": "ipython2",
   "version": "2.7.13"
  }
 },
 "nbformat": 4,
 "nbformat_minor": 2
}
