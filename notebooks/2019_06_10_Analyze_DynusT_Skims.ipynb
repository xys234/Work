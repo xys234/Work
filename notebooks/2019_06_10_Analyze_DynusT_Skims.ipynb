{
 "cells": [
  {
   "cell_type": "code",
   "execution_count": 1,
   "metadata": {},
   "outputs": [
    {
     "name": "stderr",
     "output_type": "stream",
     "text": [
      "C:\\Anaconda3\\lib\\site-packages\\h5py\\__init__.py:34: FutureWarning: Conversion of the second argument of issubdtype from `float` to `np.floating` is deprecated. In future, it will be treated as `np.float64 == np.dtype(float).type`.\n",
      "  from ._conv import register_converters as _register_converters\n"
     ]
    }
   ],
   "source": [
    "import numpy as np\n",
    "import pandas as pd\n",
    "import h5py\n",
    "import os\n",
    "import gc\n",
    "import time\n",
    "from tqdm import tqdm_notebook as tqdm\n",
    "\n",
    "import matplotlib.pyplot as plt\n",
    "import seaborn as sns\n",
    "%matplotlib inline\n",
    "\n",
    "pd.set_option('display.float_format', lambda x: '%.3f' % x)"
   ]
  },
  {
   "cell_type": "code",
   "execution_count": 2,
   "metadata": {
    "collapsed": true
   },
   "outputs": [],
   "source": [
    "SWIFT_folder = r'C:\\Projects\\SWIFT\\SWIFT_Workspace\\Scenarios'\n",
    "SCEN = 'Scenario_2045_S12_Beta'\n",
    "flat_skim_file = os.path.join(SWIFT_folder, SCEN, r'STM\\STM_A\\01_DynusT\\03_Model\\Vehicle_Skim.csv')"
   ]
  },
  {
   "cell_type": "code",
   "execution_count": 3,
   "metadata": {
    "collapsed": true
   },
   "outputs": [],
   "source": [
    "def read_trajectory_skim_file(flat_skim_file, chunksize=5_000_000):\n",
    "    \n",
    "    \"\"\"\n",
    "    \n",
    "    Read the csv file generated from vehicle trajectory itf file\n",
    "    \n",
    "    \"\"\"\n",
    "    \n",
    "    df_list = []\n",
    "    \n",
    "    dtypes = {\n",
    "        'vid': np.int32, \n",
    "        'tag': np.int8,\n",
    "        'origz': np.int16,\n",
    "        'destz': np.int16,\n",
    "        'class': np.uint8,\n",
    "        'stime': np.float16,\n",
    "        'travel_time': np.float16,\n",
    "        'nodes': np.int32,\n",
    "        'vehtype': np.uint8,\n",
    "        'vot': np.float16,\n",
    "        'toll': np.float16,\n",
    "    }\n",
    "    \n",
    "    usecols = tuple(dtypes.keys())\n",
    "    \n",
    "    #  \n",
    "    for df_chunk in tqdm(pd.read_csv(flat_skim_file, chunksize=chunksize, usecols=usecols, dtype=dtypes)):\n",
    "    \n",
    "#         expand_data(df_chunk)\n",
    "        df_list.append(df_chunk) \n",
    "    \n",
    "    df = pd.concat(df_list)\n",
    "    del df_list\n",
    "    return df"
   ]
  },
  {
   "cell_type": "code",
   "execution_count": 18,
   "metadata": {
    "collapsed": true
   },
   "outputs": [],
   "source": [
    "def read_vehicle_skim_file(flat_skim_file, chunksize=5_000_000):\n",
    "    \"\"\"\n",
    "    \n",
    "    Read the csv file generated from b03 trajectories\n",
    "    \n",
    "    \"\"\"\n",
    "    df_list = []\n",
    "    \n",
    "    dtypes = {\n",
    "        'vid': np.int32, \n",
    "        'tag': np.int8,\n",
    "        'uclass': np.int8,\n",
    "        'origz': np.int16,\n",
    "        'destz': np.int16,\n",
    "        'start': np.float16,\n",
    "        'end': np.float16,\n",
    "        'delay': np.float16,\n",
    "        'dist': np.float16,\n",
    "        'nodes': np.int32,\n",
    "        'node0': np.int32,\n",
    "        'node1': np.int32,\n",
    "        'vtyp': np.uint8,\n",
    "        'totveh': np.int64,\n",
    "        'purpose': np.uint8,\n",
    "    }\n",
    "    \n",
    "    usecols = tuple(dtypes.keys())\n",
    "    \n",
    "    for df_chunk in tqdm(pd.read_csv(flat_skim_file, chunksize=chunksize, usecols=usecols, dtype=dtypes)):\n",
    "        df_list.append(df_chunk) \n",
    "    \n",
    "    df = pd.concat(df_list)\n",
    "    del df_list\n",
    "    return df"
   ]
  },
  {
   "cell_type": "code",
   "execution_count": 19,
   "metadata": {},
   "outputs": [
    {
     "data": {
      "application/vnd.jupyter.widget-view+json": {
       "model_id": "0d8f25cb17d04867b3d192a6196d6125",
       "version_major": 2,
       "version_minor": 0
      },
      "text/plain": [
       "A Jupyter Widget"
      ]
     },
     "metadata": {},
     "output_type": "display_data"
    },
    {
     "name": "stdout",
     "output_type": "stream",
     "text": [
      "\n"
     ]
    }
   ],
   "source": [
    "df = read_vehicle_skim_file(flat_skim_file)"
   ]
  },
  {
   "cell_type": "code",
   "execution_count": 7,
   "metadata": {},
   "outputs": [
    {
     "data": {
      "text/plain": [
       "Index(['vid', 'tag', 'uclass', 'vtyp', 'origz', 'destz', 'nodes', 'node0',\n",
       "       'node1', 'start', 'end', 'delay', 'dist', 'totveh', 'purpose'],\n",
       "      dtype='object')"
      ]
     },
     "execution_count": 7,
     "metadata": {},
     "output_type": "execute_result"
    }
   ],
   "source": [
    "df.columns"
   ]
  },
  {
   "cell_type": "code",
   "execution_count": 8,
   "metadata": {},
   "outputs": [
    {
     "data": {
      "text/plain": [
       "(30804331, 15)"
      ]
     },
     "execution_count": 8,
     "metadata": {},
     "output_type": "execute_result"
    }
   ],
   "source": [
    "df.shape"
   ]
  },
  {
   "cell_type": "code",
   "execution_count": 21,
   "metadata": {},
   "outputs": [
    {
     "data": {
      "text/html": [
       "<div>\n",
       "<style scoped>\n",
       "    .dataframe tbody tr th:only-of-type {\n",
       "        vertical-align: middle;\n",
       "    }\n",
       "\n",
       "    .dataframe tbody tr th {\n",
       "        vertical-align: top;\n",
       "    }\n",
       "\n",
       "    .dataframe thead th {\n",
       "        text-align: right;\n",
       "    }\n",
       "</style>\n",
       "<table border=\"1\" class=\"dataframe\">\n",
       "  <thead>\n",
       "    <tr style=\"text-align: right;\">\n",
       "      <th></th>\n",
       "      <th>vid</th>\n",
       "      <th>tag</th>\n",
       "      <th>uclass</th>\n",
       "      <th>vtyp</th>\n",
       "      <th>origz</th>\n",
       "      <th>destz</th>\n",
       "      <th>nodes</th>\n",
       "      <th>node0</th>\n",
       "      <th>node1</th>\n",
       "      <th>start</th>\n",
       "      <th>end</th>\n",
       "      <th>delay</th>\n",
       "      <th>dist</th>\n",
       "      <th>totveh</th>\n",
       "      <th>purpose</th>\n",
       "    </tr>\n",
       "  </thead>\n",
       "  <tbody>\n",
       "    <tr>\n",
       "      <th>30804326</th>\n",
       "      <td>30804166</td>\n",
       "      <td>1</td>\n",
       "      <td>3</td>\n",
       "      <td>5</td>\n",
       "      <td>3662</td>\n",
       "      <td>3668</td>\n",
       "      <td>1</td>\n",
       "      <td>390038</td>\n",
       "      <td>364069</td>\n",
       "      <td>1438.000</td>\n",
       "      <td>1620.000</td>\n",
       "      <td>0.600</td>\n",
       "      <td>0.357</td>\n",
       "      <td>3568392492</td>\n",
       "      <td>20</td>\n",
       "    </tr>\n",
       "    <tr>\n",
       "      <th>30804327</th>\n",
       "      <td>30804184</td>\n",
       "      <td>1</td>\n",
       "      <td>3</td>\n",
       "      <td>6</td>\n",
       "      <td>3668</td>\n",
       "      <td>3662</td>\n",
       "      <td>2</td>\n",
       "      <td>390038</td>\n",
       "      <td>369558</td>\n",
       "      <td>1438.000</td>\n",
       "      <td>1620.000</td>\n",
       "      <td>0.700</td>\n",
       "      <td>5.742</td>\n",
       "      <td>3568392496</td>\n",
       "      <td>2</td>\n",
       "    </tr>\n",
       "    <tr>\n",
       "      <th>30804328</th>\n",
       "      <td>30804205</td>\n",
       "      <td>1</td>\n",
       "      <td>3</td>\n",
       "      <td>1</td>\n",
       "      <td>3932</td>\n",
       "      <td>4072</td>\n",
       "      <td>27</td>\n",
       "      <td>396120</td>\n",
       "      <td>362414</td>\n",
       "      <td>1438.000</td>\n",
       "      <td>1620.000</td>\n",
       "      <td>0.525</td>\n",
       "      <td>20.734</td>\n",
       "      <td>3568392504</td>\n",
       "      <td>20</td>\n",
       "    </tr>\n",
       "    <tr>\n",
       "      <th>30804329</th>\n",
       "      <td>30804240</td>\n",
       "      <td>1</td>\n",
       "      <td>3</td>\n",
       "      <td>1</td>\n",
       "      <td>4216</td>\n",
       "      <td>1104</td>\n",
       "      <td>7</td>\n",
       "      <td>430382</td>\n",
       "      <td>426224</td>\n",
       "      <td>1438.000</td>\n",
       "      <td>1620.000</td>\n",
       "      <td>0.000</td>\n",
       "      <td>2.906</td>\n",
       "      <td>3568392612</td>\n",
       "      <td>10</td>\n",
       "    </tr>\n",
       "    <tr>\n",
       "      <th>30804330</th>\n",
       "      <td>30804278</td>\n",
       "      <td>1</td>\n",
       "      <td>3</td>\n",
       "      <td>1</td>\n",
       "      <td>3669</td>\n",
       "      <td>3693</td>\n",
       "      <td>1</td>\n",
       "      <td>390038</td>\n",
       "      <td>364069</td>\n",
       "      <td>1439.000</td>\n",
       "      <td>1620.000</td>\n",
       "      <td>0.000</td>\n",
       "      <td>0.396</td>\n",
       "      <td>3568392640</td>\n",
       "      <td>20</td>\n",
       "    </tr>\n",
       "  </tbody>\n",
       "</table>\n",
       "</div>"
      ],
      "text/plain": [
       "               vid  tag  uclass  vtyp  origz  destz  nodes   node0   node1  \\\n",
       "30804326  30804166    1       3     5   3662   3668      1  390038  364069   \n",
       "30804327  30804184    1       3     6   3668   3662      2  390038  369558   \n",
       "30804328  30804205    1       3     1   3932   4072     27  396120  362414   \n",
       "30804329  30804240    1       3     1   4216   1104      7  430382  426224   \n",
       "30804330  30804278    1       3     1   3669   3693      1  390038  364069   \n",
       "\n",
       "            start      end  delay   dist      totveh  purpose  \n",
       "30804326 1438.000 1620.000  0.600  0.357  3568392492       20  \n",
       "30804327 1438.000 1620.000  0.700  5.742  3568392496        2  \n",
       "30804328 1438.000 1620.000  0.525 20.734  3568392504       20  \n",
       "30804329 1438.000 1620.000  0.000  2.906  3568392612       10  \n",
       "30804330 1439.000 1620.000  0.000  0.396  3568392640       20  "
      ]
     },
     "execution_count": 21,
     "metadata": {},
     "output_type": "execute_result"
    }
   ],
   "source": [
    "df.tail()"
   ]
  },
  {
   "cell_type": "code",
   "execution_count": 23,
   "metadata": {
    "collapsed": true
   },
   "outputs": [],
   "source": [
    "df['travel_time'] = df.end - df.start"
   ]
  },
  {
   "cell_type": "code",
   "execution_count": 16,
   "metadata": {},
   "outputs": [
    {
     "data": {
      "text/plain": [
       "vid              9654552.000\n",
       "tag                    2.000\n",
       "uclass                 3.000\n",
       "vtyp                   1.000\n",
       "origz               3668.000\n",
       "destz               3662.000\n",
       "nodes                 14.000\n",
       "node0             390038.000\n",
       "node1             364069.000\n",
       "start                661.000\n",
       "end                 1591.000\n",
       "delay                661.500\n",
       "dist                  27.578\n",
       "totveh        -729470076.000\n",
       "purpose               10.000\n",
       "travel_time          930.000\n",
       "Name: 30685567, dtype: float64"
      ]
     },
     "execution_count": 16,
     "metadata": {},
     "output_type": "execute_result"
    }
   ],
   "source": [
    "# which completed (tag == 2) trip has the longest travel time\n",
    "df.loc[df.loc[df.tag == 2].travel_time.idxmax()]"
   ]
  },
  {
   "cell_type": "code",
   "execution_count": 24,
   "metadata": {},
   "outputs": [
    {
     "data": {
      "text/html": [
       "<div>\n",
       "<style scoped>\n",
       "    .dataframe tbody tr th:only-of-type {\n",
       "        vertical-align: middle;\n",
       "    }\n",
       "\n",
       "    .dataframe tbody tr th {\n",
       "        vertical-align: top;\n",
       "    }\n",
       "\n",
       "    .dataframe thead th {\n",
       "        text-align: right;\n",
       "    }\n",
       "</style>\n",
       "<table border=\"1\" class=\"dataframe\">\n",
       "  <thead>\n",
       "    <tr style=\"text-align: right;\">\n",
       "      <th></th>\n",
       "      <th>vid</th>\n",
       "      <th>tag</th>\n",
       "      <th>uclass</th>\n",
       "      <th>vtyp</th>\n",
       "      <th>origz</th>\n",
       "      <th>destz</th>\n",
       "      <th>nodes</th>\n",
       "      <th>node0</th>\n",
       "      <th>node1</th>\n",
       "      <th>start</th>\n",
       "      <th>end</th>\n",
       "      <th>delay</th>\n",
       "      <th>dist</th>\n",
       "      <th>totveh</th>\n",
       "      <th>purpose</th>\n",
       "      <th>travel_time</th>\n",
       "    </tr>\n",
       "    <tr>\n",
       "      <th>vtyp</th>\n",
       "      <th></th>\n",
       "      <th></th>\n",
       "      <th></th>\n",
       "      <th></th>\n",
       "      <th></th>\n",
       "      <th></th>\n",
       "      <th></th>\n",
       "      <th></th>\n",
       "      <th></th>\n",
       "      <th></th>\n",
       "      <th></th>\n",
       "      <th></th>\n",
       "      <th></th>\n",
       "      <th></th>\n",
       "      <th></th>\n",
       "      <th></th>\n",
       "    </tr>\n",
       "  </thead>\n",
       "  <tbody>\n",
       "    <tr>\n",
       "      <th>1</th>\n",
       "      <td>9654552.000</td>\n",
       "      <td>2.000</td>\n",
       "      <td>3.000</td>\n",
       "      <td>1.000</td>\n",
       "      <td>3668.000</td>\n",
       "      <td>3662.000</td>\n",
       "      <td>14.000</td>\n",
       "      <td>390038.000</td>\n",
       "      <td>364069.000</td>\n",
       "      <td>661.000</td>\n",
       "      <td>1591.000</td>\n",
       "      <td>661.500</td>\n",
       "      <td>27.578</td>\n",
       "      <td>3565497220.000</td>\n",
       "      <td>10.000</td>\n",
       "      <td>930.000</td>\n",
       "    </tr>\n",
       "    <tr>\n",
       "      <th>2</th>\n",
       "      <td>10876293.000</td>\n",
       "      <td>2.000</td>\n",
       "      <td>3.000</td>\n",
       "      <td>2.000</td>\n",
       "      <td>3668.000</td>\n",
       "      <td>5252.000</td>\n",
       "      <td>39.000</td>\n",
       "      <td>390038.000</td>\n",
       "      <td>364069.000</td>\n",
       "      <td>702.000</td>\n",
       "      <td>1620.000</td>\n",
       "      <td>23.125</td>\n",
       "      <td>69.125</td>\n",
       "      <td>3566151592.000</td>\n",
       "      <td>3.000</td>\n",
       "      <td>918.000</td>\n",
       "    </tr>\n",
       "    <tr>\n",
       "      <th>3</th>\n",
       "      <td>10978697.000</td>\n",
       "      <td>2.000</td>\n",
       "      <td>3.000</td>\n",
       "      <td>3.000</td>\n",
       "      <td>3669.000</td>\n",
       "      <td>3534.000</td>\n",
       "      <td>53.000</td>\n",
       "      <td>390038.000</td>\n",
       "      <td>364069.000</td>\n",
       "      <td>705.500</td>\n",
       "      <td>1601.000</td>\n",
       "      <td>23.953</td>\n",
       "      <td>37.438</td>\n",
       "      <td>3565734012.000</td>\n",
       "      <td>50.000</td>\n",
       "      <td>895.500</td>\n",
       "    </tr>\n",
       "    <tr>\n",
       "      <th>4</th>\n",
       "      <td>12282648.000</td>\n",
       "      <td>2.000</td>\n",
       "      <td>3.000</td>\n",
       "      <td>4.000</td>\n",
       "      <td>3871.000</td>\n",
       "      <td>5261.000</td>\n",
       "      <td>40.000</td>\n",
       "      <td>398165.000</td>\n",
       "      <td>397516.000</td>\n",
       "      <td>750.500</td>\n",
       "      <td>1573.000</td>\n",
       "      <td>796.000</td>\n",
       "      <td>17.281</td>\n",
       "      <td>3565040400.000</td>\n",
       "      <td>6.000</td>\n",
       "      <td>822.500</td>\n",
       "    </tr>\n",
       "    <tr>\n",
       "      <th>5</th>\n",
       "      <td>9701882.000</td>\n",
       "      <td>2.000</td>\n",
       "      <td>3.000</td>\n",
       "      <td>5.000</td>\n",
       "      <td>3662.000</td>\n",
       "      <td>3662.000</td>\n",
       "      <td>14.000</td>\n",
       "      <td>390038.000</td>\n",
       "      <td>364069.000</td>\n",
       "      <td>662.500</td>\n",
       "      <td>1591.000</td>\n",
       "      <td>662.500</td>\n",
       "      <td>27.047</td>\n",
       "      <td>3565502424.000</td>\n",
       "      <td>20.000</td>\n",
       "      <td>928.500</td>\n",
       "    </tr>\n",
       "    <tr>\n",
       "      <th>6</th>\n",
       "      <td>8973484.000</td>\n",
       "      <td>2.000</td>\n",
       "      <td>3.000</td>\n",
       "      <td>6.000</td>\n",
       "      <td>3668.000</td>\n",
       "      <td>3672.000</td>\n",
       "      <td>11.000</td>\n",
       "      <td>390038.000</td>\n",
       "      <td>364069.000</td>\n",
       "      <td>637.000</td>\n",
       "      <td>1564.000</td>\n",
       "      <td>656.500</td>\n",
       "      <td>23.016</td>\n",
       "      <td>3564747060.000</td>\n",
       "      <td>10.000</td>\n",
       "      <td>927.000</td>\n",
       "    </tr>\n",
       "    <tr>\n",
       "      <th>9</th>\n",
       "      <td>11168666.000</td>\n",
       "      <td>2.000</td>\n",
       "      <td>3.000</td>\n",
       "      <td>9.000</td>\n",
       "      <td>3669.000</td>\n",
       "      <td>3668.000</td>\n",
       "      <td>10.000</td>\n",
       "      <td>390038.000</td>\n",
       "      <td>364069.000</td>\n",
       "      <td>712.000</td>\n",
       "      <td>1589.000</td>\n",
       "      <td>19.500</td>\n",
       "      <td>22.672</td>\n",
       "      <td>3565451572.000</td>\n",
       "      <td>40.000</td>\n",
       "      <td>877.000</td>\n",
       "    </tr>\n",
       "  </tbody>\n",
       "</table>\n",
       "</div>"
      ],
      "text/plain": [
       "              vid   tag  uclass  vtyp    origz    destz  nodes      node0  \\\n",
       "vtyp                                                                        \n",
       "1     9654552.000 2.000   3.000 1.000 3668.000 3662.000 14.000 390038.000   \n",
       "2    10876293.000 2.000   3.000 2.000 3668.000 5252.000 39.000 390038.000   \n",
       "3    10978697.000 2.000   3.000 3.000 3669.000 3534.000 53.000 390038.000   \n",
       "4    12282648.000 2.000   3.000 4.000 3871.000 5261.000 40.000 398165.000   \n",
       "5     9701882.000 2.000   3.000 5.000 3662.000 3662.000 14.000 390038.000   \n",
       "6     8973484.000 2.000   3.000 6.000 3668.000 3672.000 11.000 390038.000   \n",
       "9    11168666.000 2.000   3.000 9.000 3669.000 3668.000 10.000 390038.000   \n",
       "\n",
       "          node1   start      end   delay   dist         totveh  purpose  \\\n",
       "vtyp                                                                      \n",
       "1    364069.000 661.000 1591.000 661.500 27.578 3565497220.000   10.000   \n",
       "2    364069.000 702.000 1620.000  23.125 69.125 3566151592.000    3.000   \n",
       "3    364069.000 705.500 1601.000  23.953 37.438 3565734012.000   50.000   \n",
       "4    397516.000 750.500 1573.000 796.000 17.281 3565040400.000    6.000   \n",
       "5    364069.000 662.500 1591.000 662.500 27.047 3565502424.000   20.000   \n",
       "6    364069.000 637.000 1564.000 656.500 23.016 3564747060.000   10.000   \n",
       "9    364069.000 712.000 1589.000  19.500 22.672 3565451572.000   40.000   \n",
       "\n",
       "      travel_time  \n",
       "vtyp               \n",
       "1         930.000  \n",
       "2         918.000  \n",
       "3         895.500  \n",
       "4         822.500  \n",
       "5         928.500  \n",
       "6         927.000  \n",
       "9         877.000  "
      ]
     },
     "execution_count": 24,
     "metadata": {},
     "output_type": "execute_result"
    }
   ],
   "source": [
    "# for each vtyp, which trip has the longest travel time; Split-apply-combine paradigm\n",
    "def longest_travel_time(g):\n",
    "    return g.loc[g.loc[g.tag == 2].travel_time.idxmax()]\n",
    "\n",
    "df.groupby('vtyp').apply(longest_travel_time)\n"
   ]
  },
  {
   "cell_type": "code",
   "execution_count": null,
   "metadata": {
    "collapsed": true
   },
   "outputs": [],
   "source": []
  },
  {
   "cell_type": "code",
   "execution_count": null,
   "metadata": {
    "collapsed": true
   },
   "outputs": [],
   "source": []
  },
  {
   "cell_type": "code",
   "execution_count": 22,
   "metadata": {},
   "outputs": [
    {
     "data": {
      "text/plain": [
       "18749044.308287453"
      ]
     },
     "execution_count": 22,
     "metadata": {},
     "output_type": "execute_result"
    }
   ],
   "source": [
    "np.sum(df.travel_time.values, dtype=np.float64) / 60.0"
   ]
  },
  {
   "cell_type": "code",
   "execution_count": 17,
   "metadata": {},
   "outputs": [
    {
     "data": {
      "text/html": [
       "<div>\n",
       "<style scoped>\n",
       "    .dataframe tbody tr th:only-of-type {\n",
       "        vertical-align: middle;\n",
       "    }\n",
       "\n",
       "    .dataframe tbody tr th {\n",
       "        vertical-align: top;\n",
       "    }\n",
       "\n",
       "    .dataframe thead th {\n",
       "        text-align: right;\n",
       "    }\n",
       "</style>\n",
       "<table border=\"1\" class=\"dataframe\">\n",
       "  <thead>\n",
       "    <tr style=\"text-align: right;\">\n",
       "      <th></th>\n",
       "      <th>vid</th>\n",
       "      <th>tag</th>\n",
       "      <th>origz</th>\n",
       "      <th>destz</th>\n",
       "      <th>class</th>\n",
       "      <th>stime</th>\n",
       "      <th>travel_time</th>\n",
       "      <th>nodes</th>\n",
       "      <th>vehtype</th>\n",
       "      <th>vot</th>\n",
       "      <th>toll</th>\n",
       "    </tr>\n",
       "  </thead>\n",
       "  <tbody>\n",
       "    <tr>\n",
       "      <th>18150</th>\n",
       "      <td>24476</td>\n",
       "      <td>2</td>\n",
       "      <td>909</td>\n",
       "      <td>915</td>\n",
       "      <td>3</td>\n",
       "      <td>35.094</td>\n",
       "      <td>4.648</td>\n",
       "      <td>11</td>\n",
       "      <td>2</td>\n",
       "      <td>30.797</td>\n",
       "      <td>0.000</td>\n",
       "    </tr>\n",
       "  </tbody>\n",
       "</table>\n",
       "</div>"
      ],
      "text/plain": [
       "         vid  tag  origz  destz  class  stime  travel_time  nodes  vehtype  \\\n",
       "18150  24476    2    909    915      3 35.094        4.648     11        2   \n",
       "\n",
       "         vot  toll  \n",
       "18150 30.797 0.000  "
      ]
     },
     "execution_count": 17,
     "metadata": {},
     "output_type": "execute_result"
    }
   ],
   "source": [
    "df.loc[df.vid == 24476]"
   ]
  },
  {
   "cell_type": "code",
   "execution_count": 18,
   "metadata": {},
   "outputs": [
    {
     "data": {
      "text/plain": [
       "vid              int32\n",
       "tag               int8\n",
       "origz            int16\n",
       "destz            int16\n",
       "class            uint8\n",
       "stime          float16\n",
       "travel_time    float16\n",
       "nodes            int32\n",
       "vehtype          uint8\n",
       "vot            float16\n",
       "toll           float16\n",
       "dtype: object"
      ]
     },
     "execution_count": 18,
     "metadata": {},
     "output_type": "execute_result"
    }
   ],
   "source": [
    "df.dtypes"
   ]
  },
  {
   "cell_type": "code",
   "execution_count": 25,
   "metadata": {
    "collapsed": true
   },
   "outputs": [],
   "source": [
    "transims_skim_file = os.path.join(SWIFT_folder, SCEN, r'STM\\STM_A\\02_TrafficPredictor\\03_Demand\\FINAL_Skims.csv')"
   ]
  },
  {
   "cell_type": "code",
   "execution_count": 27,
   "metadata": {},
   "outputs": [
    {
     "ename": "KeyboardInterrupt",
     "evalue": "",
     "output_type": "error",
     "traceback": [
      "\u001b[1;31m---------------------------------------------------------------------------\u001b[0m",
      "\u001b[1;31mKeyboardInterrupt\u001b[0m                         Traceback (most recent call last)",
      "\u001b[1;32m<ipython-input-27-366028a497fb>\u001b[0m in \u001b[0;36m<module>\u001b[1;34m()\u001b[0m\n\u001b[1;32m----> 1\u001b[1;33m \u001b[0mdf_transims_skim\u001b[0m \u001b[1;33m=\u001b[0m \u001b[0mpd\u001b[0m\u001b[1;33m.\u001b[0m\u001b[0mread_csv\u001b[0m\u001b[1;33m(\u001b[0m\u001b[0mtransims_skim_file\u001b[0m\u001b[1;33m)\u001b[0m\u001b[1;33m\u001b[0m\u001b[0m\n\u001b[0m",
      "\u001b[1;32mC:\\Anaconda3\\lib\\site-packages\\pandas\\io\\parsers.py\u001b[0m in \u001b[0;36mparser_f\u001b[1;34m(filepath_or_buffer, sep, delimiter, header, names, index_col, usecols, squeeze, prefix, mangle_dupe_cols, dtype, engine, converters, true_values, false_values, skipinitialspace, skiprows, nrows, na_values, keep_default_na, na_filter, verbose, skip_blank_lines, parse_dates, infer_datetime_format, keep_date_col, date_parser, dayfirst, iterator, chunksize, compression, thousands, decimal, lineterminator, quotechar, quoting, escapechar, comment, encoding, dialect, tupleize_cols, error_bad_lines, warn_bad_lines, skipfooter, doublequote, delim_whitespace, low_memory, memory_map, float_precision)\u001b[0m\n\u001b[0;32m    676\u001b[0m                     skip_blank_lines=skip_blank_lines)\n\u001b[0;32m    677\u001b[0m \u001b[1;33m\u001b[0m\u001b[0m\n\u001b[1;32m--> 678\u001b[1;33m         \u001b[1;32mreturn\u001b[0m \u001b[0m_read\u001b[0m\u001b[1;33m(\u001b[0m\u001b[0mfilepath_or_buffer\u001b[0m\u001b[1;33m,\u001b[0m \u001b[0mkwds\u001b[0m\u001b[1;33m)\u001b[0m\u001b[1;33m\u001b[0m\u001b[0m\n\u001b[0m\u001b[0;32m    679\u001b[0m \u001b[1;33m\u001b[0m\u001b[0m\n\u001b[0;32m    680\u001b[0m     \u001b[0mparser_f\u001b[0m\u001b[1;33m.\u001b[0m\u001b[0m__name__\u001b[0m \u001b[1;33m=\u001b[0m \u001b[0mname\u001b[0m\u001b[1;33m\u001b[0m\u001b[0m\n",
      "\u001b[1;32mC:\\Anaconda3\\lib\\site-packages\\pandas\\io\\parsers.py\u001b[0m in \u001b[0;36m_read\u001b[1;34m(filepath_or_buffer, kwds)\u001b[0m\n\u001b[0;32m    444\u001b[0m \u001b[1;33m\u001b[0m\u001b[0m\n\u001b[0;32m    445\u001b[0m     \u001b[1;32mtry\u001b[0m\u001b[1;33m:\u001b[0m\u001b[1;33m\u001b[0m\u001b[0m\n\u001b[1;32m--> 446\u001b[1;33m         \u001b[0mdata\u001b[0m \u001b[1;33m=\u001b[0m \u001b[0mparser\u001b[0m\u001b[1;33m.\u001b[0m\u001b[0mread\u001b[0m\u001b[1;33m(\u001b[0m\u001b[0mnrows\u001b[0m\u001b[1;33m)\u001b[0m\u001b[1;33m\u001b[0m\u001b[0m\n\u001b[0m\u001b[0;32m    447\u001b[0m     \u001b[1;32mfinally\u001b[0m\u001b[1;33m:\u001b[0m\u001b[1;33m\u001b[0m\u001b[0m\n\u001b[0;32m    448\u001b[0m         \u001b[0mparser\u001b[0m\u001b[1;33m.\u001b[0m\u001b[0mclose\u001b[0m\u001b[1;33m(\u001b[0m\u001b[1;33m)\u001b[0m\u001b[1;33m\u001b[0m\u001b[0m\n",
      "\u001b[1;32mC:\\Anaconda3\\lib\\site-packages\\pandas\\io\\parsers.py\u001b[0m in \u001b[0;36mread\u001b[1;34m(self, nrows)\u001b[0m\n\u001b[0;32m   1049\u001b[0m             \u001b[0mnew_rows\u001b[0m \u001b[1;33m=\u001b[0m \u001b[0mlen\u001b[0m\u001b[1;33m(\u001b[0m\u001b[0mindex\u001b[0m\u001b[1;33m)\u001b[0m\u001b[1;33m\u001b[0m\u001b[0m\n\u001b[0;32m   1050\u001b[0m \u001b[1;33m\u001b[0m\u001b[0m\n\u001b[1;32m-> 1051\u001b[1;33m         \u001b[0mdf\u001b[0m \u001b[1;33m=\u001b[0m \u001b[0mDataFrame\u001b[0m\u001b[1;33m(\u001b[0m\u001b[0mcol_dict\u001b[0m\u001b[1;33m,\u001b[0m \u001b[0mcolumns\u001b[0m\u001b[1;33m=\u001b[0m\u001b[0mcolumns\u001b[0m\u001b[1;33m,\u001b[0m \u001b[0mindex\u001b[0m\u001b[1;33m=\u001b[0m\u001b[0mindex\u001b[0m\u001b[1;33m)\u001b[0m\u001b[1;33m\u001b[0m\u001b[0m\n\u001b[0m\u001b[0;32m   1052\u001b[0m \u001b[1;33m\u001b[0m\u001b[0m\n\u001b[0;32m   1053\u001b[0m         \u001b[0mself\u001b[0m\u001b[1;33m.\u001b[0m\u001b[0m_currow\u001b[0m \u001b[1;33m+=\u001b[0m \u001b[0mnew_rows\u001b[0m\u001b[1;33m\u001b[0m\u001b[0m\n",
      "\u001b[1;32mC:\\Anaconda3\\lib\\site-packages\\pandas\\core\\frame.py\u001b[0m in \u001b[0;36m__init__\u001b[1;34m(self, data, index, columns, dtype, copy)\u001b[0m\n\u001b[0;32m    346\u001b[0m                                  dtype=dtype, copy=copy)\n\u001b[0;32m    347\u001b[0m         \u001b[1;32melif\u001b[0m \u001b[0misinstance\u001b[0m\u001b[1;33m(\u001b[0m\u001b[0mdata\u001b[0m\u001b[1;33m,\u001b[0m \u001b[0mdict\u001b[0m\u001b[1;33m)\u001b[0m\u001b[1;33m:\u001b[0m\u001b[1;33m\u001b[0m\u001b[0m\n\u001b[1;32m--> 348\u001b[1;33m             \u001b[0mmgr\u001b[0m \u001b[1;33m=\u001b[0m \u001b[0mself\u001b[0m\u001b[1;33m.\u001b[0m\u001b[0m_init_dict\u001b[0m\u001b[1;33m(\u001b[0m\u001b[0mdata\u001b[0m\u001b[1;33m,\u001b[0m \u001b[0mindex\u001b[0m\u001b[1;33m,\u001b[0m \u001b[0mcolumns\u001b[0m\u001b[1;33m,\u001b[0m \u001b[0mdtype\u001b[0m\u001b[1;33m=\u001b[0m\u001b[0mdtype\u001b[0m\u001b[1;33m)\u001b[0m\u001b[1;33m\u001b[0m\u001b[0m\n\u001b[0m\u001b[0;32m    349\u001b[0m         \u001b[1;32melif\u001b[0m \u001b[0misinstance\u001b[0m\u001b[1;33m(\u001b[0m\u001b[0mdata\u001b[0m\u001b[1;33m,\u001b[0m \u001b[0mma\u001b[0m\u001b[1;33m.\u001b[0m\u001b[0mMaskedArray\u001b[0m\u001b[1;33m)\u001b[0m\u001b[1;33m:\u001b[0m\u001b[1;33m\u001b[0m\u001b[0m\n\u001b[0;32m    350\u001b[0m             \u001b[1;32mimport\u001b[0m \u001b[0mnumpy\u001b[0m\u001b[1;33m.\u001b[0m\u001b[0mma\u001b[0m\u001b[1;33m.\u001b[0m\u001b[0mmrecords\u001b[0m \u001b[1;32mas\u001b[0m \u001b[0mmrecords\u001b[0m\u001b[1;33m\u001b[0m\u001b[0m\n",
      "\u001b[1;32mC:\\Anaconda3\\lib\\site-packages\\pandas\\core\\frame.py\u001b[0m in \u001b[0;36m_init_dict\u001b[1;34m(self, data, index, columns, dtype)\u001b[0m\n\u001b[0;32m    457\u001b[0m             \u001b[0marrays\u001b[0m \u001b[1;33m=\u001b[0m \u001b[1;33m[\u001b[0m\u001b[0mdata\u001b[0m\u001b[1;33m[\u001b[0m\u001b[0mk\u001b[0m\u001b[1;33m]\u001b[0m \u001b[1;32mfor\u001b[0m \u001b[0mk\u001b[0m \u001b[1;32min\u001b[0m \u001b[0mkeys\u001b[0m\u001b[1;33m]\u001b[0m\u001b[1;33m\u001b[0m\u001b[0m\n\u001b[0;32m    458\u001b[0m \u001b[1;33m\u001b[0m\u001b[0m\n\u001b[1;32m--> 459\u001b[1;33m         \u001b[1;32mreturn\u001b[0m \u001b[0m_arrays_to_mgr\u001b[0m\u001b[1;33m(\u001b[0m\u001b[0marrays\u001b[0m\u001b[1;33m,\u001b[0m \u001b[0mdata_names\u001b[0m\u001b[1;33m,\u001b[0m \u001b[0mindex\u001b[0m\u001b[1;33m,\u001b[0m \u001b[0mcolumns\u001b[0m\u001b[1;33m,\u001b[0m \u001b[0mdtype\u001b[0m\u001b[1;33m=\u001b[0m\u001b[0mdtype\u001b[0m\u001b[1;33m)\u001b[0m\u001b[1;33m\u001b[0m\u001b[0m\n\u001b[0m\u001b[0;32m    460\u001b[0m \u001b[1;33m\u001b[0m\u001b[0m\n\u001b[0;32m    461\u001b[0m     \u001b[1;32mdef\u001b[0m \u001b[0m_init_ndarray\u001b[0m\u001b[1;33m(\u001b[0m\u001b[0mself\u001b[0m\u001b[1;33m,\u001b[0m \u001b[0mvalues\u001b[0m\u001b[1;33m,\u001b[0m \u001b[0mindex\u001b[0m\u001b[1;33m,\u001b[0m \u001b[0mcolumns\u001b[0m\u001b[1;33m,\u001b[0m \u001b[0mdtype\u001b[0m\u001b[1;33m=\u001b[0m\u001b[1;32mNone\u001b[0m\u001b[1;33m,\u001b[0m \u001b[0mcopy\u001b[0m\u001b[1;33m=\u001b[0m\u001b[1;32mFalse\u001b[0m\u001b[1;33m)\u001b[0m\u001b[1;33m:\u001b[0m\u001b[1;33m\u001b[0m\u001b[0m\n",
      "\u001b[1;32mC:\\Anaconda3\\lib\\site-packages\\pandas\\core\\frame.py\u001b[0m in \u001b[0;36m_arrays_to_mgr\u001b[1;34m(arrays, arr_names, index, columns, dtype)\u001b[0m\n\u001b[0;32m   7362\u001b[0m     \u001b[0maxes\u001b[0m \u001b[1;33m=\u001b[0m \u001b[1;33m[\u001b[0m\u001b[0m_ensure_index\u001b[0m\u001b[1;33m(\u001b[0m\u001b[0mcolumns\u001b[0m\u001b[1;33m)\u001b[0m\u001b[1;33m,\u001b[0m \u001b[0m_ensure_index\u001b[0m\u001b[1;33m(\u001b[0m\u001b[0mindex\u001b[0m\u001b[1;33m)\u001b[0m\u001b[1;33m]\u001b[0m\u001b[1;33m\u001b[0m\u001b[0m\n\u001b[0;32m   7363\u001b[0m \u001b[1;33m\u001b[0m\u001b[0m\n\u001b[1;32m-> 7364\u001b[1;33m     \u001b[1;32mreturn\u001b[0m \u001b[0mcreate_block_manager_from_arrays\u001b[0m\u001b[1;33m(\u001b[0m\u001b[0marrays\u001b[0m\u001b[1;33m,\u001b[0m \u001b[0marr_names\u001b[0m\u001b[1;33m,\u001b[0m \u001b[0maxes\u001b[0m\u001b[1;33m)\u001b[0m\u001b[1;33m\u001b[0m\u001b[0m\n\u001b[0m\u001b[0;32m   7365\u001b[0m \u001b[1;33m\u001b[0m\u001b[0m\n\u001b[0;32m   7366\u001b[0m \u001b[1;33m\u001b[0m\u001b[0m\n",
      "\u001b[1;32mC:\\Anaconda3\\lib\\site-packages\\pandas\\core\\internals.py\u001b[0m in \u001b[0;36mcreate_block_manager_from_arrays\u001b[1;34m(arrays, names, axes)\u001b[0m\n\u001b[0;32m   4870\u001b[0m \u001b[1;33m\u001b[0m\u001b[0m\n\u001b[0;32m   4871\u001b[0m     \u001b[1;32mtry\u001b[0m\u001b[1;33m:\u001b[0m\u001b[1;33m\u001b[0m\u001b[0m\n\u001b[1;32m-> 4872\u001b[1;33m         \u001b[0mblocks\u001b[0m \u001b[1;33m=\u001b[0m \u001b[0mform_blocks\u001b[0m\u001b[1;33m(\u001b[0m\u001b[0marrays\u001b[0m\u001b[1;33m,\u001b[0m \u001b[0mnames\u001b[0m\u001b[1;33m,\u001b[0m \u001b[0maxes\u001b[0m\u001b[1;33m)\u001b[0m\u001b[1;33m\u001b[0m\u001b[0m\n\u001b[0m\u001b[0;32m   4873\u001b[0m         \u001b[0mmgr\u001b[0m \u001b[1;33m=\u001b[0m \u001b[0mBlockManager\u001b[0m\u001b[1;33m(\u001b[0m\u001b[0mblocks\u001b[0m\u001b[1;33m,\u001b[0m \u001b[0maxes\u001b[0m\u001b[1;33m)\u001b[0m\u001b[1;33m\u001b[0m\u001b[0m\n\u001b[0;32m   4874\u001b[0m         \u001b[0mmgr\u001b[0m\u001b[1;33m.\u001b[0m\u001b[0m_consolidate_inplace\u001b[0m\u001b[1;33m(\u001b[0m\u001b[1;33m)\u001b[0m\u001b[1;33m\u001b[0m\u001b[0m\n",
      "\u001b[1;32mC:\\Anaconda3\\lib\\site-packages\\pandas\\core\\internals.py\u001b[0m in \u001b[0;36mform_blocks\u001b[1;34m(arrays, names, axes)\u001b[0m\n\u001b[0;32m   4916\u001b[0m \u001b[1;33m\u001b[0m\u001b[0m\n\u001b[0;32m   4917\u001b[0m     \u001b[1;32mif\u001b[0m \u001b[0mlen\u001b[0m\u001b[1;33m(\u001b[0m\u001b[0mitems_dict\u001b[0m\u001b[1;33m[\u001b[0m\u001b[1;34m'IntBlock'\u001b[0m\u001b[1;33m]\u001b[0m\u001b[1;33m)\u001b[0m\u001b[1;33m:\u001b[0m\u001b[1;33m\u001b[0m\u001b[0m\n\u001b[1;32m-> 4918\u001b[1;33m         \u001b[0mint_blocks\u001b[0m \u001b[1;33m=\u001b[0m \u001b[0m_multi_blockify\u001b[0m\u001b[1;33m(\u001b[0m\u001b[0mitems_dict\u001b[0m\u001b[1;33m[\u001b[0m\u001b[1;34m'IntBlock'\u001b[0m\u001b[1;33m]\u001b[0m\u001b[1;33m)\u001b[0m\u001b[1;33m\u001b[0m\u001b[0m\n\u001b[0m\u001b[0;32m   4919\u001b[0m         \u001b[0mblocks\u001b[0m\u001b[1;33m.\u001b[0m\u001b[0mextend\u001b[0m\u001b[1;33m(\u001b[0m\u001b[0mint_blocks\u001b[0m\u001b[1;33m)\u001b[0m\u001b[1;33m\u001b[0m\u001b[0m\n\u001b[0;32m   4920\u001b[0m \u001b[1;33m\u001b[0m\u001b[0m\n",
      "\u001b[1;32mC:\\Anaconda3\\lib\\site-packages\\pandas\\core\\internals.py\u001b[0m in \u001b[0;36m_multi_blockify\u001b[1;34m(tuples, dtype)\u001b[0m\n\u001b[0;32m   4993\u001b[0m     \u001b[1;32mfor\u001b[0m \u001b[0mdtype\u001b[0m\u001b[1;33m,\u001b[0m \u001b[0mtup_block\u001b[0m \u001b[1;32min\u001b[0m \u001b[0mgrouper\u001b[0m\u001b[1;33m:\u001b[0m\u001b[1;33m\u001b[0m\u001b[0m\n\u001b[0;32m   4994\u001b[0m \u001b[1;33m\u001b[0m\u001b[0m\n\u001b[1;32m-> 4995\u001b[1;33m         \u001b[0mvalues\u001b[0m\u001b[1;33m,\u001b[0m \u001b[0mplacement\u001b[0m \u001b[1;33m=\u001b[0m \u001b[0m_stack_arrays\u001b[0m\u001b[1;33m(\u001b[0m\u001b[0mlist\u001b[0m\u001b[1;33m(\u001b[0m\u001b[0mtup_block\u001b[0m\u001b[1;33m)\u001b[0m\u001b[1;33m,\u001b[0m \u001b[0mdtype\u001b[0m\u001b[1;33m)\u001b[0m\u001b[1;33m\u001b[0m\u001b[0m\n\u001b[0m\u001b[0;32m   4996\u001b[0m \u001b[1;33m\u001b[0m\u001b[0m\n\u001b[0;32m   4997\u001b[0m         \u001b[0mblock\u001b[0m \u001b[1;33m=\u001b[0m \u001b[0mmake_block\u001b[0m\u001b[1;33m(\u001b[0m\u001b[0mvalues\u001b[0m\u001b[1;33m,\u001b[0m \u001b[0mplacement\u001b[0m\u001b[1;33m=\u001b[0m\u001b[0mplacement\u001b[0m\u001b[1;33m)\u001b[0m\u001b[1;33m\u001b[0m\u001b[0m\n",
      "\u001b[1;32mC:\\Anaconda3\\lib\\site-packages\\pandas\\core\\internals.py\u001b[0m in \u001b[0;36m_stack_arrays\u001b[1;34m(tuples, dtype)\u001b[0m\n\u001b[0;32m   5037\u001b[0m     \u001b[0mstacked\u001b[0m \u001b[1;33m=\u001b[0m \u001b[0mnp\u001b[0m\u001b[1;33m.\u001b[0m\u001b[0mempty\u001b[0m\u001b[1;33m(\u001b[0m\u001b[0mshape\u001b[0m\u001b[1;33m,\u001b[0m \u001b[0mdtype\u001b[0m\u001b[1;33m=\u001b[0m\u001b[0mdtype\u001b[0m\u001b[1;33m)\u001b[0m\u001b[1;33m\u001b[0m\u001b[0m\n\u001b[0;32m   5038\u001b[0m     \u001b[1;32mfor\u001b[0m \u001b[0mi\u001b[0m\u001b[1;33m,\u001b[0m \u001b[0marr\u001b[0m \u001b[1;32min\u001b[0m \u001b[0menumerate\u001b[0m\u001b[1;33m(\u001b[0m\u001b[0marrays\u001b[0m\u001b[1;33m)\u001b[0m\u001b[1;33m:\u001b[0m\u001b[1;33m\u001b[0m\u001b[0m\n\u001b[1;32m-> 5039\u001b[1;33m         \u001b[0mstacked\u001b[0m\u001b[1;33m[\u001b[0m\u001b[0mi\u001b[0m\u001b[1;33m]\u001b[0m \u001b[1;33m=\u001b[0m \u001b[0m_asarray_compat\u001b[0m\u001b[1;33m(\u001b[0m\u001b[0marr\u001b[0m\u001b[1;33m)\u001b[0m\u001b[1;33m\u001b[0m\u001b[0m\n\u001b[0m\u001b[0;32m   5040\u001b[0m \u001b[1;33m\u001b[0m\u001b[0m\n\u001b[0;32m   5041\u001b[0m     \u001b[1;32mreturn\u001b[0m \u001b[0mstacked\u001b[0m\u001b[1;33m,\u001b[0m \u001b[0mplacement\u001b[0m\u001b[1;33m\u001b[0m\u001b[0m\n",
      "\u001b[1;31mKeyboardInterrupt\u001b[0m: "
     ]
    }
   ],
   "source": [
    "df_transims_skim = pd.read_csv(transims_skim_file)"
   ]
  },
  {
   "cell_type": "code",
   "execution_count": null,
   "metadata": {
    "collapsed": true
   },
   "outputs": [],
   "source": [
    "df_transims_skim.columns"
   ]
  },
  {
   "cell_type": "code",
   "execution_count": null,
   "metadata": {
    "collapsed": true
   },
   "outputs": [],
   "source": [
    "df_transims_skim.columns.loc[df_transims_skim.columns.HHOLD == 24476]"
   ]
  },
  {
   "cell_type": "code",
   "execution_count": null,
   "metadata": {
    "collapsed": true
   },
   "outputs": [],
   "source": [
    "df_transims_tt = df_transims_skim.loc[:, ['HHOLD', 'TIME']]"
   ]
  },
  {
   "cell_type": "code",
   "execution_count": null,
   "metadata": {
    "collapsed": true
   },
   "outputs": [],
   "source": [
    "df_join = pd.merge(df, df_transims_tt, left_on='vid', right_on='HHOLD')"
   ]
  },
  {
   "cell_type": "code",
   "execution_count": null,
   "metadata": {
    "collapsed": true
   },
   "outputs": [],
   "source": [
    "df_join['TIME'] = df_join['TIME'] / 60.0"
   ]
  },
  {
   "cell_type": "code",
   "execution_count": null,
   "metadata": {
    "collapsed": true
   },
   "outputs": [],
   "source": [
    "df_join['diff'] = df_join.travel-time = df_join.TIME"
   ]
  },
  {
   "cell_type": "code",
   "execution_count": null,
   "metadata": {
    "collapsed": true
   },
   "outputs": [],
   "source": [
    "df_join.diff.describe()"
   ]
  }
 ],
 "metadata": {
  "kernelspec": {
   "display_name": "Python 3",
   "language": "python",
   "name": "python3"
  },
  "language_info": {
   "codemirror_mode": {
    "name": "ipython",
    "version": 3
   },
   "file_extension": ".py",
   "mimetype": "text/x-python",
   "name": "python",
   "nbconvert_exporter": "python",
   "pygments_lexer": "ipython3",
   "version": "3.6.3"
  }
 },
 "nbformat": 4,
 "nbformat_minor": 2
}
