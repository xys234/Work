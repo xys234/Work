{
 "cells": [
  {
   "cell_type": "code",
   "execution_count": 37,
   "metadata": {},
   "outputs": [],
   "source": [
    "import numpy as np\n",
    "import time"
   ]
  },
  {
   "cell_type": "code",
   "execution_count": 5,
   "metadata": {},
   "outputs": [
    {
     "name": "stdout",
     "output_type": "stream",
     "text": [
      "Python 3.6.5 |Anaconda, Inc.| (default, Mar 29 2018, 13:32:41) [MSC v.1900 64 bit (AMD64)] on win32\n"
     ]
    }
   ],
   "source": [
    "import sys; print('Python %s on %s' % (sys.version, sys.platform))\n",
    "sys.path.extend(['C:\\\\Projects\\\\Repo\\\\Work\\\\SWIFT', 'C:\\\\Projects\\\\Repo\\\\Work\\\\SWIFT\\\\scripts'])"
   ]
  },
  {
   "cell_type": "code",
   "execution_count": 15,
   "metadata": {},
   "outputs": [],
   "source": [
    "from services.data_service import normal_rounding"
   ]
  },
  {
   "cell_type": "code",
   "execution_count": 30,
   "metadata": {},
   "outputs": [],
   "source": [
    "def bucket_rounding(mat):\n",
    "    \"\"\"\n",
    "    bucket rounding and add the difference to the diagonal elements\n",
    "    :param mat: an numpy 2d-array\n",
    "    :return: an numpy 2d-array of dtype np.uint16\n",
    "    \"\"\"\n",
    "\n",
    "    # todo: implement as pure list iteration by rows\n",
    "    if len(mat.shape) != 2:\n",
    "        raise ValueError(\"Input must be a 2-dimensional numpy array\")\n",
    "    \n",
    "    threshold = 0.05\n",
    "    rounded = np.zeros_like(mat, dtype=mat.dtype)\n",
    "    for i in range(mat.shape[0]):\n",
    "        residual = 0\n",
    "        if mat[i].sum() <= threshold:\n",
    "            continue\n",
    "        for j in range(mat.shape[1]):\n",
    "            if mat[i, j] != 0:\n",
    "                val = np.round(mat[i, j] + residual)\n",
    "                residual += mat[i, j] - val\n",
    "                rounded[i, j] = val\n",
    "\n",
    "    total_diff = int(round(rounded.sum() - mat.sum()))\n",
    "    diff = np.where(total_diff > 0, -1, 1)\n",
    "    indices = np.argsort(np.diagonal(rounded))[::-1].astype(np.int16)[:np.abs(total_diff)]\n",
    "    rounded[indices, indices] += diff\n",
    "    return rounded.clip(min=0).astype(np.int16)"
   ]
  },
  {
   "cell_type": "code",
   "execution_count": 34,
   "metadata": {},
   "outputs": [],
   "source": [
    "def bucket_rounding_list(mat):\n",
    "    \"\"\"\n",
    "    bucket rounding and add the difference to the diagonal elements\n",
    "    :param mat: an numpy 2d-array\n",
    "    :return: an numpy 2d-array of dtype np.uint16\n",
    "    \"\"\"\n",
    "\n",
    "    if len(mat.shape) != 2:\n",
    "        raise ValueError(\"Input must be a 2-dimensional numpy array\")\n",
    "    \n",
    "    threshold = 0.05\n",
    "    rows, columns = mat.shape\n",
    "    mat_list = mat.tolist()\n",
    "    for i in range(rows):\n",
    "        residual = 0\n",
    "        if mat[i].sum() <= threshold:\n",
    "            continue\n",
    "        for j in range(columns):\n",
    "            if mat_list[i][j] != 0:\n",
    "                val = np.round(mat_list[i][j] + residual)\n",
    "                residual += mat_list[i][j] - val\n",
    "                mat_list[i][j] = val\n",
    "    \n",
    "    rounded = np.array(mat_list)\n",
    "    total_diff = int(round(rounded.sum() - mat.sum()))\n",
    "    diff = np.where(total_diff > 0, -1, 1)\n",
    "    indices = np.argsort(np.diagonal(rounded))[::-1].astype(np.int16)[:np.abs(total_diff)]\n",
    "    rounded[indices, indices] += diff\n",
    "    return rounded.clip(min=0).astype(np.int16)"
   ]
  },
  {
   "cell_type": "code",
   "execution_count": 38,
   "metadata": {},
   "outputs": [],
   "source": [
    "def test_rounding(matrix, func):\n",
    "    start_time = time.time()\n",
    "    matrix_rounded = func(matrix)\n",
    "    end_time = time.time()\n",
    "    print(\"Total after rounding by {0:s} = {1:.2f} in {2:d} seconds\".format(func.__name__, matrix_rounded.sum(), round(end_time-start_time)))"
   ]
  },
  {
   "cell_type": "markdown",
   "metadata": {},
   "source": [
    "#### Simulated Data"
   ]
  },
  {
   "cell_type": "code",
   "execution_count": 18,
   "metadata": {},
   "outputs": [],
   "source": [
    "zones = 5263\n",
    "seed = 42\n",
    "np.random.seed(seed)"
   ]
  },
  {
   "cell_type": "code",
   "execution_count": 24,
   "metadata": {},
   "outputs": [
    {
     "name": "stdout",
     "output_type": "stream",
     "text": [
      "Total number of trips in original matrix    = 13849489.51\n",
      "Total number of trips with fractional trips = 9525040.91\n"
     ]
    }
   ],
   "source": [
    "matrix = np.random.random((zones, zones))\n",
    "num_rows_to_small_values = 2000\n",
    "rows_to_small_values = np.random.randint(low=0, high=zones-1, size=num_rows_to_small_values, dtype=np.uint16)\n",
    "small_values = np.random.random((num_rows_to_small_values, zones)) / 50\n",
    "matrix_with_small_values = matrix.copy()\n",
    "matrix_with_small_values[rows_to_small_values] = small_values\n",
    "print(\"Total number of trips in original matrix    = {0:.2f}\".format(matrix.sum()))\n",
    "print(\"Total number of trips with fractional trips = {0:.2f}\".format(matrix_with_small_values.sum()))"
   ]
  },
  {
   "cell_type": "code",
   "execution_count": 27,
   "metadata": {},
   "outputs": [
    {
     "name": "stdout",
     "output_type": "stream",
     "text": [
      "Total after rounding by normal_rounding = 9440908.00\n",
      "Total after rounding by bucket_rounding = 9525041.00\n",
      "Total after rounding by bucket_rounding_list = 9525041.00\n"
     ]
    }
   ],
   "source": [
    "test_rounding(matrix_with_small_values, normal_rounding)\n",
    "test_rounding(matrix_with_small_values, bucket_rounding)\n",
    "test_rounding(matrix_with_small_values, bucket_rounding_list)"
   ]
  },
  {
   "cell_type": "code",
   "execution_count": 28,
   "metadata": {},
   "outputs": [
    {
     "name": "stdout",
     "output_type": "stream",
     "text": [
      "262 ms ± 8.57 ms per loop (mean ± std. dev. of 7 runs, 1 loop each)\n"
     ]
    }
   ],
   "source": [
    "%timeit normal_rounding(matrix_with_small_values)"
   ]
  },
  {
   "cell_type": "code",
   "execution_count": 32,
   "metadata": {},
   "outputs": [
    {
     "name": "stdout",
     "output_type": "stream",
     "text": [
      "1min 12s ± 3.46 s per loop (mean ± std. dev. of 7 runs, 1 loop each)\n"
     ]
    }
   ],
   "source": [
    "%timeit bucket_rounding(matrix_with_small_values)"
   ]
  },
  {
   "cell_type": "code",
   "execution_count": 35,
   "metadata": {},
   "outputs": [
    {
     "name": "stdout",
     "output_type": "stream",
     "text": [
      "58.3 s ± 2.11 s per loop (mean ± std. dev. of 7 runs, 1 loop each)\n"
     ]
    }
   ],
   "source": [
    "%timeit bucket_rounding_list(matrix_with_small_values)"
   ]
  },
  {
   "cell_type": "markdown",
   "metadata": {},
   "source": [
    "#### Actual Data"
   ]
  },
  {
   "cell_type": "code",
   "execution_count": 39,
   "metadata": {},
   "outputs": [
    {
     "name": "stderr",
     "output_type": "stream",
     "text": [
      "C:\\Anaconda3\\lib\\site-packages\\h5py\\__init__.py:36: FutureWarning: Conversion of the second argument of issubdtype from `float` to `np.floating` is deprecated. In future, it will be treated as `np.float64 == np.dtype(float).type`.\n",
      "  from ._conv import register_converters as _register_converters\n"
     ]
    }
   ],
   "source": [
    "import h5py"
   ]
  },
  {
   "cell_type": "code",
   "execution_count": 40,
   "metadata": {},
   "outputs": [],
   "source": [
    "trip_table_file = r\"C:\\Projects\\Repo\\Work\\SWIFT\\data\\Dynus_T\\OD\\2017\\OD AM3HR HBW Vehicles.omx\""
   ]
  },
  {
   "cell_type": "code",
   "execution_count": 41,
   "metadata": {},
   "outputs": [],
   "source": [
    "h5 = h5py.File(trip_table_file, 'r')\n",
    "od = h5['/matrices/' + 'amhbwi1da'][:]"
   ]
  },
  {
   "cell_type": "code",
   "execution_count": 42,
   "metadata": {},
   "outputs": [
    {
     "name": "stdout",
     "output_type": "stream",
     "text": [
      "Total number of trips = 49474.39\n"
     ]
    }
   ],
   "source": [
    "print(\"Total number of trips = {0:.2f}\".format(od.sum()))"
   ]
  },
  {
   "cell_type": "code",
   "execution_count": 43,
   "metadata": {},
   "outputs": [
    {
     "name": "stdout",
     "output_type": "stream",
     "text": [
      "Total after rounding by normal_rounding = 12548.00 in 0 seconds\n",
      "Total after rounding by bucket_rounding = 49474.00 in 22 seconds\n",
      "Total after rounding by bucket_rounding_list = 49470.00 in 17 seconds\n"
     ]
    }
   ],
   "source": [
    "test_rounding(od, normal_rounding)\n",
    "test_rounding(od, bucket_rounding)\n",
    "test_rounding(od, bucket_rounding_list)"
   ]
  },
  {
   "cell_type": "code",
   "execution_count": null,
   "metadata": {},
   "outputs": [],
   "source": []
  }
 ],
 "metadata": {
  "kernelspec": {
   "display_name": "Python 3",
   "language": "python",
   "name": "python3"
  },
  "language_info": {
   "codemirror_mode": {
    "name": "ipython",
    "version": 3
   },
   "file_extension": ".py",
   "mimetype": "text/x-python",
   "name": "python",
   "nbconvert_exporter": "python",
   "pygments_lexer": "ipython3",
   "version": "3.6.5"
  }
 },
 "nbformat": 4,
 "nbformat_minor": 2
}
