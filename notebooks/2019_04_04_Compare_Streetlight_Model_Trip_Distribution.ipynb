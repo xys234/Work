{
 "cells": [
  {
   "cell_type": "code",
   "execution_count": 1,
   "metadata": {
    "collapsed": true
   },
   "outputs": [],
   "source": [
    "import numpy as np\n",
    "import pandas as pd\n",
    "\n",
    "import matplotlib.pyplot as plt\n",
    "\n",
    "%matplotlib inline"
   ]
  },
  {
   "cell_type": "code",
   "execution_count": 2,
   "metadata": {
    "collapsed": true
   },
   "outputs": [],
   "source": [
    "FILE_OD_TRIP_ATTR = r\"T:\\SLD\\Danville_OD_premium_trip_4712_TravelCount\\Danville_OD_premium_4712_od_trip_attributes_counts_all.csv\""
   ]
  },
  {
   "cell_type": "code",
   "execution_count": 108,
   "metadata": {
    "collapsed": true
   },
   "outputs": [],
   "source": [
    "FILE_PA_AUTO_TRIPS = r\"T:\\SLD\\Model_PA_Auto_Trips.csv\"\n",
    "FILE_DISTANCE_SKIM = r\"T:\\SLD\\Model_Skim_Distance.csv\"\n",
    "FILE_TIME_SKIM = r\"T:\\SLD\\Model_Skim_Time.csv\""
   ]
  },
  {
   "cell_type": "code",
   "execution_count": 109,
   "metadata": {
    "collapsed": true
   },
   "outputs": [],
   "source": [
    "def coincidence_ratio(x, y):\n",
    "    coincidence = np.minimum(x, y).sum()\n",
    "    total = np.maximum(x, y).sum()\n",
    "    return coincidence*1.0 / total"
   ]
  },
  {
   "cell_type": "markdown",
   "metadata": {},
   "source": [
    "### Process Streetlight Data"
   ]
  },
  {
   "cell_type": "code",
   "execution_count": 4,
   "metadata": {
    "collapsed": true
   },
   "outputs": [],
   "source": [
    "df_SLD = pd.read_csv(FILE_OD_TRIP_ATTR)"
   ]
  },
  {
   "cell_type": "code",
   "execution_count": 5,
   "metadata": {},
   "outputs": [
    {
     "name": "stdout",
     "output_type": "stream",
     "text": [
      "<class 'pandas.core.frame.DataFrame'>\n",
      "RangeIndex: 178542 entries, 0 to 178541\n",
      "Data columns (total 68 columns):\n",
      "Type of Travel                          178542 non-null object\n",
      "Origin Zone ID                          178542 non-null int64\n",
      "Origin Zone Name                        178542 non-null int64\n",
      "Origin Zone Is Pass-Through             178542 non-null object\n",
      "Origin Zone Direction (degrees)         0 non-null float64\n",
      "Origin Zone is Bi-Direction             178542 non-null object\n",
      "Destination Zone ID                     178542 non-null int64\n",
      "Destination Zone Name                   178542 non-null int64\n",
      "Destination Zone Is Pass-Through        178542 non-null object\n",
      "Destination Zone Direction (degrees)    0 non-null float64\n",
      "Destination Zone is Bi-Direction        178542 non-null object\n",
      "Day Type                                178542 non-null object\n",
      "Day Part                                178542 non-null object\n",
      "O-D Traffic (Trip Counts)               178542 non-null int64\n",
      "O-D Traffic (StL Index)                 178542 non-null int64\n",
      "Avg Trip Duration (sec)                 176142 non-null float64\n",
      "Avg All Trip Duration (sec)             178542 non-null int64\n",
      "Avg Trip Length (mi)                    176142 non-null float64\n",
      "Avg All Trip Length (mi)                178542 non-null float64\n",
      "Avg Trip Speed (mph)                    174735 non-null float64\n",
      "Avg All Trip Speed (mph)                178538 non-null float64\n",
      "Avg All Trip Circuity                   178542 non-null float64\n",
      "Trip Duration 0-10 min (percent)        178542 non-null float64\n",
      "Trip Duration 10-20 min (percent)       178542 non-null float64\n",
      "Trip Duration 20-30 min (percent)       178542 non-null float64\n",
      "Trip Duration 30-40 min (percent)       178542 non-null float64\n",
      "Trip Duration 40-50 min (percent)       178542 non-null float64\n",
      "Trip Duration 50-60 min (percent)       178542 non-null float64\n",
      "Trip Duration 60-70 min (percent)       178542 non-null float64\n",
      "Trip Duration 70-80 min (percent)       178542 non-null float64\n",
      "Trip Duration 80-90 min (percent)       178542 non-null float64\n",
      "Trip Duration 90-100 min (percent)      178542 non-null float64\n",
      "Trip Duration 100-110 min (percent)     178542 non-null float64\n",
      "Trip Duration 110-120 min (percent)     178542 non-null float64\n",
      "Trip Duration 120-130 min (percent)     178542 non-null float64\n",
      "Trip Duration 130-140 min (percent)     178542 non-null float64\n",
      "Trip Duration 140-150 min (percent)     178542 non-null float64\n",
      "Trip Duration 150+ min (percent)        178542 non-null float64\n",
      "Trip Length 0-1 mi (percent)            178542 non-null float64\n",
      "Trip Length 1-2 mi (percent)            178542 non-null float64\n",
      "Trip Length 2-5 mi (percent)            178542 non-null float64\n",
      "Trip Length 5-10 mi (percent)           178542 non-null float64\n",
      "Trip Length 10-20 mi (percent)          178542 non-null float64\n",
      "Trip Length 20-30 mi (percent)          178542 non-null float64\n",
      "Trip Length 30-40 mi (percent)          178542 non-null float64\n",
      "Trip Length 40-50 mi (percent)          178542 non-null float64\n",
      "Trip Length 50-60 mi (percent)          178542 non-null float64\n",
      "Trip Length 60-70 mi (percent)          178542 non-null float64\n",
      "Trip Length 70-80 mi (percent)          178542 non-null float64\n",
      "Trip Length 80-90 mi (percent)          178542 non-null float64\n",
      "Trip Length 90-100 mi (percent)         178542 non-null float64\n",
      "Trip Length 100+ mi (percent)           178542 non-null float64\n",
      "Circuity 1-2 (percent)                  178542 non-null float64\n",
      "Circuity 2-3 (percent)                  178542 non-null float64\n",
      "Circuity 3-4 (percent)                  178542 non-null float64\n",
      "Circuity 4-5 (percent)                  178542 non-null float64\n",
      "Circuity 5-6 (percent)                  178542 non-null float64\n",
      "Circuity 6+ (percent)                   178542 non-null float64\n",
      "Trip Speed 0-10 mph (percent)           178538 non-null float64\n",
      "Trip Speed 10-20 mph (percent)          178538 non-null float64\n",
      "Trip Speed 20-30 mph (percent)          178538 non-null float64\n",
      "Trip Speed 30-40 mph (percent)          178538 non-null float64\n",
      "Trip Speed 40-50 mph (percent)          178538 non-null float64\n",
      "Trip Speed 50-60 mph (percent)          178538 non-null float64\n",
      "Trip Speed 60-70 mph (percent)          178538 non-null float64\n",
      "Trip Speed 70-80 mph (percent)          178538 non-null float64\n",
      "Trip Speed 80-90 mph (percent)          178538 non-null float64\n",
      "Trip Speed 90+ mph (percent)            178538 non-null float64\n",
      "dtypes: float64(54), int64(7), object(7)\n",
      "memory usage: 92.6+ MB\n"
     ]
    }
   ],
   "source": [
    "df_SLD.info()"
   ]
  },
  {
   "cell_type": "code",
   "execution_count": 6,
   "metadata": {
    "collapsed": true
   },
   "outputs": [],
   "source": [
    "selection = (df_SLD['Day Type'] == '1: Average Weekday (M-F)') & (df_SLD['Day Part'] == '0: All Day (12am-12am)') \n",
    "useful_cols = [\n",
    "    'Origin Zone ID',\n",
    "    'Destination Zone ID',\n",
    "    'O-D Traffic (StL Index)',\n",
    "    'Trip Length 0-1 mi (percent)',\n",
    "    'Trip Length 1-2 mi (percent)',\n",
    "    'Trip Length 2-5 mi (percent)',\n",
    "    'Trip Length 5-10 mi (percent)',\n",
    "    'Trip Length 10-20 mi (percent)',\n",
    "    'Trip Length 20-30 mi (percent)',\n",
    "    'Trip Length 30-40 mi (percent)',\n",
    "    'Trip Length 40-50 mi (percent)',\n",
    "    'Trip Length 50-60 mi (percent)',\n",
    "    'Trip Length 60-70 mi (percent)',\n",
    "    'Trip Length 70-80 mi (percent)',\n",
    "    'Trip Length 80-90 mi (percent)',\n",
    "    'Trip Length 90-100 mi (percent)',\n",
    "    'Trip Length 100+ mi (percent)',\n",
    "    \n",
    "]\n",
    "df_SLD_daily = df_SLD.loc[selection,useful_cols]"
   ]
  },
  {
   "cell_type": "code",
   "execution_count": 7,
   "metadata": {},
   "outputs": [
    {
     "data": {
      "text/html": [
       "<div>\n",
       "<style scoped>\n",
       "    .dataframe tbody tr th:only-of-type {\n",
       "        vertical-align: middle;\n",
       "    }\n",
       "\n",
       "    .dataframe tbody tr th {\n",
       "        vertical-align: top;\n",
       "    }\n",
       "\n",
       "    .dataframe thead th {\n",
       "        text-align: right;\n",
       "    }\n",
       "</style>\n",
       "<table border=\"1\" class=\"dataframe\">\n",
       "  <thead>\n",
       "    <tr style=\"text-align: right;\">\n",
       "      <th></th>\n",
       "      <th>Origin Zone ID</th>\n",
       "      <th>Destination Zone ID</th>\n",
       "      <th>O-D Traffic (StL Index)</th>\n",
       "      <th>Trip Length 0-1 mi (percent)</th>\n",
       "      <th>Trip Length 1-2 mi (percent)</th>\n",
       "      <th>Trip Length 2-5 mi (percent)</th>\n",
       "      <th>Trip Length 5-10 mi (percent)</th>\n",
       "      <th>Trip Length 10-20 mi (percent)</th>\n",
       "      <th>Trip Length 20-30 mi (percent)</th>\n",
       "      <th>Trip Length 30-40 mi (percent)</th>\n",
       "      <th>Trip Length 40-50 mi (percent)</th>\n",
       "      <th>Trip Length 50-60 mi (percent)</th>\n",
       "      <th>Trip Length 60-70 mi (percent)</th>\n",
       "      <th>Trip Length 70-80 mi (percent)</th>\n",
       "      <th>Trip Length 80-90 mi (percent)</th>\n",
       "      <th>Trip Length 90-100 mi (percent)</th>\n",
       "      <th>Trip Length 100+ mi (percent)</th>\n",
       "    </tr>\n",
       "  </thead>\n",
       "  <tbody>\n",
       "    <tr>\n",
       "      <th>6</th>\n",
       "      <td>1</td>\n",
       "      <td>10</td>\n",
       "      <td>8</td>\n",
       "      <td>0.667</td>\n",
       "      <td>0.000</td>\n",
       "      <td>0.333</td>\n",
       "      <td>0.000</td>\n",
       "      <td>0.000</td>\n",
       "      <td>0.000</td>\n",
       "      <td>0.0</td>\n",
       "      <td>0.0</td>\n",
       "      <td>0.0</td>\n",
       "      <td>0.0</td>\n",
       "      <td>0.0</td>\n",
       "      <td>0.0</td>\n",
       "      <td>0.0</td>\n",
       "      <td>0.0</td>\n",
       "    </tr>\n",
       "    <tr>\n",
       "      <th>19</th>\n",
       "      <td>1</td>\n",
       "      <td>100</td>\n",
       "      <td>3</td>\n",
       "      <td>0.000</td>\n",
       "      <td>0.600</td>\n",
       "      <td>0.400</td>\n",
       "      <td>0.000</td>\n",
       "      <td>0.000</td>\n",
       "      <td>0.000</td>\n",
       "      <td>0.0</td>\n",
       "      <td>0.0</td>\n",
       "      <td>0.0</td>\n",
       "      <td>0.0</td>\n",
       "      <td>0.0</td>\n",
       "      <td>0.0</td>\n",
       "      <td>0.0</td>\n",
       "      <td>0.0</td>\n",
       "    </tr>\n",
       "    <tr>\n",
       "      <th>29</th>\n",
       "      <td>1</td>\n",
       "      <td>101</td>\n",
       "      <td>4</td>\n",
       "      <td>0.167</td>\n",
       "      <td>0.500</td>\n",
       "      <td>0.333</td>\n",
       "      <td>0.000</td>\n",
       "      <td>0.000</td>\n",
       "      <td>0.000</td>\n",
       "      <td>0.0</td>\n",
       "      <td>0.0</td>\n",
       "      <td>0.0</td>\n",
       "      <td>0.0</td>\n",
       "      <td>0.0</td>\n",
       "      <td>0.0</td>\n",
       "      <td>0.0</td>\n",
       "      <td>0.0</td>\n",
       "    </tr>\n",
       "    <tr>\n",
       "      <th>41</th>\n",
       "      <td>1</td>\n",
       "      <td>102</td>\n",
       "      <td>7</td>\n",
       "      <td>0.455</td>\n",
       "      <td>0.455</td>\n",
       "      <td>0.091</td>\n",
       "      <td>0.000</td>\n",
       "      <td>0.000</td>\n",
       "      <td>0.000</td>\n",
       "      <td>0.0</td>\n",
       "      <td>0.0</td>\n",
       "      <td>0.0</td>\n",
       "      <td>0.0</td>\n",
       "      <td>0.0</td>\n",
       "      <td>0.0</td>\n",
       "      <td>0.0</td>\n",
       "      <td>0.0</td>\n",
       "    </tr>\n",
       "    <tr>\n",
       "      <th>49</th>\n",
       "      <td>1</td>\n",
       "      <td>103</td>\n",
       "      <td>1</td>\n",
       "      <td>1.000</td>\n",
       "      <td>0.000</td>\n",
       "      <td>0.000</td>\n",
       "      <td>0.000</td>\n",
       "      <td>0.000</td>\n",
       "      <td>0.000</td>\n",
       "      <td>0.0</td>\n",
       "      <td>0.0</td>\n",
       "      <td>0.0</td>\n",
       "      <td>0.0</td>\n",
       "      <td>0.0</td>\n",
       "      <td>0.0</td>\n",
       "      <td>0.0</td>\n",
       "      <td>0.0</td>\n",
       "    </tr>\n",
       "    <tr>\n",
       "      <th>55</th>\n",
       "      <td>1</td>\n",
       "      <td>104</td>\n",
       "      <td>7</td>\n",
       "      <td>0.000</td>\n",
       "      <td>0.545</td>\n",
       "      <td>0.091</td>\n",
       "      <td>0.091</td>\n",
       "      <td>0.091</td>\n",
       "      <td>0.182</td>\n",
       "      <td>0.0</td>\n",
       "      <td>0.0</td>\n",
       "      <td>0.0</td>\n",
       "      <td>0.0</td>\n",
       "      <td>0.0</td>\n",
       "      <td>0.0</td>\n",
       "      <td>0.0</td>\n",
       "      <td>0.0</td>\n",
       "    </tr>\n",
       "    <tr>\n",
       "      <th>67</th>\n",
       "      <td>1</td>\n",
       "      <td>105</td>\n",
       "      <td>7</td>\n",
       "      <td>0.000</td>\n",
       "      <td>0.667</td>\n",
       "      <td>0.222</td>\n",
       "      <td>0.000</td>\n",
       "      <td>0.111</td>\n",
       "      <td>0.000</td>\n",
       "      <td>0.0</td>\n",
       "      <td>0.0</td>\n",
       "      <td>0.0</td>\n",
       "      <td>0.0</td>\n",
       "      <td>0.0</td>\n",
       "      <td>0.0</td>\n",
       "      <td>0.0</td>\n",
       "      <td>0.0</td>\n",
       "    </tr>\n",
       "    <tr>\n",
       "      <th>76</th>\n",
       "      <td>1</td>\n",
       "      <td>108</td>\n",
       "      <td>1</td>\n",
       "      <td>0.000</td>\n",
       "      <td>0.000</td>\n",
       "      <td>0.500</td>\n",
       "      <td>0.000</td>\n",
       "      <td>0.500</td>\n",
       "      <td>0.000</td>\n",
       "      <td>0.0</td>\n",
       "      <td>0.0</td>\n",
       "      <td>0.0</td>\n",
       "      <td>0.0</td>\n",
       "      <td>0.0</td>\n",
       "      <td>0.0</td>\n",
       "      <td>0.0</td>\n",
       "      <td>0.0</td>\n",
       "    </tr>\n",
       "    <tr>\n",
       "      <th>82</th>\n",
       "      <td>1</td>\n",
       "      <td>109</td>\n",
       "      <td>1</td>\n",
       "      <td>0.000</td>\n",
       "      <td>0.000</td>\n",
       "      <td>1.000</td>\n",
       "      <td>0.000</td>\n",
       "      <td>0.000</td>\n",
       "      <td>0.000</td>\n",
       "      <td>0.0</td>\n",
       "      <td>0.0</td>\n",
       "      <td>0.0</td>\n",
       "      <td>0.0</td>\n",
       "      <td>0.0</td>\n",
       "      <td>0.0</td>\n",
       "      <td>0.0</td>\n",
       "      <td>0.0</td>\n",
       "    </tr>\n",
       "    <tr>\n",
       "      <th>90</th>\n",
       "      <td>1</td>\n",
       "      <td>11</td>\n",
       "      <td>12</td>\n",
       "      <td>0.333</td>\n",
       "      <td>0.417</td>\n",
       "      <td>0.167</td>\n",
       "      <td>0.083</td>\n",
       "      <td>0.000</td>\n",
       "      <td>0.000</td>\n",
       "      <td>0.0</td>\n",
       "      <td>0.0</td>\n",
       "      <td>0.0</td>\n",
       "      <td>0.0</td>\n",
       "      <td>0.0</td>\n",
       "      <td>0.0</td>\n",
       "      <td>0.0</td>\n",
       "      <td>0.0</td>\n",
       "    </tr>\n",
       "  </tbody>\n",
       "</table>\n",
       "</div>"
      ],
      "text/plain": [
       "    Origin Zone ID  Destination Zone ID  O-D Traffic (StL Index)  \\\n",
       "6                1                   10                        8   \n",
       "19               1                  100                        3   \n",
       "29               1                  101                        4   \n",
       "41               1                  102                        7   \n",
       "49               1                  103                        1   \n",
       "55               1                  104                        7   \n",
       "67               1                  105                        7   \n",
       "76               1                  108                        1   \n",
       "82               1                  109                        1   \n",
       "90               1                   11                       12   \n",
       "\n",
       "    Trip Length 0-1 mi (percent)  Trip Length 1-2 mi (percent)  \\\n",
       "6                          0.667                         0.000   \n",
       "19                         0.000                         0.600   \n",
       "29                         0.167                         0.500   \n",
       "41                         0.455                         0.455   \n",
       "49                         1.000                         0.000   \n",
       "55                         0.000                         0.545   \n",
       "67                         0.000                         0.667   \n",
       "76                         0.000                         0.000   \n",
       "82                         0.000                         0.000   \n",
       "90                         0.333                         0.417   \n",
       "\n",
       "    Trip Length 2-5 mi (percent)  Trip Length 5-10 mi (percent)  \\\n",
       "6                          0.333                          0.000   \n",
       "19                         0.400                          0.000   \n",
       "29                         0.333                          0.000   \n",
       "41                         0.091                          0.000   \n",
       "49                         0.000                          0.000   \n",
       "55                         0.091                          0.091   \n",
       "67                         0.222                          0.000   \n",
       "76                         0.500                          0.000   \n",
       "82                         1.000                          0.000   \n",
       "90                         0.167                          0.083   \n",
       "\n",
       "    Trip Length 10-20 mi (percent)  Trip Length 20-30 mi (percent)  \\\n",
       "6                            0.000                           0.000   \n",
       "19                           0.000                           0.000   \n",
       "29                           0.000                           0.000   \n",
       "41                           0.000                           0.000   \n",
       "49                           0.000                           0.000   \n",
       "55                           0.091                           0.182   \n",
       "67                           0.111                           0.000   \n",
       "76                           0.500                           0.000   \n",
       "82                           0.000                           0.000   \n",
       "90                           0.000                           0.000   \n",
       "\n",
       "    Trip Length 30-40 mi (percent)  Trip Length 40-50 mi (percent)  \\\n",
       "6                              0.0                             0.0   \n",
       "19                             0.0                             0.0   \n",
       "29                             0.0                             0.0   \n",
       "41                             0.0                             0.0   \n",
       "49                             0.0                             0.0   \n",
       "55                             0.0                             0.0   \n",
       "67                             0.0                             0.0   \n",
       "76                             0.0                             0.0   \n",
       "82                             0.0                             0.0   \n",
       "90                             0.0                             0.0   \n",
       "\n",
       "    Trip Length 50-60 mi (percent)  Trip Length 60-70 mi (percent)  \\\n",
       "6                              0.0                             0.0   \n",
       "19                             0.0                             0.0   \n",
       "29                             0.0                             0.0   \n",
       "41                             0.0                             0.0   \n",
       "49                             0.0                             0.0   \n",
       "55                             0.0                             0.0   \n",
       "67                             0.0                             0.0   \n",
       "76                             0.0                             0.0   \n",
       "82                             0.0                             0.0   \n",
       "90                             0.0                             0.0   \n",
       "\n",
       "    Trip Length 70-80 mi (percent)  Trip Length 80-90 mi (percent)  \\\n",
       "6                              0.0                             0.0   \n",
       "19                             0.0                             0.0   \n",
       "29                             0.0                             0.0   \n",
       "41                             0.0                             0.0   \n",
       "49                             0.0                             0.0   \n",
       "55                             0.0                             0.0   \n",
       "67                             0.0                             0.0   \n",
       "76                             0.0                             0.0   \n",
       "82                             0.0                             0.0   \n",
       "90                             0.0                             0.0   \n",
       "\n",
       "    Trip Length 90-100 mi (percent)  Trip Length 100+ mi (percent)  \n",
       "6                               0.0                            0.0  \n",
       "19                              0.0                            0.0  \n",
       "29                              0.0                            0.0  \n",
       "41                              0.0                            0.0  \n",
       "49                              0.0                            0.0  \n",
       "55                              0.0                            0.0  \n",
       "67                              0.0                            0.0  \n",
       "76                              0.0                            0.0  \n",
       "82                              0.0                            0.0  \n",
       "90                              0.0                            0.0  "
      ]
     },
     "execution_count": 7,
     "metadata": {},
     "output_type": "execute_result"
    }
   ],
   "source": [
    "df_SLD_daily.head(10)"
   ]
  },
  {
   "cell_type": "code",
   "execution_count": 43,
   "metadata": {},
   "outputs": [
    {
     "name": "stdout",
     "output_type": "stream",
     "text": [
      "Total number of trips in the SLD sample = 177,351\n"
     ]
    }
   ],
   "source": [
    "print('Total number of trips in the SLD sample = {:,.0f}'.format(df_SLD_daily['O-D Traffic (StL Index)'].sum()))"
   ]
  },
  {
   "cell_type": "code",
   "execution_count": 8,
   "metadata": {
    "collapsed": true
   },
   "outputs": [],
   "source": [
    "trip_length_percent = df_SLD_daily.values[:,3:]"
   ]
  },
  {
   "cell_type": "code",
   "execution_count": 11,
   "metadata": {},
   "outputs": [
    {
     "data": {
      "text/plain": [
       "array([[0.667, 0.   , 0.333, ..., 0.   , 0.   , 0.   ],\n",
       "       [0.   , 0.6  , 0.4  , ..., 0.   , 0.   , 0.   ],\n",
       "       [0.167, 0.5  , 0.333, ..., 0.   , 0.   , 0.   ],\n",
       "       ...,\n",
       "       [0.537, 0.317, 0.098, ..., 0.   , 0.   , 0.   ],\n",
       "       [0.625, 0.188, 0.063, ..., 0.   , 0.   , 0.   ],\n",
       "       [0.7  , 0.167, 0.067, ..., 0.   , 0.   , 0.   ]])"
      ]
     },
     "execution_count": 11,
     "metadata": {},
     "output_type": "execute_result"
    }
   ],
   "source": [
    "trip_length_percent"
   ]
  },
  {
   "cell_type": "code",
   "execution_count": 12,
   "metadata": {},
   "outputs": [
    {
     "data": {
      "text/plain": [
       "array([ 8.,  3.,  4., ..., 34., 17., 27.])"
      ]
     },
     "execution_count": 12,
     "metadata": {},
     "output_type": "execute_result"
    }
   ],
   "source": [
    "trips = df_SLD_daily.values[:,2]\n",
    "trips"
   ]
  },
  {
   "cell_type": "code",
   "execution_count": 36,
   "metadata": {},
   "outputs": [
    {
     "data": {
      "text/plain": [
       "array([[ 5.336,  0.   ,  2.664, ...,  0.   ,  0.   ,  0.   ],\n",
       "       [ 0.   ,  1.8  ,  1.2  , ...,  0.   ,  0.   ,  0.   ],\n",
       "       [ 0.668,  2.   ,  1.332, ...,  0.   ,  0.   ,  0.   ],\n",
       "       ...,\n",
       "       [18.258, 10.778,  3.332, ...,  0.   ,  0.   ,  0.   ],\n",
       "       [10.625,  3.196,  1.071, ...,  0.   ,  0.   ,  0.   ],\n",
       "       [18.9  ,  4.509,  1.809, ...,  0.   ,  0.   ,  0.   ]])"
      ]
     },
     "execution_count": 36,
     "metadata": {},
     "output_type": "execute_result"
    }
   ],
   "source": [
    "trips_by_distance = np.tile(trips.reshape(-1,1), (1,trip_length_percent.shape[1])) * trip_length_percent\n",
    "trips_by_distance"
   ]
  },
  {
   "cell_type": "code",
   "execution_count": 37,
   "metadata": {},
   "outputs": [
    {
     "data": {
      "text/plain": [
       "array([1.7403619e+04, 3.1733101e+04, 6.9690129e+04, 4.3428948e+04,\n",
       "       1.3156385e+04, 1.3403490e+03, 3.4597700e+02, 1.2861300e+02,\n",
       "       6.5267000e+01, 3.1914000e+01, 1.5367000e+01, 6.1560000e+00,\n",
       "       2.6600000e+00, 9.2610000e+00])"
      ]
     },
     "execution_count": 37,
     "metadata": {},
     "output_type": "execute_result"
    }
   ],
   "source": [
    "trips_by_distance = trips_by_distance.sum(axis=0)\n",
    "trips_by_distance"
   ]
  },
  {
   "cell_type": "code",
   "execution_count": 58,
   "metadata": {},
   "outputs": [
    {
     "data": {
      "text/html": [
       "<div>\n",
       "<style scoped>\n",
       "    .dataframe tbody tr th:only-of-type {\n",
       "        vertical-align: middle;\n",
       "    }\n",
       "\n",
       "    .dataframe tbody tr th {\n",
       "        vertical-align: top;\n",
       "    }\n",
       "\n",
       "    .dataframe thead th {\n",
       "        text-align: right;\n",
       "    }\n",
       "</style>\n",
       "<table border=\"1\" class=\"dataframe\">\n",
       "  <thead>\n",
       "    <tr style=\"text-align: right;\">\n",
       "      <th></th>\n",
       "      <th>Trips_SLD</th>\n",
       "      <th>Percent_SLD</th>\n",
       "    </tr>\n",
       "  </thead>\n",
       "  <tbody>\n",
       "    <tr>\n",
       "      <th>Trip Length 0-1 mi (percent)</th>\n",
       "      <td>17403.619</td>\n",
       "      <td>0.098127</td>\n",
       "    </tr>\n",
       "    <tr>\n",
       "      <th>Trip Length 1-2 mi (percent)</th>\n",
       "      <td>31733.101</td>\n",
       "      <td>0.178921</td>\n",
       "    </tr>\n",
       "    <tr>\n",
       "      <th>Trip Length 2-5 mi (percent)</th>\n",
       "      <td>69690.129</td>\n",
       "      <td>0.392935</td>\n",
       "    </tr>\n",
       "    <tr>\n",
       "      <th>Trip Length 5-10 mi (percent)</th>\n",
       "      <td>43428.948</td>\n",
       "      <td>0.244866</td>\n",
       "    </tr>\n",
       "    <tr>\n",
       "      <th>Trip Length 10-20 mi (percent)</th>\n",
       "      <td>13156.385</td>\n",
       "      <td>0.074180</td>\n",
       "    </tr>\n",
       "    <tr>\n",
       "      <th>Trip Length 20-30 mi (percent)</th>\n",
       "      <td>1340.349</td>\n",
       "      <td>0.007557</td>\n",
       "    </tr>\n",
       "    <tr>\n",
       "      <th>Trip Length 30-40 mi (percent)</th>\n",
       "      <td>345.977</td>\n",
       "      <td>0.001951</td>\n",
       "    </tr>\n",
       "    <tr>\n",
       "      <th>Trip Length 40-50 mi (percent)</th>\n",
       "      <td>128.613</td>\n",
       "      <td>0.000725</td>\n",
       "    </tr>\n",
       "    <tr>\n",
       "      <th>Trip Length 50-60 mi (percent)</th>\n",
       "      <td>65.267</td>\n",
       "      <td>0.000368</td>\n",
       "    </tr>\n",
       "    <tr>\n",
       "      <th>Trip Length 60-70 mi (percent)</th>\n",
       "      <td>31.914</td>\n",
       "      <td>0.000180</td>\n",
       "    </tr>\n",
       "    <tr>\n",
       "      <th>Trip Length 70-80 mi (percent)</th>\n",
       "      <td>15.367</td>\n",
       "      <td>0.000087</td>\n",
       "    </tr>\n",
       "    <tr>\n",
       "      <th>Trip Length 80-90 mi (percent)</th>\n",
       "      <td>6.156</td>\n",
       "      <td>0.000035</td>\n",
       "    </tr>\n",
       "    <tr>\n",
       "      <th>Trip Length 90-100 mi (percent)</th>\n",
       "      <td>2.660</td>\n",
       "      <td>0.000015</td>\n",
       "    </tr>\n",
       "    <tr>\n",
       "      <th>Trip Length 100+ mi (percent)</th>\n",
       "      <td>9.261</td>\n",
       "      <td>0.000052</td>\n",
       "    </tr>\n",
       "  </tbody>\n",
       "</table>\n",
       "</div>"
      ],
      "text/plain": [
       "                                 Trips_SLD  Percent_SLD\n",
       "Trip Length 0-1 mi (percent)     17403.619     0.098127\n",
       "Trip Length 1-2 mi (percent)     31733.101     0.178921\n",
       "Trip Length 2-5 mi (percent)     69690.129     0.392935\n",
       "Trip Length 5-10 mi (percent)    43428.948     0.244866\n",
       "Trip Length 10-20 mi (percent)   13156.385     0.074180\n",
       "Trip Length 20-30 mi (percent)    1340.349     0.007557\n",
       "Trip Length 30-40 mi (percent)     345.977     0.001951\n",
       "Trip Length 40-50 mi (percent)     128.613     0.000725\n",
       "Trip Length 50-60 mi (percent)      65.267     0.000368\n",
       "Trip Length 60-70 mi (percent)      31.914     0.000180\n",
       "Trip Length 70-80 mi (percent)      15.367     0.000087\n",
       "Trip Length 80-90 mi (percent)       6.156     0.000035\n",
       "Trip Length 90-100 mi (percent)      2.660     0.000015\n",
       "Trip Length 100+ mi (percent)        9.261     0.000052"
      ]
     },
     "execution_count": 58,
     "metadata": {},
     "output_type": "execute_result"
    }
   ],
   "source": [
    "df_trip_length_distribution_SLD = pd.DataFrame(data=trips_by_distance, index=useful_cols[3:], columns=['Trips_SLD'])\n",
    "df_trip_length_distribution_SLD['Percent_SLD'] = df_trip_length_distribution_SLD.Trips_SLD / df_trip_length_distribution_SLD.values.sum()\n",
    "df_trip_length_distribution_SLD"
   ]
  },
  {
   "cell_type": "code",
   "execution_count": 50,
   "metadata": {},
   "outputs": [
    {
     "name": "stdout",
     "output_type": "stream",
     "text": [
      "Total number of trips in the SLD sample = 177,358\n"
     ]
    }
   ],
   "source": [
    "print('Total number of trips in the SLD sample = {:,.0f}'.format(df_trip_length_distribution_SLD.sum()[0]))"
   ]
  },
  {
   "cell_type": "markdown",
   "metadata": {},
   "source": [
    "### Process Model Data"
   ]
  },
  {
   "cell_type": "code",
   "execution_count": 53,
   "metadata": {
    "collapsed": true
   },
   "outputs": [],
   "source": [
    "model_trips_columns = ['I', 'J', 'HBW', 'HBO', 'NHB', 'XIIX', 'AUTOTRIPS']\n",
    "df_model_trips = pd.read_csv(FILE_PA_AUTO_TRIPS, header=None, names=model_trips_columns)"
   ]
  },
  {
   "cell_type": "code",
   "execution_count": 54,
   "metadata": {
    "collapsed": true
   },
   "outputs": [],
   "source": [
    "model_skim_columns = ['I', 'J', 'DISTANCE']\n",
    "df_model_skims = pd.read_csv(FILE_DISTANCE_SKIM, header=None, names=model_skim_columns)"
   ]
  },
  {
   "cell_type": "code",
   "execution_count": 55,
   "metadata": {},
   "outputs": [
    {
     "data": {
      "text/html": [
       "<div>\n",
       "<style scoped>\n",
       "    .dataframe tbody tr th:only-of-type {\n",
       "        vertical-align: middle;\n",
       "    }\n",
       "\n",
       "    .dataframe tbody tr th {\n",
       "        vertical-align: top;\n",
       "    }\n",
       "\n",
       "    .dataframe thead th {\n",
       "        text-align: right;\n",
       "    }\n",
       "</style>\n",
       "<table border=\"1\" class=\"dataframe\">\n",
       "  <thead>\n",
       "    <tr style=\"text-align: right;\">\n",
       "      <th></th>\n",
       "      <th>I</th>\n",
       "      <th>J</th>\n",
       "      <th>HBW</th>\n",
       "      <th>HBO</th>\n",
       "      <th>NHB</th>\n",
       "      <th>XIIX</th>\n",
       "      <th>AUTOTRIPS</th>\n",
       "    </tr>\n",
       "  </thead>\n",
       "  <tbody>\n",
       "    <tr>\n",
       "      <th>0</th>\n",
       "      <td>1</td>\n",
       "      <td>1</td>\n",
       "      <td>0.0</td>\n",
       "      <td>0.0</td>\n",
       "      <td>0.625359</td>\n",
       "      <td>0.0</td>\n",
       "      <td>0.625359</td>\n",
       "    </tr>\n",
       "    <tr>\n",
       "      <th>1</th>\n",
       "      <td>1</td>\n",
       "      <td>2</td>\n",
       "      <td>0.0</td>\n",
       "      <td>0.0</td>\n",
       "      <td>0.509751</td>\n",
       "      <td>0.0</td>\n",
       "      <td>0.509751</td>\n",
       "    </tr>\n",
       "    <tr>\n",
       "      <th>2</th>\n",
       "      <td>1</td>\n",
       "      <td>3</td>\n",
       "      <td>0.0</td>\n",
       "      <td>0.0</td>\n",
       "      <td>0.691367</td>\n",
       "      <td>0.0</td>\n",
       "      <td>0.691367</td>\n",
       "    </tr>\n",
       "    <tr>\n",
       "      <th>3</th>\n",
       "      <td>1</td>\n",
       "      <td>4</td>\n",
       "      <td>0.0</td>\n",
       "      <td>0.0</td>\n",
       "      <td>0.616767</td>\n",
       "      <td>0.0</td>\n",
       "      <td>0.616767</td>\n",
       "    </tr>\n",
       "    <tr>\n",
       "      <th>4</th>\n",
       "      <td>1</td>\n",
       "      <td>5</td>\n",
       "      <td>0.0</td>\n",
       "      <td>0.0</td>\n",
       "      <td>0.174565</td>\n",
       "      <td>0.0</td>\n",
       "      <td>0.174565</td>\n",
       "    </tr>\n",
       "  </tbody>\n",
       "</table>\n",
       "</div>"
      ],
      "text/plain": [
       "   I  J  HBW  HBO       NHB  XIIX  AUTOTRIPS\n",
       "0  1  1  0.0  0.0  0.625359   0.0   0.625359\n",
       "1  1  2  0.0  0.0  0.509751   0.0   0.509751\n",
       "2  1  3  0.0  0.0  0.691367   0.0   0.691367\n",
       "3  1  4  0.0  0.0  0.616767   0.0   0.616767\n",
       "4  1  5  0.0  0.0  0.174565   0.0   0.174565"
      ]
     },
     "execution_count": 55,
     "metadata": {},
     "output_type": "execute_result"
    }
   ],
   "source": [
    "df_model_trips.head()"
   ]
  },
  {
   "cell_type": "code",
   "execution_count": 56,
   "metadata": {},
   "outputs": [
    {
     "data": {
      "text/html": [
       "<div>\n",
       "<style scoped>\n",
       "    .dataframe tbody tr th:only-of-type {\n",
       "        vertical-align: middle;\n",
       "    }\n",
       "\n",
       "    .dataframe tbody tr th {\n",
       "        vertical-align: top;\n",
       "    }\n",
       "\n",
       "    .dataframe thead th {\n",
       "        text-align: right;\n",
       "    }\n",
       "</style>\n",
       "<table border=\"1\" class=\"dataframe\">\n",
       "  <thead>\n",
       "    <tr style=\"text-align: right;\">\n",
       "      <th></th>\n",
       "      <th>I</th>\n",
       "      <th>J</th>\n",
       "      <th>DISTANCE</th>\n",
       "    </tr>\n",
       "  </thead>\n",
       "  <tbody>\n",
       "    <tr>\n",
       "      <th>0</th>\n",
       "      <td>1</td>\n",
       "      <td>1</td>\n",
       "      <td>0.000000</td>\n",
       "    </tr>\n",
       "    <tr>\n",
       "      <th>1</th>\n",
       "      <td>1</td>\n",
       "      <td>2</td>\n",
       "      <td>0.262192</td>\n",
       "    </tr>\n",
       "    <tr>\n",
       "      <th>2</th>\n",
       "      <td>1</td>\n",
       "      <td>3</td>\n",
       "      <td>0.108211</td>\n",
       "    </tr>\n",
       "    <tr>\n",
       "      <th>3</th>\n",
       "      <td>1</td>\n",
       "      <td>4</td>\n",
       "      <td>0.477902</td>\n",
       "    </tr>\n",
       "    <tr>\n",
       "      <th>4</th>\n",
       "      <td>1</td>\n",
       "      <td>5</td>\n",
       "      <td>0.591185</td>\n",
       "    </tr>\n",
       "  </tbody>\n",
       "</table>\n",
       "</div>"
      ],
      "text/plain": [
       "   I  J  DISTANCE\n",
       "0  1  1  0.000000\n",
       "1  1  2  0.262192\n",
       "2  1  3  0.108211\n",
       "3  1  4  0.477902\n",
       "4  1  5  0.591185"
      ]
     },
     "execution_count": 56,
     "metadata": {},
     "output_type": "execute_result"
    }
   ],
   "source": [
    "df_model_skims.head()"
   ]
  },
  {
   "cell_type": "code",
   "execution_count": 57,
   "metadata": {},
   "outputs": [
    {
     "data": {
      "text/html": [
       "<div>\n",
       "<style scoped>\n",
       "    .dataframe tbody tr th:only-of-type {\n",
       "        vertical-align: middle;\n",
       "    }\n",
       "\n",
       "    .dataframe tbody tr th {\n",
       "        vertical-align: top;\n",
       "    }\n",
       "\n",
       "    .dataframe thead th {\n",
       "        text-align: right;\n",
       "    }\n",
       "</style>\n",
       "<table border=\"1\" class=\"dataframe\">\n",
       "  <thead>\n",
       "    <tr style=\"text-align: right;\">\n",
       "      <th></th>\n",
       "      <th>I</th>\n",
       "      <th>J</th>\n",
       "      <th>HBW</th>\n",
       "      <th>HBO</th>\n",
       "      <th>NHB</th>\n",
       "      <th>XIIX</th>\n",
       "      <th>AUTOTRIPS</th>\n",
       "      <th>DISTANCE</th>\n",
       "    </tr>\n",
       "  </thead>\n",
       "  <tbody>\n",
       "    <tr>\n",
       "      <th>0</th>\n",
       "      <td>1</td>\n",
       "      <td>1</td>\n",
       "      <td>0.0</td>\n",
       "      <td>0.0</td>\n",
       "      <td>0.625359</td>\n",
       "      <td>0.0</td>\n",
       "      <td>0.625359</td>\n",
       "      <td>0.000000</td>\n",
       "    </tr>\n",
       "    <tr>\n",
       "      <th>1</th>\n",
       "      <td>1</td>\n",
       "      <td>2</td>\n",
       "      <td>0.0</td>\n",
       "      <td>0.0</td>\n",
       "      <td>0.509751</td>\n",
       "      <td>0.0</td>\n",
       "      <td>0.509751</td>\n",
       "      <td>0.262192</td>\n",
       "    </tr>\n",
       "    <tr>\n",
       "      <th>2</th>\n",
       "      <td>1</td>\n",
       "      <td>3</td>\n",
       "      <td>0.0</td>\n",
       "      <td>0.0</td>\n",
       "      <td>0.691367</td>\n",
       "      <td>0.0</td>\n",
       "      <td>0.691367</td>\n",
       "      <td>0.108211</td>\n",
       "    </tr>\n",
       "    <tr>\n",
       "      <th>3</th>\n",
       "      <td>1</td>\n",
       "      <td>4</td>\n",
       "      <td>0.0</td>\n",
       "      <td>0.0</td>\n",
       "      <td>0.616767</td>\n",
       "      <td>0.0</td>\n",
       "      <td>0.616767</td>\n",
       "      <td>0.477902</td>\n",
       "    </tr>\n",
       "    <tr>\n",
       "      <th>4</th>\n",
       "      <td>1</td>\n",
       "      <td>5</td>\n",
       "      <td>0.0</td>\n",
       "      <td>0.0</td>\n",
       "      <td>0.174565</td>\n",
       "      <td>0.0</td>\n",
       "      <td>0.174565</td>\n",
       "      <td>0.591185</td>\n",
       "    </tr>\n",
       "  </tbody>\n",
       "</table>\n",
       "</div>"
      ],
      "text/plain": [
       "   I  J  HBW  HBO       NHB  XIIX  AUTOTRIPS  DISTANCE\n",
       "0  1  1  0.0  0.0  0.625359   0.0   0.625359  0.000000\n",
       "1  1  2  0.0  0.0  0.509751   0.0   0.509751  0.262192\n",
       "2  1  3  0.0  0.0  0.691367   0.0   0.691367  0.108211\n",
       "3  1  4  0.0  0.0  0.616767   0.0   0.616767  0.477902\n",
       "4  1  5  0.0  0.0  0.174565   0.0   0.174565  0.591185"
      ]
     },
     "execution_count": 57,
     "metadata": {},
     "output_type": "execute_result"
    }
   ],
   "source": [
    "df_model_trip_merge = pd.merge(left=df_model_trips, right=df_model_skims, left_on=['I', 'J'], right_on=['I', 'J'])\n",
    "df_model_trip_merge.head()"
   ]
  },
  {
   "cell_type": "code",
   "execution_count": 61,
   "metadata": {
    "collapsed": true
   },
   "outputs": [],
   "source": [
    "bins = [0, 1, 2, 5, 10, 20, 30, 40, 50, 60, 70, 80, 90, 100, 1000]"
   ]
  },
  {
   "cell_type": "code",
   "execution_count": 62,
   "metadata": {},
   "outputs": [
    {
     "data": {
      "text/html": [
       "<div>\n",
       "<style scoped>\n",
       "    .dataframe tbody tr th:only-of-type {\n",
       "        vertical-align: middle;\n",
       "    }\n",
       "\n",
       "    .dataframe tbody tr th {\n",
       "        vertical-align: top;\n",
       "    }\n",
       "\n",
       "    .dataframe thead th {\n",
       "        text-align: right;\n",
       "    }\n",
       "</style>\n",
       "<table border=\"1\" class=\"dataframe\">\n",
       "  <thead>\n",
       "    <tr style=\"text-align: right;\">\n",
       "      <th></th>\n",
       "      <th>I</th>\n",
       "      <th>J</th>\n",
       "      <th>HBW</th>\n",
       "      <th>HBO</th>\n",
       "      <th>NHB</th>\n",
       "      <th>XIIX</th>\n",
       "      <th>AUTOTRIPS</th>\n",
       "      <th>DISTANCE</th>\n",
       "      <th>dist_bin</th>\n",
       "    </tr>\n",
       "  </thead>\n",
       "  <tbody>\n",
       "    <tr>\n",
       "      <th>0</th>\n",
       "      <td>1</td>\n",
       "      <td>1</td>\n",
       "      <td>0.0</td>\n",
       "      <td>0.0</td>\n",
       "      <td>0.625359</td>\n",
       "      <td>0.0</td>\n",
       "      <td>0.625359</td>\n",
       "      <td>0.000000</td>\n",
       "      <td>[0, 1)</td>\n",
       "    </tr>\n",
       "    <tr>\n",
       "      <th>1</th>\n",
       "      <td>1</td>\n",
       "      <td>2</td>\n",
       "      <td>0.0</td>\n",
       "      <td>0.0</td>\n",
       "      <td>0.509751</td>\n",
       "      <td>0.0</td>\n",
       "      <td>0.509751</td>\n",
       "      <td>0.262192</td>\n",
       "      <td>[0, 1)</td>\n",
       "    </tr>\n",
       "    <tr>\n",
       "      <th>2</th>\n",
       "      <td>1</td>\n",
       "      <td>3</td>\n",
       "      <td>0.0</td>\n",
       "      <td>0.0</td>\n",
       "      <td>0.691367</td>\n",
       "      <td>0.0</td>\n",
       "      <td>0.691367</td>\n",
       "      <td>0.108211</td>\n",
       "      <td>[0, 1)</td>\n",
       "    </tr>\n",
       "    <tr>\n",
       "      <th>3</th>\n",
       "      <td>1</td>\n",
       "      <td>4</td>\n",
       "      <td>0.0</td>\n",
       "      <td>0.0</td>\n",
       "      <td>0.616767</td>\n",
       "      <td>0.0</td>\n",
       "      <td>0.616767</td>\n",
       "      <td>0.477902</td>\n",
       "      <td>[0, 1)</td>\n",
       "    </tr>\n",
       "    <tr>\n",
       "      <th>4</th>\n",
       "      <td>1</td>\n",
       "      <td>5</td>\n",
       "      <td>0.0</td>\n",
       "      <td>0.0</td>\n",
       "      <td>0.174565</td>\n",
       "      <td>0.0</td>\n",
       "      <td>0.174565</td>\n",
       "      <td>0.591185</td>\n",
       "      <td>[0, 1)</td>\n",
       "    </tr>\n",
       "  </tbody>\n",
       "</table>\n",
       "</div>"
      ],
      "text/plain": [
       "   I  J  HBW  HBO       NHB  XIIX  AUTOTRIPS  DISTANCE dist_bin\n",
       "0  1  1  0.0  0.0  0.625359   0.0   0.625359  0.000000   [0, 1)\n",
       "1  1  2  0.0  0.0  0.509751   0.0   0.509751  0.262192   [0, 1)\n",
       "2  1  3  0.0  0.0  0.691367   0.0   0.691367  0.108211   [0, 1)\n",
       "3  1  4  0.0  0.0  0.616767   0.0   0.616767  0.477902   [0, 1)\n",
       "4  1  5  0.0  0.0  0.174565   0.0   0.174565  0.591185   [0, 1)"
      ]
     },
     "execution_count": 62,
     "metadata": {},
     "output_type": "execute_result"
    }
   ],
   "source": [
    "df_model_trip_merge['dist_bin'] = pd.cut(df_model_trip_merge.DISTANCE, bins=bins, right=False)\n",
    "df_model_trip_merge.head()"
   ]
  },
  {
   "cell_type": "code",
   "execution_count": 63,
   "metadata": {},
   "outputs": [
    {
     "data": {
      "text/plain": [
       "dist_bin\n",
       "[0, 1)            444.069250\n",
       "[1, 2)           3108.566211\n",
       "[2, 5)          34010.334058\n",
       "[5, 10)         98087.402040\n",
       "[10, 20)       120798.864001\n",
       "[20, 30)         6794.562562\n",
       "[30, 40)            0.000000\n",
       "[40, 50)            0.000000\n",
       "[50, 60)            0.000000\n",
       "[60, 70)            0.000000\n",
       "[70, 80)            0.000000\n",
       "[80, 90)            0.000000\n",
       "[90, 100)           0.000000\n",
       "[100, 1000)         0.000000\n",
       "Name: DISTANCE, dtype: float64"
      ]
     },
     "execution_count": 63,
     "metadata": {},
     "output_type": "execute_result"
    }
   ],
   "source": [
    "df_trip_length_distribution_model = df_model_trip_merge.groupby('dist_bin')['DISTANCE'].sum()\n",
    "df_trip_length_distribution_model"
   ]
  },
  {
   "cell_type": "markdown",
   "metadata": {},
   "source": [
    "### Process SLD with Model Skim"
   ]
  },
  {
   "cell_type": "code",
   "execution_count": null,
   "metadata": {
    "collapsed": true
   },
   "outputs": [],
   "source": [
    "df_SLD_trips_daily = df_SLD_daily.loc[:,['Origin Zone ID', 'Destination Zone ID', 'O-D Traffic (StL Index)']]"
   ]
  },
  {
   "cell_type": "code",
   "execution_count": 77,
   "metadata": {},
   "outputs": [
    {
     "data": {
      "text/html": [
       "<div>\n",
       "<style scoped>\n",
       "    .dataframe tbody tr th:only-of-type {\n",
       "        vertical-align: middle;\n",
       "    }\n",
       "\n",
       "    .dataframe tbody tr th {\n",
       "        vertical-align: top;\n",
       "    }\n",
       "\n",
       "    .dataframe thead th {\n",
       "        text-align: right;\n",
       "    }\n",
       "</style>\n",
       "<table border=\"1\" class=\"dataframe\">\n",
       "  <thead>\n",
       "    <tr style=\"text-align: right;\">\n",
       "      <th></th>\n",
       "      <th>Origin Zone ID</th>\n",
       "      <th>Destination Zone ID</th>\n",
       "      <th>O-D Traffic (StL Index)</th>\n",
       "      <th>I</th>\n",
       "      <th>J</th>\n",
       "      <th>DISTANCE</th>\n",
       "    </tr>\n",
       "  </thead>\n",
       "  <tbody>\n",
       "    <tr>\n",
       "      <th>0</th>\n",
       "      <td>1</td>\n",
       "      <td>10</td>\n",
       "      <td>8</td>\n",
       "      <td>1</td>\n",
       "      <td>10</td>\n",
       "      <td>0.441919</td>\n",
       "    </tr>\n",
       "    <tr>\n",
       "      <th>1</th>\n",
       "      <td>1</td>\n",
       "      <td>100</td>\n",
       "      <td>3</td>\n",
       "      <td>1</td>\n",
       "      <td>100</td>\n",
       "      <td>1.602933</td>\n",
       "    </tr>\n",
       "    <tr>\n",
       "      <th>2</th>\n",
       "      <td>1</td>\n",
       "      <td>101</td>\n",
       "      <td>4</td>\n",
       "      <td>1</td>\n",
       "      <td>101</td>\n",
       "      <td>1.100480</td>\n",
       "    </tr>\n",
       "    <tr>\n",
       "      <th>3</th>\n",
       "      <td>1</td>\n",
       "      <td>102</td>\n",
       "      <td>7</td>\n",
       "      <td>1</td>\n",
       "      <td>102</td>\n",
       "      <td>0.739425</td>\n",
       "    </tr>\n",
       "    <tr>\n",
       "      <th>4</th>\n",
       "      <td>1</td>\n",
       "      <td>103</td>\n",
       "      <td>1</td>\n",
       "      <td>1</td>\n",
       "      <td>103</td>\n",
       "      <td>0.681908</td>\n",
       "    </tr>\n",
       "  </tbody>\n",
       "</table>\n",
       "</div>"
      ],
      "text/plain": [
       "   Origin Zone ID  Destination Zone ID  O-D Traffic (StL Index)  I    J  \\\n",
       "0               1                   10                        8  1   10   \n",
       "1               1                  100                        3  1  100   \n",
       "2               1                  101                        4  1  101   \n",
       "3               1                  102                        7  1  102   \n",
       "4               1                  103                        1  1  103   \n",
       "\n",
       "   DISTANCE  \n",
       "0  0.441919  \n",
       "1  1.602933  \n",
       "2  1.100480  \n",
       "3  0.739425  \n",
       "4  0.681908  "
      ]
     },
     "execution_count": 77,
     "metadata": {},
     "output_type": "execute_result"
    }
   ],
   "source": [
    "df_SLD_trips_daily = pd.merge(left=df_SLD_trips_daily, right=df_model_skims, left_on=['Origin Zone ID', 'Destination Zone ID'],\n",
    "                             right_on=['I','J'])\n",
    "df_SLD_trips_daily.head()"
   ]
  },
  {
   "cell_type": "code",
   "execution_count": 78,
   "metadata": {
    "collapsed": true
   },
   "outputs": [],
   "source": [
    "df_SLD_trips_daily['dist_bin'] = pd.cut(df_SLD_trips_daily.DISTANCE, bins=bins, right=False)"
   ]
  },
  {
   "cell_type": "code",
   "execution_count": 79,
   "metadata": {
    "collapsed": true
   },
   "outputs": [],
   "source": [
    "df_trip_length_distribution_SLD_model_skim = df_SLD_trips_daily.groupby('dist_bin')['DISTANCE'].sum()"
   ]
  },
  {
   "cell_type": "code",
   "execution_count": 80,
   "metadata": {},
   "outputs": [
    {
     "data": {
      "text/plain": [
       "dist_bin\n",
       "[0, 1)           432.134786\n",
       "[1, 2)          2930.543665\n",
       "[2, 5)         25667.526925\n",
       "[5, 10)        45454.856108\n",
       "[10, 20)       16471.288431\n",
       "[20, 30)           0.000000\n",
       "[30, 40)           0.000000\n",
       "[40, 50)           0.000000\n",
       "[50, 60)           0.000000\n",
       "[60, 70)           0.000000\n",
       "[70, 80)           0.000000\n",
       "[80, 90)           0.000000\n",
       "[90, 100)          0.000000\n",
       "[100, 1000)        0.000000\n",
       "Name: DISTANCE, dtype: float64"
      ]
     },
     "execution_count": 80,
     "metadata": {},
     "output_type": "execute_result"
    }
   ],
   "source": [
    "df_trip_length_distribution_SLD_model_skim"
   ]
  },
  {
   "cell_type": "markdown",
   "metadata": {},
   "source": [
    "### Comparison"
   ]
  },
  {
   "cell_type": "code",
   "execution_count": 82,
   "metadata": {},
   "outputs": [],
   "source": [
    "df_trip_length_distribution = df_trip_length_distribution_SLD.copy()\n",
    "df_trip_length_distribution['Trips_Model'] = df_trip_length_distribution_model.values\n",
    "df_trip_length_distribution['Percent_Model'] = df_trip_length_distribution['Trips_Model'] / sum(df_trip_length_distribution['Trips_Model'])"
   ]
  },
  {
   "cell_type": "code",
   "execution_count": 85,
   "metadata": {
    "collapsed": true
   },
   "outputs": [],
   "source": [
    "df_trip_length_distribution['Trips_TLD_Model_Skim'] = df_trip_length_distribution_SLD_model_skim.values\n",
    "df_trip_length_distribution['Percent_TLD_Model_Skim'] = df_trip_length_distribution['Trips_TLD_Model_Skim'] / sum(df_trip_length_distribution['Trips_TLD_Model_Skim'])"
   ]
  },
  {
   "cell_type": "code",
   "execution_count": 86,
   "metadata": {},
   "outputs": [
    {
     "data": {
      "text/html": [
       "<div>\n",
       "<style scoped>\n",
       "    .dataframe tbody tr th:only-of-type {\n",
       "        vertical-align: middle;\n",
       "    }\n",
       "\n",
       "    .dataframe tbody tr th {\n",
       "        vertical-align: top;\n",
       "    }\n",
       "\n",
       "    .dataframe thead th {\n",
       "        text-align: right;\n",
       "    }\n",
       "</style>\n",
       "<table border=\"1\" class=\"dataframe\">\n",
       "  <thead>\n",
       "    <tr style=\"text-align: right;\">\n",
       "      <th></th>\n",
       "      <th>Trips_SLD</th>\n",
       "      <th>Percent_SLD</th>\n",
       "      <th>Trips_Model</th>\n",
       "      <th>Percent_Model</th>\n",
       "      <th>Trips_TLD_Model_Skim</th>\n",
       "      <th>Percent_TLD_Model_Skim</th>\n",
       "    </tr>\n",
       "  </thead>\n",
       "  <tbody>\n",
       "    <tr>\n",
       "      <th>Trip Length 0-1 mi (percent)</th>\n",
       "      <td>17403.619</td>\n",
       "      <td>0.098127</td>\n",
       "      <td>444.069250</td>\n",
       "      <td>0.001687</td>\n",
       "      <td>432.134786</td>\n",
       "      <td>0.004751</td>\n",
       "    </tr>\n",
       "    <tr>\n",
       "      <th>Trip Length 1-2 mi (percent)</th>\n",
       "      <td>31733.101</td>\n",
       "      <td>0.178921</td>\n",
       "      <td>3108.566211</td>\n",
       "      <td>0.011809</td>\n",
       "      <td>2930.543665</td>\n",
       "      <td>0.032219</td>\n",
       "    </tr>\n",
       "    <tr>\n",
       "      <th>Trip Length 2-5 mi (percent)</th>\n",
       "      <td>69690.129</td>\n",
       "      <td>0.392935</td>\n",
       "      <td>34010.334058</td>\n",
       "      <td>0.129197</td>\n",
       "      <td>25667.526925</td>\n",
       "      <td>0.282196</td>\n",
       "    </tr>\n",
       "    <tr>\n",
       "      <th>Trip Length 5-10 mi (percent)</th>\n",
       "      <td>43428.948</td>\n",
       "      <td>0.244866</td>\n",
       "      <td>98087.402040</td>\n",
       "      <td>0.372610</td>\n",
       "      <td>45454.856108</td>\n",
       "      <td>0.499744</td>\n",
       "    </tr>\n",
       "    <tr>\n",
       "      <th>Trip Length 10-20 mi (percent)</th>\n",
       "      <td>13156.385</td>\n",
       "      <td>0.074180</td>\n",
       "      <td>120798.864001</td>\n",
       "      <td>0.458886</td>\n",
       "      <td>16471.288431</td>\n",
       "      <td>0.181090</td>\n",
       "    </tr>\n",
       "    <tr>\n",
       "      <th>Trip Length 20-30 mi (percent)</th>\n",
       "      <td>1340.349</td>\n",
       "      <td>0.007557</td>\n",
       "      <td>6794.562562</td>\n",
       "      <td>0.025811</td>\n",
       "      <td>0.000000</td>\n",
       "      <td>0.000000</td>\n",
       "    </tr>\n",
       "    <tr>\n",
       "      <th>Trip Length 30-40 mi (percent)</th>\n",
       "      <td>345.977</td>\n",
       "      <td>0.001951</td>\n",
       "      <td>0.000000</td>\n",
       "      <td>0.000000</td>\n",
       "      <td>0.000000</td>\n",
       "      <td>0.000000</td>\n",
       "    </tr>\n",
       "    <tr>\n",
       "      <th>Trip Length 40-50 mi (percent)</th>\n",
       "      <td>128.613</td>\n",
       "      <td>0.000725</td>\n",
       "      <td>0.000000</td>\n",
       "      <td>0.000000</td>\n",
       "      <td>0.000000</td>\n",
       "      <td>0.000000</td>\n",
       "    </tr>\n",
       "    <tr>\n",
       "      <th>Trip Length 50-60 mi (percent)</th>\n",
       "      <td>65.267</td>\n",
       "      <td>0.000368</td>\n",
       "      <td>0.000000</td>\n",
       "      <td>0.000000</td>\n",
       "      <td>0.000000</td>\n",
       "      <td>0.000000</td>\n",
       "    </tr>\n",
       "    <tr>\n",
       "      <th>Trip Length 60-70 mi (percent)</th>\n",
       "      <td>31.914</td>\n",
       "      <td>0.000180</td>\n",
       "      <td>0.000000</td>\n",
       "      <td>0.000000</td>\n",
       "      <td>0.000000</td>\n",
       "      <td>0.000000</td>\n",
       "    </tr>\n",
       "    <tr>\n",
       "      <th>Trip Length 70-80 mi (percent)</th>\n",
       "      <td>15.367</td>\n",
       "      <td>0.000087</td>\n",
       "      <td>0.000000</td>\n",
       "      <td>0.000000</td>\n",
       "      <td>0.000000</td>\n",
       "      <td>0.000000</td>\n",
       "    </tr>\n",
       "    <tr>\n",
       "      <th>Trip Length 80-90 mi (percent)</th>\n",
       "      <td>6.156</td>\n",
       "      <td>0.000035</td>\n",
       "      <td>0.000000</td>\n",
       "      <td>0.000000</td>\n",
       "      <td>0.000000</td>\n",
       "      <td>0.000000</td>\n",
       "    </tr>\n",
       "    <tr>\n",
       "      <th>Trip Length 90-100 mi (percent)</th>\n",
       "      <td>2.660</td>\n",
       "      <td>0.000015</td>\n",
       "      <td>0.000000</td>\n",
       "      <td>0.000000</td>\n",
       "      <td>0.000000</td>\n",
       "      <td>0.000000</td>\n",
       "    </tr>\n",
       "    <tr>\n",
       "      <th>Trip Length 100+ mi (percent)</th>\n",
       "      <td>9.261</td>\n",
       "      <td>0.000052</td>\n",
       "      <td>0.000000</td>\n",
       "      <td>0.000000</td>\n",
       "      <td>0.000000</td>\n",
       "      <td>0.000000</td>\n",
       "    </tr>\n",
       "  </tbody>\n",
       "</table>\n",
       "</div>"
      ],
      "text/plain": [
       "                                 Trips_SLD  Percent_SLD    Trips_Model  \\\n",
       "Trip Length 0-1 mi (percent)     17403.619     0.098127     444.069250   \n",
       "Trip Length 1-2 mi (percent)     31733.101     0.178921    3108.566211   \n",
       "Trip Length 2-5 mi (percent)     69690.129     0.392935   34010.334058   \n",
       "Trip Length 5-10 mi (percent)    43428.948     0.244866   98087.402040   \n",
       "Trip Length 10-20 mi (percent)   13156.385     0.074180  120798.864001   \n",
       "Trip Length 20-30 mi (percent)    1340.349     0.007557    6794.562562   \n",
       "Trip Length 30-40 mi (percent)     345.977     0.001951       0.000000   \n",
       "Trip Length 40-50 mi (percent)     128.613     0.000725       0.000000   \n",
       "Trip Length 50-60 mi (percent)      65.267     0.000368       0.000000   \n",
       "Trip Length 60-70 mi (percent)      31.914     0.000180       0.000000   \n",
       "Trip Length 70-80 mi (percent)      15.367     0.000087       0.000000   \n",
       "Trip Length 80-90 mi (percent)       6.156     0.000035       0.000000   \n",
       "Trip Length 90-100 mi (percent)      2.660     0.000015       0.000000   \n",
       "Trip Length 100+ mi (percent)        9.261     0.000052       0.000000   \n",
       "\n",
       "                                 Percent_Model  Trips_TLD_Model_Skim  \\\n",
       "Trip Length 0-1 mi (percent)          0.001687            432.134786   \n",
       "Trip Length 1-2 mi (percent)          0.011809           2930.543665   \n",
       "Trip Length 2-5 mi (percent)          0.129197          25667.526925   \n",
       "Trip Length 5-10 mi (percent)         0.372610          45454.856108   \n",
       "Trip Length 10-20 mi (percent)        0.458886          16471.288431   \n",
       "Trip Length 20-30 mi (percent)        0.025811              0.000000   \n",
       "Trip Length 30-40 mi (percent)        0.000000              0.000000   \n",
       "Trip Length 40-50 mi (percent)        0.000000              0.000000   \n",
       "Trip Length 50-60 mi (percent)        0.000000              0.000000   \n",
       "Trip Length 60-70 mi (percent)        0.000000              0.000000   \n",
       "Trip Length 70-80 mi (percent)        0.000000              0.000000   \n",
       "Trip Length 80-90 mi (percent)        0.000000              0.000000   \n",
       "Trip Length 90-100 mi (percent)       0.000000              0.000000   \n",
       "Trip Length 100+ mi (percent)         0.000000              0.000000   \n",
       "\n",
       "                                 Percent_TLD_Model_Skim  \n",
       "Trip Length 0-1 mi (percent)                   0.004751  \n",
       "Trip Length 1-2 mi (percent)                   0.032219  \n",
       "Trip Length 2-5 mi (percent)                   0.282196  \n",
       "Trip Length 5-10 mi (percent)                  0.499744  \n",
       "Trip Length 10-20 mi (percent)                 0.181090  \n",
       "Trip Length 20-30 mi (percent)                 0.000000  \n",
       "Trip Length 30-40 mi (percent)                 0.000000  \n",
       "Trip Length 40-50 mi (percent)                 0.000000  \n",
       "Trip Length 50-60 mi (percent)                 0.000000  \n",
       "Trip Length 60-70 mi (percent)                 0.000000  \n",
       "Trip Length 70-80 mi (percent)                 0.000000  \n",
       "Trip Length 80-90 mi (percent)                 0.000000  \n",
       "Trip Length 90-100 mi (percent)                0.000000  \n",
       "Trip Length 100+ mi (percent)                  0.000000  "
      ]
     },
     "execution_count": 86,
     "metadata": {},
     "output_type": "execute_result"
    }
   ],
   "source": [
    "df_trip_length_distribution"
   ]
  },
  {
   "cell_type": "code",
   "execution_count": 84,
   "metadata": {},
   "outputs": [
    {
     "name": "stdout",
     "output_type": "stream",
     "text": [
      "Coincidence Ratio between Model and SLD = 0.31\n"
     ]
    }
   ],
   "source": [
    "print(\"Coincidence Ratio between Model and SLD = {:.2f}\".format(coincidence_ratio(\n",
    "    df_trip_length_distribution.Percent_Model, df_trip_length_distribution.Percent_SLD\n",
    ")))"
   ]
  },
  {
   "cell_type": "code",
   "execution_count": 87,
   "metadata": {},
   "outputs": [
    {
     "name": "stdout",
     "output_type": "stream",
     "text": [
      "Coincidence Ratio between Model and SLD with Model Skim = 0.53\n"
     ]
    }
   ],
   "source": [
    "print(\"Coincidence Ratio between Model and SLD with Model Skim = {:.2f}\".format(coincidence_ratio(\n",
    "    df_trip_length_distribution.Percent_Model, df_trip_length_distribution.Percent_TLD_Model_Skim\n",
    ")))"
   ]
  },
  {
   "cell_type": "markdown",
   "metadata": {},
   "source": [
    "### Comparison using Different Bins"
   ]
  },
  {
   "cell_type": "code",
   "execution_count": 88,
   "metadata": {
    "collapsed": true
   },
   "outputs": [],
   "source": [
    "df_model_trip_bins = df_model_trip_merge.copy()"
   ]
  },
  {
   "cell_type": "code",
   "execution_count": 102,
   "metadata": {},
   "outputs": [],
   "source": [
    "bins2 = np.arange(0, 52, 2)\n",
    "df_model_trip_bins['dist_bin'] = pd.cut(df_model_trip_bins.DISTANCE, bins=bins2, right=False)"
   ]
  },
  {
   "cell_type": "code",
   "execution_count": 103,
   "metadata": {},
   "outputs": [
    {
     "data": {
      "text/html": [
       "<div>\n",
       "<style scoped>\n",
       "    .dataframe tbody tr th:only-of-type {\n",
       "        vertical-align: middle;\n",
       "    }\n",
       "\n",
       "    .dataframe tbody tr th {\n",
       "        vertical-align: top;\n",
       "    }\n",
       "\n",
       "    .dataframe thead th {\n",
       "        text-align: right;\n",
       "    }\n",
       "</style>\n",
       "<table border=\"1\" class=\"dataframe\">\n",
       "  <thead>\n",
       "    <tr style=\"text-align: right;\">\n",
       "      <th></th>\n",
       "      <th>Trips_Model</th>\n",
       "      <th>Percent_Model</th>\n",
       "    </tr>\n",
       "    <tr>\n",
       "      <th>dist_bin</th>\n",
       "      <th></th>\n",
       "      <th></th>\n",
       "    </tr>\n",
       "  </thead>\n",
       "  <tbody>\n",
       "    <tr>\n",
       "      <th>[0, 2)</th>\n",
       "      <td>3552.635461</td>\n",
       "      <td>0.013496</td>\n",
       "    </tr>\n",
       "    <tr>\n",
       "      <th>[2, 4)</th>\n",
       "      <td>19216.653770</td>\n",
       "      <td>0.072999</td>\n",
       "    </tr>\n",
       "    <tr>\n",
       "      <th>[4, 6)</th>\n",
       "      <td>32232.918849</td>\n",
       "      <td>0.122445</td>\n",
       "    </tr>\n",
       "    <tr>\n",
       "      <th>[6, 8)</th>\n",
       "      <td>38888.583357</td>\n",
       "      <td>0.147728</td>\n",
       "    </tr>\n",
       "    <tr>\n",
       "      <th>[8, 10)</th>\n",
       "      <td>41759.580122</td>\n",
       "      <td>0.158635</td>\n",
       "    </tr>\n",
       "    <tr>\n",
       "      <th>[10, 12)</th>\n",
       "      <td>39911.509621</td>\n",
       "      <td>0.151614</td>\n",
       "    </tr>\n",
       "    <tr>\n",
       "      <th>[12, 14)</th>\n",
       "      <td>33890.675442</td>\n",
       "      <td>0.128743</td>\n",
       "    </tr>\n",
       "    <tr>\n",
       "      <th>[14, 16)</th>\n",
       "      <td>25493.982475</td>\n",
       "      <td>0.096846</td>\n",
       "    </tr>\n",
       "    <tr>\n",
       "      <th>[16, 18)</th>\n",
       "      <td>14006.054027</td>\n",
       "      <td>0.053206</td>\n",
       "    </tr>\n",
       "    <tr>\n",
       "      <th>[18, 20)</th>\n",
       "      <td>7496.642436</td>\n",
       "      <td>0.028478</td>\n",
       "    </tr>\n",
       "    <tr>\n",
       "      <th>[20, 22)</th>\n",
       "      <td>4327.930606</td>\n",
       "      <td>0.016441</td>\n",
       "    </tr>\n",
       "    <tr>\n",
       "      <th>[22, 24)</th>\n",
       "      <td>1817.226748</td>\n",
       "      <td>0.006903</td>\n",
       "    </tr>\n",
       "    <tr>\n",
       "      <th>[24, 26)</th>\n",
       "      <td>569.749855</td>\n",
       "      <td>0.002164</td>\n",
       "    </tr>\n",
       "    <tr>\n",
       "      <th>[26, 28)</th>\n",
       "      <td>79.655353</td>\n",
       "      <td>0.000303</td>\n",
       "    </tr>\n",
       "    <tr>\n",
       "      <th>[28, 30)</th>\n",
       "      <td>0.000000</td>\n",
       "      <td>0.000000</td>\n",
       "    </tr>\n",
       "    <tr>\n",
       "      <th>[30, 32)</th>\n",
       "      <td>0.000000</td>\n",
       "      <td>0.000000</td>\n",
       "    </tr>\n",
       "    <tr>\n",
       "      <th>[32, 34)</th>\n",
       "      <td>0.000000</td>\n",
       "      <td>0.000000</td>\n",
       "    </tr>\n",
       "    <tr>\n",
       "      <th>[34, 36)</th>\n",
       "      <td>0.000000</td>\n",
       "      <td>0.000000</td>\n",
       "    </tr>\n",
       "    <tr>\n",
       "      <th>[36, 38)</th>\n",
       "      <td>0.000000</td>\n",
       "      <td>0.000000</td>\n",
       "    </tr>\n",
       "    <tr>\n",
       "      <th>[38, 40)</th>\n",
       "      <td>0.000000</td>\n",
       "      <td>0.000000</td>\n",
       "    </tr>\n",
       "    <tr>\n",
       "      <th>[40, 42)</th>\n",
       "      <td>0.000000</td>\n",
       "      <td>0.000000</td>\n",
       "    </tr>\n",
       "    <tr>\n",
       "      <th>[42, 44)</th>\n",
       "      <td>0.000000</td>\n",
       "      <td>0.000000</td>\n",
       "    </tr>\n",
       "    <tr>\n",
       "      <th>[44, 46)</th>\n",
       "      <td>0.000000</td>\n",
       "      <td>0.000000</td>\n",
       "    </tr>\n",
       "    <tr>\n",
       "      <th>[46, 48)</th>\n",
       "      <td>0.000000</td>\n",
       "      <td>0.000000</td>\n",
       "    </tr>\n",
       "    <tr>\n",
       "      <th>[48, 50)</th>\n",
       "      <td>0.000000</td>\n",
       "      <td>0.000000</td>\n",
       "    </tr>\n",
       "  </tbody>\n",
       "</table>\n",
       "</div>"
      ],
      "text/plain": [
       "           Trips_Model  Percent_Model\n",
       "dist_bin                             \n",
       "[0, 2)     3552.635461       0.013496\n",
       "[2, 4)    19216.653770       0.072999\n",
       "[4, 6)    32232.918849       0.122445\n",
       "[6, 8)    38888.583357       0.147728\n",
       "[8, 10)   41759.580122       0.158635\n",
       "[10, 12)  39911.509621       0.151614\n",
       "[12, 14)  33890.675442       0.128743\n",
       "[14, 16)  25493.982475       0.096846\n",
       "[16, 18)  14006.054027       0.053206\n",
       "[18, 20)   7496.642436       0.028478\n",
       "[20, 22)   4327.930606       0.016441\n",
       "[22, 24)   1817.226748       0.006903\n",
       "[24, 26)    569.749855       0.002164\n",
       "[26, 28)     79.655353       0.000303\n",
       "[28, 30)      0.000000       0.000000\n",
       "[30, 32)      0.000000       0.000000\n",
       "[32, 34)      0.000000       0.000000\n",
       "[34, 36)      0.000000       0.000000\n",
       "[36, 38)      0.000000       0.000000\n",
       "[38, 40)      0.000000       0.000000\n",
       "[40, 42)      0.000000       0.000000\n",
       "[42, 44)      0.000000       0.000000\n",
       "[44, 46)      0.000000       0.000000\n",
       "[46, 48)      0.000000       0.000000\n",
       "[48, 50)      0.000000       0.000000"
      ]
     },
     "execution_count": 103,
     "metadata": {},
     "output_type": "execute_result"
    }
   ],
   "source": [
    "df_TLD = pd.DataFrame(df_model_trip_bins.groupby('dist_bin')['DISTANCE'].sum())\n",
    "df_TLD.rename(columns={'DISTANCE':'Trips_Model'}, inplace=True)\n",
    "df_TLD['Percent_Model'] = df_TLD['Trips_Model'] / sum(df_TLD['Trips_Model']) \n",
    "df_TLD"
   ]
  },
  {
   "cell_type": "code",
   "execution_count": 104,
   "metadata": {
    "collapsed": true
   },
   "outputs": [],
   "source": [
    "df_SLD_trips_daily['dist_bin'] = pd.cut(df_SLD_trips_daily.DISTANCE, bins=bins2, right=False)"
   ]
  },
  {
   "cell_type": "code",
   "execution_count": 105,
   "metadata": {
    "collapsed": true
   },
   "outputs": [],
   "source": [
    "df_TLD_SLD_Model_Skim = df_SLD_trips_daily.groupby('dist_bin')['DISTANCE'].sum()\n",
    "df_TLD['Trips_SLD'] = df_TLD_SLD_Model_Skim.values\n",
    "df_TLD['Percent_SLD'] = df_TLD['Trips_SLD'] / sum(df_TLD['Trips_SLD'])"
   ]
  },
  {
   "cell_type": "code",
   "execution_count": 106,
   "metadata": {},
   "outputs": [
    {
     "name": "stdout",
     "output_type": "stream",
     "text": [
      "Coincidence Ratio between Model and SLD with Model Skim = 0.53\n"
     ]
    }
   ],
   "source": [
    "print(\"Coincidence Ratio between Model and SLD with Model Skim = {:.2f}\".format(coincidence_ratio(\n",
    "    df_TLD.Percent_Model, df_TLD.Percent_SLD\n",
    ")))"
   ]
  },
  {
   "cell_type": "code",
   "execution_count": 107,
   "metadata": {},
   "outputs": [
    {
     "data": {
      "text/html": [
       "<div>\n",
       "<style scoped>\n",
       "    .dataframe tbody tr th:only-of-type {\n",
       "        vertical-align: middle;\n",
       "    }\n",
       "\n",
       "    .dataframe tbody tr th {\n",
       "        vertical-align: top;\n",
       "    }\n",
       "\n",
       "    .dataframe thead th {\n",
       "        text-align: right;\n",
       "    }\n",
       "</style>\n",
       "<table border=\"1\" class=\"dataframe\">\n",
       "  <thead>\n",
       "    <tr style=\"text-align: right;\">\n",
       "      <th></th>\n",
       "      <th>Trips_Model</th>\n",
       "      <th>Percent_Model</th>\n",
       "      <th>Trips_SLD</th>\n",
       "      <th>Percent_SLD</th>\n",
       "    </tr>\n",
       "    <tr>\n",
       "      <th>dist_bin</th>\n",
       "      <th></th>\n",
       "      <th></th>\n",
       "      <th></th>\n",
       "      <th></th>\n",
       "    </tr>\n",
       "  </thead>\n",
       "  <tbody>\n",
       "    <tr>\n",
       "      <th>[0, 2)</th>\n",
       "      <td>3552.635461</td>\n",
       "      <td>0.013496</td>\n",
       "      <td>3362.678451</td>\n",
       "      <td>0.036970</td>\n",
       "    </tr>\n",
       "    <tr>\n",
       "      <th>[2, 4)</th>\n",
       "      <td>19216.653770</td>\n",
       "      <td>0.072999</td>\n",
       "      <td>15413.447659</td>\n",
       "      <td>0.169460</td>\n",
       "    </tr>\n",
       "    <tr>\n",
       "      <th>[4, 6)</th>\n",
       "      <td>32232.918849</td>\n",
       "      <td>0.122445</td>\n",
       "      <td>21175.007238</td>\n",
       "      <td>0.232804</td>\n",
       "    </tr>\n",
       "    <tr>\n",
       "      <th>[6, 8)</th>\n",
       "      <td>38888.583357</td>\n",
       "      <td>0.147728</td>\n",
       "      <td>19628.746799</td>\n",
       "      <td>0.215804</td>\n",
       "    </tr>\n",
       "    <tr>\n",
       "      <th>[8, 10)</th>\n",
       "      <td>41759.580122</td>\n",
       "      <td>0.158635</td>\n",
       "      <td>14905.181337</td>\n",
       "      <td>0.163872</td>\n",
       "    </tr>\n",
       "    <tr>\n",
       "      <th>[10, 12)</th>\n",
       "      <td>39911.509621</td>\n",
       "      <td>0.151614</td>\n",
       "      <td>9136.885658</td>\n",
       "      <td>0.100454</td>\n",
       "    </tr>\n",
       "    <tr>\n",
       "      <th>[12, 14)</th>\n",
       "      <td>33890.675442</td>\n",
       "      <td>0.128743</td>\n",
       "      <td>4702.623601</td>\n",
       "      <td>0.051702</td>\n",
       "    </tr>\n",
       "    <tr>\n",
       "      <th>[14, 16)</th>\n",
       "      <td>25493.982475</td>\n",
       "      <td>0.096846</td>\n",
       "      <td>1883.441559</td>\n",
       "      <td>0.020707</td>\n",
       "    </tr>\n",
       "    <tr>\n",
       "      <th>[16, 18)</th>\n",
       "      <td>14006.054027</td>\n",
       "      <td>0.053206</td>\n",
       "      <td>652.815171</td>\n",
       "      <td>0.007177</td>\n",
       "    </tr>\n",
       "    <tr>\n",
       "      <th>[18, 20)</th>\n",
       "      <td>7496.642436</td>\n",
       "      <td>0.028478</td>\n",
       "      <td>95.522442</td>\n",
       "      <td>0.001050</td>\n",
       "    </tr>\n",
       "    <tr>\n",
       "      <th>[20, 22)</th>\n",
       "      <td>4327.930606</td>\n",
       "      <td>0.016441</td>\n",
       "      <td>0.000000</td>\n",
       "      <td>0.000000</td>\n",
       "    </tr>\n",
       "    <tr>\n",
       "      <th>[22, 24)</th>\n",
       "      <td>1817.226748</td>\n",
       "      <td>0.006903</td>\n",
       "      <td>0.000000</td>\n",
       "      <td>0.000000</td>\n",
       "    </tr>\n",
       "    <tr>\n",
       "      <th>[24, 26)</th>\n",
       "      <td>569.749855</td>\n",
       "      <td>0.002164</td>\n",
       "      <td>0.000000</td>\n",
       "      <td>0.000000</td>\n",
       "    </tr>\n",
       "    <tr>\n",
       "      <th>[26, 28)</th>\n",
       "      <td>79.655353</td>\n",
       "      <td>0.000303</td>\n",
       "      <td>0.000000</td>\n",
       "      <td>0.000000</td>\n",
       "    </tr>\n",
       "    <tr>\n",
       "      <th>[28, 30)</th>\n",
       "      <td>0.000000</td>\n",
       "      <td>0.000000</td>\n",
       "      <td>0.000000</td>\n",
       "      <td>0.000000</td>\n",
       "    </tr>\n",
       "    <tr>\n",
       "      <th>[30, 32)</th>\n",
       "      <td>0.000000</td>\n",
       "      <td>0.000000</td>\n",
       "      <td>0.000000</td>\n",
       "      <td>0.000000</td>\n",
       "    </tr>\n",
       "    <tr>\n",
       "      <th>[32, 34)</th>\n",
       "      <td>0.000000</td>\n",
       "      <td>0.000000</td>\n",
       "      <td>0.000000</td>\n",
       "      <td>0.000000</td>\n",
       "    </tr>\n",
       "    <tr>\n",
       "      <th>[34, 36)</th>\n",
       "      <td>0.000000</td>\n",
       "      <td>0.000000</td>\n",
       "      <td>0.000000</td>\n",
       "      <td>0.000000</td>\n",
       "    </tr>\n",
       "    <tr>\n",
       "      <th>[36, 38)</th>\n",
       "      <td>0.000000</td>\n",
       "      <td>0.000000</td>\n",
       "      <td>0.000000</td>\n",
       "      <td>0.000000</td>\n",
       "    </tr>\n",
       "    <tr>\n",
       "      <th>[38, 40)</th>\n",
       "      <td>0.000000</td>\n",
       "      <td>0.000000</td>\n",
       "      <td>0.000000</td>\n",
       "      <td>0.000000</td>\n",
       "    </tr>\n",
       "    <tr>\n",
       "      <th>[40, 42)</th>\n",
       "      <td>0.000000</td>\n",
       "      <td>0.000000</td>\n",
       "      <td>0.000000</td>\n",
       "      <td>0.000000</td>\n",
       "    </tr>\n",
       "    <tr>\n",
       "      <th>[42, 44)</th>\n",
       "      <td>0.000000</td>\n",
       "      <td>0.000000</td>\n",
       "      <td>0.000000</td>\n",
       "      <td>0.000000</td>\n",
       "    </tr>\n",
       "    <tr>\n",
       "      <th>[44, 46)</th>\n",
       "      <td>0.000000</td>\n",
       "      <td>0.000000</td>\n",
       "      <td>0.000000</td>\n",
       "      <td>0.000000</td>\n",
       "    </tr>\n",
       "    <tr>\n",
       "      <th>[46, 48)</th>\n",
       "      <td>0.000000</td>\n",
       "      <td>0.000000</td>\n",
       "      <td>0.000000</td>\n",
       "      <td>0.000000</td>\n",
       "    </tr>\n",
       "    <tr>\n",
       "      <th>[48, 50)</th>\n",
       "      <td>0.000000</td>\n",
       "      <td>0.000000</td>\n",
       "      <td>0.000000</td>\n",
       "      <td>0.000000</td>\n",
       "    </tr>\n",
       "  </tbody>\n",
       "</table>\n",
       "</div>"
      ],
      "text/plain": [
       "           Trips_Model  Percent_Model     Trips_SLD  Percent_SLD\n",
       "dist_bin                                                        \n",
       "[0, 2)     3552.635461       0.013496   3362.678451     0.036970\n",
       "[2, 4)    19216.653770       0.072999  15413.447659     0.169460\n",
       "[4, 6)    32232.918849       0.122445  21175.007238     0.232804\n",
       "[6, 8)    38888.583357       0.147728  19628.746799     0.215804\n",
       "[8, 10)   41759.580122       0.158635  14905.181337     0.163872\n",
       "[10, 12)  39911.509621       0.151614   9136.885658     0.100454\n",
       "[12, 14)  33890.675442       0.128743   4702.623601     0.051702\n",
       "[14, 16)  25493.982475       0.096846   1883.441559     0.020707\n",
       "[16, 18)  14006.054027       0.053206    652.815171     0.007177\n",
       "[18, 20)   7496.642436       0.028478     95.522442     0.001050\n",
       "[20, 22)   4327.930606       0.016441      0.000000     0.000000\n",
       "[22, 24)   1817.226748       0.006903      0.000000     0.000000\n",
       "[24, 26)    569.749855       0.002164      0.000000     0.000000\n",
       "[26, 28)     79.655353       0.000303      0.000000     0.000000\n",
       "[28, 30)      0.000000       0.000000      0.000000     0.000000\n",
       "[30, 32)      0.000000       0.000000      0.000000     0.000000\n",
       "[32, 34)      0.000000       0.000000      0.000000     0.000000\n",
       "[34, 36)      0.000000       0.000000      0.000000     0.000000\n",
       "[36, 38)      0.000000       0.000000      0.000000     0.000000\n",
       "[38, 40)      0.000000       0.000000      0.000000     0.000000\n",
       "[40, 42)      0.000000       0.000000      0.000000     0.000000\n",
       "[42, 44)      0.000000       0.000000      0.000000     0.000000\n",
       "[44, 46)      0.000000       0.000000      0.000000     0.000000\n",
       "[46, 48)      0.000000       0.000000      0.000000     0.000000\n",
       "[48, 50)      0.000000       0.000000      0.000000     0.000000"
      ]
     },
     "execution_count": 107,
     "metadata": {},
     "output_type": "execute_result"
    }
   ],
   "source": [
    "df_TLD"
   ]
  },
  {
   "cell_type": "markdown",
   "metadata": {},
   "source": [
    "## Travel Times as Skims"
   ]
  },
  {
   "cell_type": "code",
   "execution_count": 110,
   "metadata": {
    "collapsed": true
   },
   "outputs": [],
   "source": [
    "df_SLD = pd.read_csv(FILE_OD_TRIP_ATTR)"
   ]
  },
  {
   "cell_type": "code",
   "execution_count": 111,
   "metadata": {
    "collapsed": true
   },
   "outputs": [],
   "source": [
    "selection = (df_SLD['Day Type'] == '1: Average Weekday (M-F)') & (df_SLD['Day Part'] == '0: All Day (12am-12am)') \n",
    "useful_cols = [\n",
    "    'Origin Zone ID',\n",
    "    'Destination Zone ID',\n",
    "    'O-D Traffic (StL Index)',\n",
    "    'Trip Duration 0-10 min (percent)'   ,    \n",
    "    'Trip Duration 10-20 min (percent)'  ,    \n",
    "    'Trip Duration 20-30 min (percent)'  ,    \n",
    "    'Trip Duration 30-40 min (percent)'  ,    \n",
    "    'Trip Duration 40-50 min (percent)'  ,    \n",
    "    'Trip Duration 50-60 min (percent)'  ,    \n",
    "    'Trip Duration 60-70 min (percent)'  ,    \n",
    "    'Trip Duration 70-80 min (percent)'  ,    \n",
    "    'Trip Duration 80-90 min (percent)'  ,    \n",
    "    'Trip Duration 90-100 min (percent)' ,    \n",
    "    'Trip Duration 100-110 min (percent)',    \n",
    "    'Trip Duration 110-120 min (percent)',    \n",
    "    'Trip Duration 120-130 min (percent)',    \n",
    "    'Trip Duration 130-140 min (percent)',    \n",
    "    'Trip Duration 140-150 min (percent)',    \n",
    "    'Trip Duration 150+ min (percent)'   ,\n",
    "    \n",
    "]\n",
    "df_SLD_daily = df_SLD.loc[selection,useful_cols]"
   ]
  },
  {
   "cell_type": "code",
   "execution_count": 112,
   "metadata": {
    "collapsed": true
   },
   "outputs": [],
   "source": [
    "trip_duration_percent = df_SLD_daily.values[:,3:]"
   ]
  },
  {
   "cell_type": "code",
   "execution_count": 113,
   "metadata": {
    "collapsed": true
   },
   "outputs": [],
   "source": [
    "trips = df_SLD_daily.values[:,2]"
   ]
  },
  {
   "cell_type": "code",
   "execution_count": 114,
   "metadata": {},
   "outputs": [
    {
     "data": {
      "text/plain": [
       "array([[ 2.664,  2.664,  1.336, ...,  0.   ,  0.   ,  0.   ],\n",
       "       [ 1.2  ,  1.2  ,  0.6  , ...,  0.   ,  0.   ,  0.   ],\n",
       "       [ 1.332,  1.332,  0.   , ...,  0.   ,  0.   ,  0.   ],\n",
       "       ...,\n",
       "       [12.444, 13.26 ,  4.148, ...,  0.   ,  0.   ,  0.   ],\n",
       "       [ 5.321,  7.446,  0.   , ...,  0.   ,  0.   ,  0.   ],\n",
       "       [10.8  ,  8.991,  1.809, ...,  0.   ,  0.   ,  0.   ]])"
      ]
     },
     "execution_count": 114,
     "metadata": {},
     "output_type": "execute_result"
    }
   ],
   "source": [
    "trips_by_duration = np.tile(trips.reshape(-1,1), (1,trip_duration_percent.shape[1])) * trip_duration_percent\n",
    "trips_by_duration"
   ]
  },
  {
   "cell_type": "code",
   "execution_count": 116,
   "metadata": {},
   "outputs": [
    {
     "data": {
      "text/plain": [
       "array([29895.949, 63415.034, 39378.094, 20094.44 , 10422.131,  5584.652,\n",
       "        3175.624,  1856.675,  1095.468,   702.041,   462.819,   336.76 ,\n",
       "         230.719,   176.788,   113.185,   418.715])"
      ]
     },
     "execution_count": 116,
     "metadata": {},
     "output_type": "execute_result"
    }
   ],
   "source": [
    "trips_by_duration = trips_by_duration.sum(axis=0)\n",
    "trips_by_duration"
   ]
  },
  {
   "cell_type": "code",
   "execution_count": 117,
   "metadata": {},
   "outputs": [
    {
     "data": {
      "text/html": [
       "<div>\n",
       "<style scoped>\n",
       "    .dataframe tbody tr th:only-of-type {\n",
       "        vertical-align: middle;\n",
       "    }\n",
       "\n",
       "    .dataframe tbody tr th {\n",
       "        vertical-align: top;\n",
       "    }\n",
       "\n",
       "    .dataframe thead th {\n",
       "        text-align: right;\n",
       "    }\n",
       "</style>\n",
       "<table border=\"1\" class=\"dataframe\">\n",
       "  <thead>\n",
       "    <tr style=\"text-align: right;\">\n",
       "      <th></th>\n",
       "      <th>Trips_SLD</th>\n",
       "      <th>Percent_SLD</th>\n",
       "    </tr>\n",
       "  </thead>\n",
       "  <tbody>\n",
       "    <tr>\n",
       "      <th>Trip Duration 0-10 min (percent)</th>\n",
       "      <td>29895.949</td>\n",
       "      <td>0.168562</td>\n",
       "    </tr>\n",
       "    <tr>\n",
       "      <th>Trip Duration 10-20 min (percent)</th>\n",
       "      <td>63415.034</td>\n",
       "      <td>0.357552</td>\n",
       "    </tr>\n",
       "    <tr>\n",
       "      <th>Trip Duration 20-30 min (percent)</th>\n",
       "      <td>39378.094</td>\n",
       "      <td>0.222025</td>\n",
       "    </tr>\n",
       "    <tr>\n",
       "      <th>Trip Duration 30-40 min (percent)</th>\n",
       "      <td>20094.440</td>\n",
       "      <td>0.113298</td>\n",
       "    </tr>\n",
       "    <tr>\n",
       "      <th>Trip Duration 40-50 min (percent)</th>\n",
       "      <td>10422.131</td>\n",
       "      <td>0.058763</td>\n",
       "    </tr>\n",
       "    <tr>\n",
       "      <th>Trip Duration 50-60 min (percent)</th>\n",
       "      <td>5584.652</td>\n",
       "      <td>0.031488</td>\n",
       "    </tr>\n",
       "    <tr>\n",
       "      <th>Trip Duration 60-70 min (percent)</th>\n",
       "      <td>3175.624</td>\n",
       "      <td>0.017905</td>\n",
       "    </tr>\n",
       "    <tr>\n",
       "      <th>Trip Duration 70-80 min (percent)</th>\n",
       "      <td>1856.675</td>\n",
       "      <td>0.010468</td>\n",
       "    </tr>\n",
       "    <tr>\n",
       "      <th>Trip Duration 80-90 min (percent)</th>\n",
       "      <td>1095.468</td>\n",
       "      <td>0.006177</td>\n",
       "    </tr>\n",
       "    <tr>\n",
       "      <th>Trip Duration 90-100 min (percent)</th>\n",
       "      <td>702.041</td>\n",
       "      <td>0.003958</td>\n",
       "    </tr>\n",
       "    <tr>\n",
       "      <th>Trip Duration 100-110 min (percent)</th>\n",
       "      <td>462.819</td>\n",
       "      <td>0.002610</td>\n",
       "    </tr>\n",
       "    <tr>\n",
       "      <th>Trip Duration 110-120 min (percent)</th>\n",
       "      <td>336.760</td>\n",
       "      <td>0.001899</td>\n",
       "    </tr>\n",
       "    <tr>\n",
       "      <th>Trip Duration 120-130 min (percent)</th>\n",
       "      <td>230.719</td>\n",
       "      <td>0.001301</td>\n",
       "    </tr>\n",
       "    <tr>\n",
       "      <th>Trip Duration 130-140 min (percent)</th>\n",
       "      <td>176.788</td>\n",
       "      <td>0.000997</td>\n",
       "    </tr>\n",
       "    <tr>\n",
       "      <th>Trip Duration 140-150 min (percent)</th>\n",
       "      <td>113.185</td>\n",
       "      <td>0.000638</td>\n",
       "    </tr>\n",
       "    <tr>\n",
       "      <th>Trip Duration 150+ min (percent)</th>\n",
       "      <td>418.715</td>\n",
       "      <td>0.002361</td>\n",
       "    </tr>\n",
       "  </tbody>\n",
       "</table>\n",
       "</div>"
      ],
      "text/plain": [
       "                                     Trips_SLD  Percent_SLD\n",
       "Trip Duration 0-10 min (percent)     29895.949     0.168562\n",
       "Trip Duration 10-20 min (percent)    63415.034     0.357552\n",
       "Trip Duration 20-30 min (percent)    39378.094     0.222025\n",
       "Trip Duration 30-40 min (percent)    20094.440     0.113298\n",
       "Trip Duration 40-50 min (percent)    10422.131     0.058763\n",
       "Trip Duration 50-60 min (percent)     5584.652     0.031488\n",
       "Trip Duration 60-70 min (percent)     3175.624     0.017905\n",
       "Trip Duration 70-80 min (percent)     1856.675     0.010468\n",
       "Trip Duration 80-90 min (percent)     1095.468     0.006177\n",
       "Trip Duration 90-100 min (percent)     702.041     0.003958\n",
       "Trip Duration 100-110 min (percent)    462.819     0.002610\n",
       "Trip Duration 110-120 min (percent)    336.760     0.001899\n",
       "Trip Duration 120-130 min (percent)    230.719     0.001301\n",
       "Trip Duration 130-140 min (percent)    176.788     0.000997\n",
       "Trip Duration 140-150 min (percent)    113.185     0.000638\n",
       "Trip Duration 150+ min (percent)       418.715     0.002361"
      ]
     },
     "execution_count": 117,
     "metadata": {},
     "output_type": "execute_result"
    }
   ],
   "source": [
    "df_trip_duration_distribution_SLD = pd.DataFrame(data=trips_by_duration, index=useful_cols[3:], columns=['Trips_SLD'])\n",
    "df_trip_duration_distribution_SLD['Percent_SLD'] = df_trip_duration_distribution_SLD.Trips_SLD / df_trip_duration_distribution_SLD.values.sum()\n",
    "df_trip_duration_distribution_SLD"
   ]
  },
  {
   "cell_type": "markdown",
   "metadata": {},
   "source": [
    "### Process Model"
   ]
  },
  {
   "cell_type": "code",
   "execution_count": 118,
   "metadata": {
    "collapsed": true
   },
   "outputs": [],
   "source": [
    "model_tt_columns = ['I', 'J', 'TIME']\n",
    "df_model_tt = pd.read_csv(FILE_TIME_SKIM, header=None, names=model_tt_columns)"
   ]
  },
  {
   "cell_type": "code",
   "execution_count": 119,
   "metadata": {
    "collapsed": true
   },
   "outputs": [],
   "source": [
    "df_model_tt_merge = pd.merge(left=df_model_trips, right=df_model_tt, left_on=['I', 'J'], right_on=['I', 'J'])"
   ]
  },
  {
   "cell_type": "code",
   "execution_count": 126,
   "metadata": {
    "collapsed": true
   },
   "outputs": [],
   "source": [
    "bins_tt = np.arange(0, 170, 10)"
   ]
  },
  {
   "cell_type": "code",
   "execution_count": 127,
   "metadata": {
    "collapsed": true
   },
   "outputs": [],
   "source": [
    "df_model_tt_merge['tt_bin'] = pd.cut(df_model_tt_merge.TIME, bins=bins_tt, right=False)"
   ]
  },
  {
   "cell_type": "code",
   "execution_count": 128,
   "metadata": {},
   "outputs": [
    {
     "data": {
      "text/plain": [
       "tt_bin\n",
       "[0, 10)       102954.023022\n",
       "[10, 20)      256684.338552\n",
       "[20, 30)       59505.065787\n",
       "[30, 40)        1397.172485\n",
       "[40, 50)           0.000000\n",
       "[50, 60)           0.000000\n",
       "[60, 70)           0.000000\n",
       "[70, 80)           0.000000\n",
       "[80, 90)           0.000000\n",
       "[90, 100)          0.000000\n",
       "[100, 110)         0.000000\n",
       "[110, 120)         0.000000\n",
       "[120, 130)         0.000000\n",
       "[130, 140)         0.000000\n",
       "[140, 150)         0.000000\n",
       "[150, 160)         0.000000\n",
       "Name: TIME, dtype: float64"
      ]
     },
     "execution_count": 128,
     "metadata": {},
     "output_type": "execute_result"
    }
   ],
   "source": [
    "df_TLD_TT = df_model_tt_merge.groupby('tt_bin')['TIME'].sum()\n",
    "df_TLD_TT"
   ]
  },
  {
   "cell_type": "code",
   "execution_count": 129,
   "metadata": {},
   "outputs": [],
   "source": [
    "df_trip_duration_distribution = df_trip_duration_distribution_SLD.copy()\n",
    "df_trip_duration_distribution['Trips_Model'] = df_TLD_TT.values\n",
    "df_trip_duration_distribution['Percent_Model'] = df_trip_duration_distribution['Trips_Model'] / sum(df_trip_duration_distribution['Trips_Model'])"
   ]
  },
  {
   "cell_type": "code",
   "execution_count": 130,
   "metadata": {},
   "outputs": [
    {
     "name": "stdout",
     "output_type": "stream",
     "text": [
      "Coincidence Ratio between Model and SLD Using Travel Times = 0.50\n"
     ]
    }
   ],
   "source": [
    "print(\"Coincidence Ratio between Model and SLD Using Travel Times = {:.2f}\".format(coincidence_ratio(\n",
    "    df_trip_duration_distribution.Percent_Model, df_trip_duration_distribution.Percent_SLD\n",
    ")))"
   ]
  },
  {
   "cell_type": "markdown",
   "metadata": {},
   "source": [
    "### Process SLD with Model Travel Times"
   ]
  },
  {
   "cell_type": "code",
   "execution_count": 131,
   "metadata": {
    "collapsed": true
   },
   "outputs": [],
   "source": [
    "df_SLD_trips_daily = df_SLD_daily.loc[:,['Origin Zone ID', 'Destination Zone ID', 'O-D Traffic (StL Index)']]"
   ]
  },
  {
   "cell_type": "code",
   "execution_count": 132,
   "metadata": {
    "collapsed": true
   },
   "outputs": [],
   "source": [
    "df_SLD_trips_daily = pd.merge(left=df_SLD_trips_daily, right=df_model_tt, left_on=['Origin Zone ID', 'Destination Zone ID'],\n",
    "                             right_on=['I','J'])"
   ]
  },
  {
   "cell_type": "code",
   "execution_count": 133,
   "metadata": {
    "collapsed": true
   },
   "outputs": [],
   "source": [
    "df_model_tt_merge['tt_bin'] = pd.cut(df_SLD_trips_daily.TIME, bins=bins_tt, right=False)"
   ]
  },
  {
   "cell_type": "code",
   "execution_count": 134,
   "metadata": {},
   "outputs": [
    {
     "data": {
      "text/plain": [
       "tt_bin\n",
       "[0, 10)       111023.190290\n",
       "[10, 20)       67903.375975\n",
       "[20, 30)        2088.171013\n",
       "[30, 40)           0.000000\n",
       "[40, 50)           0.000000\n",
       "[50, 60)           0.000000\n",
       "[60, 70)           0.000000\n",
       "[70, 80)           0.000000\n",
       "[80, 90)           0.000000\n",
       "[90, 100)          0.000000\n",
       "[100, 110)         0.000000\n",
       "[110, 120)         0.000000\n",
       "[120, 130)         0.000000\n",
       "[130, 140)         0.000000\n",
       "[140, 150)         0.000000\n",
       "[150, 160)         0.000000\n",
       "Name: TIME, dtype: float64"
      ]
     },
     "execution_count": 134,
     "metadata": {},
     "output_type": "execute_result"
    }
   ],
   "source": [
    "df_TLD_TT = df_model_tt_merge.groupby('tt_bin')['TIME'].sum()\n",
    "df_TLD_TT"
   ]
  },
  {
   "cell_type": "code",
   "execution_count": 135,
   "metadata": {
    "collapsed": true
   },
   "outputs": [],
   "source": [
    "df_trip_duration_distribution['Trips_SLD_Model_TT'] = df_TLD_TT.values\n",
    "df_trip_duration_distribution['Percent_SLD_Model_TT'] = df_trip_duration_distribution['Trips_SLD_Model_TT'] / sum(df_trip_duration_distribution['Trips_SLD_Model_TT'])"
   ]
  },
  {
   "cell_type": "code",
   "execution_count": 136,
   "metadata": {},
   "outputs": [
    {
     "name": "stdout",
     "output_type": "stream",
     "text": [
      "Coincidence Ratio between Model and SLD Using Travel Times = 0.46\n"
     ]
    }
   ],
   "source": [
    "print(\"Coincidence Ratio between Model and SLD Using Travel Times = {:.2f}\".format(coincidence_ratio(\n",
    "    df_trip_duration_distribution.Percent_Model, df_trip_duration_distribution.Percent_SLD_Model_TT\n",
    ")))"
   ]
  },
  {
   "cell_type": "code",
   "execution_count": null,
   "metadata": {
    "collapsed": true
   },
   "outputs": [],
   "source": []
  },
  {
   "cell_type": "code",
   "execution_count": null,
   "metadata": {
    "collapsed": true
   },
   "outputs": [],
   "source": []
  },
  {
   "cell_type": "markdown",
   "metadata": {},
   "source": [
    "### Scratch"
   ]
  },
  {
   "cell_type": "code",
   "execution_count": 93,
   "metadata": {},
   "outputs": [
    {
     "data": {
      "text/plain": [
       "count    35344.000000\n",
       "mean         7.448048\n",
       "std          4.463948\n",
       "min          0.000000\n",
       "25%          3.907394\n",
       "50%          6.685855\n",
       "75%         10.315343\n",
       "max         26.835344\n",
       "Name: DISTANCE, dtype: float64"
      ]
     },
     "execution_count": 93,
     "metadata": {},
     "output_type": "execute_result"
    }
   ],
   "source": [
    "df_model_trip_bins['DISTANCE'].describe()"
   ]
  },
  {
   "cell_type": "code",
   "execution_count": null,
   "metadata": {
    "collapsed": true
   },
   "outputs": [],
   "source": []
  },
  {
   "cell_type": "code",
   "execution_count": null,
   "metadata": {
    "collapsed": true
   },
   "outputs": [],
   "source": []
  },
  {
   "cell_type": "code",
   "execution_count": 15,
   "metadata": {
    "collapsed": true
   },
   "outputs": [],
   "source": [
    "a = np.array([2,3])\n",
    "b = np.array([[4,1,5],[2,5,7]])"
   ]
  },
  {
   "cell_type": "code",
   "execution_count": 22,
   "metadata": {},
   "outputs": [
    {
     "data": {
      "text/plain": [
       "array([[2],\n",
       "       [3]])"
      ]
     },
     "execution_count": 22,
     "metadata": {},
     "output_type": "execute_result"
    }
   ],
   "source": [
    "a.reshape(2,1)"
   ]
  },
  {
   "cell_type": "code",
   "execution_count": 25,
   "metadata": {},
   "outputs": [
    {
     "data": {
      "text/plain": [
       "array([[ 8,  2, 10],\n",
       "       [ 6, 15, 21]])"
      ]
     },
     "execution_count": 25,
     "metadata": {},
     "output_type": "execute_result"
    }
   ],
   "source": [
    "prod = np.tile(a.reshape(2,1), (1,b.shape[1])) * b\n",
    "prod"
   ]
  },
  {
   "cell_type": "code",
   "execution_count": 27,
   "metadata": {},
   "outputs": [
    {
     "data": {
      "text/plain": [
       "array([14, 17, 31])"
      ]
     },
     "execution_count": 27,
     "metadata": {},
     "output_type": "execute_result"
    }
   ],
   "source": [
    "prod.sum(axis=0)"
   ]
  },
  {
   "cell_type": "code",
   "execution_count": null,
   "metadata": {
    "collapsed": true
   },
   "outputs": [],
   "source": []
  }
 ],
 "metadata": {
  "kernelspec": {
   "display_name": "Python 3",
   "language": "python",
   "name": "python3"
  },
  "language_info": {
   "codemirror_mode": {
    "name": "ipython",
    "version": 3
   },
   "file_extension": ".py",
   "mimetype": "text/x-python",
   "name": "python",
   "nbconvert_exporter": "python",
   "pygments_lexer": "ipython3",
   "version": "3.6.7"
  }
 },
 "nbformat": 4,
 "nbformat_minor": 2
}
