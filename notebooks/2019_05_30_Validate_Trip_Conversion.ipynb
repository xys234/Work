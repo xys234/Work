{
 "cells": [
  {
   "cell_type": "markdown",
   "metadata": {},
   "source": [
    "Analyze trip files converted from OMX matrices\n",
    "1. Are trips sorted by departure time?\n",
    "2. How does the temporal distribution look?\n",
    "3. What are the distribution by mode, purpose, VoT?"
   ]
  },
  {
   "cell_type": "code",
   "execution_count": 1,
   "metadata": {},
   "outputs": [
    {
     "name": "stderr",
     "output_type": "stream",
     "text": [
      "C:\\Anaconda3\\lib\\site-packages\\h5py\\__init__.py:34: FutureWarning: Conversion of the second argument of issubdtype from `float` to `np.floating` is deprecated. In future, it will be treated as `np.float64 == np.dtype(float).type`.\n",
      "  from ._conv import register_converters as _register_converters\n"
     ]
    }
   ],
   "source": [
    "import numpy as np\n",
    "import pandas as pd\n",
    "import h5py\n",
    "import os\n",
    "import gc\n",
    "import time\n",
    "from tqdm import tqdm_notebook as tqdm\n",
    "\n",
    "import matplotlib.pyplot as plt\n",
    "import seaborn as sns\n",
    "%matplotlib inline\n",
    "\n",
    "pd.set_option('display.float_format', lambda x: '%.3f' % x)"
   ]
  },
  {
   "cell_type": "markdown",
   "metadata": {},
   "source": [
    "### Execution Parameters"
   ]
  },
  {
   "cell_type": "code",
   "execution_count": 2,
   "metadata": {
    "collapsed": true
   },
   "outputs": [],
   "source": [
    "SWIFT_folder_local = r'C:\\Projects\\SWIFT\\SWIFT_Workspace'\n",
    "SWIFT_folder_L_drive = r'L:\\DCS\\Projects\\_Legacy\\60563434_SWIFT\\400_Technical\\SWIFT_Workspace'\n",
    "SWIFT_folder = SWIFT_folder_L_drive\n",
    "SWIFT_scenario_folder = os.path.join(SWIFT_folder, 'Scenarios')\n",
    "SWIFT_common_data_folder = os.path.join(SWIFT_folder, 'CommonData\\STM\\STM_A\\Shared_Inputs')\n",
    "SCEN = 'S12_HG_HT_Infill_Pricing_N3'\n",
    "flat_trip_file = os.path.join(SWIFT_scenario_folder, SCEN, r'STM\\STM_A\\01_DynusT\\02_Demand\\vehicle.csv')"
   ]
  },
  {
   "cell_type": "code",
   "execution_count": 3,
   "metadata": {
    "collapsed": true
   },
   "outputs": [],
   "source": [
    "matrix_folder = os.path.join(SWIFT_scenario_folder, SCEN, r'STM\\STM_D\\Outputs_SWIFT')\n",
    "matrices_am = [\"OD AM3HR Vehicles4DynusT EV\", \"OD AM3HR Vehicles4DynusT NonEV\"]\n",
    "matrices_md = [\"OD MD6HR Vehicles4DynusT EV\", \"OD MD6HR Vehicles4DynusT NonEV\"]\n",
    "matrices_pm = [\"OD PM4HR Vehicles4DynusT EV\", \"OD PM4HR Vehicles4DynusT NonEV\"]\n",
    "matrices_ov = [\"OD OV8HR Vehicles4DynusT EV\", \"OD OV8HR Vehicles4DynusT NonEV\"]\n",
    "matrices = matrices_am + matrices_md + matrices_pm + matrices_ov\n",
    "matrix_files = [os.path.join(matrix_folder, m+'.omx') for m in matrices]"
   ]
  },
  {
   "cell_type": "code",
   "execution_count": 4,
   "metadata": {
    "collapsed": true
   },
   "outputs": [],
   "source": [
    "vots = {\n",
    "        \"wi1da\": 9.6, \"wi2da\": 15.04, \"wi3da\": 20.48, \"wi4da\": 27.52, \"wi5da\": 37.12,\n",
    "        \"wi12a2\": 21.56, \"wi3a2\": 35.84, \"wi45a2\": 56.56,\n",
    "        \"wi12a3\": 30.8, \"wi3a3\": 51.2, \"wi45a3\": 80.8,\n",
    "        \"nwi12da\": 7.03, \"nwi3da\": 13.44, \"nwi45da\": 23.65,\n",
    "        \"nwi12a2\": 12.3, \"nwi3a2\": 23.52, \"nwi45a2\": 41.39,\n",
    "        \"nwi12a3\": 17.57, \"nwi3a3\": 33.6, \"nwi45a3\": 59.12,\n",
    "        \"Cargo\": 64.0, \"Serv\": 40.0, \"taxi_exta\": 18.94, \"TNC\": 18.94\n",
    "    }\n",
    "\n",
    "map_purp = {\n",
    "    1: \"WK\", \n",
    "    2: \"NW\", \n",
    "    3: \"Taxi\",\n",
    "    4: \"TNC\",\n",
    "    5: \"Serv\",\n",
    "    6: \"Cargo\",\n",
    "    \n",
    "    10: \"WK\", \n",
    "    20: \"NW\", \n",
    "    30: \"Taxi\",\n",
    "    40: \"TNC\",\n",
    "    50: \"Serv\",\n",
    "    60: \"Cargo\"\n",
    "    \n",
    "}\n",
    "\n",
    "VTYPE_LABEL = {\n",
    "        1:  'REG_SOV', \n",
    "        2:  'REG_HOV',\n",
    "        3:  'REG_Serv',\n",
    "        4:  'REG_Cargo',\n",
    "        5:  'CAV_SOV',\n",
    "        6:  'CAV_HOV',\n",
    "        7:  'CAV_Serv',\n",
    "        8:  'CAV_Cargo',\n",
    "        9:  'TNC',\n",
    "        \n",
    "    }"
   ]
  },
  {
   "cell_type": "code",
   "execution_count": 5,
   "metadata": {},
   "outputs": [
    {
     "name": "stdout",
     "output_type": "stream",
     "text": [
      "Diurnal File Path: L:\\DCS\\Projects\\_Legacy\\60563434_SWIFT\\400_Technical\\SWIFT_Workspace\\CommonData\\STM\\STM_A\\Shared_Inputs\\Diurnal_Full.csv\n"
     ]
    }
   ],
   "source": [
    "diurnal_file = os.path.join(SWIFT_common_data_folder, 'Diurnal_Full.csv') \n",
    "print(f'Diurnal File Path: {diurnal_file}')"
   ]
  },
  {
   "cell_type": "markdown",
   "metadata": {},
   "source": [
    "### Diurnal Period Totals"
   ]
  },
  {
   "cell_type": "code",
   "execution_count": 6,
   "metadata": {},
   "outputs": [
    {
     "data": {
      "text/html": [
       "<div>\n",
       "<style scoped>\n",
       "    .dataframe tbody tr th:only-of-type {\n",
       "        vertical-align: middle;\n",
       "    }\n",
       "\n",
       "    .dataframe tbody tr th {\n",
       "        vertical-align: top;\n",
       "    }\n",
       "\n",
       "    .dataframe thead th {\n",
       "        text-align: right;\n",
       "    }\n",
       "</style>\n",
       "<table border=\"1\" class=\"dataframe\">\n",
       "  <thead>\n",
       "    <tr style=\"text-align: right;\">\n",
       "      <th></th>\n",
       "      <th>HOUR</th>\n",
       "      <th>SHARE</th>\n",
       "    </tr>\n",
       "  </thead>\n",
       "  <tbody>\n",
       "    <tr>\n",
       "      <th>0</th>\n",
       "      <td>0.000</td>\n",
       "      <td>0.000</td>\n",
       "    </tr>\n",
       "    <tr>\n",
       "      <th>1</th>\n",
       "      <td>0.002</td>\n",
       "      <td>0.000</td>\n",
       "    </tr>\n",
       "    <tr>\n",
       "      <th>2</th>\n",
       "      <td>0.003</td>\n",
       "      <td>0.000</td>\n",
       "    </tr>\n",
       "    <tr>\n",
       "      <th>3</th>\n",
       "      <td>0.005</td>\n",
       "      <td>0.000</td>\n",
       "    </tr>\n",
       "    <tr>\n",
       "      <th>4</th>\n",
       "      <td>0.007</td>\n",
       "      <td>0.000</td>\n",
       "    </tr>\n",
       "  </tbody>\n",
       "</table>\n",
       "</div>"
      ],
      "text/plain": [
       "   HOUR  SHARE\n",
       "0 0.000  0.000\n",
       "1 0.002  0.000\n",
       "2 0.003  0.000\n",
       "3 0.005  0.000\n",
       "4 0.007  0.000"
      ]
     },
     "execution_count": 6,
     "metadata": {},
     "output_type": "execute_result"
    }
   ],
   "source": [
    "df_diurnal = pd.read_csv(diurnal_file)\n",
    "df_diurnal.head()"
   ]
  },
  {
   "cell_type": "code",
   "execution_count": 7,
   "metadata": {
    "collapsed": true
   },
   "outputs": [],
   "source": [
    "def hour_to_period(hr):\n",
    "    \"\"\"\n",
    "    Convert a float hour to text period \"AM\", \"MD\", \"PM\", \"OV\"\n",
    "    \"\"\"\n",
    "    \n",
    "    if 6 <= hr < 9:\n",
    "        return 'AM'\n",
    "    elif 9 <= hr < 15:\n",
    "        return 'MD'\n",
    "    elif 15 <= hr < 19:\n",
    "        return 'PM'\n",
    "    return 'OV'\n",
    "    "
   ]
  },
  {
   "cell_type": "code",
   "execution_count": 8,
   "metadata": {},
   "outputs": [
    {
     "data": {
      "text/html": [
       "<div>\n",
       "<style scoped>\n",
       "    .dataframe tbody tr th:only-of-type {\n",
       "        vertical-align: middle;\n",
       "    }\n",
       "\n",
       "    .dataframe tbody tr th {\n",
       "        vertical-align: top;\n",
       "    }\n",
       "\n",
       "    .dataframe thead th {\n",
       "        text-align: right;\n",
       "    }\n",
       "</style>\n",
       "<table border=\"1\" class=\"dataframe\">\n",
       "  <thead>\n",
       "    <tr style=\"text-align: right;\">\n",
       "      <th></th>\n",
       "      <th>period</th>\n",
       "      <th>Diurnal</th>\n",
       "    </tr>\n",
       "  </thead>\n",
       "  <tbody>\n",
       "    <tr>\n",
       "      <th>0</th>\n",
       "      <td>AM</td>\n",
       "      <td>0.211</td>\n",
       "    </tr>\n",
       "    <tr>\n",
       "      <th>1</th>\n",
       "      <td>MD</td>\n",
       "      <td>0.348</td>\n",
       "    </tr>\n",
       "    <tr>\n",
       "      <th>2</th>\n",
       "      <td>OV</td>\n",
       "      <td>0.133</td>\n",
       "    </tr>\n",
       "    <tr>\n",
       "      <th>3</th>\n",
       "      <td>PM</td>\n",
       "      <td>0.307</td>\n",
       "    </tr>\n",
       "  </tbody>\n",
       "</table>\n",
       "</div>"
      ],
      "text/plain": [
       "  period  Diurnal\n",
       "0     AM    0.211\n",
       "1     MD    0.348\n",
       "2     OV    0.133\n",
       "3     PM    0.307"
      ]
     },
     "execution_count": 8,
     "metadata": {},
     "output_type": "execute_result"
    }
   ],
   "source": [
    "df_diurnal['period'] = df_diurnal.HOUR.apply(hour_to_period)\n",
    "diurnal_period_totals = df_diurnal.groupby('period', as_index=False)['SHARE'].sum().rename(columns={'SHARE':'Diurnal'})\n",
    "diurnal_period_totals"
   ]
  },
  {
   "cell_type": "markdown",
   "metadata": {},
   "source": [
    "### Summarize Converted Vehicle Roster"
   ]
  },
  {
   "cell_type": "code",
   "execution_count": 9,
   "metadata": {
    "collapsed": true
   },
   "outputs": [],
   "source": [
    "start_time = time.time()"
   ]
  },
  {
   "cell_type": "code",
   "execution_count": 10,
   "metadata": {
    "collapsed": true
   },
   "outputs": [],
   "source": [
    "def expand_data(df):\n",
    "    \"\"\"\n",
    "    attach text labels to the data using Categories\n",
    "    \n",
    "    \"\"\"\n",
    "    VTYPE_LABEL = {\n",
    "        1:  'REG_SOV', \n",
    "        2:  'REG_HOV',\n",
    "        3:  'REG_Serv',\n",
    "        4:  'REG_Cargo',\n",
    "        5:  'CAV_SOV',\n",
    "        6:  'CAV_HOV',\n",
    "        7:  'CAV_Serv',\n",
    "        8:  'CAV_Cargo',\n",
    "        9:  'TNC',\n",
    "        \n",
    "    }\n",
    "    \n",
    "    CAV_LABEL = {\n",
    "        1:  'REG',\n",
    "        2:  'REG',\n",
    "        3:  'REG',\n",
    "        4:  'REG',\n",
    "        5:  'CAV',\n",
    "        6:  'CAV',\n",
    "        7:  'CAV',\n",
    "        8:  'CAV',\n",
    "        9:  'REG',\n",
    "    }\n",
    "\n",
    "    \n",
    "    PURP_LABEL = {\n",
    "        1: 'WK',\n",
    "        10: 'WK',\n",
    "        2: 'NW',\n",
    "        20: 'NW',\n",
    "        3: 'Taxi',\n",
    "        30: 'Taxi',\n",
    "        4: 'TNC',\n",
    "        40: 'TNC',\n",
    "        5: 'Serv',\n",
    "        50: 'Serv',\n",
    "        6: 'Cargo',\n",
    "        60: 'Cargo',\n",
    "        \n",
    "    }\n",
    "    \n",
    "    def period(r):\n",
    "        r = r / 60.0\n",
    "        if 0 <= r < 6 or 19 <= r < 24:\n",
    "            return 'OV'\n",
    "        elif 6 <= r < 9:\n",
    "            return 'AM'\n",
    "        elif 9 <= r < 15:\n",
    "            return 'MD'\n",
    "        else:\n",
    "            return 'PM' \n",
    "    \n",
    "    columns = df.columns.tolist()\n",
    "    if 'vehtype' in columns:\n",
    "        df['vehtype2'] = df.vehtype.map(VTYPE_LABEL)\n",
    "        df['cav'] = df.vehtype.map(CAV_LABEL)\n",
    "        df['vehtype2'] = df['vehtype2'].astype(\"category\")\n",
    "        df['cav'] = df['cav'].astype(\"category\")\n",
    "    if 'TP' in columns:\n",
    "        df['TP2'] = df.TP.map(PURP_LABEL).astype(\"category\")\n",
    "    \n",
    "    if 'stime' in columns:\n",
    "        df['period'] = df.stime.apply(period).astype(\"category\")\n",
    "    \n",
    "    df['ev'] = np.where(df.TP >= 10, 'EV', 'NonEV')\n",
    "    df['ev'] = df.ev.astype('category')\n",
    "    "
   ]
  },
  {
   "cell_type": "code",
   "execution_count": 11,
   "metadata": {
    "collapsed": true
   },
   "outputs": [],
   "source": [
    "def read_flat_trip_file(flat_trip_file, chunksize=5_000_000):\n",
    "#     if not write_feather:\n",
    "#         if feather_trip_file:\n",
    "#             if not os.path.isfile(feather_trip_file):\n",
    "#                 print('Error: Feather Trip File not Found {:s}'.format(feather_trip_file))\n",
    "#                 return\n",
    "#             else:\n",
    "#                 df = pd.read_feather(feather_trip_file)\n",
    "#                 return df\n",
    "\n",
    "    if not os.path.isfile(flat_trip_file):\n",
    "        print('Error: Trip File not Found {:s}'.format(flat_trip_file))\n",
    "        return\n",
    "    \n",
    "    # write the feather file in the same directory\n",
    "#     feather_trip_path, filename = os.path.dirname(flat_trip_file), os.path.splitext(os.path.basename(flat_trip_file))[0] + '.feather'\n",
    "#     feather_trip_file = os.path.join(feather_trip_path, filename)\n",
    "    \n",
    "    dtypes = {\n",
    "        'vid': np.int32, \n",
    "        'usec': np.int32,\n",
    "        'dsec': np.int32,\n",
    "        'stime': np.float16,\n",
    "        'vehcls': np.uint8,\n",
    "        'vehtype': np.uint8,\n",
    "        'ioc': np.uint8,\n",
    "        '#ONode': np.int32,\n",
    "        '#IntDe': np.uint8,\n",
    "        'info': np.uint8,\n",
    "        'ribf': np.float16,\n",
    "        'comp': np.float16,\n",
    "        'Izone': np.uint16,\n",
    "        'Evac': np.uint8,\n",
    "        'InitPos': np.float32,\n",
    "        'VoT': np.float16,\n",
    "        'tFlag': np.uint8,\n",
    "        'pArrTime': np.float16,\n",
    "        'TP': np.uint8,\n",
    "        'IniGas': np.float16,\n",
    "        'DZone': np.uint16,\n",
    "        'waitTime': np.float16\n",
    "    }\n",
    "    \n",
    "    usecols = ('vid', 'usec', 'dsec', 'stime', 'vehtype', 'ioc', 'Izone', 'VoT', 'TP', 'DZone')\n",
    "    \n",
    "    df_list = []\n",
    "    \n",
    "    for df_chunk in tqdm(pd.read_csv(flat_trip_file, usecols=usecols, dtype=dtypes, chunksize=chunksize)):\n",
    "    \n",
    "        expand_data(df_chunk)\n",
    "        df_list.append(df_chunk) \n",
    "    \n",
    "    df = pd.concat(df_list)\n",
    "    del df_list\n",
    "    gc.collect()\n",
    "#     if write_feather:\n",
    "#         df.to_feather(feather_trip_file)\n",
    "#         print('Feather file written to {:s}'.format(feather_trip_file))\n",
    "    return df\n",
    "    "
   ]
  },
  {
   "cell_type": "code",
   "execution_count": 40,
   "metadata": {},
   "outputs": [
    {
     "data": {
      "application/vnd.jupyter.widget-view+json": {
       "model_id": "02d92a9559b142edaf9852b8dce723dc",
       "version_major": 2,
       "version_minor": 0
      },
      "text/plain": [
       "A Jupyter Widget"
      ]
     },
     "metadata": {},
     "output_type": "display_data"
    },
    {
     "name": "stdout",
     "output_type": "stream",
     "text": [
      "\n"
     ]
    }
   ],
   "source": [
    "df_flat_trip_file = read_flat_trip_file(flat_trip_file)"
   ]
  },
  {
   "cell_type": "code",
   "execution_count": 41,
   "metadata": {},
   "outputs": [
    {
     "name": "stdout",
     "output_type": "stream",
     "text": [
      "Total Trips for DynusT = 19,755,937\n"
     ]
    }
   ],
   "source": [
    "print('Total Trips for DynusT = {:>,d}'.format(df_flat_trip_file.shape[0]))"
   ]
  },
  {
   "cell_type": "code",
   "execution_count": 42,
   "metadata": {
    "collapsed": true
   },
   "outputs": [],
   "source": [
    "# df_flat_trip_file.info()"
   ]
  },
  {
   "cell_type": "code",
   "execution_count": 43,
   "metadata": {
    "collapsed": true
   },
   "outputs": [],
   "source": [
    "# df_flat_trip_file.head()"
   ]
  },
  {
   "cell_type": "markdown",
   "metadata": {},
   "source": [
    "#### <font color='blue'>Summary by all dimensions</font>"
   ]
  },
  {
   "cell_type": "code",
   "execution_count": 44,
   "metadata": {
    "collapsed": true
   },
   "outputs": [],
   "source": [
    "summary_roster_gb = df_flat_trip_file.groupby(['period', 'TP2', 'vehtype2', 'cav', 'ev'], as_index=False)['vid'].count().rename(columns={'vid':'trips', 'TP2':'purp'})\n",
    "summary_roster_gb = summary_roster_gb[~summary_roster_gb.trips.isnull()]"
   ]
  },
  {
   "cell_type": "markdown",
   "metadata": {},
   "source": [
    "#### <font color='blue'>Summary by Vehicle Type</font>"
   ]
  },
  {
   "cell_type": "code",
   "execution_count": 45,
   "metadata": {
    "collapsed": true
   },
   "outputs": [],
   "source": [
    "# summary = pd.DataFrame(df_flat_trip_file.vehtype2.value_counts(sort=False))\n",
    "# summary = summary.style.format(\"{:,}\")\n",
    "# summary"
   ]
  },
  {
   "cell_type": "markdown",
   "metadata": {},
   "source": [
    "### Summarize OMX Trip Tables"
   ]
  },
  {
   "cell_type": "code",
   "execution_count": 12,
   "metadata": {
    "collapsed": true
   },
   "outputs": [],
   "source": [
    "def parse_matrix_table(matrix_file_name, matrix_name, vots):\n",
    "    \"\"\"\n",
    "    Parse the matrix name \"amnhoai45\" for vehicle type, value of time, period, and purpose\n",
    "    :param matrix_name:\n",
    "    :type str\n",
    "    :param vots:        a dict for vots\n",
    "    :return: a tuple, vehicle_type, occupancy, purpose, value_of_time, period\n",
    "    \"\"\"\n",
    "\n",
    "    matrix_name = matrix_name.lower()\n",
    "\n",
    "    vtype = occ = purp = vot = 0\n",
    "    time_period = (0, 0)\n",
    "    period = ''\n",
    "\n",
    "    cav, ev = False, False\n",
    "\n",
    "    if matrix_name.lower().find(\"da\") >= 0:\n",
    "        if matrix_name.lower().find(\"cav\") >= 0:\n",
    "            vtype = 5\n",
    "            occ = 0\n",
    "            cav = True\n",
    "        elif matrix_name.lower().find(\"reg\") >= 0:\n",
    "            vtype = 1\n",
    "            occ = 0\n",
    "            cav = False\n",
    "\n",
    "    elif matrix_name.lower().find(\"s2\") >= 0 or matrix_name.find(\"a2\") >= 0:\n",
    "        if matrix_name.lower().find(\"cav\") >= 0:\n",
    "            vtype = 6\n",
    "            occ = 1\n",
    "            cav = True\n",
    "        elif matrix_name.lower().find(\"reg\") >= 0:\n",
    "            vtype = 2\n",
    "            occ = 1\n",
    "            cav = False\n",
    "    elif matrix_name.lower().find(\"s3\") >= 0 or matrix_name.find(\"a3\") >= 0:\n",
    "        if matrix_name.lower().find(\"cav\") >= 0:\n",
    "            vtype = 6\n",
    "            occ = 1\n",
    "            cav = True\n",
    "        elif matrix_name.lower().find(\"reg\") >= 0:\n",
    "            vtype = 2\n",
    "            occ = 1\n",
    "            cav = False\n",
    "    elif matrix_name.lower().find(\"cargo\") >= 0:\n",
    "        if matrix_name.lower().find(\"cav\") >= 0:\n",
    "            vtype = 8\n",
    "            occ = 2\n",
    "            cav = True\n",
    "        else:\n",
    "            vtype = 4\n",
    "            occ = 2\n",
    "            cav = False\n",
    "    elif matrix_name.lower().find(\"serv\") >= 0:\n",
    "        if matrix_name.lower().find(\"cav\") >= 0:\n",
    "            vtype = 7\n",
    "            occ = 2\n",
    "            cav = True\n",
    "        else:\n",
    "            vtype = 3\n",
    "            occ = 2\n",
    "            cav = False\n",
    "    elif matrix_name.lower().find(\"taxi\") >= 0:\n",
    "        vtype = 2\n",
    "        occ = 1\n",
    "    elif matrix_name.lower().find(\"exta\") >= 0:\n",
    "        vtype = 2\n",
    "        occ = 0\n",
    "    elif matrix_name.lower().find(\"tnc\") >= 0:\n",
    "        vtype = 9\n",
    "        occ = 1\n",
    "\n",
    "    if matrix_name.find(\"_w\") >= 0:\n",
    "        if matrix_file_name.lower().find(\"dynust nonev\") >= 0:\n",
    "            purp = 1\n",
    "        else:\n",
    "            purp = 10\n",
    "            ev = True\n",
    "    elif matrix_name.find(\"_nw\") >= 0:\n",
    "        if matrix_file_name.lower().find(\"dynust nonev\") >= 0:\n",
    "            purp = 2\n",
    "        else:\n",
    "            purp = 20\n",
    "            ev = True\n",
    "    elif matrix_name.lower().find(\"taxi\") >= 0:\n",
    "        if matrix_file_name.lower().find(\"dynust nonev\") >= 0:\n",
    "            purp = 3\n",
    "        else:\n",
    "            purp = 30\n",
    "            ev = True\n",
    "    elif matrix_name.lower().find(\"tnc\") >= 0:\n",
    "        if matrix_file_name.lower().find(\"dynust nonev\") >= 0:\n",
    "            purp = 4\n",
    "        else:\n",
    "            purp = 40\n",
    "            ev = True\n",
    "    elif matrix_name.lower().find(\"serv\") >= 0:\n",
    "        if matrix_file_name.lower().find(\"dynust nonev\") >= 0:\n",
    "            purp = 5\n",
    "        else:\n",
    "            purp = 50\n",
    "            ev = True\n",
    "    elif matrix_name.lower().find(\"cargo\") >= 0:\n",
    "        if matrix_file_name.lower().find(\"dynust nonev\") >= 0:\n",
    "            purp = 6\n",
    "        else:\n",
    "            purp = 60\n",
    "            ev = True\n",
    "\n",
    "    # Time periods\n",
    "    if matrix_file_name.lower().find(\"am\") >= 0:\n",
    "        period = 'AM'\n",
    "        time_period = '6..9'\n",
    "    elif matrix_file_name.lower().find(\"md\") >= 0:\n",
    "        period = 'MD'\n",
    "        time_period = '9..15'\n",
    "    elif matrix_file_name.lower().find(\"pm\") >= 0:\n",
    "        period = 'PM'\n",
    "        time_period = '15..19'\n",
    "    else:\n",
    "        period = 'OV'\n",
    "        time_period = '0..6, 19..24'\n",
    "\n",
    "    for key in vots.keys():\n",
    "        if matrix_name.find(key) >= 0:\n",
    "            vot = vots[key]\n",
    "            break\n",
    "\n",
    "    return dict(vtype=vtype, occ=occ, purp=purp, vot=vot, time_period=time_period, period=period, cav=cav, ev=ev)"
   ]
  },
  {
   "cell_type": "code",
   "execution_count": 13,
   "metadata": {
    "collapsed": true
   },
   "outputs": [],
   "source": [
    "def summarize_trip_tables(matrix_files, vots):\n",
    "    summary_records = []\n",
    "    for m in matrix_files:\n",
    "#         print('Processing Matrix File {:s}'.format(m))\n",
    "        h5 = h5py.File(m, 'r')\n",
    "        group = '/'+list(h5.keys())[0]+'/'\n",
    "        tables = h5[group].keys()\n",
    "        for table in tqdm(tables, desc=os.path.split(m)[1].split('.')[0]):\n",
    "            if table.find('all') >= 0:\n",
    "                continue\n",
    "            info = parse_matrix_table(m, table, vots)\n",
    "            vtype = info['vtype']\n",
    "            occ = info['occ']\n",
    "            purp = info['purp']\n",
    "            vot = info['vot']\n",
    "            period = info['period']\n",
    "            cav = info['cav']\n",
    "            ev = info['ev']\n",
    "            \n",
    "            if cav:\n",
    "                cav = 'CAV'\n",
    "            else:\n",
    "                cav = 'REG'\n",
    "            \n",
    "            if ev:\n",
    "                ev = 'EV'\n",
    "            else:\n",
    "                ev = 'NonEV'\n",
    "            \n",
    "            od = h5[group + table][:]\n",
    "            trips = od.sum()\n",
    "            summary_records.append((table.lower(), period, purp, vot, vtype, occ, cav, ev, trips))\n",
    "        h5.close()\n",
    "    return pd.DataFrame(data=summary_records, columns=['table', 'period', 'purp', 'vot', 'vtype', 'occ', 'cav', 'ev', 'trips'])\n",
    "    "
   ]
  },
  {
   "cell_type": "code",
   "execution_count": 15,
   "metadata": {},
   "outputs": [
    {
     "data": {
      "application/vnd.jupyter.widget-view+json": {
       "model_id": "c4906437d91544f0946ceca06272dc58",
       "version_major": 2,
       "version_minor": 0
      },
      "text/plain": [
       "A Jupyter Widget"
      ]
     },
     "metadata": {},
     "output_type": "display_data"
    },
    {
     "data": {
      "application/vnd.jupyter.widget-view+json": {
       "model_id": "a85589aae5c44dfb8fb644dfcf2c5d25",
       "version_major": 2,
       "version_minor": 0
      },
      "text/plain": [
       "A Jupyter Widget"
      ]
     },
     "metadata": {},
     "output_type": "display_data"
    },
    {
     "data": {
      "application/vnd.jupyter.widget-view+json": {
       "model_id": "cef7c6ce912944d7a641f24ec87565ad",
       "version_major": 2,
       "version_minor": 0
      },
      "text/plain": [
       "A Jupyter Widget"
      ]
     },
     "metadata": {},
     "output_type": "display_data"
    },
    {
     "data": {
      "application/vnd.jupyter.widget-view+json": {
       "model_id": "868faf2131ae4f53b7650ff562e000e1",
       "version_major": 2,
       "version_minor": 0
      },
      "text/plain": [
       "A Jupyter Widget"
      ]
     },
     "metadata": {},
     "output_type": "display_data"
    },
    {
     "data": {
      "application/vnd.jupyter.widget-view+json": {
       "model_id": "f38de756c3ab46fba6a68f3048758447",
       "version_major": 2,
       "version_minor": 0
      },
      "text/plain": [
       "A Jupyter Widget"
      ]
     },
     "metadata": {},
     "output_type": "display_data"
    },
    {
     "data": {
      "application/vnd.jupyter.widget-view+json": {
       "model_id": "0cb88177a8a34813b6c32162736b4221",
       "version_major": 2,
       "version_minor": 0
      },
      "text/plain": [
       "A Jupyter Widget"
      ]
     },
     "metadata": {},
     "output_type": "display_data"
    },
    {
     "data": {
      "application/vnd.jupyter.widget-view+json": {
       "model_id": "5da8a438b99943c39528c6237d519e42",
       "version_major": 2,
       "version_minor": 0
      },
      "text/plain": [
       "A Jupyter Widget"
      ]
     },
     "metadata": {},
     "output_type": "display_data"
    },
    {
     "data": {
      "application/vnd.jupyter.widget-view+json": {
       "model_id": "cdfb48d2b3064044ba8e0aaf959bbca5",
       "version_major": 2,
       "version_minor": 0
      },
      "text/plain": [
       "A Jupyter Widget"
      ]
     },
     "metadata": {},
     "output_type": "display_data"
    }
   ],
   "source": [
    "summary_omx = summarize_trip_tables(matrix_files, vots)"
   ]
  },
  {
   "cell_type": "code",
   "execution_count": 16,
   "metadata": {
    "collapsed": true
   },
   "outputs": [],
   "source": [
    "summary_omx['purp'] = summary_omx.purp.map(map_purp)\n",
    "summary_omx['vehtype2'] = summary_omx.vtype.map(VTYPE_LABEL)"
   ]
  },
  {
   "cell_type": "code",
   "execution_count": 17,
   "metadata": {
    "collapsed": true
   },
   "outputs": [],
   "source": [
    "summary_omx_gb = summary_omx.groupby(['period', 'purp', 'vehtype2', 'cav', 'ev'], as_index=False)['trips'].sum()\n",
    "summary_omx_gb = summary_omx_gb[summary_omx_gb.trips > 0]"
   ]
  },
  {
   "cell_type": "code",
   "execution_count": 18,
   "metadata": {},
   "outputs": [
    {
     "data": {
      "text/html": [
       "<div>\n",
       "<style scoped>\n",
       "    .dataframe tbody tr th:only-of-type {\n",
       "        vertical-align: middle;\n",
       "    }\n",
       "\n",
       "    .dataframe tbody tr th {\n",
       "        vertical-align: top;\n",
       "    }\n",
       "\n",
       "    .dataframe thead th {\n",
       "        text-align: right;\n",
       "    }\n",
       "</style>\n",
       "<table border=\"1\" class=\"dataframe\">\n",
       "  <thead>\n",
       "    <tr style=\"text-align: right;\">\n",
       "      <th></th>\n",
       "      <th>period</th>\n",
       "      <th>purp</th>\n",
       "      <th>vehtype2</th>\n",
       "      <th>cav</th>\n",
       "      <th>ev</th>\n",
       "      <th>trips</th>\n",
       "    </tr>\n",
       "  </thead>\n",
       "  <tbody>\n",
       "    <tr>\n",
       "      <th>0</th>\n",
       "      <td>AM</td>\n",
       "      <td>Cargo</td>\n",
       "      <td>REG_Cargo</td>\n",
       "      <td>REG</td>\n",
       "      <td>EV</td>\n",
       "      <td>1080.628</td>\n",
       "    </tr>\n",
       "    <tr>\n",
       "      <th>1</th>\n",
       "      <td>AM</td>\n",
       "      <td>Cargo</td>\n",
       "      <td>REG_Cargo</td>\n",
       "      <td>REG</td>\n",
       "      <td>NonEV</td>\n",
       "      <td>27153.224</td>\n",
       "    </tr>\n",
       "    <tr>\n",
       "      <th>2</th>\n",
       "      <td>AM</td>\n",
       "      <td>NW</td>\n",
       "      <td>CAV_HOV</td>\n",
       "      <td>CAV</td>\n",
       "      <td>EV</td>\n",
       "      <td>15266.016</td>\n",
       "    </tr>\n",
       "    <tr>\n",
       "      <th>3</th>\n",
       "      <td>AM</td>\n",
       "      <td>NW</td>\n",
       "      <td>CAV_HOV</td>\n",
       "      <td>CAV</td>\n",
       "      <td>NonEV</td>\n",
       "      <td>49620.449</td>\n",
       "    </tr>\n",
       "    <tr>\n",
       "      <th>4</th>\n",
       "      <td>AM</td>\n",
       "      <td>NW</td>\n",
       "      <td>CAV_SOV</td>\n",
       "      <td>CAV</td>\n",
       "      <td>EV</td>\n",
       "      <td>45523.698</td>\n",
       "    </tr>\n",
       "    <tr>\n",
       "      <th>5</th>\n",
       "      <td>AM</td>\n",
       "      <td>NW</td>\n",
       "      <td>CAV_SOV</td>\n",
       "      <td>CAV</td>\n",
       "      <td>NonEV</td>\n",
       "      <td>148003.935</td>\n",
       "    </tr>\n",
       "    <tr>\n",
       "      <th>6</th>\n",
       "      <td>AM</td>\n",
       "      <td>NW</td>\n",
       "      <td>REG_HOV</td>\n",
       "      <td>REG</td>\n",
       "      <td>EV</td>\n",
       "      <td>43610.020</td>\n",
       "    </tr>\n",
       "    <tr>\n",
       "      <th>7</th>\n",
       "      <td>AM</td>\n",
       "      <td>NW</td>\n",
       "      <td>REG_HOV</td>\n",
       "      <td>REG</td>\n",
       "      <td>NonEV</td>\n",
       "      <td>142030.603</td>\n",
       "    </tr>\n",
       "    <tr>\n",
       "      <th>8</th>\n",
       "      <td>AM</td>\n",
       "      <td>NW</td>\n",
       "      <td>REG_SOV</td>\n",
       "      <td>REG</td>\n",
       "      <td>EV</td>\n",
       "      <td>127373.622</td>\n",
       "    </tr>\n",
       "    <tr>\n",
       "      <th>9</th>\n",
       "      <td>AM</td>\n",
       "      <td>NW</td>\n",
       "      <td>REG_SOV</td>\n",
       "      <td>REG</td>\n",
       "      <td>NonEV</td>\n",
       "      <td>414497.098</td>\n",
       "    </tr>\n",
       "    <tr>\n",
       "      <th>10</th>\n",
       "      <td>AM</td>\n",
       "      <td>Serv</td>\n",
       "      <td>REG_Serv</td>\n",
       "      <td>REG</td>\n",
       "      <td>EV</td>\n",
       "      <td>29441.906</td>\n",
       "    </tr>\n",
       "    <tr>\n",
       "      <th>11</th>\n",
       "      <td>AM</td>\n",
       "      <td>Serv</td>\n",
       "      <td>REG_Serv</td>\n",
       "      <td>REG</td>\n",
       "      <td>NonEV</td>\n",
       "      <td>105194.272</td>\n",
       "    </tr>\n",
       "    <tr>\n",
       "      <th>12</th>\n",
       "      <td>AM</td>\n",
       "      <td>TNC</td>\n",
       "      <td>TNC</td>\n",
       "      <td>REG</td>\n",
       "      <td>EV</td>\n",
       "      <td>706540.865</td>\n",
       "    </tr>\n",
       "    <tr>\n",
       "      <th>13</th>\n",
       "      <td>AM</td>\n",
       "      <td>TNC</td>\n",
       "      <td>TNC</td>\n",
       "      <td>REG</td>\n",
       "      <td>NonEV</td>\n",
       "      <td>2331421.278</td>\n",
       "    </tr>\n",
       "    <tr>\n",
       "      <th>14</th>\n",
       "      <td>AM</td>\n",
       "      <td>Taxi</td>\n",
       "      <td>REG_HOV</td>\n",
       "      <td>REG</td>\n",
       "      <td>EV</td>\n",
       "      <td>5693.061</td>\n",
       "    </tr>\n",
       "    <tr>\n",
       "      <th>15</th>\n",
       "      <td>AM</td>\n",
       "      <td>Taxi</td>\n",
       "      <td>REG_HOV</td>\n",
       "      <td>REG</td>\n",
       "      <td>NonEV</td>\n",
       "      <td>105763.877</td>\n",
       "    </tr>\n",
       "    <tr>\n",
       "      <th>16</th>\n",
       "      <td>AM</td>\n",
       "      <td>WK</td>\n",
       "      <td>CAV_HOV</td>\n",
       "      <td>CAV</td>\n",
       "      <td>EV</td>\n",
       "      <td>10003.741</td>\n",
       "    </tr>\n",
       "    <tr>\n",
       "      <th>17</th>\n",
       "      <td>AM</td>\n",
       "      <td>WK</td>\n",
       "      <td>CAV_HOV</td>\n",
       "      <td>CAV</td>\n",
       "      <td>NonEV</td>\n",
       "      <td>32684.274</td>\n",
       "    </tr>\n",
       "    <tr>\n",
       "      <th>18</th>\n",
       "      <td>AM</td>\n",
       "      <td>WK</td>\n",
       "      <td>CAV_SOV</td>\n",
       "      <td>CAV</td>\n",
       "      <td>EV</td>\n",
       "      <td>52270.775</td>\n",
       "    </tr>\n",
       "    <tr>\n",
       "      <th>19</th>\n",
       "      <td>AM</td>\n",
       "      <td>WK</td>\n",
       "      <td>CAV_SOV</td>\n",
       "      <td>CAV</td>\n",
       "      <td>NonEV</td>\n",
       "      <td>168554.545</td>\n",
       "    </tr>\n",
       "    <tr>\n",
       "      <th>20</th>\n",
       "      <td>AM</td>\n",
       "      <td>WK</td>\n",
       "      <td>REG_HOV</td>\n",
       "      <td>REG</td>\n",
       "      <td>EV</td>\n",
       "      <td>30564.131</td>\n",
       "    </tr>\n",
       "    <tr>\n",
       "      <th>21</th>\n",
       "      <td>AM</td>\n",
       "      <td>WK</td>\n",
       "      <td>REG_HOV</td>\n",
       "      <td>REG</td>\n",
       "      <td>NonEV</td>\n",
       "      <td>100031.092</td>\n",
       "    </tr>\n",
       "    <tr>\n",
       "      <th>22</th>\n",
       "      <td>AM</td>\n",
       "      <td>WK</td>\n",
       "      <td>REG_SOV</td>\n",
       "      <td>REG</td>\n",
       "      <td>EV</td>\n",
       "      <td>145349.757</td>\n",
       "    </tr>\n",
       "    <tr>\n",
       "      <th>23</th>\n",
       "      <td>AM</td>\n",
       "      <td>WK</td>\n",
       "      <td>REG_SOV</td>\n",
       "      <td>REG</td>\n",
       "      <td>NonEV</td>\n",
       "      <td>469517.285</td>\n",
       "    </tr>\n",
       "    <tr>\n",
       "      <th>24</th>\n",
       "      <td>MD</td>\n",
       "      <td>Cargo</td>\n",
       "      <td>REG_Cargo</td>\n",
       "      <td>REG</td>\n",
       "      <td>EV</td>\n",
       "      <td>3492.142</td>\n",
       "    </tr>\n",
       "    <tr>\n",
       "      <th>25</th>\n",
       "      <td>MD</td>\n",
       "      <td>Cargo</td>\n",
       "      <td>REG_Cargo</td>\n",
       "      <td>REG</td>\n",
       "      <td>NonEV</td>\n",
       "      <td>69004.646</td>\n",
       "    </tr>\n",
       "    <tr>\n",
       "      <th>26</th>\n",
       "      <td>MD</td>\n",
       "      <td>NW</td>\n",
       "      <td>CAV_HOV</td>\n",
       "      <td>CAV</td>\n",
       "      <td>EV</td>\n",
       "      <td>51625.703</td>\n",
       "    </tr>\n",
       "    <tr>\n",
       "      <th>27</th>\n",
       "      <td>MD</td>\n",
       "      <td>NW</td>\n",
       "      <td>CAV_HOV</td>\n",
       "      <td>CAV</td>\n",
       "      <td>NonEV</td>\n",
       "      <td>173080.255</td>\n",
       "    </tr>\n",
       "    <tr>\n",
       "      <th>28</th>\n",
       "      <td>MD</td>\n",
       "      <td>NW</td>\n",
       "      <td>CAV_SOV</td>\n",
       "      <td>CAV</td>\n",
       "      <td>EV</td>\n",
       "      <td>155601.517</td>\n",
       "    </tr>\n",
       "    <tr>\n",
       "      <th>29</th>\n",
       "      <td>MD</td>\n",
       "      <td>NW</td>\n",
       "      <td>CAV_SOV</td>\n",
       "      <td>CAV</td>\n",
       "      <td>NonEV</td>\n",
       "      <td>519968.689</td>\n",
       "    </tr>\n",
       "    <tr>\n",
       "      <th>...</th>\n",
       "      <td>...</td>\n",
       "      <td>...</td>\n",
       "      <td>...</td>\n",
       "      <td>...</td>\n",
       "      <td>...</td>\n",
       "      <td>...</td>\n",
       "    </tr>\n",
       "    <tr>\n",
       "      <th>66</th>\n",
       "      <td>OV</td>\n",
       "      <td>WK</td>\n",
       "      <td>CAV_SOV</td>\n",
       "      <td>CAV</td>\n",
       "      <td>EV</td>\n",
       "      <td>23703.760</td>\n",
       "    </tr>\n",
       "    <tr>\n",
       "      <th>67</th>\n",
       "      <td>OV</td>\n",
       "      <td>WK</td>\n",
       "      <td>CAV_SOV</td>\n",
       "      <td>CAV</td>\n",
       "      <td>NonEV</td>\n",
       "      <td>79636.882</td>\n",
       "    </tr>\n",
       "    <tr>\n",
       "      <th>68</th>\n",
       "      <td>OV</td>\n",
       "      <td>WK</td>\n",
       "      <td>REG_HOV</td>\n",
       "      <td>REG</td>\n",
       "      <td>EV</td>\n",
       "      <td>14445.382</td>\n",
       "    </tr>\n",
       "    <tr>\n",
       "      <th>69</th>\n",
       "      <td>OV</td>\n",
       "      <td>WK</td>\n",
       "      <td>REG_HOV</td>\n",
       "      <td>REG</td>\n",
       "      <td>NonEV</td>\n",
       "      <td>50410.571</td>\n",
       "    </tr>\n",
       "    <tr>\n",
       "      <th>70</th>\n",
       "      <td>OV</td>\n",
       "      <td>WK</td>\n",
       "      <td>REG_SOV</td>\n",
       "      <td>REG</td>\n",
       "      <td>EV</td>\n",
       "      <td>66912.967</td>\n",
       "    </tr>\n",
       "    <tr>\n",
       "      <th>71</th>\n",
       "      <td>OV</td>\n",
       "      <td>WK</td>\n",
       "      <td>REG_SOV</td>\n",
       "      <td>REG</td>\n",
       "      <td>NonEV</td>\n",
       "      <td>224670.011</td>\n",
       "    </tr>\n",
       "    <tr>\n",
       "      <th>72</th>\n",
       "      <td>PM</td>\n",
       "      <td>Cargo</td>\n",
       "      <td>REG_Cargo</td>\n",
       "      <td>REG</td>\n",
       "      <td>EV</td>\n",
       "      <td>1652.318</td>\n",
       "    </tr>\n",
       "    <tr>\n",
       "      <th>73</th>\n",
       "      <td>PM</td>\n",
       "      <td>Cargo</td>\n",
       "      <td>REG_Cargo</td>\n",
       "      <td>REG</td>\n",
       "      <td>NonEV</td>\n",
       "      <td>36779.955</td>\n",
       "    </tr>\n",
       "    <tr>\n",
       "      <th>74</th>\n",
       "      <td>PM</td>\n",
       "      <td>NW</td>\n",
       "      <td>CAV_HOV</td>\n",
       "      <td>CAV</td>\n",
       "      <td>EV</td>\n",
       "      <td>43552.913</td>\n",
       "    </tr>\n",
       "    <tr>\n",
       "      <th>75</th>\n",
       "      <td>PM</td>\n",
       "      <td>NW</td>\n",
       "      <td>CAV_HOV</td>\n",
       "      <td>CAV</td>\n",
       "      <td>NonEV</td>\n",
       "      <td>142905.209</td>\n",
       "    </tr>\n",
       "    <tr>\n",
       "      <th>76</th>\n",
       "      <td>PM</td>\n",
       "      <td>NW</td>\n",
       "      <td>CAV_SOV</td>\n",
       "      <td>CAV</td>\n",
       "      <td>EV</td>\n",
       "      <td>130719.023</td>\n",
       "    </tr>\n",
       "    <tr>\n",
       "      <th>77</th>\n",
       "      <td>PM</td>\n",
       "      <td>NW</td>\n",
       "      <td>CAV_SOV</td>\n",
       "      <td>CAV</td>\n",
       "      <td>NonEV</td>\n",
       "      <td>428352.446</td>\n",
       "    </tr>\n",
       "    <tr>\n",
       "      <th>78</th>\n",
       "      <td>PM</td>\n",
       "      <td>NW</td>\n",
       "      <td>REG_HOV</td>\n",
       "      <td>REG</td>\n",
       "      <td>EV</td>\n",
       "      <td>123725.001</td>\n",
       "    </tr>\n",
       "    <tr>\n",
       "      <th>79</th>\n",
       "      <td>PM</td>\n",
       "      <td>NW</td>\n",
       "      <td>REG_HOV</td>\n",
       "      <td>REG</td>\n",
       "      <td>NonEV</td>\n",
       "      <td>406512.790</td>\n",
       "    </tr>\n",
       "    <tr>\n",
       "      <th>80</th>\n",
       "      <td>PM</td>\n",
       "      <td>NW</td>\n",
       "      <td>REG_SOV</td>\n",
       "      <td>REG</td>\n",
       "      <td>EV</td>\n",
       "      <td>368130.821</td>\n",
       "    </tr>\n",
       "    <tr>\n",
       "      <th>81</th>\n",
       "      <td>PM</td>\n",
       "      <td>NW</td>\n",
       "      <td>REG_SOV</td>\n",
       "      <td>REG</td>\n",
       "      <td>NonEV</td>\n",
       "      <td>1207515.716</td>\n",
       "    </tr>\n",
       "    <tr>\n",
       "      <th>82</th>\n",
       "      <td>PM</td>\n",
       "      <td>Serv</td>\n",
       "      <td>REG_Serv</td>\n",
       "      <td>REG</td>\n",
       "      <td>EV</td>\n",
       "      <td>44694.467</td>\n",
       "    </tr>\n",
       "    <tr>\n",
       "      <th>83</th>\n",
       "      <td>PM</td>\n",
       "      <td>Serv</td>\n",
       "      <td>REG_Serv</td>\n",
       "      <td>REG</td>\n",
       "      <td>NonEV</td>\n",
       "      <td>159686.273</td>\n",
       "    </tr>\n",
       "    <tr>\n",
       "      <th>84</th>\n",
       "      <td>PM</td>\n",
       "      <td>TNC</td>\n",
       "      <td>TNC</td>\n",
       "      <td>REG</td>\n",
       "      <td>EV</td>\n",
       "      <td>1646166.115</td>\n",
       "    </tr>\n",
       "    <tr>\n",
       "      <th>85</th>\n",
       "      <td>PM</td>\n",
       "      <td>TNC</td>\n",
       "      <td>TNC</td>\n",
       "      <td>REG</td>\n",
       "      <td>NonEV</td>\n",
       "      <td>5478268.637</td>\n",
       "    </tr>\n",
       "    <tr>\n",
       "      <th>86</th>\n",
       "      <td>PM</td>\n",
       "      <td>Taxi</td>\n",
       "      <td>REG_HOV</td>\n",
       "      <td>REG</td>\n",
       "      <td>EV</td>\n",
       "      <td>1152.469</td>\n",
       "    </tr>\n",
       "    <tr>\n",
       "      <th>87</th>\n",
       "      <td>PM</td>\n",
       "      <td>Taxi</td>\n",
       "      <td>REG_HOV</td>\n",
       "      <td>REG</td>\n",
       "      <td>NonEV</td>\n",
       "      <td>150011.735</td>\n",
       "    </tr>\n",
       "    <tr>\n",
       "      <th>88</th>\n",
       "      <td>PM</td>\n",
       "      <td>WK</td>\n",
       "      <td>CAV_HOV</td>\n",
       "      <td>CAV</td>\n",
       "      <td>EV</td>\n",
       "      <td>13844.559</td>\n",
       "    </tr>\n",
       "    <tr>\n",
       "      <th>89</th>\n",
       "      <td>PM</td>\n",
       "      <td>WK</td>\n",
       "      <td>CAV_HOV</td>\n",
       "      <td>CAV</td>\n",
       "      <td>NonEV</td>\n",
       "      <td>45618.671</td>\n",
       "    </tr>\n",
       "    <tr>\n",
       "      <th>90</th>\n",
       "      <td>PM</td>\n",
       "      <td>WK</td>\n",
       "      <td>CAV_SOV</td>\n",
       "      <td>CAV</td>\n",
       "      <td>EV</td>\n",
       "      <td>63230.642</td>\n",
       "    </tr>\n",
       "    <tr>\n",
       "      <th>91</th>\n",
       "      <td>PM</td>\n",
       "      <td>WK</td>\n",
       "      <td>CAV_SOV</td>\n",
       "      <td>CAV</td>\n",
       "      <td>NonEV</td>\n",
       "      <td>205614.107</td>\n",
       "    </tr>\n",
       "    <tr>\n",
       "      <th>92</th>\n",
       "      <td>PM</td>\n",
       "      <td>WK</td>\n",
       "      <td>REG_HOV</td>\n",
       "      <td>REG</td>\n",
       "      <td>EV</td>\n",
       "      <td>41807.918</td>\n",
       "    </tr>\n",
       "    <tr>\n",
       "      <th>93</th>\n",
       "      <td>PM</td>\n",
       "      <td>WK</td>\n",
       "      <td>REG_HOV</td>\n",
       "      <td>REG</td>\n",
       "      <td>NonEV</td>\n",
       "      <td>137928.690</td>\n",
       "    </tr>\n",
       "    <tr>\n",
       "      <th>94</th>\n",
       "      <td>PM</td>\n",
       "      <td>WK</td>\n",
       "      <td>REG_SOV</td>\n",
       "      <td>REG</td>\n",
       "      <td>EV</td>\n",
       "      <td>177326.832</td>\n",
       "    </tr>\n",
       "    <tr>\n",
       "      <th>95</th>\n",
       "      <td>PM</td>\n",
       "      <td>WK</td>\n",
       "      <td>REG_SOV</td>\n",
       "      <td>REG</td>\n",
       "      <td>NonEV</td>\n",
       "      <td>577776.729</td>\n",
       "    </tr>\n",
       "  </tbody>\n",
       "</table>\n",
       "<p>96 rows × 6 columns</p>\n",
       "</div>"
      ],
      "text/plain": [
       "   period   purp   vehtype2  cav     ev       trips\n",
       "0      AM  Cargo  REG_Cargo  REG     EV    1080.628\n",
       "1      AM  Cargo  REG_Cargo  REG  NonEV   27153.224\n",
       "2      AM     NW    CAV_HOV  CAV     EV   15266.016\n",
       "3      AM     NW    CAV_HOV  CAV  NonEV   49620.449\n",
       "4      AM     NW    CAV_SOV  CAV     EV   45523.698\n",
       "5      AM     NW    CAV_SOV  CAV  NonEV  148003.935\n",
       "6      AM     NW    REG_HOV  REG     EV   43610.020\n",
       "7      AM     NW    REG_HOV  REG  NonEV  142030.603\n",
       "8      AM     NW    REG_SOV  REG     EV  127373.622\n",
       "9      AM     NW    REG_SOV  REG  NonEV  414497.098\n",
       "10     AM   Serv   REG_Serv  REG     EV   29441.906\n",
       "11     AM   Serv   REG_Serv  REG  NonEV  105194.272\n",
       "12     AM    TNC        TNC  REG     EV  706540.865\n",
       "13     AM    TNC        TNC  REG  NonEV 2331421.278\n",
       "14     AM   Taxi    REG_HOV  REG     EV    5693.061\n",
       "15     AM   Taxi    REG_HOV  REG  NonEV  105763.877\n",
       "16     AM     WK    CAV_HOV  CAV     EV   10003.741\n",
       "17     AM     WK    CAV_HOV  CAV  NonEV   32684.274\n",
       "18     AM     WK    CAV_SOV  CAV     EV   52270.775\n",
       "19     AM     WK    CAV_SOV  CAV  NonEV  168554.545\n",
       "20     AM     WK    REG_HOV  REG     EV   30564.131\n",
       "21     AM     WK    REG_HOV  REG  NonEV  100031.092\n",
       "22     AM     WK    REG_SOV  REG     EV  145349.757\n",
       "23     AM     WK    REG_SOV  REG  NonEV  469517.285\n",
       "24     MD  Cargo  REG_Cargo  REG     EV    3492.142\n",
       "25     MD  Cargo  REG_Cargo  REG  NonEV   69004.646\n",
       "26     MD     NW    CAV_HOV  CAV     EV   51625.703\n",
       "27     MD     NW    CAV_HOV  CAV  NonEV  173080.255\n",
       "28     MD     NW    CAV_SOV  CAV     EV  155601.517\n",
       "29     MD     NW    CAV_SOV  CAV  NonEV  519968.689\n",
       "..    ...    ...        ...  ...    ...         ...\n",
       "66     OV     WK    CAV_SOV  CAV     EV   23703.760\n",
       "67     OV     WK    CAV_SOV  CAV  NonEV   79636.882\n",
       "68     OV     WK    REG_HOV  REG     EV   14445.382\n",
       "69     OV     WK    REG_HOV  REG  NonEV   50410.571\n",
       "70     OV     WK    REG_SOV  REG     EV   66912.967\n",
       "71     OV     WK    REG_SOV  REG  NonEV  224670.011\n",
       "72     PM  Cargo  REG_Cargo  REG     EV    1652.318\n",
       "73     PM  Cargo  REG_Cargo  REG  NonEV   36779.955\n",
       "74     PM     NW    CAV_HOV  CAV     EV   43552.913\n",
       "75     PM     NW    CAV_HOV  CAV  NonEV  142905.209\n",
       "76     PM     NW    CAV_SOV  CAV     EV  130719.023\n",
       "77     PM     NW    CAV_SOV  CAV  NonEV  428352.446\n",
       "78     PM     NW    REG_HOV  REG     EV  123725.001\n",
       "79     PM     NW    REG_HOV  REG  NonEV  406512.790\n",
       "80     PM     NW    REG_SOV  REG     EV  368130.821\n",
       "81     PM     NW    REG_SOV  REG  NonEV 1207515.716\n",
       "82     PM   Serv   REG_Serv  REG     EV   44694.467\n",
       "83     PM   Serv   REG_Serv  REG  NonEV  159686.273\n",
       "84     PM    TNC        TNC  REG     EV 1646166.115\n",
       "85     PM    TNC        TNC  REG  NonEV 5478268.637\n",
       "86     PM   Taxi    REG_HOV  REG     EV    1152.469\n",
       "87     PM   Taxi    REG_HOV  REG  NonEV  150011.735\n",
       "88     PM     WK    CAV_HOV  CAV     EV   13844.559\n",
       "89     PM     WK    CAV_HOV  CAV  NonEV   45618.671\n",
       "90     PM     WK    CAV_SOV  CAV     EV   63230.642\n",
       "91     PM     WK    CAV_SOV  CAV  NonEV  205614.107\n",
       "92     PM     WK    REG_HOV  REG     EV   41807.918\n",
       "93     PM     WK    REG_HOV  REG  NonEV  137928.690\n",
       "94     PM     WK    REG_SOV  REG     EV  177326.832\n",
       "95     PM     WK    REG_SOV  REG  NonEV  577776.729\n",
       "\n",
       "[96 rows x 6 columns]"
      ]
     },
     "execution_count": 18,
     "metadata": {},
     "output_type": "execute_result"
    }
   ],
   "source": [
    "summary_omx_gb"
   ]
  },
  {
   "cell_type": "markdown",
   "metadata": {},
   "source": [
    "#### Compare Vehicle Roster to OMX"
   ]
  },
  {
   "cell_type": "code",
   "execution_count": 58,
   "metadata": {},
   "outputs": [
    {
     "data": {
      "text/html": [
       "<style  type=\"text/css\" >\n",
       "</style>  \n",
       "<table id=\"T_0a34c52e_ae2d_11e9_8848_3417ebb3306b\" > \n",
       "<thead>    <tr> \n",
       "        <th class=\"blank level0\" ></th> \n",
       "        <th class=\"col_heading level0 col0\" >period</th> \n",
       "        <th class=\"col_heading level0 col1\" >purp</th> \n",
       "        <th class=\"col_heading level0 col2\" >vehtype2</th> \n",
       "        <th class=\"col_heading level0 col3\" >cav</th> \n",
       "        <th class=\"col_heading level0 col4\" >ev</th> \n",
       "        <th class=\"col_heading level0 col5\" >trips_OMX</th> \n",
       "        <th class=\"col_heading level0 col6\" >trips_DY</th> \n",
       "        <th class=\"col_heading level0 col7\" >Abs_Diff</th> \n",
       "        <th class=\"col_heading level0 col8\" >Rel_Diff</th> \n",
       "    </tr></thead> \n",
       "<tbody>    <tr> \n",
       "        <th id=\"T_0a34c52e_ae2d_11e9_8848_3417ebb3306blevel0_row0\" class=\"row_heading level0 row0\" >0</th> \n",
       "        <td id=\"T_0a34c52e_ae2d_11e9_8848_3417ebb3306brow0_col0\" class=\"data row0 col0\" >AM</td> \n",
       "        <td id=\"T_0a34c52e_ae2d_11e9_8848_3417ebb3306brow0_col1\" class=\"data row0 col1\" >Cargo</td> \n",
       "        <td id=\"T_0a34c52e_ae2d_11e9_8848_3417ebb3306brow0_col2\" class=\"data row0 col2\" >REG_Cargo</td> \n",
       "        <td id=\"T_0a34c52e_ae2d_11e9_8848_3417ebb3306brow0_col3\" class=\"data row0 col3\" >REG</td> \n",
       "        <td id=\"T_0a34c52e_ae2d_11e9_8848_3417ebb3306brow0_col4\" class=\"data row0 col4\" >EV</td> \n",
       "        <td id=\"T_0a34c52e_ae2d_11e9_8848_3417ebb3306brow0_col5\" class=\"data row0 col5\" >73.24</td> \n",
       "        <td id=\"T_0a34c52e_ae2d_11e9_8848_3417ebb3306brow0_col6\" class=\"data row0 col6\" >73</td> \n",
       "        <td id=\"T_0a34c52e_ae2d_11e9_8848_3417ebb3306brow0_col7\" class=\"data row0 col7\" >-0.239968</td> \n",
       "        <td id=\"T_0a34c52e_ae2d_11e9_8848_3417ebb3306brow0_col8\" class=\"data row0 col8\" >-0.33%</td> \n",
       "    </tr>    <tr> \n",
       "        <th id=\"T_0a34c52e_ae2d_11e9_8848_3417ebb3306blevel0_row1\" class=\"row_heading level0 row1\" >1</th> \n",
       "        <td id=\"T_0a34c52e_ae2d_11e9_8848_3417ebb3306brow1_col0\" class=\"data row1 col0\" >AM</td> \n",
       "        <td id=\"T_0a34c52e_ae2d_11e9_8848_3417ebb3306brow1_col1\" class=\"data row1 col1\" >Cargo</td> \n",
       "        <td id=\"T_0a34c52e_ae2d_11e9_8848_3417ebb3306brow1_col2\" class=\"data row1 col2\" >REG_Cargo</td> \n",
       "        <td id=\"T_0a34c52e_ae2d_11e9_8848_3417ebb3306brow1_col3\" class=\"data row1 col3\" >REG</td> \n",
       "        <td id=\"T_0a34c52e_ae2d_11e9_8848_3417ebb3306brow1_col4\" class=\"data row1 col4\" >NonEV</td> \n",
       "        <td id=\"T_0a34c52e_ae2d_11e9_8848_3417ebb3306brow1_col5\" class=\"data row1 col5\" >24,515.62</td> \n",
       "        <td id=\"T_0a34c52e_ae2d_11e9_8848_3417ebb3306brow1_col6\" class=\"data row1 col6\" >24,523</td> \n",
       "        <td id=\"T_0a34c52e_ae2d_11e9_8848_3417ebb3306brow1_col7\" class=\"data row1 col7\" >7.37997</td> \n",
       "        <td id=\"T_0a34c52e_ae2d_11e9_8848_3417ebb3306brow1_col8\" class=\"data row1 col8\" >0.03%</td> \n",
       "    </tr>    <tr> \n",
       "        <th id=\"T_0a34c52e_ae2d_11e9_8848_3417ebb3306blevel0_row2\" class=\"row_heading level0 row2\" >2</th> \n",
       "        <td id=\"T_0a34c52e_ae2d_11e9_8848_3417ebb3306brow2_col0\" class=\"data row2 col0\" >AM</td> \n",
       "        <td id=\"T_0a34c52e_ae2d_11e9_8848_3417ebb3306brow2_col1\" class=\"data row2 col1\" >NW</td> \n",
       "        <td id=\"T_0a34c52e_ae2d_11e9_8848_3417ebb3306brow2_col2\" class=\"data row2 col2\" >REG_HOV</td> \n",
       "        <td id=\"T_0a34c52e_ae2d_11e9_8848_3417ebb3306brow2_col3\" class=\"data row2 col3\" >REG</td> \n",
       "        <td id=\"T_0a34c52e_ae2d_11e9_8848_3417ebb3306brow2_col4\" class=\"data row2 col4\" >EV</td> \n",
       "        <td id=\"T_0a34c52e_ae2d_11e9_8848_3417ebb3306brow2_col5\" class=\"data row2 col5\" >6,972.63</td> \n",
       "        <td id=\"T_0a34c52e_ae2d_11e9_8848_3417ebb3306brow2_col6\" class=\"data row2 col6\" >6,970</td> \n",
       "        <td id=\"T_0a34c52e_ae2d_11e9_8848_3417ebb3306brow2_col7\" class=\"data row2 col7\" >-2.62854</td> \n",
       "        <td id=\"T_0a34c52e_ae2d_11e9_8848_3417ebb3306brow2_col8\" class=\"data row2 col8\" >-0.04%</td> \n",
       "    </tr>    <tr> \n",
       "        <th id=\"T_0a34c52e_ae2d_11e9_8848_3417ebb3306blevel0_row3\" class=\"row_heading level0 row3\" >3</th> \n",
       "        <td id=\"T_0a34c52e_ae2d_11e9_8848_3417ebb3306brow3_col0\" class=\"data row3 col0\" >AM</td> \n",
       "        <td id=\"T_0a34c52e_ae2d_11e9_8848_3417ebb3306brow3_col1\" class=\"data row3 col1\" >NW</td> \n",
       "        <td id=\"T_0a34c52e_ae2d_11e9_8848_3417ebb3306brow3_col2\" class=\"data row3 col2\" >REG_HOV</td> \n",
       "        <td id=\"T_0a34c52e_ae2d_11e9_8848_3417ebb3306brow3_col3\" class=\"data row3 col3\" >REG</td> \n",
       "        <td id=\"T_0a34c52e_ae2d_11e9_8848_3417ebb3306brow3_col4\" class=\"data row3 col4\" >NonEV</td> \n",
       "        <td id=\"T_0a34c52e_ae2d_11e9_8848_3417ebb3306brow3_col5\" class=\"data row3 col5\" >351,433.28</td> \n",
       "        <td id=\"T_0a34c52e_ae2d_11e9_8848_3417ebb3306brow3_col6\" class=\"data row3 col6\" >351,521</td> \n",
       "        <td id=\"T_0a34c52e_ae2d_11e9_8848_3417ebb3306brow3_col7\" class=\"data row3 col7\" >87.7152</td> \n",
       "        <td id=\"T_0a34c52e_ae2d_11e9_8848_3417ebb3306brow3_col8\" class=\"data row3 col8\" >0.02%</td> \n",
       "    </tr>    <tr> \n",
       "        <th id=\"T_0a34c52e_ae2d_11e9_8848_3417ebb3306blevel0_row4\" class=\"row_heading level0 row4\" >4</th> \n",
       "        <td id=\"T_0a34c52e_ae2d_11e9_8848_3417ebb3306brow4_col0\" class=\"data row4 col0\" >AM</td> \n",
       "        <td id=\"T_0a34c52e_ae2d_11e9_8848_3417ebb3306brow4_col1\" class=\"data row4 col1\" >NW</td> \n",
       "        <td id=\"T_0a34c52e_ae2d_11e9_8848_3417ebb3306brow4_col2\" class=\"data row4 col2\" >REG_SOV</td> \n",
       "        <td id=\"T_0a34c52e_ae2d_11e9_8848_3417ebb3306brow4_col3\" class=\"data row4 col3\" >REG</td> \n",
       "        <td id=\"T_0a34c52e_ae2d_11e9_8848_3417ebb3306brow4_col4\" class=\"data row4 col4\" >EV</td> \n",
       "        <td id=\"T_0a34c52e_ae2d_11e9_8848_3417ebb3306brow4_col5\" class=\"data row4 col5\" >20,074.95</td> \n",
       "        <td id=\"T_0a34c52e_ae2d_11e9_8848_3417ebb3306brow4_col6\" class=\"data row4 col6\" >20,072</td> \n",
       "        <td id=\"T_0a34c52e_ae2d_11e9_8848_3417ebb3306brow4_col7\" class=\"data row4 col7\" >-2.94943</td> \n",
       "        <td id=\"T_0a34c52e_ae2d_11e9_8848_3417ebb3306brow4_col8\" class=\"data row4 col8\" >-0.01%</td> \n",
       "    </tr>    <tr> \n",
       "        <th id=\"T_0a34c52e_ae2d_11e9_8848_3417ebb3306blevel0_row5\" class=\"row_heading level0 row5\" >5</th> \n",
       "        <td id=\"T_0a34c52e_ae2d_11e9_8848_3417ebb3306brow5_col0\" class=\"data row5 col0\" >AM</td> \n",
       "        <td id=\"T_0a34c52e_ae2d_11e9_8848_3417ebb3306brow5_col1\" class=\"data row5 col1\" >NW</td> \n",
       "        <td id=\"T_0a34c52e_ae2d_11e9_8848_3417ebb3306brow5_col2\" class=\"data row5 col2\" >REG_SOV</td> \n",
       "        <td id=\"T_0a34c52e_ae2d_11e9_8848_3417ebb3306brow5_col3\" class=\"data row5 col3\" >REG</td> \n",
       "        <td id=\"T_0a34c52e_ae2d_11e9_8848_3417ebb3306brow5_col4\" class=\"data row5 col4\" >NonEV</td> \n",
       "        <td id=\"T_0a34c52e_ae2d_11e9_8848_3417ebb3306brow5_col5\" class=\"data row5 col5\" >1,013,146.87</td> \n",
       "        <td id=\"T_0a34c52e_ae2d_11e9_8848_3417ebb3306brow5_col6\" class=\"data row5 col6\" >1,013,464</td> \n",
       "        <td id=\"T_0a34c52e_ae2d_11e9_8848_3417ebb3306brow5_col7\" class=\"data row5 col7\" >317.131</td> \n",
       "        <td id=\"T_0a34c52e_ae2d_11e9_8848_3417ebb3306brow5_col8\" class=\"data row5 col8\" >0.03%</td> \n",
       "    </tr>    <tr> \n",
       "        <th id=\"T_0a34c52e_ae2d_11e9_8848_3417ebb3306blevel0_row6\" class=\"row_heading level0 row6\" >6</th> \n",
       "        <td id=\"T_0a34c52e_ae2d_11e9_8848_3417ebb3306brow6_col0\" class=\"data row6 col0\" >AM</td> \n",
       "        <td id=\"T_0a34c52e_ae2d_11e9_8848_3417ebb3306brow6_col1\" class=\"data row6 col1\" >Serv</td> \n",
       "        <td id=\"T_0a34c52e_ae2d_11e9_8848_3417ebb3306brow6_col2\" class=\"data row6 col2\" >REG_Serv</td> \n",
       "        <td id=\"T_0a34c52e_ae2d_11e9_8848_3417ebb3306brow6_col3\" class=\"data row6 col3\" >REG</td> \n",
       "        <td id=\"T_0a34c52e_ae2d_11e9_8848_3417ebb3306brow6_col4\" class=\"data row6 col4\" >EV</td> \n",
       "        <td id=\"T_0a34c52e_ae2d_11e9_8848_3417ebb3306brow6_col5\" class=\"data row6 col5\" >1,725.05</td> \n",
       "        <td id=\"T_0a34c52e_ae2d_11e9_8848_3417ebb3306brow6_col6\" class=\"data row6 col6\" >1,724</td> \n",
       "        <td id=\"T_0a34c52e_ae2d_11e9_8848_3417ebb3306brow6_col7\" class=\"data row6 col7\" >-1.0539</td> \n",
       "        <td id=\"T_0a34c52e_ae2d_11e9_8848_3417ebb3306brow6_col8\" class=\"data row6 col8\" >-0.06%</td> \n",
       "    </tr>    <tr> \n",
       "        <th id=\"T_0a34c52e_ae2d_11e9_8848_3417ebb3306blevel0_row7\" class=\"row_heading level0 row7\" >7</th> \n",
       "        <td id=\"T_0a34c52e_ae2d_11e9_8848_3417ebb3306brow7_col0\" class=\"data row7 col0\" >AM</td> \n",
       "        <td id=\"T_0a34c52e_ae2d_11e9_8848_3417ebb3306brow7_col1\" class=\"data row7 col1\" >Serv</td> \n",
       "        <td id=\"T_0a34c52e_ae2d_11e9_8848_3417ebb3306brow7_col2\" class=\"data row7 col2\" >REG_Serv</td> \n",
       "        <td id=\"T_0a34c52e_ae2d_11e9_8848_3417ebb3306brow7_col3\" class=\"data row7 col3\" >REG</td> \n",
       "        <td id=\"T_0a34c52e_ae2d_11e9_8848_3417ebb3306brow7_col4\" class=\"data row7 col4\" >NonEV</td> \n",
       "        <td id=\"T_0a34c52e_ae2d_11e9_8848_3417ebb3306brow7_col5\" class=\"data row7 col5\" >97,526.96</td> \n",
       "        <td id=\"T_0a34c52e_ae2d_11e9_8848_3417ebb3306brow7_col6\" class=\"data row7 col6\" >97,579</td> \n",
       "        <td id=\"T_0a34c52e_ae2d_11e9_8848_3417ebb3306brow7_col7\" class=\"data row7 col7\" >52.0426</td> \n",
       "        <td id=\"T_0a34c52e_ae2d_11e9_8848_3417ebb3306brow7_col8\" class=\"data row7 col8\" >0.05%</td> \n",
       "    </tr>    <tr> \n",
       "        <th id=\"T_0a34c52e_ae2d_11e9_8848_3417ebb3306blevel0_row8\" class=\"row_heading level0 row8\" >8</th> \n",
       "        <td id=\"T_0a34c52e_ae2d_11e9_8848_3417ebb3306brow8_col0\" class=\"data row8 col0\" >AM</td> \n",
       "        <td id=\"T_0a34c52e_ae2d_11e9_8848_3417ebb3306brow8_col1\" class=\"data row8 col1\" >TNC</td> \n",
       "        <td id=\"T_0a34c52e_ae2d_11e9_8848_3417ebb3306brow8_col2\" class=\"data row8 col2\" >TNC</td> \n",
       "        <td id=\"T_0a34c52e_ae2d_11e9_8848_3417ebb3306brow8_col3\" class=\"data row8 col3\" >REG</td> \n",
       "        <td id=\"T_0a34c52e_ae2d_11e9_8848_3417ebb3306brow8_col4\" class=\"data row8 col4\" >EV</td> \n",
       "        <td id=\"T_0a34c52e_ae2d_11e9_8848_3417ebb3306brow8_col5\" class=\"data row8 col5\" >8,519.67</td> \n",
       "        <td id=\"T_0a34c52e_ae2d_11e9_8848_3417ebb3306brow8_col6\" class=\"data row8 col6\" >8,521</td> \n",
       "        <td id=\"T_0a34c52e_ae2d_11e9_8848_3417ebb3306brow8_col7\" class=\"data row8 col7\" >1.3337</td> \n",
       "        <td id=\"T_0a34c52e_ae2d_11e9_8848_3417ebb3306brow8_col8\" class=\"data row8 col8\" >0.02%</td> \n",
       "    </tr>    <tr> \n",
       "        <th id=\"T_0a34c52e_ae2d_11e9_8848_3417ebb3306blevel0_row9\" class=\"row_heading level0 row9\" >9</th> \n",
       "        <td id=\"T_0a34c52e_ae2d_11e9_8848_3417ebb3306brow9_col0\" class=\"data row9 col0\" >AM</td> \n",
       "        <td id=\"T_0a34c52e_ae2d_11e9_8848_3417ebb3306brow9_col1\" class=\"data row9 col1\" >TNC</td> \n",
       "        <td id=\"T_0a34c52e_ae2d_11e9_8848_3417ebb3306brow9_col2\" class=\"data row9 col2\" >TNC</td> \n",
       "        <td id=\"T_0a34c52e_ae2d_11e9_8848_3417ebb3306brow9_col3\" class=\"data row9 col3\" >REG</td> \n",
       "        <td id=\"T_0a34c52e_ae2d_11e9_8848_3417ebb3306brow9_col4\" class=\"data row9 col4\" >NonEV</td> \n",
       "        <td id=\"T_0a34c52e_ae2d_11e9_8848_3417ebb3306brow9_col5\" class=\"data row9 col5\" >449,645.08</td> \n",
       "        <td id=\"T_0a34c52e_ae2d_11e9_8848_3417ebb3306brow9_col6\" class=\"data row9 col6\" >449,671</td> \n",
       "        <td id=\"T_0a34c52e_ae2d_11e9_8848_3417ebb3306brow9_col7\" class=\"data row9 col7\" >25.9223</td> \n",
       "        <td id=\"T_0a34c52e_ae2d_11e9_8848_3417ebb3306brow9_col8\" class=\"data row9 col8\" >0.01%</td> \n",
       "    </tr>    <tr> \n",
       "        <th id=\"T_0a34c52e_ae2d_11e9_8848_3417ebb3306blevel0_row10\" class=\"row_heading level0 row10\" >10</th> \n",
       "        <td id=\"T_0a34c52e_ae2d_11e9_8848_3417ebb3306brow10_col0\" class=\"data row10 col0\" >AM</td> \n",
       "        <td id=\"T_0a34c52e_ae2d_11e9_8848_3417ebb3306brow10_col1\" class=\"data row10 col1\" >Taxi</td> \n",
       "        <td id=\"T_0a34c52e_ae2d_11e9_8848_3417ebb3306brow10_col2\" class=\"data row10 col2\" >REG_HOV</td> \n",
       "        <td id=\"T_0a34c52e_ae2d_11e9_8848_3417ebb3306brow10_col3\" class=\"data row10 col3\" >REG</td> \n",
       "        <td id=\"T_0a34c52e_ae2d_11e9_8848_3417ebb3306brow10_col4\" class=\"data row10 col4\" >EV</td> \n",
       "        <td id=\"T_0a34c52e_ae2d_11e9_8848_3417ebb3306brow10_col5\" class=\"data row10 col5\" >291.49</td> \n",
       "        <td id=\"T_0a34c52e_ae2d_11e9_8848_3417ebb3306brow10_col6\" class=\"data row10 col6\" >291</td> \n",
       "        <td id=\"T_0a34c52e_ae2d_11e9_8848_3417ebb3306brow10_col7\" class=\"data row10 col7\" >-0.486108</td> \n",
       "        <td id=\"T_0a34c52e_ae2d_11e9_8848_3417ebb3306brow10_col8\" class=\"data row10 col8\" >-0.17%</td> \n",
       "    </tr>    <tr> \n",
       "        <th id=\"T_0a34c52e_ae2d_11e9_8848_3417ebb3306blevel0_row11\" class=\"row_heading level0 row11\" >11</th> \n",
       "        <td id=\"T_0a34c52e_ae2d_11e9_8848_3417ebb3306brow11_col0\" class=\"data row11 col0\" >AM</td> \n",
       "        <td id=\"T_0a34c52e_ae2d_11e9_8848_3417ebb3306brow11_col1\" class=\"data row11 col1\" >Taxi</td> \n",
       "        <td id=\"T_0a34c52e_ae2d_11e9_8848_3417ebb3306brow11_col2\" class=\"data row11 col2\" >REG_HOV</td> \n",
       "        <td id=\"T_0a34c52e_ae2d_11e9_8848_3417ebb3306brow11_col3\" class=\"data row11 col3\" >REG</td> \n",
       "        <td id=\"T_0a34c52e_ae2d_11e9_8848_3417ebb3306brow11_col4\" class=\"data row11 col4\" >NonEV</td> \n",
       "        <td id=\"T_0a34c52e_ae2d_11e9_8848_3417ebb3306brow11_col5\" class=\"data row11 col5\" >101,920.12</td> \n",
       "        <td id=\"T_0a34c52e_ae2d_11e9_8848_3417ebb3306brow11_col6\" class=\"data row11 col6\" >101,926</td> \n",
       "        <td id=\"T_0a34c52e_ae2d_11e9_8848_3417ebb3306brow11_col7\" class=\"data row11 col7\" >5.88021</td> \n",
       "        <td id=\"T_0a34c52e_ae2d_11e9_8848_3417ebb3306brow11_col8\" class=\"data row11 col8\" >0.01%</td> \n",
       "    </tr>    <tr> \n",
       "        <th id=\"T_0a34c52e_ae2d_11e9_8848_3417ebb3306blevel0_row12\" class=\"row_heading level0 row12\" >12</th> \n",
       "        <td id=\"T_0a34c52e_ae2d_11e9_8848_3417ebb3306brow12_col0\" class=\"data row12 col0\" >AM</td> \n",
       "        <td id=\"T_0a34c52e_ae2d_11e9_8848_3417ebb3306brow12_col1\" class=\"data row12 col1\" >WK</td> \n",
       "        <td id=\"T_0a34c52e_ae2d_11e9_8848_3417ebb3306brow12_col2\" class=\"data row12 col2\" >REG_HOV</td> \n",
       "        <td id=\"T_0a34c52e_ae2d_11e9_8848_3417ebb3306brow12_col3\" class=\"data row12 col3\" >REG</td> \n",
       "        <td id=\"T_0a34c52e_ae2d_11e9_8848_3417ebb3306brow12_col4\" class=\"data row12 col4\" >EV</td> \n",
       "        <td id=\"T_0a34c52e_ae2d_11e9_8848_3417ebb3306brow12_col5\" class=\"data row12 col5\" >1,757.07</td> \n",
       "        <td id=\"T_0a34c52e_ae2d_11e9_8848_3417ebb3306brow12_col6\" class=\"data row12 col6\" >1,756</td> \n",
       "        <td id=\"T_0a34c52e_ae2d_11e9_8848_3417ebb3306brow12_col7\" class=\"data row12 col7\" >-1.06794</td> \n",
       "        <td id=\"T_0a34c52e_ae2d_11e9_8848_3417ebb3306brow12_col8\" class=\"data row12 col8\" >-0.06%</td> \n",
       "    </tr>    <tr> \n",
       "        <th id=\"T_0a34c52e_ae2d_11e9_8848_3417ebb3306blevel0_row13\" class=\"row_heading level0 row13\" >13</th> \n",
       "        <td id=\"T_0a34c52e_ae2d_11e9_8848_3417ebb3306brow13_col0\" class=\"data row13 col0\" >AM</td> \n",
       "        <td id=\"T_0a34c52e_ae2d_11e9_8848_3417ebb3306brow13_col1\" class=\"data row13 col1\" >WK</td> \n",
       "        <td id=\"T_0a34c52e_ae2d_11e9_8848_3417ebb3306brow13_col2\" class=\"data row13 col2\" >REG_HOV</td> \n",
       "        <td id=\"T_0a34c52e_ae2d_11e9_8848_3417ebb3306brow13_col3\" class=\"data row13 col3\" >REG</td> \n",
       "        <td id=\"T_0a34c52e_ae2d_11e9_8848_3417ebb3306brow13_col4\" class=\"data row13 col4\" >NonEV</td> \n",
       "        <td id=\"T_0a34c52e_ae2d_11e9_8848_3417ebb3306brow13_col5\" class=\"data row13 col5\" >94,419.82</td> \n",
       "        <td id=\"T_0a34c52e_ae2d_11e9_8848_3417ebb3306brow13_col6\" class=\"data row13 col6\" >94,389</td> \n",
       "        <td id=\"T_0a34c52e_ae2d_11e9_8848_3417ebb3306brow13_col7\" class=\"data row13 col7\" >-30.8172</td> \n",
       "        <td id=\"T_0a34c52e_ae2d_11e9_8848_3417ebb3306brow13_col8\" class=\"data row13 col8\" >-0.03%</td> \n",
       "    </tr>    <tr> \n",
       "        <th id=\"T_0a34c52e_ae2d_11e9_8848_3417ebb3306blevel0_row14\" class=\"row_heading level0 row14\" >14</th> \n",
       "        <td id=\"T_0a34c52e_ae2d_11e9_8848_3417ebb3306brow14_col0\" class=\"data row14 col0\" >AM</td> \n",
       "        <td id=\"T_0a34c52e_ae2d_11e9_8848_3417ebb3306brow14_col1\" class=\"data row14 col1\" >WK</td> \n",
       "        <td id=\"T_0a34c52e_ae2d_11e9_8848_3417ebb3306brow14_col2\" class=\"data row14 col2\" >REG_SOV</td> \n",
       "        <td id=\"T_0a34c52e_ae2d_11e9_8848_3417ebb3306brow14_col3\" class=\"data row14 col3\" >REG</td> \n",
       "        <td id=\"T_0a34c52e_ae2d_11e9_8848_3417ebb3306brow14_col4\" class=\"data row14 col4\" >EV</td> \n",
       "        <td id=\"T_0a34c52e_ae2d_11e9_8848_3417ebb3306brow14_col5\" class=\"data row14 col5\" >18,973.03</td> \n",
       "        <td id=\"T_0a34c52e_ae2d_11e9_8848_3417ebb3306brow14_col6\" class=\"data row14 col6\" >18,962</td> \n",
       "        <td id=\"T_0a34c52e_ae2d_11e9_8848_3417ebb3306brow14_col7\" class=\"data row14 col7\" >-11.0259</td> \n",
       "        <td id=\"T_0a34c52e_ae2d_11e9_8848_3417ebb3306brow14_col8\" class=\"data row14 col8\" >-0.06%</td> \n",
       "    </tr>    <tr> \n",
       "        <th id=\"T_0a34c52e_ae2d_11e9_8848_3417ebb3306blevel0_row15\" class=\"row_heading level0 row15\" >15</th> \n",
       "        <td id=\"T_0a34c52e_ae2d_11e9_8848_3417ebb3306brow15_col0\" class=\"data row15 col0\" >AM</td> \n",
       "        <td id=\"T_0a34c52e_ae2d_11e9_8848_3417ebb3306brow15_col1\" class=\"data row15 col1\" >WK</td> \n",
       "        <td id=\"T_0a34c52e_ae2d_11e9_8848_3417ebb3306brow15_col2\" class=\"data row15 col2\" >REG_SOV</td> \n",
       "        <td id=\"T_0a34c52e_ae2d_11e9_8848_3417ebb3306brow15_col3\" class=\"data row15 col3\" >REG</td> \n",
       "        <td id=\"T_0a34c52e_ae2d_11e9_8848_3417ebb3306brow15_col4\" class=\"data row15 col4\" >NonEV</td> \n",
       "        <td id=\"T_0a34c52e_ae2d_11e9_8848_3417ebb3306brow15_col5\" class=\"data row15 col5\" >958,719.53</td> \n",
       "        <td id=\"T_0a34c52e_ae2d_11e9_8848_3417ebb3306brow15_col6\" class=\"data row15 col6\" >958,373</td> \n",
       "        <td id=\"T_0a34c52e_ae2d_11e9_8848_3417ebb3306brow15_col7\" class=\"data row15 col7\" >-346.534</td> \n",
       "        <td id=\"T_0a34c52e_ae2d_11e9_8848_3417ebb3306brow15_col8\" class=\"data row15 col8\" >-0.04%</td> \n",
       "    </tr>    <tr> \n",
       "        <th id=\"T_0a34c52e_ae2d_11e9_8848_3417ebb3306blevel0_row16\" class=\"row_heading level0 row16\" >16</th> \n",
       "        <td id=\"T_0a34c52e_ae2d_11e9_8848_3417ebb3306brow16_col0\" class=\"data row16 col0\" >MD</td> \n",
       "        <td id=\"T_0a34c52e_ae2d_11e9_8848_3417ebb3306brow16_col1\" class=\"data row16 col1\" >Cargo</td> \n",
       "        <td id=\"T_0a34c52e_ae2d_11e9_8848_3417ebb3306brow16_col2\" class=\"data row16 col2\" >REG_Cargo</td> \n",
       "        <td id=\"T_0a34c52e_ae2d_11e9_8848_3417ebb3306brow16_col3\" class=\"data row16 col3\" >REG</td> \n",
       "        <td id=\"T_0a34c52e_ae2d_11e9_8848_3417ebb3306brow16_col4\" class=\"data row16 col4\" >EV</td> \n",
       "        <td id=\"T_0a34c52e_ae2d_11e9_8848_3417ebb3306brow16_col5\" class=\"data row16 col5\" >236.68</td> \n",
       "        <td id=\"T_0a34c52e_ae2d_11e9_8848_3417ebb3306brow16_col6\" class=\"data row16 col6\" >237</td> \n",
       "        <td id=\"T_0a34c52e_ae2d_11e9_8848_3417ebb3306brow16_col7\" class=\"data row16 col7\" >0.322878</td> \n",
       "        <td id=\"T_0a34c52e_ae2d_11e9_8848_3417ebb3306brow16_col8\" class=\"data row16 col8\" >0.14%</td> \n",
       "    </tr>    <tr> \n",
       "        <th id=\"T_0a34c52e_ae2d_11e9_8848_3417ebb3306blevel0_row17\" class=\"row_heading level0 row17\" >17</th> \n",
       "        <td id=\"T_0a34c52e_ae2d_11e9_8848_3417ebb3306brow17_col0\" class=\"data row17 col0\" >MD</td> \n",
       "        <td id=\"T_0a34c52e_ae2d_11e9_8848_3417ebb3306brow17_col1\" class=\"data row17 col1\" >Cargo</td> \n",
       "        <td id=\"T_0a34c52e_ae2d_11e9_8848_3417ebb3306brow17_col2\" class=\"data row17 col2\" >REG_Cargo</td> \n",
       "        <td id=\"T_0a34c52e_ae2d_11e9_8848_3417ebb3306brow17_col3\" class=\"data row17 col3\" >REG</td> \n",
       "        <td id=\"T_0a34c52e_ae2d_11e9_8848_3417ebb3306brow17_col4\" class=\"data row17 col4\" >NonEV</td> \n",
       "        <td id=\"T_0a34c52e_ae2d_11e9_8848_3417ebb3306brow17_col5\" class=\"data row17 col5\" >62,920.98</td> \n",
       "        <td id=\"T_0a34c52e_ae2d_11e9_8848_3417ebb3306brow17_col6\" class=\"data row17 col6\" >62,881</td> \n",
       "        <td id=\"T_0a34c52e_ae2d_11e9_8848_3417ebb3306brow17_col7\" class=\"data row17 col7\" >-39.9804</td> \n",
       "        <td id=\"T_0a34c52e_ae2d_11e9_8848_3417ebb3306brow17_col8\" class=\"data row17 col8\" >-0.06%</td> \n",
       "    </tr>    <tr> \n",
       "        <th id=\"T_0a34c52e_ae2d_11e9_8848_3417ebb3306blevel0_row18\" class=\"row_heading level0 row18\" >18</th> \n",
       "        <td id=\"T_0a34c52e_ae2d_11e9_8848_3417ebb3306brow18_col0\" class=\"data row18 col0\" >MD</td> \n",
       "        <td id=\"T_0a34c52e_ae2d_11e9_8848_3417ebb3306brow18_col1\" class=\"data row18 col1\" >NW</td> \n",
       "        <td id=\"T_0a34c52e_ae2d_11e9_8848_3417ebb3306brow18_col2\" class=\"data row18 col2\" >REG_HOV</td> \n",
       "        <td id=\"T_0a34c52e_ae2d_11e9_8848_3417ebb3306brow18_col3\" class=\"data row18 col3\" >REG</td> \n",
       "        <td id=\"T_0a34c52e_ae2d_11e9_8848_3417ebb3306brow18_col4\" class=\"data row18 col4\" >EV</td> \n",
       "        <td id=\"T_0a34c52e_ae2d_11e9_8848_3417ebb3306brow18_col5\" class=\"data row18 col5\" >19,642.11</td> \n",
       "        <td id=\"T_0a34c52e_ae2d_11e9_8848_3417ebb3306brow18_col6\" class=\"data row18 col6\" >19,635</td> \n",
       "        <td id=\"T_0a34c52e_ae2d_11e9_8848_3417ebb3306brow18_col7\" class=\"data row18 col7\" >-7.10997</td> \n",
       "        <td id=\"T_0a34c52e_ae2d_11e9_8848_3417ebb3306brow18_col8\" class=\"data row18 col8\" >-0.04%</td> \n",
       "    </tr>    <tr> \n",
       "        <th id=\"T_0a34c52e_ae2d_11e9_8848_3417ebb3306blevel0_row19\" class=\"row_heading level0 row19\" >19</th> \n",
       "        <td id=\"T_0a34c52e_ae2d_11e9_8848_3417ebb3306brow19_col0\" class=\"data row19 col0\" >MD</td> \n",
       "        <td id=\"T_0a34c52e_ae2d_11e9_8848_3417ebb3306brow19_col1\" class=\"data row19 col1\" >NW</td> \n",
       "        <td id=\"T_0a34c52e_ae2d_11e9_8848_3417ebb3306brow19_col2\" class=\"data row19 col2\" >REG_HOV</td> \n",
       "        <td id=\"T_0a34c52e_ae2d_11e9_8848_3417ebb3306brow19_col3\" class=\"data row19 col3\" >REG</td> \n",
       "        <td id=\"T_0a34c52e_ae2d_11e9_8848_3417ebb3306brow19_col4\" class=\"data row19 col4\" >NonEV</td> \n",
       "        <td id=\"T_0a34c52e_ae2d_11e9_8848_3417ebb3306brow19_col5\" class=\"data row19 col5\" >1,035,050.46</td> \n",
       "        <td id=\"T_0a34c52e_ae2d_11e9_8848_3417ebb3306brow19_col6\" class=\"data row19 col6\" >1,034,353</td> \n",
       "        <td id=\"T_0a34c52e_ae2d_11e9_8848_3417ebb3306brow19_col7\" class=\"data row19 col7\" >-697.461</td> \n",
       "        <td id=\"T_0a34c52e_ae2d_11e9_8848_3417ebb3306brow19_col8\" class=\"data row19 col8\" >-0.07%</td> \n",
       "    </tr>    <tr> \n",
       "        <th id=\"T_0a34c52e_ae2d_11e9_8848_3417ebb3306blevel0_row20\" class=\"row_heading level0 row20\" >20</th> \n",
       "        <td id=\"T_0a34c52e_ae2d_11e9_8848_3417ebb3306brow20_col0\" class=\"data row20 col0\" >MD</td> \n",
       "        <td id=\"T_0a34c52e_ae2d_11e9_8848_3417ebb3306brow20_col1\" class=\"data row20 col1\" >NW</td> \n",
       "        <td id=\"T_0a34c52e_ae2d_11e9_8848_3417ebb3306brow20_col2\" class=\"data row20 col2\" >REG_SOV</td> \n",
       "        <td id=\"T_0a34c52e_ae2d_11e9_8848_3417ebb3306brow20_col3\" class=\"data row20 col3\" >REG</td> \n",
       "        <td id=\"T_0a34c52e_ae2d_11e9_8848_3417ebb3306brow20_col4\" class=\"data row20 col4\" >EV</td> \n",
       "        <td id=\"T_0a34c52e_ae2d_11e9_8848_3417ebb3306brow20_col5\" class=\"data row20 col5\" >59,363.77</td> \n",
       "        <td id=\"T_0a34c52e_ae2d_11e9_8848_3417ebb3306brow20_col6\" class=\"data row20 col6\" >59,333</td> \n",
       "        <td id=\"T_0a34c52e_ae2d_11e9_8848_3417ebb3306brow20_col7\" class=\"data row20 col7\" >-30.7726</td> \n",
       "        <td id=\"T_0a34c52e_ae2d_11e9_8848_3417ebb3306brow20_col8\" class=\"data row20 col8\" >-0.05%</td> \n",
       "    </tr>    <tr> \n",
       "        <th id=\"T_0a34c52e_ae2d_11e9_8848_3417ebb3306blevel0_row21\" class=\"row_heading level0 row21\" >21</th> \n",
       "        <td id=\"T_0a34c52e_ae2d_11e9_8848_3417ebb3306brow21_col0\" class=\"data row21 col0\" >MD</td> \n",
       "        <td id=\"T_0a34c52e_ae2d_11e9_8848_3417ebb3306brow21_col1\" class=\"data row21 col1\" >NW</td> \n",
       "        <td id=\"T_0a34c52e_ae2d_11e9_8848_3417ebb3306brow21_col2\" class=\"data row21 col2\" >REG_SOV</td> \n",
       "        <td id=\"T_0a34c52e_ae2d_11e9_8848_3417ebb3306brow21_col3\" class=\"data row21 col3\" >REG</td> \n",
       "        <td id=\"T_0a34c52e_ae2d_11e9_8848_3417ebb3306brow21_col4\" class=\"data row21 col4\" >NonEV</td> \n",
       "        <td id=\"T_0a34c52e_ae2d_11e9_8848_3417ebb3306brow21_col5\" class=\"data row21 col5\" >3,128,533.94</td> \n",
       "        <td id=\"T_0a34c52e_ae2d_11e9_8848_3417ebb3306brow21_col6\" class=\"data row21 col6\" >3,126,266</td> \n",
       "        <td id=\"T_0a34c52e_ae2d_11e9_8848_3417ebb3306brow21_col7\" class=\"data row21 col7\" >-2267.94</td> \n",
       "        <td id=\"T_0a34c52e_ae2d_11e9_8848_3417ebb3306brow21_col8\" class=\"data row21 col8\" >-0.07%</td> \n",
       "    </tr>    <tr> \n",
       "        <th id=\"T_0a34c52e_ae2d_11e9_8848_3417ebb3306blevel0_row22\" class=\"row_heading level0 row22\" >22</th> \n",
       "        <td id=\"T_0a34c52e_ae2d_11e9_8848_3417ebb3306brow22_col0\" class=\"data row22 col0\" >MD</td> \n",
       "        <td id=\"T_0a34c52e_ae2d_11e9_8848_3417ebb3306brow22_col1\" class=\"data row22 col1\" >Serv</td> \n",
       "        <td id=\"T_0a34c52e_ae2d_11e9_8848_3417ebb3306brow22_col2\" class=\"data row22 col2\" >REG_Serv</td> \n",
       "        <td id=\"T_0a34c52e_ae2d_11e9_8848_3417ebb3306brow22_col3\" class=\"data row22 col3\" >REG</td> \n",
       "        <td id=\"T_0a34c52e_ae2d_11e9_8848_3417ebb3306brow22_col4\" class=\"data row22 col4\" >EV</td> \n",
       "        <td id=\"T_0a34c52e_ae2d_11e9_8848_3417ebb3306brow22_col5\" class=\"data row22 col5\" >5,563.65</td> \n",
       "        <td id=\"T_0a34c52e_ae2d_11e9_8848_3417ebb3306brow22_col6\" class=\"data row22 col6\" >5,563</td> \n",
       "        <td id=\"T_0a34c52e_ae2d_11e9_8848_3417ebb3306brow22_col7\" class=\"data row22 col7\" >-0.6504</td> \n",
       "        <td id=\"T_0a34c52e_ae2d_11e9_8848_3417ebb3306brow22_col8\" class=\"data row22 col8\" >-0.01%</td> \n",
       "    </tr>    <tr> \n",
       "        <th id=\"T_0a34c52e_ae2d_11e9_8848_3417ebb3306blevel0_row23\" class=\"row_heading level0 row23\" >23</th> \n",
       "        <td id=\"T_0a34c52e_ae2d_11e9_8848_3417ebb3306brow23_col0\" class=\"data row23 col0\" >MD</td> \n",
       "        <td id=\"T_0a34c52e_ae2d_11e9_8848_3417ebb3306brow23_col1\" class=\"data row23 col1\" >Serv</td> \n",
       "        <td id=\"T_0a34c52e_ae2d_11e9_8848_3417ebb3306brow23_col2\" class=\"data row23 col2\" >REG_Serv</td> \n",
       "        <td id=\"T_0a34c52e_ae2d_11e9_8848_3417ebb3306brow23_col3\" class=\"data row23 col3\" >REG</td> \n",
       "        <td id=\"T_0a34c52e_ae2d_11e9_8848_3417ebb3306brow23_col4\" class=\"data row23 col4\" >NonEV</td> \n",
       "        <td id=\"T_0a34c52e_ae2d_11e9_8848_3417ebb3306brow23_col5\" class=\"data row23 col5\" >314,476.26</td> \n",
       "        <td id=\"T_0a34c52e_ae2d_11e9_8848_3417ebb3306brow23_col6\" class=\"data row23 col6\" >314,251</td> \n",
       "        <td id=\"T_0a34c52e_ae2d_11e9_8848_3417ebb3306brow23_col7\" class=\"data row23 col7\" >-225.257</td> \n",
       "        <td id=\"T_0a34c52e_ae2d_11e9_8848_3417ebb3306brow23_col8\" class=\"data row23 col8\" >-0.07%</td> \n",
       "    </tr>    <tr> \n",
       "        <th id=\"T_0a34c52e_ae2d_11e9_8848_3417ebb3306blevel0_row24\" class=\"row_heading level0 row24\" >24</th> \n",
       "        <td id=\"T_0a34c52e_ae2d_11e9_8848_3417ebb3306brow24_col0\" class=\"data row24 col0\" >MD</td> \n",
       "        <td id=\"T_0a34c52e_ae2d_11e9_8848_3417ebb3306brow24_col1\" class=\"data row24 col1\" >TNC</td> \n",
       "        <td id=\"T_0a34c52e_ae2d_11e9_8848_3417ebb3306brow24_col2\" class=\"data row24 col2\" >TNC</td> \n",
       "        <td id=\"T_0a34c52e_ae2d_11e9_8848_3417ebb3306brow24_col3\" class=\"data row24 col3\" >REG</td> \n",
       "        <td id=\"T_0a34c52e_ae2d_11e9_8848_3417ebb3306brow24_col4\" class=\"data row24 col4\" >EV</td> \n",
       "        <td id=\"T_0a34c52e_ae2d_11e9_8848_3417ebb3306brow24_col5\" class=\"data row24 col5\" >22,092.96</td> \n",
       "        <td id=\"T_0a34c52e_ae2d_11e9_8848_3417ebb3306brow24_col6\" class=\"data row24 col6\" >22,081</td> \n",
       "        <td id=\"T_0a34c52e_ae2d_11e9_8848_3417ebb3306brow24_col7\" class=\"data row24 col7\" >-11.9576</td> \n",
       "        <td id=\"T_0a34c52e_ae2d_11e9_8848_3417ebb3306brow24_col8\" class=\"data row24 col8\" >-0.05%</td> \n",
       "    </tr>    <tr> \n",
       "        <th id=\"T_0a34c52e_ae2d_11e9_8848_3417ebb3306blevel0_row25\" class=\"row_heading level0 row25\" >25</th> \n",
       "        <td id=\"T_0a34c52e_ae2d_11e9_8848_3417ebb3306brow25_col0\" class=\"data row25 col0\" >MD</td> \n",
       "        <td id=\"T_0a34c52e_ae2d_11e9_8848_3417ebb3306brow25_col1\" class=\"data row25 col1\" >TNC</td> \n",
       "        <td id=\"T_0a34c52e_ae2d_11e9_8848_3417ebb3306brow25_col2\" class=\"data row25 col2\" >TNC</td> \n",
       "        <td id=\"T_0a34c52e_ae2d_11e9_8848_3417ebb3306brow25_col3\" class=\"data row25 col3\" >REG</td> \n",
       "        <td id=\"T_0a34c52e_ae2d_11e9_8848_3417ebb3306brow25_col4\" class=\"data row25 col4\" >NonEV</td> \n",
       "        <td id=\"T_0a34c52e_ae2d_11e9_8848_3417ebb3306brow25_col5\" class=\"data row25 col5\" >1,215,487.08</td> \n",
       "        <td id=\"T_0a34c52e_ae2d_11e9_8848_3417ebb3306brow25_col6\" class=\"data row25 col6\" >1,214,616</td> \n",
       "        <td id=\"T_0a34c52e_ae2d_11e9_8848_3417ebb3306brow25_col7\" class=\"data row25 col7\" >-871.078</td> \n",
       "        <td id=\"T_0a34c52e_ae2d_11e9_8848_3417ebb3306brow25_col8\" class=\"data row25 col8\" >-0.07%</td> \n",
       "    </tr>    <tr> \n",
       "        <th id=\"T_0a34c52e_ae2d_11e9_8848_3417ebb3306blevel0_row26\" class=\"row_heading level0 row26\" >26</th> \n",
       "        <td id=\"T_0a34c52e_ae2d_11e9_8848_3417ebb3306brow26_col0\" class=\"data row26 col0\" >MD</td> \n",
       "        <td id=\"T_0a34c52e_ae2d_11e9_8848_3417ebb3306brow26_col1\" class=\"data row26 col1\" >Taxi</td> \n",
       "        <td id=\"T_0a34c52e_ae2d_11e9_8848_3417ebb3306brow26_col2\" class=\"data row26 col2\" >REG_HOV</td> \n",
       "        <td id=\"T_0a34c52e_ae2d_11e9_8848_3417ebb3306brow26_col3\" class=\"data row26 col3\" >REG</td> \n",
       "        <td id=\"T_0a34c52e_ae2d_11e9_8848_3417ebb3306brow26_col4\" class=\"data row26 col4\" >EV</td> \n",
       "        <td id=\"T_0a34c52e_ae2d_11e9_8848_3417ebb3306brow26_col5\" class=\"data row26 col5\" >481.69</td> \n",
       "        <td id=\"T_0a34c52e_ae2d_11e9_8848_3417ebb3306brow26_col6\" class=\"data row26 col6\" >482</td> \n",
       "        <td id=\"T_0a34c52e_ae2d_11e9_8848_3417ebb3306brow26_col7\" class=\"data row26 col7\" >0.313406</td> \n",
       "        <td id=\"T_0a34c52e_ae2d_11e9_8848_3417ebb3306brow26_col8\" class=\"data row26 col8\" >0.07%</td> \n",
       "    </tr>    <tr> \n",
       "        <th id=\"T_0a34c52e_ae2d_11e9_8848_3417ebb3306blevel0_row27\" class=\"row_heading level0 row27\" >27</th> \n",
       "        <td id=\"T_0a34c52e_ae2d_11e9_8848_3417ebb3306brow27_col0\" class=\"data row27 col0\" >MD</td> \n",
       "        <td id=\"T_0a34c52e_ae2d_11e9_8848_3417ebb3306brow27_col1\" class=\"data row27 col1\" >Taxi</td> \n",
       "        <td id=\"T_0a34c52e_ae2d_11e9_8848_3417ebb3306brow27_col2\" class=\"data row27 col2\" >REG_HOV</td> \n",
       "        <td id=\"T_0a34c52e_ae2d_11e9_8848_3417ebb3306brow27_col3\" class=\"data row27 col3\" >REG</td> \n",
       "        <td id=\"T_0a34c52e_ae2d_11e9_8848_3417ebb3306brow27_col4\" class=\"data row27 col4\" >NonEV</td> \n",
       "        <td id=\"T_0a34c52e_ae2d_11e9_8848_3417ebb3306brow27_col5\" class=\"data row27 col5\" >198,562.06</td> \n",
       "        <td id=\"T_0a34c52e_ae2d_11e9_8848_3417ebb3306brow27_col6\" class=\"data row27 col6\" >198,454</td> \n",
       "        <td id=\"T_0a34c52e_ae2d_11e9_8848_3417ebb3306brow27_col7\" class=\"data row27 col7\" >-108.055</td> \n",
       "        <td id=\"T_0a34c52e_ae2d_11e9_8848_3417ebb3306brow27_col8\" class=\"data row27 col8\" >-0.05%</td> \n",
       "    </tr>    <tr> \n",
       "        <th id=\"T_0a34c52e_ae2d_11e9_8848_3417ebb3306blevel0_row28\" class=\"row_heading level0 row28\" >28</th> \n",
       "        <td id=\"T_0a34c52e_ae2d_11e9_8848_3417ebb3306brow28_col0\" class=\"data row28 col0\" >MD</td> \n",
       "        <td id=\"T_0a34c52e_ae2d_11e9_8848_3417ebb3306brow28_col1\" class=\"data row28 col1\" >WK</td> \n",
       "        <td id=\"T_0a34c52e_ae2d_11e9_8848_3417ebb3306brow28_col2\" class=\"data row28 col2\" >REG_HOV</td> \n",
       "        <td id=\"T_0a34c52e_ae2d_11e9_8848_3417ebb3306brow28_col3\" class=\"data row28 col3\" >REG</td> \n",
       "        <td id=\"T_0a34c52e_ae2d_11e9_8848_3417ebb3306brow28_col4\" class=\"data row28 col4\" >EV</td> \n",
       "        <td id=\"T_0a34c52e_ae2d_11e9_8848_3417ebb3306brow28_col5\" class=\"data row28 col5\" >2,450.99</td> \n",
       "        <td id=\"T_0a34c52e_ae2d_11e9_8848_3417ebb3306brow28_col6\" class=\"data row28 col6\" >2,450</td> \n",
       "        <td id=\"T_0a34c52e_ae2d_11e9_8848_3417ebb3306brow28_col7\" class=\"data row28 col7\" >-0.991162</td> \n",
       "        <td id=\"T_0a34c52e_ae2d_11e9_8848_3417ebb3306brow28_col8\" class=\"data row28 col8\" >-0.04%</td> \n",
       "    </tr>    <tr> \n",
       "        <th id=\"T_0a34c52e_ae2d_11e9_8848_3417ebb3306blevel0_row29\" class=\"row_heading level0 row29\" >29</th> \n",
       "        <td id=\"T_0a34c52e_ae2d_11e9_8848_3417ebb3306brow29_col0\" class=\"data row29 col0\" >MD</td> \n",
       "        <td id=\"T_0a34c52e_ae2d_11e9_8848_3417ebb3306brow29_col1\" class=\"data row29 col1\" >WK</td> \n",
       "        <td id=\"T_0a34c52e_ae2d_11e9_8848_3417ebb3306brow29_col2\" class=\"data row29 col2\" >REG_HOV</td> \n",
       "        <td id=\"T_0a34c52e_ae2d_11e9_8848_3417ebb3306brow29_col3\" class=\"data row29 col3\" >REG</td> \n",
       "        <td id=\"T_0a34c52e_ae2d_11e9_8848_3417ebb3306brow29_col4\" class=\"data row29 col4\" >NonEV</td> \n",
       "        <td id=\"T_0a34c52e_ae2d_11e9_8848_3417ebb3306brow29_col5\" class=\"data row29 col5\" >138,445.68</td> \n",
       "        <td id=\"T_0a34c52e_ae2d_11e9_8848_3417ebb3306brow29_col6\" class=\"data row29 col6\" >138,392</td> \n",
       "        <td id=\"T_0a34c52e_ae2d_11e9_8848_3417ebb3306brow29_col7\" class=\"data row29 col7\" >-53.6804</td> \n",
       "        <td id=\"T_0a34c52e_ae2d_11e9_8848_3417ebb3306brow29_col8\" class=\"data row29 col8\" >-0.04%</td> \n",
       "    </tr>    <tr> \n",
       "        <th id=\"T_0a34c52e_ae2d_11e9_8848_3417ebb3306blevel0_row30\" class=\"row_heading level0 row30\" >30</th> \n",
       "        <td id=\"T_0a34c52e_ae2d_11e9_8848_3417ebb3306brow30_col0\" class=\"data row30 col0\" >MD</td> \n",
       "        <td id=\"T_0a34c52e_ae2d_11e9_8848_3417ebb3306brow30_col1\" class=\"data row30 col1\" >WK</td> \n",
       "        <td id=\"T_0a34c52e_ae2d_11e9_8848_3417ebb3306brow30_col2\" class=\"data row30 col2\" >REG_SOV</td> \n",
       "        <td id=\"T_0a34c52e_ae2d_11e9_8848_3417ebb3306brow30_col3\" class=\"data row30 col3\" >REG</td> \n",
       "        <td id=\"T_0a34c52e_ae2d_11e9_8848_3417ebb3306brow30_col4\" class=\"data row30 col4\" >EV</td> \n",
       "        <td id=\"T_0a34c52e_ae2d_11e9_8848_3417ebb3306brow30_col5\" class=\"data row30 col5\" >12,139.26</td> \n",
       "        <td id=\"T_0a34c52e_ae2d_11e9_8848_3417ebb3306brow30_col6\" class=\"data row30 col6\" >12,145</td> \n",
       "        <td id=\"T_0a34c52e_ae2d_11e9_8848_3417ebb3306brow30_col7\" class=\"data row30 col7\" >5.7444</td> \n",
       "        <td id=\"T_0a34c52e_ae2d_11e9_8848_3417ebb3306brow30_col8\" class=\"data row30 col8\" >0.05%</td> \n",
       "    </tr>    <tr> \n",
       "        <th id=\"T_0a34c52e_ae2d_11e9_8848_3417ebb3306blevel0_row31\" class=\"row_heading level0 row31\" >31</th> \n",
       "        <td id=\"T_0a34c52e_ae2d_11e9_8848_3417ebb3306brow31_col0\" class=\"data row31 col0\" >MD</td> \n",
       "        <td id=\"T_0a34c52e_ae2d_11e9_8848_3417ebb3306brow31_col1\" class=\"data row31 col1\" >WK</td> \n",
       "        <td id=\"T_0a34c52e_ae2d_11e9_8848_3417ebb3306brow31_col2\" class=\"data row31 col2\" >REG_SOV</td> \n",
       "        <td id=\"T_0a34c52e_ae2d_11e9_8848_3417ebb3306brow31_col3\" class=\"data row31 col3\" >REG</td> \n",
       "        <td id=\"T_0a34c52e_ae2d_11e9_8848_3417ebb3306brow31_col4\" class=\"data row31 col4\" >NonEV</td> \n",
       "        <td id=\"T_0a34c52e_ae2d_11e9_8848_3417ebb3306brow31_col5\" class=\"data row31 col5\" >666,776.56</td> \n",
       "        <td id=\"T_0a34c52e_ae2d_11e9_8848_3417ebb3306brow31_col6\" class=\"data row31 col6\" >666,829</td> \n",
       "        <td id=\"T_0a34c52e_ae2d_11e9_8848_3417ebb3306brow31_col7\" class=\"data row31 col7\" >52.4438</td> \n",
       "        <td id=\"T_0a34c52e_ae2d_11e9_8848_3417ebb3306brow31_col8\" class=\"data row31 col8\" >0.01%</td> \n",
       "    </tr>    <tr> \n",
       "        <th id=\"T_0a34c52e_ae2d_11e9_8848_3417ebb3306blevel0_row32\" class=\"row_heading level0 row32\" >32</th> \n",
       "        <td id=\"T_0a34c52e_ae2d_11e9_8848_3417ebb3306brow32_col0\" class=\"data row32 col0\" >OV</td> \n",
       "        <td id=\"T_0a34c52e_ae2d_11e9_8848_3417ebb3306brow32_col1\" class=\"data row32 col1\" >Cargo</td> \n",
       "        <td id=\"T_0a34c52e_ae2d_11e9_8848_3417ebb3306brow32_col2\" class=\"data row32 col2\" >REG_Cargo</td> \n",
       "        <td id=\"T_0a34c52e_ae2d_11e9_8848_3417ebb3306brow32_col3\" class=\"data row32 col3\" >REG</td> \n",
       "        <td id=\"T_0a34c52e_ae2d_11e9_8848_3417ebb3306brow32_col4\" class=\"data row32 col4\" >EV</td> \n",
       "        <td id=\"T_0a34c52e_ae2d_11e9_8848_3417ebb3306brow32_col5\" class=\"data row32 col5\" >140.21</td> \n",
       "        <td id=\"T_0a34c52e_ae2d_11e9_8848_3417ebb3306brow32_col6\" class=\"data row32 col6\" >140</td> \n",
       "        <td id=\"T_0a34c52e_ae2d_11e9_8848_3417ebb3306brow32_col7\" class=\"data row32 col7\" >-0.214918</td> \n",
       "        <td id=\"T_0a34c52e_ae2d_11e9_8848_3417ebb3306brow32_col8\" class=\"data row32 col8\" >-0.15%</td> \n",
       "    </tr>    <tr> \n",
       "        <th id=\"T_0a34c52e_ae2d_11e9_8848_3417ebb3306blevel0_row33\" class=\"row_heading level0 row33\" >33</th> \n",
       "        <td id=\"T_0a34c52e_ae2d_11e9_8848_3417ebb3306brow33_col0\" class=\"data row33 col0\" >OV</td> \n",
       "        <td id=\"T_0a34c52e_ae2d_11e9_8848_3417ebb3306brow33_col1\" class=\"data row33 col1\" >Cargo</td> \n",
       "        <td id=\"T_0a34c52e_ae2d_11e9_8848_3417ebb3306brow33_col2\" class=\"data row33 col2\" >REG_Cargo</td> \n",
       "        <td id=\"T_0a34c52e_ae2d_11e9_8848_3417ebb3306brow33_col3\" class=\"data row33 col3\" >REG</td> \n",
       "        <td id=\"T_0a34c52e_ae2d_11e9_8848_3417ebb3306brow33_col4\" class=\"data row33 col4\" >NonEV</td> \n",
       "        <td id=\"T_0a34c52e_ae2d_11e9_8848_3417ebb3306brow33_col5\" class=\"data row33 col5\" >40,041.96</td> \n",
       "        <td id=\"T_0a34c52e_ae2d_11e9_8848_3417ebb3306brow33_col6\" class=\"data row33 col6\" >40,058</td> \n",
       "        <td id=\"T_0a34c52e_ae2d_11e9_8848_3417ebb3306brow33_col7\" class=\"data row33 col7\" >16.0354</td> \n",
       "        <td id=\"T_0a34c52e_ae2d_11e9_8848_3417ebb3306brow33_col8\" class=\"data row33 col8\" >0.04%</td> \n",
       "    </tr>    <tr> \n",
       "        <th id=\"T_0a34c52e_ae2d_11e9_8848_3417ebb3306blevel0_row34\" class=\"row_heading level0 row34\" >34</th> \n",
       "        <td id=\"T_0a34c52e_ae2d_11e9_8848_3417ebb3306brow34_col0\" class=\"data row34 col0\" >OV</td> \n",
       "        <td id=\"T_0a34c52e_ae2d_11e9_8848_3417ebb3306brow34_col1\" class=\"data row34 col1\" >NW</td> \n",
       "        <td id=\"T_0a34c52e_ae2d_11e9_8848_3417ebb3306brow34_col2\" class=\"data row34 col2\" >REG_HOV</td> \n",
       "        <td id=\"T_0a34c52e_ae2d_11e9_8848_3417ebb3306brow34_col3\" class=\"data row34 col3\" >REG</td> \n",
       "        <td id=\"T_0a34c52e_ae2d_11e9_8848_3417ebb3306brow34_col4\" class=\"data row34 col4\" >EV</td> \n",
       "        <td id=\"T_0a34c52e_ae2d_11e9_8848_3417ebb3306brow34_col5\" class=\"data row34 col5\" >9,534.06</td> \n",
       "        <td id=\"T_0a34c52e_ae2d_11e9_8848_3417ebb3306brow34_col6\" class=\"data row34 col6\" >9,549</td> \n",
       "        <td id=\"T_0a34c52e_ae2d_11e9_8848_3417ebb3306brow34_col7\" class=\"data row34 col7\" >14.9362</td> \n",
       "        <td id=\"T_0a34c52e_ae2d_11e9_8848_3417ebb3306brow34_col8\" class=\"data row34 col8\" >0.16%</td> \n",
       "    </tr>    <tr> \n",
       "        <th id=\"T_0a34c52e_ae2d_11e9_8848_3417ebb3306blevel0_row35\" class=\"row_heading level0 row35\" >35</th> \n",
       "        <td id=\"T_0a34c52e_ae2d_11e9_8848_3417ebb3306brow35_col0\" class=\"data row35 col0\" >OV</td> \n",
       "        <td id=\"T_0a34c52e_ae2d_11e9_8848_3417ebb3306brow35_col1\" class=\"data row35 col1\" >NW</td> \n",
       "        <td id=\"T_0a34c52e_ae2d_11e9_8848_3417ebb3306brow35_col2\" class=\"data row35 col2\" >REG_HOV</td> \n",
       "        <td id=\"T_0a34c52e_ae2d_11e9_8848_3417ebb3306brow35_col3\" class=\"data row35 col3\" >REG</td> \n",
       "        <td id=\"T_0a34c52e_ae2d_11e9_8848_3417ebb3306brow35_col4\" class=\"data row35 col4\" >NonEV</td> \n",
       "        <td id=\"T_0a34c52e_ae2d_11e9_8848_3417ebb3306brow35_col5\" class=\"data row35 col5\" >502,938.95</td> \n",
       "        <td id=\"T_0a34c52e_ae2d_11e9_8848_3417ebb3306brow35_col6\" class=\"data row35 col6\" >503,686</td> \n",
       "        <td id=\"T_0a34c52e_ae2d_11e9_8848_3417ebb3306brow35_col7\" class=\"data row35 col7\" >747.054</td> \n",
       "        <td id=\"T_0a34c52e_ae2d_11e9_8848_3417ebb3306brow35_col8\" class=\"data row35 col8\" >0.15%</td> \n",
       "    </tr>    <tr> \n",
       "        <th id=\"T_0a34c52e_ae2d_11e9_8848_3417ebb3306blevel0_row36\" class=\"row_heading level0 row36\" >36</th> \n",
       "        <td id=\"T_0a34c52e_ae2d_11e9_8848_3417ebb3306brow36_col0\" class=\"data row36 col0\" >OV</td> \n",
       "        <td id=\"T_0a34c52e_ae2d_11e9_8848_3417ebb3306brow36_col1\" class=\"data row36 col1\" >NW</td> \n",
       "        <td id=\"T_0a34c52e_ae2d_11e9_8848_3417ebb3306brow36_col2\" class=\"data row36 col2\" >REG_SOV</td> \n",
       "        <td id=\"T_0a34c52e_ae2d_11e9_8848_3417ebb3306brow36_col3\" class=\"data row36 col3\" >REG</td> \n",
       "        <td id=\"T_0a34c52e_ae2d_11e9_8848_3417ebb3306brow36_col4\" class=\"data row36 col4\" >EV</td> \n",
       "        <td id=\"T_0a34c52e_ae2d_11e9_8848_3417ebb3306brow36_col5\" class=\"data row36 col5\" >28,441.51</td> \n",
       "        <td id=\"T_0a34c52e_ae2d_11e9_8848_3417ebb3306brow36_col6\" class=\"data row36 col6\" >28,484</td> \n",
       "        <td id=\"T_0a34c52e_ae2d_11e9_8848_3417ebb3306brow36_col7\" class=\"data row36 col7\" >42.4851</td> \n",
       "        <td id=\"T_0a34c52e_ae2d_11e9_8848_3417ebb3306brow36_col8\" class=\"data row36 col8\" >0.15%</td> \n",
       "    </tr>    <tr> \n",
       "        <th id=\"T_0a34c52e_ae2d_11e9_8848_3417ebb3306blevel0_row37\" class=\"row_heading level0 row37\" >37</th> \n",
       "        <td id=\"T_0a34c52e_ae2d_11e9_8848_3417ebb3306brow37_col0\" class=\"data row37 col0\" >OV</td> \n",
       "        <td id=\"T_0a34c52e_ae2d_11e9_8848_3417ebb3306brow37_col1\" class=\"data row37 col1\" >NW</td> \n",
       "        <td id=\"T_0a34c52e_ae2d_11e9_8848_3417ebb3306brow37_col2\" class=\"data row37 col2\" >REG_SOV</td> \n",
       "        <td id=\"T_0a34c52e_ae2d_11e9_8848_3417ebb3306brow37_col3\" class=\"data row37 col3\" >REG</td> \n",
       "        <td id=\"T_0a34c52e_ae2d_11e9_8848_3417ebb3306brow37_col4\" class=\"data row37 col4\" >NonEV</td> \n",
       "        <td id=\"T_0a34c52e_ae2d_11e9_8848_3417ebb3306brow37_col5\" class=\"data row37 col5\" >1,498,811.25</td> \n",
       "        <td id=\"T_0a34c52e_ae2d_11e9_8848_3417ebb3306brow37_col6\" class=\"data row37 col6\" >1,501,075</td> \n",
       "        <td id=\"T_0a34c52e_ae2d_11e9_8848_3417ebb3306brow37_col7\" class=\"data row37 col7\" >2263.75</td> \n",
       "        <td id=\"T_0a34c52e_ae2d_11e9_8848_3417ebb3306brow37_col8\" class=\"data row37 col8\" >0.15%</td> \n",
       "    </tr>    <tr> \n",
       "        <th id=\"T_0a34c52e_ae2d_11e9_8848_3417ebb3306blevel0_row38\" class=\"row_heading level0 row38\" >38</th> \n",
       "        <td id=\"T_0a34c52e_ae2d_11e9_8848_3417ebb3306brow38_col0\" class=\"data row38 col0\" >OV</td> \n",
       "        <td id=\"T_0a34c52e_ae2d_11e9_8848_3417ebb3306brow38_col1\" class=\"data row38 col1\" >Serv</td> \n",
       "        <td id=\"T_0a34c52e_ae2d_11e9_8848_3417ebb3306brow38_col2\" class=\"data row38 col2\" >REG_Serv</td> \n",
       "        <td id=\"T_0a34c52e_ae2d_11e9_8848_3417ebb3306brow38_col3\" class=\"data row38 col3\" >REG</td> \n",
       "        <td id=\"T_0a34c52e_ae2d_11e9_8848_3417ebb3306brow38_col4\" class=\"data row38 col4\" >EV</td> \n",
       "        <td id=\"T_0a34c52e_ae2d_11e9_8848_3417ebb3306brow38_col5\" class=\"data row38 col5\" >3,282.50</td> \n",
       "        <td id=\"T_0a34c52e_ae2d_11e9_8848_3417ebb3306brow38_col6\" class=\"data row38 col6\" >3,283</td> \n",
       "        <td id=\"T_0a34c52e_ae2d_11e9_8848_3417ebb3306brow38_col7\" class=\"data row38 col7\" >0.50064</td> \n",
       "        <td id=\"T_0a34c52e_ae2d_11e9_8848_3417ebb3306brow38_col8\" class=\"data row38 col8\" >0.02%</td> \n",
       "    </tr>    <tr> \n",
       "        <th id=\"T_0a34c52e_ae2d_11e9_8848_3417ebb3306blevel0_row39\" class=\"row_heading level0 row39\" >39</th> \n",
       "        <td id=\"T_0a34c52e_ae2d_11e9_8848_3417ebb3306brow39_col0\" class=\"data row39 col0\" >OV</td> \n",
       "        <td id=\"T_0a34c52e_ae2d_11e9_8848_3417ebb3306brow39_col1\" class=\"data row39 col1\" >Serv</td> \n",
       "        <td id=\"T_0a34c52e_ae2d_11e9_8848_3417ebb3306brow39_col2\" class=\"data row39 col2\" >REG_Serv</td> \n",
       "        <td id=\"T_0a34c52e_ae2d_11e9_8848_3417ebb3306brow39_col3\" class=\"data row39 col3\" >REG</td> \n",
       "        <td id=\"T_0a34c52e_ae2d_11e9_8848_3417ebb3306brow39_col4\" class=\"data row39 col4\" >NonEV</td> \n",
       "        <td id=\"T_0a34c52e_ae2d_11e9_8848_3417ebb3306brow39_col5\" class=\"data row39 col5\" >185,525.86</td> \n",
       "        <td id=\"T_0a34c52e_ae2d_11e9_8848_3417ebb3306brow39_col6\" class=\"data row39 col6\" >185,585</td> \n",
       "        <td id=\"T_0a34c52e_ae2d_11e9_8848_3417ebb3306brow39_col7\" class=\"data row39 col7\" >59.1386</td> \n",
       "        <td id=\"T_0a34c52e_ae2d_11e9_8848_3417ebb3306brow39_col8\" class=\"data row39 col8\" >0.03%</td> \n",
       "    </tr>    <tr> \n",
       "        <th id=\"T_0a34c52e_ae2d_11e9_8848_3417ebb3306blevel0_row40\" class=\"row_heading level0 row40\" >40</th> \n",
       "        <td id=\"T_0a34c52e_ae2d_11e9_8848_3417ebb3306brow40_col0\" class=\"data row40 col0\" >OV</td> \n",
       "        <td id=\"T_0a34c52e_ae2d_11e9_8848_3417ebb3306brow40_col1\" class=\"data row40 col1\" >TNC</td> \n",
       "        <td id=\"T_0a34c52e_ae2d_11e9_8848_3417ebb3306brow40_col2\" class=\"data row40 col2\" >TNC</td> \n",
       "        <td id=\"T_0a34c52e_ae2d_11e9_8848_3417ebb3306brow40_col3\" class=\"data row40 col3\" >REG</td> \n",
       "        <td id=\"T_0a34c52e_ae2d_11e9_8848_3417ebb3306brow40_col4\" class=\"data row40 col4\" >EV</td> \n",
       "        <td id=\"T_0a34c52e_ae2d_11e9_8848_3417ebb3306brow40_col5\" class=\"data row40 col5\" >8,944.41</td> \n",
       "        <td id=\"T_0a34c52e_ae2d_11e9_8848_3417ebb3306brow40_col6\" class=\"data row40 col6\" >8,957</td> \n",
       "        <td id=\"T_0a34c52e_ae2d_11e9_8848_3417ebb3306brow40_col7\" class=\"data row40 col7\" >12.5922</td> \n",
       "        <td id=\"T_0a34c52e_ae2d_11e9_8848_3417ebb3306brow40_col8\" class=\"data row40 col8\" >0.14%</td> \n",
       "    </tr>    <tr> \n",
       "        <th id=\"T_0a34c52e_ae2d_11e9_8848_3417ebb3306blevel0_row41\" class=\"row_heading level0 row41\" >41</th> \n",
       "        <td id=\"T_0a34c52e_ae2d_11e9_8848_3417ebb3306brow41_col0\" class=\"data row41 col0\" >OV</td> \n",
       "        <td id=\"T_0a34c52e_ae2d_11e9_8848_3417ebb3306brow41_col1\" class=\"data row41 col1\" >TNC</td> \n",
       "        <td id=\"T_0a34c52e_ae2d_11e9_8848_3417ebb3306brow41_col2\" class=\"data row41 col2\" >TNC</td> \n",
       "        <td id=\"T_0a34c52e_ae2d_11e9_8848_3417ebb3306brow41_col3\" class=\"data row41 col3\" >REG</td> \n",
       "        <td id=\"T_0a34c52e_ae2d_11e9_8848_3417ebb3306brow41_col4\" class=\"data row41 col4\" >NonEV</td> \n",
       "        <td id=\"T_0a34c52e_ae2d_11e9_8848_3417ebb3306brow41_col5\" class=\"data row41 col5\" >479,383.18</td> \n",
       "        <td id=\"T_0a34c52e_ae2d_11e9_8848_3417ebb3306brow41_col6\" class=\"data row41 col6\" >480,383</td> \n",
       "        <td id=\"T_0a34c52e_ae2d_11e9_8848_3417ebb3306brow41_col7\" class=\"data row41 col7\" >999.816</td> \n",
       "        <td id=\"T_0a34c52e_ae2d_11e9_8848_3417ebb3306brow41_col8\" class=\"data row41 col8\" >0.21%</td> \n",
       "    </tr>    <tr> \n",
       "        <th id=\"T_0a34c52e_ae2d_11e9_8848_3417ebb3306blevel0_row42\" class=\"row_heading level0 row42\" >42</th> \n",
       "        <td id=\"T_0a34c52e_ae2d_11e9_8848_3417ebb3306brow42_col0\" class=\"data row42 col0\" >OV</td> \n",
       "        <td id=\"T_0a34c52e_ae2d_11e9_8848_3417ebb3306brow42_col1\" class=\"data row42 col1\" >Taxi</td> \n",
       "        <td id=\"T_0a34c52e_ae2d_11e9_8848_3417ebb3306brow42_col2\" class=\"data row42 col2\" >REG_HOV</td> \n",
       "        <td id=\"T_0a34c52e_ae2d_11e9_8848_3417ebb3306brow42_col3\" class=\"data row42 col3\" >REG</td> \n",
       "        <td id=\"T_0a34c52e_ae2d_11e9_8848_3417ebb3306brow42_col4\" class=\"data row42 col4\" >EV</td> \n",
       "        <td id=\"T_0a34c52e_ae2d_11e9_8848_3417ebb3306brow42_col5\" class=\"data row42 col5\" >331.96</td> \n",
       "        <td id=\"T_0a34c52e_ae2d_11e9_8848_3417ebb3306brow42_col6\" class=\"data row42 col6\" >332</td> \n",
       "        <td id=\"T_0a34c52e_ae2d_11e9_8848_3417ebb3306brow42_col7\" class=\"data row42 col7\" >0.044786</td> \n",
       "        <td id=\"T_0a34c52e_ae2d_11e9_8848_3417ebb3306brow42_col8\" class=\"data row42 col8\" >0.01%</td> \n",
       "    </tr>    <tr> \n",
       "        <th id=\"T_0a34c52e_ae2d_11e9_8848_3417ebb3306blevel0_row43\" class=\"row_heading level0 row43\" >43</th> \n",
       "        <td id=\"T_0a34c52e_ae2d_11e9_8848_3417ebb3306brow43_col0\" class=\"data row43 col0\" >OV</td> \n",
       "        <td id=\"T_0a34c52e_ae2d_11e9_8848_3417ebb3306brow43_col1\" class=\"data row43 col1\" >Taxi</td> \n",
       "        <td id=\"T_0a34c52e_ae2d_11e9_8848_3417ebb3306brow43_col2\" class=\"data row43 col2\" >REG_HOV</td> \n",
       "        <td id=\"T_0a34c52e_ae2d_11e9_8848_3417ebb3306brow43_col3\" class=\"data row43 col3\" >REG</td> \n",
       "        <td id=\"T_0a34c52e_ae2d_11e9_8848_3417ebb3306brow43_col4\" class=\"data row43 col4\" >NonEV</td> \n",
       "        <td id=\"T_0a34c52e_ae2d_11e9_8848_3417ebb3306brow43_col5\" class=\"data row43 col5\" >119,825.34</td> \n",
       "        <td id=\"T_0a34c52e_ae2d_11e9_8848_3417ebb3306brow43_col6\" class=\"data row43 col6\" >119,929</td> \n",
       "        <td id=\"T_0a34c52e_ae2d_11e9_8848_3417ebb3306brow43_col7\" class=\"data row43 col7\" >103.656</td> \n",
       "        <td id=\"T_0a34c52e_ae2d_11e9_8848_3417ebb3306brow43_col8\" class=\"data row43 col8\" >0.09%</td> \n",
       "    </tr>    <tr> \n",
       "        <th id=\"T_0a34c52e_ae2d_11e9_8848_3417ebb3306blevel0_row44\" class=\"row_heading level0 row44\" >44</th> \n",
       "        <td id=\"T_0a34c52e_ae2d_11e9_8848_3417ebb3306brow44_col0\" class=\"data row44 col0\" >OV</td> \n",
       "        <td id=\"T_0a34c52e_ae2d_11e9_8848_3417ebb3306brow44_col1\" class=\"data row44 col1\" >WK</td> \n",
       "        <td id=\"T_0a34c52e_ae2d_11e9_8848_3417ebb3306brow44_col2\" class=\"data row44 col2\" >REG_HOV</td> \n",
       "        <td id=\"T_0a34c52e_ae2d_11e9_8848_3417ebb3306brow44_col3\" class=\"data row44 col3\" >REG</td> \n",
       "        <td id=\"T_0a34c52e_ae2d_11e9_8848_3417ebb3306brow44_col4\" class=\"data row44 col4\" >EV</td> \n",
       "        <td id=\"T_0a34c52e_ae2d_11e9_8848_3417ebb3306brow44_col5\" class=\"data row44 col5\" >713.82</td> \n",
       "        <td id=\"T_0a34c52e_ae2d_11e9_8848_3417ebb3306brow44_col6\" class=\"data row44 col6\" >718</td> \n",
       "        <td id=\"T_0a34c52e_ae2d_11e9_8848_3417ebb3306brow44_col7\" class=\"data row44 col7\" >4.18454</td> \n",
       "        <td id=\"T_0a34c52e_ae2d_11e9_8848_3417ebb3306brow44_col8\" class=\"data row44 col8\" >0.59%</td> \n",
       "    </tr>    <tr> \n",
       "        <th id=\"T_0a34c52e_ae2d_11e9_8848_3417ebb3306blevel0_row45\" class=\"row_heading level0 row45\" >45</th> \n",
       "        <td id=\"T_0a34c52e_ae2d_11e9_8848_3417ebb3306brow45_col0\" class=\"data row45 col0\" >OV</td> \n",
       "        <td id=\"T_0a34c52e_ae2d_11e9_8848_3417ebb3306brow45_col1\" class=\"data row45 col1\" >WK</td> \n",
       "        <td id=\"T_0a34c52e_ae2d_11e9_8848_3417ebb3306brow45_col2\" class=\"data row45 col2\" >REG_HOV</td> \n",
       "        <td id=\"T_0a34c52e_ae2d_11e9_8848_3417ebb3306brow45_col3\" class=\"data row45 col3\" >REG</td> \n",
       "        <td id=\"T_0a34c52e_ae2d_11e9_8848_3417ebb3306brow45_col4\" class=\"data row45 col4\" >NonEV</td> \n",
       "        <td id=\"T_0a34c52e_ae2d_11e9_8848_3417ebb3306brow45_col5\" class=\"data row45 col5\" >40,503.35</td> \n",
       "        <td id=\"T_0a34c52e_ae2d_11e9_8848_3417ebb3306brow45_col6\" class=\"data row45 col6\" >40,647</td> \n",
       "        <td id=\"T_0a34c52e_ae2d_11e9_8848_3417ebb3306brow45_col7\" class=\"data row45 col7\" >143.646</td> \n",
       "        <td id=\"T_0a34c52e_ae2d_11e9_8848_3417ebb3306brow45_col8\" class=\"data row45 col8\" >0.35%</td> \n",
       "    </tr>    <tr> \n",
       "        <th id=\"T_0a34c52e_ae2d_11e9_8848_3417ebb3306blevel0_row46\" class=\"row_heading level0 row46\" >46</th> \n",
       "        <td id=\"T_0a34c52e_ae2d_11e9_8848_3417ebb3306brow46_col0\" class=\"data row46 col0\" >OV</td> \n",
       "        <td id=\"T_0a34c52e_ae2d_11e9_8848_3417ebb3306brow46_col1\" class=\"data row46 col1\" >WK</td> \n",
       "        <td id=\"T_0a34c52e_ae2d_11e9_8848_3417ebb3306brow46_col2\" class=\"data row46 col2\" >REG_SOV</td> \n",
       "        <td id=\"T_0a34c52e_ae2d_11e9_8848_3417ebb3306brow46_col3\" class=\"data row46 col3\" >REG</td> \n",
       "        <td id=\"T_0a34c52e_ae2d_11e9_8848_3417ebb3306brow46_col4\" class=\"data row46 col4\" >EV</td> \n",
       "        <td id=\"T_0a34c52e_ae2d_11e9_8848_3417ebb3306brow46_col5\" class=\"data row46 col5\" >8,608.10</td> \n",
       "        <td id=\"T_0a34c52e_ae2d_11e9_8848_3417ebb3306brow46_col6\" class=\"data row46 col6\" >8,626</td> \n",
       "        <td id=\"T_0a34c52e_ae2d_11e9_8848_3417ebb3306brow46_col7\" class=\"data row46 col7\" >17.9047</td> \n",
       "        <td id=\"T_0a34c52e_ae2d_11e9_8848_3417ebb3306brow46_col8\" class=\"data row46 col8\" >0.21%</td> \n",
       "    </tr>    <tr> \n",
       "        <th id=\"T_0a34c52e_ae2d_11e9_8848_3417ebb3306blevel0_row47\" class=\"row_heading level0 row47\" >47</th> \n",
       "        <td id=\"T_0a34c52e_ae2d_11e9_8848_3417ebb3306brow47_col0\" class=\"data row47 col0\" >OV</td> \n",
       "        <td id=\"T_0a34c52e_ae2d_11e9_8848_3417ebb3306brow47_col1\" class=\"data row47 col1\" >WK</td> \n",
       "        <td id=\"T_0a34c52e_ae2d_11e9_8848_3417ebb3306brow47_col2\" class=\"data row47 col2\" >REG_SOV</td> \n",
       "        <td id=\"T_0a34c52e_ae2d_11e9_8848_3417ebb3306brow47_col3\" class=\"data row47 col3\" >REG</td> \n",
       "        <td id=\"T_0a34c52e_ae2d_11e9_8848_3417ebb3306brow47_col4\" class=\"data row47 col4\" >NonEV</td> \n",
       "        <td id=\"T_0a34c52e_ae2d_11e9_8848_3417ebb3306brow47_col5\" class=\"data row47 col5\" >460,809.10</td> \n",
       "        <td id=\"T_0a34c52e_ae2d_11e9_8848_3417ebb3306brow47_col6\" class=\"data row47 col6\" >461,979</td> \n",
       "        <td id=\"T_0a34c52e_ae2d_11e9_8848_3417ebb3306brow47_col7\" class=\"data row47 col7\" >1169.9</td> \n",
       "        <td id=\"T_0a34c52e_ae2d_11e9_8848_3417ebb3306brow47_col8\" class=\"data row47 col8\" >0.25%</td> \n",
       "    </tr>    <tr> \n",
       "        <th id=\"T_0a34c52e_ae2d_11e9_8848_3417ebb3306blevel0_row48\" class=\"row_heading level0 row48\" >48</th> \n",
       "        <td id=\"T_0a34c52e_ae2d_11e9_8848_3417ebb3306brow48_col0\" class=\"data row48 col0\" >PM</td> \n",
       "        <td id=\"T_0a34c52e_ae2d_11e9_8848_3417ebb3306brow48_col1\" class=\"data row48 col1\" >Cargo</td> \n",
       "        <td id=\"T_0a34c52e_ae2d_11e9_8848_3417ebb3306brow48_col2\" class=\"data row48 col2\" >REG_Cargo</td> \n",
       "        <td id=\"T_0a34c52e_ae2d_11e9_8848_3417ebb3306brow48_col3\" class=\"data row48 col3\" >REG</td> \n",
       "        <td id=\"T_0a34c52e_ae2d_11e9_8848_3417ebb3306brow48_col4\" class=\"data row48 col4\" >EV</td> \n",
       "        <td id=\"T_0a34c52e_ae2d_11e9_8848_3417ebb3306brow48_col5\" class=\"data row48 col5\" >111.99</td> \n",
       "        <td id=\"T_0a34c52e_ae2d_11e9_8848_3417ebb3306brow48_col6\" class=\"data row48 col6\" >112</td> \n",
       "        <td id=\"T_0a34c52e_ae2d_11e9_8848_3417ebb3306brow48_col7\" class=\"data row48 col7\" >0.009514</td> \n",
       "        <td id=\"T_0a34c52e_ae2d_11e9_8848_3417ebb3306brow48_col8\" class=\"data row48 col8\" >0.01%</td> \n",
       "    </tr>    <tr> \n",
       "        <th id=\"T_0a34c52e_ae2d_11e9_8848_3417ebb3306blevel0_row49\" class=\"row_heading level0 row49\" >49</th> \n",
       "        <td id=\"T_0a34c52e_ae2d_11e9_8848_3417ebb3306brow49_col0\" class=\"data row49 col0\" >PM</td> \n",
       "        <td id=\"T_0a34c52e_ae2d_11e9_8848_3417ebb3306brow49_col1\" class=\"data row49 col1\" >Cargo</td> \n",
       "        <td id=\"T_0a34c52e_ae2d_11e9_8848_3417ebb3306brow49_col2\" class=\"data row49 col2\" >REG_Cargo</td> \n",
       "        <td id=\"T_0a34c52e_ae2d_11e9_8848_3417ebb3306brow49_col3\" class=\"data row49 col3\" >REG</td> \n",
       "        <td id=\"T_0a34c52e_ae2d_11e9_8848_3417ebb3306brow49_col4\" class=\"data row49 col4\" >NonEV</td> \n",
       "        <td id=\"T_0a34c52e_ae2d_11e9_8848_3417ebb3306brow49_col5\" class=\"data row49 col5\" >33,442.41</td> \n",
       "        <td id=\"T_0a34c52e_ae2d_11e9_8848_3417ebb3306brow49_col6\" class=\"data row49 col6\" >33,459</td> \n",
       "        <td id=\"T_0a34c52e_ae2d_11e9_8848_3417ebb3306brow49_col7\" class=\"data row49 col7\" >16.5949</td> \n",
       "        <td id=\"T_0a34c52e_ae2d_11e9_8848_3417ebb3306brow49_col8\" class=\"data row49 col8\" >0.05%</td> \n",
       "    </tr>    <tr> \n",
       "        <th id=\"T_0a34c52e_ae2d_11e9_8848_3417ebb3306blevel0_row50\" class=\"row_heading level0 row50\" >50</th> \n",
       "        <td id=\"T_0a34c52e_ae2d_11e9_8848_3417ebb3306brow50_col0\" class=\"data row50 col0\" >PM</td> \n",
       "        <td id=\"T_0a34c52e_ae2d_11e9_8848_3417ebb3306brow50_col1\" class=\"data row50 col1\" >NW</td> \n",
       "        <td id=\"T_0a34c52e_ae2d_11e9_8848_3417ebb3306brow50_col2\" class=\"data row50 col2\" >REG_HOV</td> \n",
       "        <td id=\"T_0a34c52e_ae2d_11e9_8848_3417ebb3306brow50_col3\" class=\"data row50 col3\" >REG</td> \n",
       "        <td id=\"T_0a34c52e_ae2d_11e9_8848_3417ebb3306brow50_col4\" class=\"data row50 col4\" >EV</td> \n",
       "        <td id=\"T_0a34c52e_ae2d_11e9_8848_3417ebb3306brow50_col5\" class=\"data row50 col5\" >17,090.97</td> \n",
       "        <td id=\"T_0a34c52e_ae2d_11e9_8848_3417ebb3306brow50_col6\" class=\"data row50 col6\" >17,087</td> \n",
       "        <td id=\"T_0a34c52e_ae2d_11e9_8848_3417ebb3306brow50_col7\" class=\"data row50 col7\" >-3.96697</td> \n",
       "        <td id=\"T_0a34c52e_ae2d_11e9_8848_3417ebb3306brow50_col8\" class=\"data row50 col8\" >-0.02%</td> \n",
       "    </tr>    <tr> \n",
       "        <th id=\"T_0a34c52e_ae2d_11e9_8848_3417ebb3306blevel0_row51\" class=\"row_heading level0 row51\" >51</th> \n",
       "        <td id=\"T_0a34c52e_ae2d_11e9_8848_3417ebb3306brow51_col0\" class=\"data row51 col0\" >PM</td> \n",
       "        <td id=\"T_0a34c52e_ae2d_11e9_8848_3417ebb3306brow51_col1\" class=\"data row51 col1\" >NW</td> \n",
       "        <td id=\"T_0a34c52e_ae2d_11e9_8848_3417ebb3306brow51_col2\" class=\"data row51 col2\" >REG_HOV</td> \n",
       "        <td id=\"T_0a34c52e_ae2d_11e9_8848_3417ebb3306brow51_col3\" class=\"data row51 col3\" >REG</td> \n",
       "        <td id=\"T_0a34c52e_ae2d_11e9_8848_3417ebb3306brow51_col4\" class=\"data row51 col4\" >NonEV</td> \n",
       "        <td id=\"T_0a34c52e_ae2d_11e9_8848_3417ebb3306brow51_col5\" class=\"data row51 col5\" >880,626.61</td> \n",
       "        <td id=\"T_0a34c52e_ae2d_11e9_8848_3417ebb3306brow51_col6\" class=\"data row51 col6\" >880,489</td> \n",
       "        <td id=\"T_0a34c52e_ae2d_11e9_8848_3417ebb3306brow51_col7\" class=\"data row51 col7\" >-137.61</td> \n",
       "        <td id=\"T_0a34c52e_ae2d_11e9_8848_3417ebb3306brow51_col8\" class=\"data row51 col8\" >-0.02%</td> \n",
       "    </tr>    <tr> \n",
       "        <th id=\"T_0a34c52e_ae2d_11e9_8848_3417ebb3306blevel0_row52\" class=\"row_heading level0 row52\" >52</th> \n",
       "        <td id=\"T_0a34c52e_ae2d_11e9_8848_3417ebb3306brow52_col0\" class=\"data row52 col0\" >PM</td> \n",
       "        <td id=\"T_0a34c52e_ae2d_11e9_8848_3417ebb3306brow52_col1\" class=\"data row52 col1\" >NW</td> \n",
       "        <td id=\"T_0a34c52e_ae2d_11e9_8848_3417ebb3306brow52_col2\" class=\"data row52 col2\" >REG_SOV</td> \n",
       "        <td id=\"T_0a34c52e_ae2d_11e9_8848_3417ebb3306brow52_col3\" class=\"data row52 col3\" >REG</td> \n",
       "        <td id=\"T_0a34c52e_ae2d_11e9_8848_3417ebb3306brow52_col4\" class=\"data row52 col4\" >EV</td> \n",
       "        <td id=\"T_0a34c52e_ae2d_11e9_8848_3417ebb3306brow52_col5\" class=\"data row52 col5\" >50,722.08</td> \n",
       "        <td id=\"T_0a34c52e_ae2d_11e9_8848_3417ebb3306brow52_col6\" class=\"data row52 col6\" >50,713</td> \n",
       "        <td id=\"T_0a34c52e_ae2d_11e9_8848_3417ebb3306brow52_col7\" class=\"data row52 col7\" >-9.07816</td> \n",
       "        <td id=\"T_0a34c52e_ae2d_11e9_8848_3417ebb3306brow52_col8\" class=\"data row52 col8\" >-0.02%</td> \n",
       "    </tr>    <tr> \n",
       "        <th id=\"T_0a34c52e_ae2d_11e9_8848_3417ebb3306blevel0_row53\" class=\"row_heading level0 row53\" >53</th> \n",
       "        <td id=\"T_0a34c52e_ae2d_11e9_8848_3417ebb3306brow53_col0\" class=\"data row53 col0\" >PM</td> \n",
       "        <td id=\"T_0a34c52e_ae2d_11e9_8848_3417ebb3306brow53_col1\" class=\"data row53 col1\" >NW</td> \n",
       "        <td id=\"T_0a34c52e_ae2d_11e9_8848_3417ebb3306brow53_col2\" class=\"data row53 col2\" >REG_SOV</td> \n",
       "        <td id=\"T_0a34c52e_ae2d_11e9_8848_3417ebb3306brow53_col3\" class=\"data row53 col3\" >REG</td> \n",
       "        <td id=\"T_0a34c52e_ae2d_11e9_8848_3417ebb3306brow53_col4\" class=\"data row53 col4\" >NonEV</td> \n",
       "        <td id=\"T_0a34c52e_ae2d_11e9_8848_3417ebb3306brow53_col5\" class=\"data row53 col5\" >2,616,167.95</td> \n",
       "        <td id=\"T_0a34c52e_ae2d_11e9_8848_3417ebb3306brow53_col6\" class=\"data row53 col6\" >2,615,855</td> \n",
       "        <td id=\"T_0a34c52e_ae2d_11e9_8848_3417ebb3306brow53_col7\" class=\"data row53 col7\" >-312.95</td> \n",
       "        <td id=\"T_0a34c52e_ae2d_11e9_8848_3417ebb3306brow53_col8\" class=\"data row53 col8\" >-0.01%</td> \n",
       "    </tr>    <tr> \n",
       "        <th id=\"T_0a34c52e_ae2d_11e9_8848_3417ebb3306blevel0_row54\" class=\"row_heading level0 row54\" >54</th> \n",
       "        <td id=\"T_0a34c52e_ae2d_11e9_8848_3417ebb3306brow54_col0\" class=\"data row54 col0\" >PM</td> \n",
       "        <td id=\"T_0a34c52e_ae2d_11e9_8848_3417ebb3306brow54_col1\" class=\"data row54 col1\" >Serv</td> \n",
       "        <td id=\"T_0a34c52e_ae2d_11e9_8848_3417ebb3306brow54_col2\" class=\"data row54 col2\" >REG_Serv</td> \n",
       "        <td id=\"T_0a34c52e_ae2d_11e9_8848_3417ebb3306brow54_col3\" class=\"data row54 col3\" >REG</td> \n",
       "        <td id=\"T_0a34c52e_ae2d_11e9_8848_3417ebb3306brow54_col4\" class=\"data row54 col4\" >EV</td> \n",
       "        <td id=\"T_0a34c52e_ae2d_11e9_8848_3417ebb3306brow54_col5\" class=\"data row54 col5\" >2,618.88</td> \n",
       "        <td id=\"T_0a34c52e_ae2d_11e9_8848_3417ebb3306brow54_col6\" class=\"data row54 col6\" >2,620</td> \n",
       "        <td id=\"T_0a34c52e_ae2d_11e9_8848_3417ebb3306brow54_col7\" class=\"data row54 col7\" >1.11933</td> \n",
       "        <td id=\"T_0a34c52e_ae2d_11e9_8848_3417ebb3306brow54_col8\" class=\"data row54 col8\" >0.04%</td> \n",
       "    </tr>    <tr> \n",
       "        <th id=\"T_0a34c52e_ae2d_11e9_8848_3417ebb3306blevel0_row55\" class=\"row_heading level0 row55\" >55</th> \n",
       "        <td id=\"T_0a34c52e_ae2d_11e9_8848_3417ebb3306brow55_col0\" class=\"data row55 col0\" >PM</td> \n",
       "        <td id=\"T_0a34c52e_ae2d_11e9_8848_3417ebb3306brow55_col1\" class=\"data row55 col1\" >Serv</td> \n",
       "        <td id=\"T_0a34c52e_ae2d_11e9_8848_3417ebb3306brow55_col2\" class=\"data row55 col2\" >REG_Serv</td> \n",
       "        <td id=\"T_0a34c52e_ae2d_11e9_8848_3417ebb3306brow55_col3\" class=\"data row55 col3\" >REG</td> \n",
       "        <td id=\"T_0a34c52e_ae2d_11e9_8848_3417ebb3306brow55_col4\" class=\"data row55 col4\" >NonEV</td> \n",
       "        <td id=\"T_0a34c52e_ae2d_11e9_8848_3417ebb3306brow55_col5\" class=\"data row55 col5\" >148,043.17</td> \n",
       "        <td id=\"T_0a34c52e_ae2d_11e9_8848_3417ebb3306brow55_col6\" class=\"data row55 col6\" >148,157</td> \n",
       "        <td id=\"T_0a34c52e_ae2d_11e9_8848_3417ebb3306brow55_col7\" class=\"data row55 col7\" >113.83</td> \n",
       "        <td id=\"T_0a34c52e_ae2d_11e9_8848_3417ebb3306brow55_col8\" class=\"data row55 col8\" >0.08%</td> \n",
       "    </tr>    <tr> \n",
       "        <th id=\"T_0a34c52e_ae2d_11e9_8848_3417ebb3306blevel0_row56\" class=\"row_heading level0 row56\" >56</th> \n",
       "        <td id=\"T_0a34c52e_ae2d_11e9_8848_3417ebb3306brow56_col0\" class=\"data row56 col0\" >PM</td> \n",
       "        <td id=\"T_0a34c52e_ae2d_11e9_8848_3417ebb3306brow56_col1\" class=\"data row56 col1\" >TNC</td> \n",
       "        <td id=\"T_0a34c52e_ae2d_11e9_8848_3417ebb3306brow56_col2\" class=\"data row56 col2\" >TNC</td> \n",
       "        <td id=\"T_0a34c52e_ae2d_11e9_8848_3417ebb3306brow56_col3\" class=\"data row56 col3\" >REG</td> \n",
       "        <td id=\"T_0a34c52e_ae2d_11e9_8848_3417ebb3306brow56_col4\" class=\"data row56 col4\" >EV</td> \n",
       "        <td id=\"T_0a34c52e_ae2d_11e9_8848_3417ebb3306brow56_col5\" class=\"data row56 col5\" >19,390.60</td> \n",
       "        <td id=\"T_0a34c52e_ae2d_11e9_8848_3417ebb3306brow56_col6\" class=\"data row56 col6\" >19,389</td> \n",
       "        <td id=\"T_0a34c52e_ae2d_11e9_8848_3417ebb3306brow56_col7\" class=\"data row56 col7\" >-1.60281</td> \n",
       "        <td id=\"T_0a34c52e_ae2d_11e9_8848_3417ebb3306brow56_col8\" class=\"data row56 col8\" >-0.01%</td> \n",
       "    </tr>    <tr> \n",
       "        <th id=\"T_0a34c52e_ae2d_11e9_8848_3417ebb3306blevel0_row57\" class=\"row_heading level0 row57\" >57</th> \n",
       "        <td id=\"T_0a34c52e_ae2d_11e9_8848_3417ebb3306brow57_col0\" class=\"data row57 col0\" >PM</td> \n",
       "        <td id=\"T_0a34c52e_ae2d_11e9_8848_3417ebb3306brow57_col1\" class=\"data row57 col1\" >TNC</td> \n",
       "        <td id=\"T_0a34c52e_ae2d_11e9_8848_3417ebb3306brow57_col2\" class=\"data row57 col2\" >TNC</td> \n",
       "        <td id=\"T_0a34c52e_ae2d_11e9_8848_3417ebb3306brow57_col3\" class=\"data row57 col3\" >REG</td> \n",
       "        <td id=\"T_0a34c52e_ae2d_11e9_8848_3417ebb3306brow57_col4\" class=\"data row57 col4\" >NonEV</td> \n",
       "        <td id=\"T_0a34c52e_ae2d_11e9_8848_3417ebb3306brow57_col5\" class=\"data row57 col5\" >1,037,194.39</td> \n",
       "        <td id=\"T_0a34c52e_ae2d_11e9_8848_3417ebb3306brow57_col6\" class=\"data row57 col6\" >1,037,039</td> \n",
       "        <td id=\"T_0a34c52e_ae2d_11e9_8848_3417ebb3306brow57_col7\" class=\"data row57 col7\" >-155.386</td> \n",
       "        <td id=\"T_0a34c52e_ae2d_11e9_8848_3417ebb3306brow57_col8\" class=\"data row57 col8\" >-0.01%</td> \n",
       "    </tr>    <tr> \n",
       "        <th id=\"T_0a34c52e_ae2d_11e9_8848_3417ebb3306blevel0_row58\" class=\"row_heading level0 row58\" >58</th> \n",
       "        <td id=\"T_0a34c52e_ae2d_11e9_8848_3417ebb3306brow58_col0\" class=\"data row58 col0\" >PM</td> \n",
       "        <td id=\"T_0a34c52e_ae2d_11e9_8848_3417ebb3306brow58_col1\" class=\"data row58 col1\" >Taxi</td> \n",
       "        <td id=\"T_0a34c52e_ae2d_11e9_8848_3417ebb3306brow58_col2\" class=\"data row58 col2\" >REG_HOV</td> \n",
       "        <td id=\"T_0a34c52e_ae2d_11e9_8848_3417ebb3306brow58_col3\" class=\"data row58 col3\" >REG</td> \n",
       "        <td id=\"T_0a34c52e_ae2d_11e9_8848_3417ebb3306brow58_col4\" class=\"data row58 col4\" >EV</td> \n",
       "        <td id=\"T_0a34c52e_ae2d_11e9_8848_3417ebb3306brow58_col5\" class=\"data row58 col5\" >59.13</td> \n",
       "        <td id=\"T_0a34c52e_ae2d_11e9_8848_3417ebb3306brow58_col6\" class=\"data row58 col6\" >59</td> \n",
       "        <td id=\"T_0a34c52e_ae2d_11e9_8848_3417ebb3306brow58_col7\" class=\"data row58 col7\" >-0.13043</td> \n",
       "        <td id=\"T_0a34c52e_ae2d_11e9_8848_3417ebb3306brow58_col8\" class=\"data row58 col8\" >-0.22%</td> \n",
       "    </tr>    <tr> \n",
       "        <th id=\"T_0a34c52e_ae2d_11e9_8848_3417ebb3306blevel0_row59\" class=\"row_heading level0 row59\" >59</th> \n",
       "        <td id=\"T_0a34c52e_ae2d_11e9_8848_3417ebb3306brow59_col0\" class=\"data row59 col0\" >PM</td> \n",
       "        <td id=\"T_0a34c52e_ae2d_11e9_8848_3417ebb3306brow59_col1\" class=\"data row59 col1\" >Taxi</td> \n",
       "        <td id=\"T_0a34c52e_ae2d_11e9_8848_3417ebb3306brow59_col2\" class=\"data row59 col2\" >REG_HOV</td> \n",
       "        <td id=\"T_0a34c52e_ae2d_11e9_8848_3417ebb3306brow59_col3\" class=\"data row59 col3\" >REG</td> \n",
       "        <td id=\"T_0a34c52e_ae2d_11e9_8848_3417ebb3306brow59_col4\" class=\"data row59 col4\" >NonEV</td> \n",
       "        <td id=\"T_0a34c52e_ae2d_11e9_8848_3417ebb3306brow59_col5\" class=\"data row59 col5\" >149,239.50</td> \n",
       "        <td id=\"T_0a34c52e_ae2d_11e9_8848_3417ebb3306brow59_col6\" class=\"data row59 col6\" >149,238</td> \n",
       "        <td id=\"T_0a34c52e_ae2d_11e9_8848_3417ebb3306brow59_col7\" class=\"data row59 col7\" >-1.50137</td> \n",
       "        <td id=\"T_0a34c52e_ae2d_11e9_8848_3417ebb3306brow59_col8\" class=\"data row59 col8\" >-0.00%</td> \n",
       "    </tr>    <tr> \n",
       "        <th id=\"T_0a34c52e_ae2d_11e9_8848_3417ebb3306blevel0_row60\" class=\"row_heading level0 row60\" >60</th> \n",
       "        <td id=\"T_0a34c52e_ae2d_11e9_8848_3417ebb3306brow60_col0\" class=\"data row60 col0\" >PM</td> \n",
       "        <td id=\"T_0a34c52e_ae2d_11e9_8848_3417ebb3306brow60_col1\" class=\"data row60 col1\" >WK</td> \n",
       "        <td id=\"T_0a34c52e_ae2d_11e9_8848_3417ebb3306brow60_col2\" class=\"data row60 col2\" >REG_HOV</td> \n",
       "        <td id=\"T_0a34c52e_ae2d_11e9_8848_3417ebb3306brow60_col3\" class=\"data row60 col3\" >REG</td> \n",
       "        <td id=\"T_0a34c52e_ae2d_11e9_8848_3417ebb3306brow60_col4\" class=\"data row60 col4\" >EV</td> \n",
       "        <td id=\"T_0a34c52e_ae2d_11e9_8848_3417ebb3306brow60_col5\" class=\"data row60 col5\" >2,842.73</td> \n",
       "        <td id=\"T_0a34c52e_ae2d_11e9_8848_3417ebb3306brow60_col6\" class=\"data row60 col6\" >2,841</td> \n",
       "        <td id=\"T_0a34c52e_ae2d_11e9_8848_3417ebb3306brow60_col7\" class=\"data row60 col7\" >-1.73264</td> \n",
       "        <td id=\"T_0a34c52e_ae2d_11e9_8848_3417ebb3306brow60_col8\" class=\"data row60 col8\" >-0.06%</td> \n",
       "    </tr>    <tr> \n",
       "        <th id=\"T_0a34c52e_ae2d_11e9_8848_3417ebb3306blevel0_row61\" class=\"row_heading level0 row61\" >61</th> \n",
       "        <td id=\"T_0a34c52e_ae2d_11e9_8848_3417ebb3306brow61_col0\" class=\"data row61 col0\" >PM</td> \n",
       "        <td id=\"T_0a34c52e_ae2d_11e9_8848_3417ebb3306brow61_col1\" class=\"data row61 col1\" >WK</td> \n",
       "        <td id=\"T_0a34c52e_ae2d_11e9_8848_3417ebb3306brow61_col2\" class=\"data row61 col2\" >REG_HOV</td> \n",
       "        <td id=\"T_0a34c52e_ae2d_11e9_8848_3417ebb3306brow61_col3\" class=\"data row61 col3\" >REG</td> \n",
       "        <td id=\"T_0a34c52e_ae2d_11e9_8848_3417ebb3306brow61_col4\" class=\"data row61 col4\" >NonEV</td> \n",
       "        <td id=\"T_0a34c52e_ae2d_11e9_8848_3417ebb3306brow61_col5\" class=\"data row61 col5\" >154,275.43</td> \n",
       "        <td id=\"T_0a34c52e_ae2d_11e9_8848_3417ebb3306brow61_col6\" class=\"data row61 col6\" >154,216</td> \n",
       "        <td id=\"T_0a34c52e_ae2d_11e9_8848_3417ebb3306brow61_col7\" class=\"data row61 col7\" >-59.4282</td> \n",
       "        <td id=\"T_0a34c52e_ae2d_11e9_8848_3417ebb3306brow61_col8\" class=\"data row61 col8\" >-0.04%</td> \n",
       "    </tr>    <tr> \n",
       "        <th id=\"T_0a34c52e_ae2d_11e9_8848_3417ebb3306blevel0_row62\" class=\"row_heading level0 row62\" >62</th> \n",
       "        <td id=\"T_0a34c52e_ae2d_11e9_8848_3417ebb3306brow62_col0\" class=\"data row62 col0\" >PM</td> \n",
       "        <td id=\"T_0a34c52e_ae2d_11e9_8848_3417ebb3306brow62_col1\" class=\"data row62 col1\" >WK</td> \n",
       "        <td id=\"T_0a34c52e_ae2d_11e9_8848_3417ebb3306brow62_col2\" class=\"data row62 col2\" >REG_SOV</td> \n",
       "        <td id=\"T_0a34c52e_ae2d_11e9_8848_3417ebb3306brow62_col3\" class=\"data row62 col3\" >REG</td> \n",
       "        <td id=\"T_0a34c52e_ae2d_11e9_8848_3417ebb3306brow62_col4\" class=\"data row62 col4\" >EV</td> \n",
       "        <td id=\"T_0a34c52e_ae2d_11e9_8848_3417ebb3306brow62_col5\" class=\"data row62 col5\" >23,450.45</td> \n",
       "        <td id=\"T_0a34c52e_ae2d_11e9_8848_3417ebb3306brow62_col6\" class=\"data row62 col6\" >23,438</td> \n",
       "        <td id=\"T_0a34c52e_ae2d_11e9_8848_3417ebb3306brow62_col7\" class=\"data row62 col7\" >-12.4523</td> \n",
       "        <td id=\"T_0a34c52e_ae2d_11e9_8848_3417ebb3306brow62_col8\" class=\"data row62 col8\" >-0.05%</td> \n",
       "    </tr>    <tr> \n",
       "        <th id=\"T_0a34c52e_ae2d_11e9_8848_3417ebb3306blevel0_row63\" class=\"row_heading level0 row63\" >63</th> \n",
       "        <td id=\"T_0a34c52e_ae2d_11e9_8848_3417ebb3306brow63_col0\" class=\"data row63 col0\" >PM</td> \n",
       "        <td id=\"T_0a34c52e_ae2d_11e9_8848_3417ebb3306brow63_col1\" class=\"data row63 col1\" >WK</td> \n",
       "        <td id=\"T_0a34c52e_ae2d_11e9_8848_3417ebb3306brow63_col2\" class=\"data row63 col2\" >REG_SOV</td> \n",
       "        <td id=\"T_0a34c52e_ae2d_11e9_8848_3417ebb3306brow63_col3\" class=\"data row63 col3\" >REG</td> \n",
       "        <td id=\"T_0a34c52e_ae2d_11e9_8848_3417ebb3306brow63_col4\" class=\"data row63 col4\" >NonEV</td> \n",
       "        <td id=\"T_0a34c52e_ae2d_11e9_8848_3417ebb3306brow63_col5\" class=\"data row63 col5\" >1,200,886.67</td> \n",
       "        <td id=\"T_0a34c52e_ae2d_11e9_8848_3417ebb3306brow63_col6\" class=\"data row63 col6\" >1,200,011</td> \n",
       "        <td id=\"T_0a34c52e_ae2d_11e9_8848_3417ebb3306brow63_col7\" class=\"data row63 col7\" >-875.666</td> \n",
       "        <td id=\"T_0a34c52e_ae2d_11e9_8848_3417ebb3306brow63_col8\" class=\"data row63 col8\" >-0.07%</td> \n",
       "    </tr></tbody> \n",
       "</table> "
      ],
      "text/plain": [
       "<pandas.io.formats.style.Styler at 0x70c242b0>"
      ]
     },
     "execution_count": 58,
     "metadata": {},
     "output_type": "execute_result"
    }
   ],
   "source": [
    "join_cols = ['period', 'purp', 'vehtype2', 'cav', 'ev']\n",
    "summary_comparison = pd.merge(left=summary_omx_gb, right=summary_roster_gb, on=join_cols, suffixes=('_OMX', '_DY'),)\n",
    "summary_comparison['Abs_Diff'] = summary_comparison.trips_DY - summary_comparison.trips_OMX\n",
    "summary_comparison['Rel_Diff'] = summary_comparison.Abs_Diff / summary_comparison.trips_OMX * 100.0\n",
    "summary_comparison_show = summary_comparison.style.format({'trips_OMX': \"{:,.2f}\", 'trips_DY': '{:,.0f}', 'Rel_Diff': '{:.2f}%'})\n",
    "summary_comparison_show"
   ]
  },
  {
   "cell_type": "code",
   "execution_count": 59,
   "metadata": {},
   "outputs": [
    {
     "name": "stdout",
     "output_type": "stream",
     "text": [
      "Total Trips for OMX    = 19,755,937\n",
      "Total Trips for DynusT = 19,755,937\n",
      "Total Abs. Difference  = -0\n",
      "Total Rel. Difference  = -0.00%\n"
     ]
    }
   ],
   "source": [
    "total_OMX, total_DY = sum(summary_comparison.trips_OMX), sum(summary_comparison.trips_DY)\n",
    "print('Total Trips for OMX    = {:>,.0f}'.format(total_OMX))\n",
    "print('Total Trips for DynusT = {:>,.0f}'.format(total_DY))\n",
    "print('Total Abs. Difference  = {:>,.0f}'.format(total_DY-total_OMX))\n",
    "print('Total Rel. Difference  = {:>.2f}%'.format((total_DY-total_OMX)/total_OMX*100.0))"
   ]
  },
  {
   "cell_type": "markdown",
   "metadata": {},
   "source": [
    "#### Period Total Comparison"
   ]
  },
  {
   "cell_type": "code",
   "execution_count": 63,
   "metadata": {},
   "outputs": [
    {
     "data": {
      "text/html": [
       "<div>\n",
       "<style scoped>\n",
       "    .dataframe tbody tr th:only-of-type {\n",
       "        vertical-align: middle;\n",
       "    }\n",
       "\n",
       "    .dataframe tbody tr th {\n",
       "        vertical-align: top;\n",
       "    }\n",
       "\n",
       "    .dataframe thead th {\n",
       "        text-align: right;\n",
       "    }\n",
       "</style>\n",
       "<table border=\"1\" class=\"dataframe\">\n",
       "  <thead>\n",
       "    <tr style=\"text-align: right;\">\n",
       "      <th></th>\n",
       "      <th>period</th>\n",
       "      <th>trips_OMX</th>\n",
       "      <th>trips_DY</th>\n",
       "      <th>Diurnal</th>\n",
       "    </tr>\n",
       "  </thead>\n",
       "  <tbody>\n",
       "    <tr>\n",
       "      <th>0</th>\n",
       "      <td>AM</td>\n",
       "      <td>0.159</td>\n",
       "      <td>0.159</td>\n",
       "      <td>0.211</td>\n",
       "    </tr>\n",
       "    <tr>\n",
       "      <th>1</th>\n",
       "      <td>MD</td>\n",
       "      <td>0.348</td>\n",
       "      <td>0.348</td>\n",
       "      <td>0.348</td>\n",
       "    </tr>\n",
       "    <tr>\n",
       "      <th>2</th>\n",
       "      <td>OV</td>\n",
       "      <td>0.171</td>\n",
       "      <td>0.172</td>\n",
       "      <td>0.133</td>\n",
       "    </tr>\n",
       "    <tr>\n",
       "      <th>3</th>\n",
       "      <td>PM</td>\n",
       "      <td>0.321</td>\n",
       "      <td>0.321</td>\n",
       "      <td>0.307</td>\n",
       "    </tr>\n",
       "  </tbody>\n",
       "</table>\n",
       "</div>"
      ],
      "text/plain": [
       "  period  trips_OMX  trips_DY  Diurnal\n",
       "0     AM      0.159     0.159    0.211\n",
       "1     MD      0.348     0.348    0.348\n",
       "2     OV      0.171     0.172    0.133\n",
       "3     PM      0.321     0.321    0.307"
      ]
     },
     "execution_count": 63,
     "metadata": {},
     "output_type": "execute_result"
    }
   ],
   "source": [
    "summary_comparison_period = summary_comparison.groupby('period', as_index=False)['trips_OMX', 'trips_DY'].sum()\n",
    "summary_comparison_period['trips_OMX'] = summary_comparison_period.trips_OMX / sum(summary_comparison_period.trips_OMX)\n",
    "summary_comparison_period['trips_DY'] = summary_comparison_period.trips_DY / sum(summary_comparison_period.trips_DY)\n",
    "summary_comparison_period = pd.merge(summary_comparison_period, diurnal_period_totals, left_on='period', right_on='period')\n",
    "summary_comparison_period"
   ]
  },
  {
   "cell_type": "code",
   "execution_count": 61,
   "metadata": {},
   "outputs": [
    {
     "data": {
      "text/html": [
       "<div>\n",
       "<style scoped>\n",
       "    .dataframe tbody tr th:only-of-type {\n",
       "        vertical-align: middle;\n",
       "    }\n",
       "\n",
       "    .dataframe tbody tr th {\n",
       "        vertical-align: top;\n",
       "    }\n",
       "\n",
       "    .dataframe thead th {\n",
       "        text-align: right;\n",
       "    }\n",
       "</style>\n",
       "<table border=\"1\" class=\"dataframe\">\n",
       "  <thead>\n",
       "    <tr style=\"text-align: right;\">\n",
       "      <th></th>\n",
       "      <th>Period</th>\n",
       "      <th>Diurnal</th>\n",
       "    </tr>\n",
       "  </thead>\n",
       "  <tbody>\n",
       "    <tr>\n",
       "      <th>0</th>\n",
       "      <td>AM</td>\n",
       "      <td>0.211</td>\n",
       "    </tr>\n",
       "    <tr>\n",
       "      <th>1</th>\n",
       "      <td>MD</td>\n",
       "      <td>0.348</td>\n",
       "    </tr>\n",
       "    <tr>\n",
       "      <th>2</th>\n",
       "      <td>OV</td>\n",
       "      <td>0.133</td>\n",
       "    </tr>\n",
       "    <tr>\n",
       "      <th>3</th>\n",
       "      <td>PM</td>\n",
       "      <td>0.307</td>\n",
       "    </tr>\n",
       "  </tbody>\n",
       "</table>\n",
       "</div>"
      ],
      "text/plain": [
       "  Period  Diurnal\n",
       "0     AM    0.211\n",
       "1     MD    0.348\n",
       "2     OV    0.133\n",
       "3     PM    0.307"
      ]
     },
     "execution_count": 61,
     "metadata": {},
     "output_type": "execute_result"
    }
   ],
   "source": [
    "diurnal_period_totals"
   ]
  },
  {
   "cell_type": "code",
   "execution_count": null,
   "metadata": {
    "collapsed": true
   },
   "outputs": [],
   "source": [
    "summary_comparison.to_csv(os.path.join(os.path.dirname(flat_trip_file), 'summary_comparison.csv'), index=False)"
   ]
  },
  {
   "cell_type": "code",
   "execution_count": null,
   "metadata": {
    "collapsed": true
   },
   "outputs": [],
   "source": [
    "end_time = time.time()\n",
    "execution_time = (end_time - start_time) / 60.0\n",
    "print(\"ALL DONE in {:.0f} minutes\".format(execution_time))"
   ]
  },
  {
   "cell_type": "code",
   "execution_count": null,
   "metadata": {
    "collapsed": true
   },
   "outputs": [],
   "source": [
    "# import itertools\n",
    "# periods = ('AM', 'MD', 'PM', 'OV')\n",
    "# purposes = ('WK', 'NW', 'Cargo', 'Serv', 'Taxi', 'TNC')\n",
    "# CAV = ('REG', 'CAV')\n",
    "# EV = ('EV', 'NonEV')\n",
    "# pd.DataFrame(list(itertools.product(periods, purposes, CAV, EV))).to_csv(os.path.join(os.path.dirname(flat_trip_file), 'cat.csv'))"
   ]
  },
  {
   "cell_type": "markdown",
   "metadata": {
    "collapsed": true
   },
   "source": [
    "#### Old Format Matrices"
   ]
  },
  {
   "cell_type": "code",
   "execution_count": 64,
   "metadata": {
    "collapsed": true
   },
   "outputs": [],
   "source": [
    "matrix_folder = r'L:\\DCS\\Projects\\_Legacy\\60563434_SWIFT\\400_Technical\\410 Transportation Modeling\\DATA\\H-GAC\\Trip Tables\\OD\\Y2017_OD_TOD'\n",
    "matrices_am = [\"OD AM3HR HBNW Vehicles\", \"OD AM3HR HBW Vehicles\", \"OD AM3HR NHB Vehicles\", \"OD AM3HR Other VEHICLEs\"]\n",
    "matrices_md = [\"OD MD6HR HBNW Vehicles\", \"OD MD6HR HBW Vehicles\", \"OD MD6HR NHB Vehicles\", \"OD MD6HR Other VEHICLEs\"]\n",
    "matrices_pm = [\"OD PM4HR HBNW Vehicles\", \"OD PM4HR HBW Vehicles\", \"OD PM4HR NHB Vehicles\", \"OD PM4HR Other VEHICLEs\"]\n",
    "matrices_ov = [\"OD OV8HR HBNW Vehicles\", \"OD OV8HR HBW Vehicles\", \"OD OV8HR NHB Vehicles\", \"OD OV8HR Other VEHICLEs\"]\n",
    "matrices = matrices_am + matrices_md + matrices_pm + matrices_ov\n",
    "matrix_files = [os.path.join(matrix_folder, m+'.omx') for m in matrices]"
   ]
  },
  {
   "cell_type": "code",
   "execution_count": 67,
   "metadata": {
    "collapsed": true
   },
   "outputs": [],
   "source": [
    "def summarize_trip_tables_oldformat(matrix_files):\n",
    "    summary_records = []\n",
    "    for m in matrix_files:\n",
    "        h5 = h5py.File(m, 'r')\n",
    "        period = None\n",
    "        if m.lower().find(\"am\") >= 0:\n",
    "            period = 'AM'\n",
    "        elif m.lower().find(\"md\") >= 0:\n",
    "            period = 'MD'\n",
    "        elif m.lower().find(\"pm\") >= 0:\n",
    "            period = 'PM'\n",
    "        else:\n",
    "            period = 'OV'\n",
    "        \n",
    "        group = '/'+list(h5.keys())[0]+'/'\n",
    "        tables = h5[group].keys()\n",
    "        for table in tqdm(tables, desc=os.path.split(m)[1].split('.')[0]):\n",
    "            if table.find('all') >= 0:\n",
    "                continue\n",
    "    \n",
    "            purp = None\n",
    "            if table.lower().find(\"hbw\") >= 0:\n",
    "                purp = 'HBW'\n",
    "            elif table.lower().find(\"hnw\") >= 0:\n",
    "                purp = 'HNW'\n",
    "            elif table.lower().find(\"nho\") >= 0:\n",
    "                purp = 'NHO'\n",
    "            elif table.lower().find(\"nhw\") >= 0:\n",
    "                purp = 'NHW'\n",
    "            else:\n",
    "                purp = 'MISC'\n",
    "            \n",
    "            od = h5[group + table][:]\n",
    "            trips = od.sum()\n",
    "            summary_records.append((table.lower(), period, purp, trips))\n",
    "        h5.close()\n",
    "    return pd.DataFrame(data=summary_records, columns=['table', 'period', 'purp', 'trips'])"
   ]
  },
  {
   "cell_type": "code",
   "execution_count": 68,
   "metadata": {},
   "outputs": [
    {
     "data": {
      "application/vnd.jupyter.widget-view+json": {
       "model_id": "533da60401ba4863a7dbf919dc018049",
       "version_major": 2,
       "version_minor": 0
      },
      "text/plain": [
       "A Jupyter Widget"
      ]
     },
     "metadata": {},
     "output_type": "display_data"
    },
    {
     "name": "stdout",
     "output_type": "stream",
     "text": [
      "\n"
     ]
    },
    {
     "data": {
      "application/vnd.jupyter.widget-view+json": {
       "model_id": "fa32279641254d96afede4c81a523b30",
       "version_major": 2,
       "version_minor": 0
      },
      "text/plain": [
       "A Jupyter Widget"
      ]
     },
     "metadata": {},
     "output_type": "display_data"
    },
    {
     "name": "stdout",
     "output_type": "stream",
     "text": [
      "\n"
     ]
    },
    {
     "data": {
      "application/vnd.jupyter.widget-view+json": {
       "model_id": "68bfc16c135d4349a11d0ab58a54802e",
       "version_major": 2,
       "version_minor": 0
      },
      "text/plain": [
       "A Jupyter Widget"
      ]
     },
     "metadata": {},
     "output_type": "display_data"
    },
    {
     "name": "stdout",
     "output_type": "stream",
     "text": [
      "\n"
     ]
    },
    {
     "data": {
      "application/vnd.jupyter.widget-view+json": {
       "model_id": "103a98a5fa724abfb5be29888a3b435c",
       "version_major": 2,
       "version_minor": 0
      },
      "text/plain": [
       "A Jupyter Widget"
      ]
     },
     "metadata": {},
     "output_type": "display_data"
    },
    {
     "name": "stdout",
     "output_type": "stream",
     "text": [
      "\n"
     ]
    },
    {
     "data": {
      "application/vnd.jupyter.widget-view+json": {
       "model_id": "87f83fe0276d45088de71cda468bb5d3",
       "version_major": 2,
       "version_minor": 0
      },
      "text/plain": [
       "A Jupyter Widget"
      ]
     },
     "metadata": {},
     "output_type": "display_data"
    },
    {
     "name": "stdout",
     "output_type": "stream",
     "text": [
      "\n"
     ]
    },
    {
     "data": {
      "application/vnd.jupyter.widget-view+json": {
       "model_id": "e15af0c2e2ec4ac983526bd44932aa07",
       "version_major": 2,
       "version_minor": 0
      },
      "text/plain": [
       "A Jupyter Widget"
      ]
     },
     "metadata": {},
     "output_type": "display_data"
    },
    {
     "name": "stdout",
     "output_type": "stream",
     "text": [
      "\n"
     ]
    },
    {
     "data": {
      "application/vnd.jupyter.widget-view+json": {
       "model_id": "3f69677f06d04828b6da73450729b5bd",
       "version_major": 2,
       "version_minor": 0
      },
      "text/plain": [
       "A Jupyter Widget"
      ]
     },
     "metadata": {},
     "output_type": "display_data"
    },
    {
     "name": "stdout",
     "output_type": "stream",
     "text": [
      "\n"
     ]
    },
    {
     "data": {
      "application/vnd.jupyter.widget-view+json": {
       "model_id": "7f809674721545ca9d0e82bd72f903b1",
       "version_major": 2,
       "version_minor": 0
      },
      "text/plain": [
       "A Jupyter Widget"
      ]
     },
     "metadata": {},
     "output_type": "display_data"
    },
    {
     "name": "stdout",
     "output_type": "stream",
     "text": [
      "\n"
     ]
    },
    {
     "data": {
      "application/vnd.jupyter.widget-view+json": {
       "model_id": "582f5716565b42719d887ff7c58c7174",
       "version_major": 2,
       "version_minor": 0
      },
      "text/plain": [
       "A Jupyter Widget"
      ]
     },
     "metadata": {},
     "output_type": "display_data"
    },
    {
     "name": "stdout",
     "output_type": "stream",
     "text": [
      "\n"
     ]
    },
    {
     "data": {
      "application/vnd.jupyter.widget-view+json": {
       "model_id": "b6ffecd6d34044b3b90d80a950094e49",
       "version_major": 2,
       "version_minor": 0
      },
      "text/plain": [
       "A Jupyter Widget"
      ]
     },
     "metadata": {},
     "output_type": "display_data"
    },
    {
     "name": "stdout",
     "output_type": "stream",
     "text": [
      "\n"
     ]
    },
    {
     "data": {
      "application/vnd.jupyter.widget-view+json": {
       "model_id": "b21484223b3c4a08ae04ef26b18d92f0",
       "version_major": 2,
       "version_minor": 0
      },
      "text/plain": [
       "A Jupyter Widget"
      ]
     },
     "metadata": {},
     "output_type": "display_data"
    },
    {
     "name": "stdout",
     "output_type": "stream",
     "text": [
      "\n"
     ]
    },
    {
     "data": {
      "application/vnd.jupyter.widget-view+json": {
       "model_id": "461f2f7f2e7f4a3eae63d8ab9565b9f5",
       "version_major": 2,
       "version_minor": 0
      },
      "text/plain": [
       "A Jupyter Widget"
      ]
     },
     "metadata": {},
     "output_type": "display_data"
    },
    {
     "name": "stdout",
     "output_type": "stream",
     "text": [
      "\n"
     ]
    },
    {
     "data": {
      "application/vnd.jupyter.widget-view+json": {
       "model_id": "e1b158cf3ae347569da11b4509b4849f",
       "version_major": 2,
       "version_minor": 0
      },
      "text/plain": [
       "A Jupyter Widget"
      ]
     },
     "metadata": {},
     "output_type": "display_data"
    },
    {
     "name": "stdout",
     "output_type": "stream",
     "text": [
      "\n"
     ]
    },
    {
     "data": {
      "application/vnd.jupyter.widget-view+json": {
       "model_id": "fa3c3867d04c462e87396b14758c2857",
       "version_major": 2,
       "version_minor": 0
      },
      "text/plain": [
       "A Jupyter Widget"
      ]
     },
     "metadata": {},
     "output_type": "display_data"
    },
    {
     "name": "stdout",
     "output_type": "stream",
     "text": [
      "\n"
     ]
    },
    {
     "data": {
      "application/vnd.jupyter.widget-view+json": {
       "model_id": "8491b270a7ac409f9861b431d1949a3a",
       "version_major": 2,
       "version_minor": 0
      },
      "text/plain": [
       "A Jupyter Widget"
      ]
     },
     "metadata": {},
     "output_type": "display_data"
    },
    {
     "name": "stdout",
     "output_type": "stream",
     "text": [
      "\n"
     ]
    },
    {
     "data": {
      "application/vnd.jupyter.widget-view+json": {
       "model_id": "086e55498c314754a574edeba4fb5f4b",
       "version_major": 2,
       "version_minor": 0
      },
      "text/plain": [
       "A Jupyter Widget"
      ]
     },
     "metadata": {},
     "output_type": "display_data"
    },
    {
     "name": "stdout",
     "output_type": "stream",
     "text": [
      "\n"
     ]
    }
   ],
   "source": [
    "summary_omx_oldformat = summarize_trip_tables_oldformat(matrix_files)"
   ]
  },
  {
   "cell_type": "code",
   "execution_count": 71,
   "metadata": {},
   "outputs": [
    {
     "data": {
      "text/html": [
       "<div>\n",
       "<style scoped>\n",
       "    .dataframe tbody tr th:only-of-type {\n",
       "        vertical-align: middle;\n",
       "    }\n",
       "\n",
       "    .dataframe tbody tr th {\n",
       "        vertical-align: top;\n",
       "    }\n",
       "\n",
       "    .dataframe thead th {\n",
       "        text-align: right;\n",
       "    }\n",
       "</style>\n",
       "<table border=\"1\" class=\"dataframe\">\n",
       "  <thead>\n",
       "    <tr style=\"text-align: right;\">\n",
       "      <th></th>\n",
       "      <th>period</th>\n",
       "      <th>trips</th>\n",
       "    </tr>\n",
       "  </thead>\n",
       "  <tbody>\n",
       "    <tr>\n",
       "      <th>0</th>\n",
       "      <td>AM</td>\n",
       "      <td>3341684.091</td>\n",
       "    </tr>\n",
       "    <tr>\n",
       "      <th>1</th>\n",
       "      <td>MD</td>\n",
       "      <td>6630650.158</td>\n",
       "    </tr>\n",
       "    <tr>\n",
       "      <th>2</th>\n",
       "      <td>OV</td>\n",
       "      <td>3202482.509</td>\n",
       "    </tr>\n",
       "    <tr>\n",
       "      <th>3</th>\n",
       "      <td>PM</td>\n",
       "      <td>6128534.540</td>\n",
       "    </tr>\n",
       "  </tbody>\n",
       "</table>\n",
       "</div>"
      ],
      "text/plain": [
       "  period       trips\n",
       "0     AM 3341684.091\n",
       "1     MD 6630650.158\n",
       "2     OV 3202482.509\n",
       "3     PM 6128534.540"
      ]
     },
     "execution_count": 71,
     "metadata": {},
     "output_type": "execute_result"
    }
   ],
   "source": [
    "summary_omx_oldformat.groupby('period', as_index=False)['trips'].sum()"
   ]
  },
  {
   "cell_type": "code",
   "execution_count": 22,
   "metadata": {
    "collapsed": true
   },
   "outputs": [],
   "source": [
    "def summarize_trip_tables_customize(matrix_files, vots):\n",
    "    summary_records = []\n",
    "    for m in matrix_files:\n",
    "#         print('Processing Matrix File {:s}'.format(m))\n",
    "        h5 = h5py.File(m, 'r')\n",
    "        group = '/'+list(h5.keys())[0]+'/'\n",
    "        tables = h5[group].keys()\n",
    "        for table in tqdm(tables, desc=os.path.split(m)[1].split('.')[0]):\n",
    "            if table.find('all') >= 0:\n",
    "                continue\n",
    "            info = parse_matrix_table(m, table, vots)\n",
    "            vtype = info['vtype']\n",
    "            occ = info['occ']\n",
    "            purp = info['purp']\n",
    "            vot = info['vot']\n",
    "            period = info['period']\n",
    "            cav = info['cav']\n",
    "            ev = info['ev']\n",
    "            \n",
    "            if cav:\n",
    "                cav = 'CAV'\n",
    "            else:\n",
    "                cav = 'REG'\n",
    "            \n",
    "            if ev:\n",
    "                ev = 'EV'\n",
    "            else:\n",
    "                ev = 'NonEV'\n",
    "            \n",
    "            select_dzone = 1919\n",
    "            od = h5[group + table][:]\n",
    "            trips = od[:,select_dzone-1].sum()\n",
    "            summary_records.append((table.lower(), period, purp, vot, vtype, occ, cav, ev, trips))\n",
    "        h5.close()\n",
    "    return pd.DataFrame(data=summary_records, columns=['table', 'period', 'purp', 'vot', 'vtype', 'occ', 'cav', 'ev', 'trips'])"
   ]
  },
  {
   "cell_type": "code",
   "execution_count": 23,
   "metadata": {},
   "outputs": [
    {
     "data": {
      "application/vnd.jupyter.widget-view+json": {
       "model_id": "29bc20ea47ff4dcd9cbab87b912b1d77",
       "version_major": 2,
       "version_minor": 0
      },
      "text/plain": [
       "A Jupyter Widget"
      ]
     },
     "metadata": {},
     "output_type": "display_data"
    },
    {
     "name": "stdout",
     "output_type": "stream",
     "text": [
      "\n"
     ]
    },
    {
     "data": {
      "application/vnd.jupyter.widget-view+json": {
       "model_id": "9868a1d53d924a1ba35418fd39f22075",
       "version_major": 2,
       "version_minor": 0
      },
      "text/plain": [
       "A Jupyter Widget"
      ]
     },
     "metadata": {},
     "output_type": "display_data"
    },
    {
     "name": "stdout",
     "output_type": "stream",
     "text": [
      "\n"
     ]
    },
    {
     "data": {
      "application/vnd.jupyter.widget-view+json": {
       "model_id": "3a5ded53486e4abf9cee56e666c4c237",
       "version_major": 2,
       "version_minor": 0
      },
      "text/plain": [
       "A Jupyter Widget"
      ]
     },
     "metadata": {},
     "output_type": "display_data"
    },
    {
     "name": "stdout",
     "output_type": "stream",
     "text": [
      "\n"
     ]
    },
    {
     "data": {
      "application/vnd.jupyter.widget-view+json": {
       "model_id": "e7d19d1cbc384283b442c3d8bf436be5",
       "version_major": 2,
       "version_minor": 0
      },
      "text/plain": [
       "A Jupyter Widget"
      ]
     },
     "metadata": {},
     "output_type": "display_data"
    },
    {
     "name": "stdout",
     "output_type": "stream",
     "text": [
      "\n"
     ]
    },
    {
     "data": {
      "application/vnd.jupyter.widget-view+json": {
       "model_id": "27a6d089da0a4eb99e3e844d70292b8d",
       "version_major": 2,
       "version_minor": 0
      },
      "text/plain": [
       "A Jupyter Widget"
      ]
     },
     "metadata": {},
     "output_type": "display_data"
    },
    {
     "name": "stdout",
     "output_type": "stream",
     "text": [
      "\n"
     ]
    },
    {
     "data": {
      "application/vnd.jupyter.widget-view+json": {
       "model_id": "db172a9e8b7242fda3756df087b3c089",
       "version_major": 2,
       "version_minor": 0
      },
      "text/plain": [
       "A Jupyter Widget"
      ]
     },
     "metadata": {},
     "output_type": "display_data"
    },
    {
     "name": "stdout",
     "output_type": "stream",
     "text": [
      "\n"
     ]
    },
    {
     "data": {
      "application/vnd.jupyter.widget-view+json": {
       "model_id": "bff25fbf76b5470cb456a2996b0cf723",
       "version_major": 2,
       "version_minor": 0
      },
      "text/plain": [
       "A Jupyter Widget"
      ]
     },
     "metadata": {},
     "output_type": "display_data"
    },
    {
     "name": "stdout",
     "output_type": "stream",
     "text": [
      "\n"
     ]
    },
    {
     "data": {
      "application/vnd.jupyter.widget-view+json": {
       "model_id": "0e85a12258a64ac4bac0df012f8832b2",
       "version_major": 2,
       "version_minor": 0
      },
      "text/plain": [
       "A Jupyter Widget"
      ]
     },
     "metadata": {},
     "output_type": "display_data"
    },
    {
     "name": "stdout",
     "output_type": "stream",
     "text": [
      "\n"
     ]
    }
   ],
   "source": [
    "summary_omx_customize = summarize_trip_tables_customize(matrix_files, vots)"
   ]
  },
  {
   "cell_type": "code",
   "execution_count": 21,
   "metadata": {},
   "outputs": [
    {
     "data": {
      "text/plain": [
       "34.7398"
      ]
     },
     "execution_count": 21,
     "metadata": {},
     "output_type": "execute_result"
    }
   ],
   "source": [
    "summary_omx_customize.loc[summary_omx_customize.purp.isin((1,2,10,20)), 'trips'].sum()"
   ]
  },
  {
   "cell_type": "code",
   "execution_count": 20,
   "metadata": {},
   "outputs": [
    {
     "data": {
      "text/html": [
       "<div>\n",
       "<style scoped>\n",
       "    .dataframe tbody tr th:only-of-type {\n",
       "        vertical-align: middle;\n",
       "    }\n",
       "\n",
       "    .dataframe tbody tr th {\n",
       "        vertical-align: top;\n",
       "    }\n",
       "\n",
       "    .dataframe thead th {\n",
       "        text-align: right;\n",
       "    }\n",
       "</style>\n",
       "<table border=\"1\" class=\"dataframe\">\n",
       "  <thead>\n",
       "    <tr style=\"text-align: right;\">\n",
       "      <th></th>\n",
       "      <th>table</th>\n",
       "      <th>period</th>\n",
       "      <th>purp</th>\n",
       "      <th>vot</th>\n",
       "      <th>vtype</th>\n",
       "      <th>occ</th>\n",
       "      <th>cav</th>\n",
       "      <th>ev</th>\n",
       "      <th>trips</th>\n",
       "    </tr>\n",
       "  </thead>\n",
       "  <tbody>\n",
       "    <tr>\n",
       "      <th>0</th>\n",
       "      <td>reg_wi3a2</td>\n",
       "      <td>AM</td>\n",
       "      <td>10</td>\n",
       "      <td>35.840</td>\n",
       "      <td>2</td>\n",
       "      <td>1</td>\n",
       "      <td>REG</td>\n",
       "      <td>EV</td>\n",
       "      <td>0.000</td>\n",
       "    </tr>\n",
       "    <tr>\n",
       "      <th>1</th>\n",
       "      <td>reg_wi2da</td>\n",
       "      <td>AM</td>\n",
       "      <td>10</td>\n",
       "      <td>15.040</td>\n",
       "      <td>1</td>\n",
       "      <td>0</td>\n",
       "      <td>REG</td>\n",
       "      <td>EV</td>\n",
       "      <td>0.048</td>\n",
       "    </tr>\n",
       "    <tr>\n",
       "      <th>2</th>\n",
       "      <td>reg_wi4da</td>\n",
       "      <td>AM</td>\n",
       "      <td>10</td>\n",
       "      <td>27.520</td>\n",
       "      <td>1</td>\n",
       "      <td>0</td>\n",
       "      <td>REG</td>\n",
       "      <td>EV</td>\n",
       "      <td>0.153</td>\n",
       "    </tr>\n",
       "    <tr>\n",
       "      <th>3</th>\n",
       "      <td>cav_wi5da</td>\n",
       "      <td>AM</td>\n",
       "      <td>10</td>\n",
       "      <td>37.120</td>\n",
       "      <td>5</td>\n",
       "      <td>0</td>\n",
       "      <td>CAV</td>\n",
       "      <td>EV</td>\n",
       "      <td>0.084</td>\n",
       "    </tr>\n",
       "    <tr>\n",
       "      <th>4</th>\n",
       "      <td>cargo</td>\n",
       "      <td>AM</td>\n",
       "      <td>60</td>\n",
       "      <td>0.000</td>\n",
       "      <td>4</td>\n",
       "      <td>2</td>\n",
       "      <td>REG</td>\n",
       "      <td>EV</td>\n",
       "      <td>0.077</td>\n",
       "    </tr>\n",
       "  </tbody>\n",
       "</table>\n",
       "</div>"
      ],
      "text/plain": [
       "       table period  purp    vot  vtype  occ  cav  ev  trips\n",
       "0  reg_wi3a2     AM    10 35.840      2    1  REG  EV  0.000\n",
       "1  reg_wi2da     AM    10 15.040      1    0  REG  EV  0.048\n",
       "2  reg_wi4da     AM    10 27.520      1    0  REG  EV  0.153\n",
       "3  cav_wi5da     AM    10 37.120      5    0  CAV  EV  0.084\n",
       "4      cargo     AM    60  0.000      4    2  REG  EV  0.077"
      ]
     },
     "execution_count": 20,
     "metadata": {},
     "output_type": "execute_result"
    }
   ],
   "source": [
    "summary_omx_customize.head()"
   ]
  },
  {
   "cell_type": "markdown",
   "metadata": {
    "collapsed": true
   },
   "source": [
    "#### Scratch"
   ]
  },
  {
   "cell_type": "code",
   "execution_count": 20,
   "metadata": {},
   "outputs": [
    {
     "data": {
      "text/html": [
       "<div>\n",
       "<style scoped>\n",
       "    .dataframe tbody tr th:only-of-type {\n",
       "        vertical-align: middle;\n",
       "    }\n",
       "\n",
       "    .dataframe tbody tr th {\n",
       "        vertical-align: top;\n",
       "    }\n",
       "\n",
       "    .dataframe thead th {\n",
       "        text-align: right;\n",
       "    }\n",
       "</style>\n",
       "<table border=\"1\" class=\"dataframe\">\n",
       "  <thead>\n",
       "    <tr style=\"text-align: right;\">\n",
       "      <th></th>\n",
       "      <th>period</th>\n",
       "      <th>trips</th>\n",
       "    </tr>\n",
       "  </thead>\n",
       "  <tbody>\n",
       "    <tr>\n",
       "      <th>0</th>\n",
       "      <td>AM</td>\n",
       "      <td>3149419.081</td>\n",
       "    </tr>\n",
       "    <tr>\n",
       "      <th>1</th>\n",
       "      <td>MD</td>\n",
       "      <td>8638338.998</td>\n",
       "    </tr>\n",
       "    <tr>\n",
       "      <th>2</th>\n",
       "      <td>OV</td>\n",
       "      <td>3632567.064</td>\n",
       "    </tr>\n",
       "    <tr>\n",
       "      <th>3</th>\n",
       "      <td>PM</td>\n",
       "      <td>7275598.955</td>\n",
       "    </tr>\n",
       "  </tbody>\n",
       "</table>\n",
       "</div>"
      ],
      "text/plain": [
       "  period       trips\n",
       "0     AM 3149419.081\n",
       "1     MD 8638338.998\n",
       "2     OV 3632567.064\n",
       "3     PM 7275598.955"
      ]
     },
     "execution_count": 20,
     "metadata": {},
     "output_type": "execute_result"
    }
   ],
   "source": [
    "summary_omx_gb.loc[summary_omx_gb.purp.isin(('TNC', 'Taxi'))].groupby('period', as_index=False)['trips'].sum()"
   ]
  },
  {
   "cell_type": "code",
   "execution_count": 21,
   "metadata": {},
   "outputs": [
    {
     "data": {
      "text/html": [
       "<div>\n",
       "<style scoped>\n",
       "    .dataframe tbody tr th:only-of-type {\n",
       "        vertical-align: middle;\n",
       "    }\n",
       "\n",
       "    .dataframe tbody tr th {\n",
       "        vertical-align: top;\n",
       "    }\n",
       "\n",
       "    .dataframe thead th {\n",
       "        text-align: right;\n",
       "    }\n",
       "</style>\n",
       "<table border=\"1\" class=\"dataframe\">\n",
       "  <thead>\n",
       "    <tr style=\"text-align: right;\">\n",
       "      <th></th>\n",
       "      <th>period</th>\n",
       "      <th>purp</th>\n",
       "      <th>vehtype2</th>\n",
       "      <th>cav</th>\n",
       "      <th>ev</th>\n",
       "      <th>trips</th>\n",
       "    </tr>\n",
       "  </thead>\n",
       "  <tbody>\n",
       "    <tr>\n",
       "      <th>12</th>\n",
       "      <td>AM</td>\n",
       "      <td>TNC</td>\n",
       "      <td>TNC</td>\n",
       "      <td>REG</td>\n",
       "      <td>EV</td>\n",
       "      <td>706540.865</td>\n",
       "    </tr>\n",
       "    <tr>\n",
       "      <th>13</th>\n",
       "      <td>AM</td>\n",
       "      <td>TNC</td>\n",
       "      <td>TNC</td>\n",
       "      <td>REG</td>\n",
       "      <td>NonEV</td>\n",
       "      <td>2331421.278</td>\n",
       "    </tr>\n",
       "    <tr>\n",
       "      <th>14</th>\n",
       "      <td>AM</td>\n",
       "      <td>Taxi</td>\n",
       "      <td>REG_HOV</td>\n",
       "      <td>REG</td>\n",
       "      <td>EV</td>\n",
       "      <td>5693.061</td>\n",
       "    </tr>\n",
       "    <tr>\n",
       "      <th>15</th>\n",
       "      <td>AM</td>\n",
       "      <td>Taxi</td>\n",
       "      <td>REG_HOV</td>\n",
       "      <td>REG</td>\n",
       "      <td>NonEV</td>\n",
       "      <td>105763.877</td>\n",
       "    </tr>\n",
       "    <tr>\n",
       "      <th>36</th>\n",
       "      <td>MD</td>\n",
       "      <td>TNC</td>\n",
       "      <td>TNC</td>\n",
       "      <td>REG</td>\n",
       "      <td>EV</td>\n",
       "      <td>1921311.210</td>\n",
       "    </tr>\n",
       "    <tr>\n",
       "      <th>37</th>\n",
       "      <td>MD</td>\n",
       "      <td>TNC</td>\n",
       "      <td>TNC</td>\n",
       "      <td>REG</td>\n",
       "      <td>NonEV</td>\n",
       "      <td>6502689.043</td>\n",
       "    </tr>\n",
       "    <tr>\n",
       "      <th>38</th>\n",
       "      <td>MD</td>\n",
       "      <td>Taxi</td>\n",
       "      <td>REG_HOV</td>\n",
       "      <td>REG</td>\n",
       "      <td>EV</td>\n",
       "      <td>9411.984</td>\n",
       "    </tr>\n",
       "    <tr>\n",
       "      <th>39</th>\n",
       "      <td>MD</td>\n",
       "      <td>Taxi</td>\n",
       "      <td>REG_HOV</td>\n",
       "      <td>REG</td>\n",
       "      <td>NonEV</td>\n",
       "      <td>204926.762</td>\n",
       "    </tr>\n",
       "    <tr>\n",
       "      <th>60</th>\n",
       "      <td>OV</td>\n",
       "      <td>TNC</td>\n",
       "      <td>TNC</td>\n",
       "      <td>REG</td>\n",
       "      <td>EV</td>\n",
       "      <td>804617.869</td>\n",
       "    </tr>\n",
       "    <tr>\n",
       "      <th>61</th>\n",
       "      <td>OV</td>\n",
       "      <td>TNC</td>\n",
       "      <td>TNC</td>\n",
       "      <td>REG</td>\n",
       "      <td>NonEV</td>\n",
       "      <td>2697243.725</td>\n",
       "    </tr>\n",
       "    <tr>\n",
       "      <th>62</th>\n",
       "      <td>OV</td>\n",
       "      <td>Taxi</td>\n",
       "      <td>REG_HOV</td>\n",
       "      <td>REG</td>\n",
       "      <td>EV</td>\n",
       "      <td>6488.153</td>\n",
       "    </tr>\n",
       "    <tr>\n",
       "      <th>63</th>\n",
       "      <td>OV</td>\n",
       "      <td>Taxi</td>\n",
       "      <td>REG_HOV</td>\n",
       "      <td>REG</td>\n",
       "      <td>NonEV</td>\n",
       "      <td>124217.316</td>\n",
       "    </tr>\n",
       "    <tr>\n",
       "      <th>84</th>\n",
       "      <td>PM</td>\n",
       "      <td>TNC</td>\n",
       "      <td>TNC</td>\n",
       "      <td>REG</td>\n",
       "      <td>EV</td>\n",
       "      <td>1646166.115</td>\n",
       "    </tr>\n",
       "    <tr>\n",
       "      <th>85</th>\n",
       "      <td>PM</td>\n",
       "      <td>TNC</td>\n",
       "      <td>TNC</td>\n",
       "      <td>REG</td>\n",
       "      <td>NonEV</td>\n",
       "      <td>5478268.637</td>\n",
       "    </tr>\n",
       "    <tr>\n",
       "      <th>86</th>\n",
       "      <td>PM</td>\n",
       "      <td>Taxi</td>\n",
       "      <td>REG_HOV</td>\n",
       "      <td>REG</td>\n",
       "      <td>EV</td>\n",
       "      <td>1152.469</td>\n",
       "    </tr>\n",
       "    <tr>\n",
       "      <th>87</th>\n",
       "      <td>PM</td>\n",
       "      <td>Taxi</td>\n",
       "      <td>REG_HOV</td>\n",
       "      <td>REG</td>\n",
       "      <td>NonEV</td>\n",
       "      <td>150011.735</td>\n",
       "    </tr>\n",
       "  </tbody>\n",
       "</table>\n",
       "</div>"
      ],
      "text/plain": [
       "   period  purp vehtype2  cav     ev       trips\n",
       "12     AM   TNC      TNC  REG     EV  706540.865\n",
       "13     AM   TNC      TNC  REG  NonEV 2331421.278\n",
       "14     AM  Taxi  REG_HOV  REG     EV    5693.061\n",
       "15     AM  Taxi  REG_HOV  REG  NonEV  105763.877\n",
       "36     MD   TNC      TNC  REG     EV 1921311.210\n",
       "37     MD   TNC      TNC  REG  NonEV 6502689.043\n",
       "38     MD  Taxi  REG_HOV  REG     EV    9411.984\n",
       "39     MD  Taxi  REG_HOV  REG  NonEV  204926.762\n",
       "60     OV   TNC      TNC  REG     EV  804617.869\n",
       "61     OV   TNC      TNC  REG  NonEV 2697243.725\n",
       "62     OV  Taxi  REG_HOV  REG     EV    6488.153\n",
       "63     OV  Taxi  REG_HOV  REG  NonEV  124217.316\n",
       "84     PM   TNC      TNC  REG     EV 1646166.115\n",
       "85     PM   TNC      TNC  REG  NonEV 5478268.637\n",
       "86     PM  Taxi  REG_HOV  REG     EV    1152.469\n",
       "87     PM  Taxi  REG_HOV  REG  NonEV  150011.735"
      ]
     },
     "execution_count": 21,
     "metadata": {},
     "output_type": "execute_result"
    }
   ],
   "source": [
    "summary_omx_gb.loc[summary_omx_gb.purp.isin(('TNC', 'Taxi'))]"
   ]
  },
  {
   "cell_type": "code",
   "execution_count": null,
   "metadata": {
    "collapsed": true
   },
   "outputs": [],
   "source": []
  }
 ],
 "metadata": {
  "kernelspec": {
   "display_name": "Python 3",
   "language": "python",
   "name": "python3"
  },
  "language_info": {
   "codemirror_mode": {
    "name": "ipython",
    "version": 3
   },
   "file_extension": ".py",
   "mimetype": "text/x-python",
   "name": "python",
   "nbconvert_exporter": "python",
   "pygments_lexer": "ipython3",
   "version": "3.6.3"
  }
 },
 "nbformat": 4,
 "nbformat_minor": 2
}
