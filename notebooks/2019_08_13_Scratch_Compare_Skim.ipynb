{
 "cells": [
  {
   "cell_type": "code",
   "execution_count": 1,
   "metadata": {
    "collapsed": true
   },
   "outputs": [],
   "source": [
    "import os\n",
    "import itertools\n",
    "\n",
    "import numpy as np\n",
    "import pandas as pd\n",
    "from simpledbf import Dbf5"
   ]
  },
  {
   "cell_type": "code",
   "execution_count": 70,
   "metadata": {
    "collapsed": true
   },
   "outputs": [],
   "source": [
    "S01_Existing = 'S01_Existing'\n",
    "S03_HGAC = 'S03_HGAC'\n",
    "S04_HG = 'S04_HG'\n",
    "S06_HG_MT = 'S06_HG_MT'\n",
    "S08_HG_HT_Sprawl_TDM_N3 = 'S08_HG_HT_Sprawl_TDM_N3'\n",
    "S12_HG_HT_Infill_Pricing_N3 = 'S12_HG_HT_Infill_Pricing_N3'\n",
    "S14_HG_HT_Infill_Transit_N3 = 'S14_HG_HT_Infill_Transit_N3'"
   ]
  },
  {
   "cell_type": "code",
   "execution_count": 71,
   "metadata": {
    "collapsed": true
   },
   "outputs": [],
   "source": [
    "scenario = S01_Existing\n",
    "workspace = r'L:\\DCS\\Projects\\_Legacy\\60563434_SWIFT\\400_Technical\\SWIFT_Workspace\\Scenarios'"
   ]
  },
  {
   "cell_type": "code",
   "execution_count": 79,
   "metadata": {},
   "outputs": [],
   "source": [
    "zone_skim_files = (\n",
    "    r'STM\\STM_A\\03_Performance_Summarizer\\04_Results\\Zone_Skim_CAV_1_WK.csv',\n",
    "    r'STM\\STM_A\\03_Performance_Summarizer\\04_Results\\Zone_Skim_CAV_2P_WK.csv',\n",
    "    r'STM\\STM_A\\03_Performance_Summarizer\\04_Results\\Zone_Skim_REG_1_WK.csv',\n",
    "    r'STM\\STM_A\\03_Performance_Summarizer\\04_Results\\Zone_Skim_REG_2P_WK.csv',\n",
    "             )\n",
    "# skim_files = [os.path.join(workspace, scenario, f) for f in skim_files]\n",
    "# print(\"Input Skim Files:\", skim_files)"
   ]
  },
  {
   "cell_type": "code",
   "execution_count": 80,
   "metadata": {
    "collapsed": true
   },
   "outputs": [],
   "source": [
    "def skim_hist(df_skim, bins):\n",
    "    df_skim['BIN'] = pd.cut(df_skim.DISTANCE, bins)\n",
    "    df_skim_gb = df_skim.groupby('BIN', as_index=False)['COUNT'].sum()\n",
    "    df_skim_gb['PERCENT'] = df_skim_gb['COUNT'] / sum(df_skim_gb['COUNT'])\n",
    "    return df_skim_gb"
   ]
  },
  {
   "cell_type": "code",
   "execution_count": 81,
   "metadata": {
    "collapsed": true
   },
   "outputs": [],
   "source": [
    "bins = np.arange(0, 152, 2)"
   ]
  },
  {
   "cell_type": "code",
   "execution_count": 113,
   "metadata": {},
   "outputs": [],
   "source": [
    "skim_files = [os.path.join(workspace, S01_Existing, f) for f in zone_skim_files]\n",
    "df_skim_s01 = pd.concat([pd.read_csv(f) for f in skim_files]).fillna(0)\n",
    "df_skim_gb_s01 = skim_hist(df_skim_s01, bins)\n",
    "df_skim_gb_s01 = df_skim_gb_s01[:10]"
   ]
  },
  {
   "cell_type": "code",
   "execution_count": 114,
   "metadata": {},
   "outputs": [],
   "source": [
    "skim_files = [os.path.join(workspace, S03_HGAC, f) for f in zone_skim_files]\n",
    "df_skim_s03 = pd.concat([pd.read_csv(f) for f in skim_files]).fillna(0)\n",
    "df_skim_gb_s03 = skim_hist(df_skim_s03, bins)\n",
    "df_skim_gb_s03 = df_skim_gb_s03[:10]"
   ]
  },
  {
   "cell_type": "code",
   "execution_count": 115,
   "metadata": {},
   "outputs": [],
   "source": [
    "df_skim_compare = pd.concat([df_skim_gb_s01, df_skim_gb_s03], keys=['S1', 'S3']).reset_index(level=0).rename(columns={'level_0':'SCENARIO'})"
   ]
  },
  {
   "cell_type": "code",
   "execution_count": 131,
   "metadata": {},
   "outputs": [],
   "source": [
    "df_skim_compare.to_csv('skim_compare.csv', index=False)"
   ]
  },
  {
   "cell_type": "code",
   "execution_count": 125,
   "metadata": {
    "collapsed": true
   },
   "outputs": [],
   "source": [
    "import matplotlib.pyplot as plt\n",
    "import seaborn as sns\n",
    "%matplotlib inline"
   ]
  },
  {
   "cell_type": "code",
   "execution_count": 128,
   "metadata": {},
   "outputs": [
    {
     "data": {
      "image/png": "[encoded data removed]",
      "text/plain": [
       "<Figure size 864x576 with 1 Axes>"
      ]
     },
     "metadata": {},
     "output_type": "display_data"
    }
   ],
   "source": [
    "fig, ax = plt.subplots(figsize=(12,8))\n",
    "sns.barplot(x='BIN', y=\"PERCENT\", data=df_skim_compare.loc[df_skim_compare.SCENARIO == 'S1'], ax=ax);"
   ]
  },
  {
   "cell_type": "code",
   "execution_count": 130,
   "metadata": {},
   "outputs": [
    {
     "data": {
      "text/plain": [
       "<matplotlib.axes._subplots.AxesSubplot at 0x20a17515630>"
      ]
     },
     "execution_count": 130,
     "metadata": {},
     "output_type": "execute_result"
    },
    {
     "data": {
      "image/png": "[encoded data removed]",
      "text/plain": [
       "<Figure size 432x288 with 1 Axes>"
      ]
     },
     "metadata": {},
     "output_type": "display_data"
    }
   ],
   "source": [
    "sns.barplot(x='BIN', y=\"PERCENT\", data=df_skim_compare.loc[df_skim_compare.SCENARIO == 'S1',:])"
   ]
  },
  {
   "cell_type": "code",
   "execution_count": null,
   "metadata": {
    "collapsed": true
   },
   "outputs": [],
   "source": []
  }
 ],
 "metadata": {
  "kernelspec": {
   "display_name": "Python 3",
   "language": "python",
   "name": "python3"
  },
  "language_info": {
   "codemirror_mode": {
    "name": "ipython",
    "version": 3
   },
   "file_extension": ".py",
   "mimetype": "text/x-python",
   "name": "python",
   "nbconvert_exporter": "python",
   "pygments_lexer": "ipython3",
   "version": "3.6.3"
  }
 },
 "nbformat": 4,
 "nbformat_minor": 2
}
