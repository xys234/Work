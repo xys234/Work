{
 "cells": [
  {
   "cell_type": "code",
   "execution_count": 46,
   "metadata": {},
   "outputs": [],
   "source": [
    "import numpy as np\n",
    "from numba import njit\n",
    "import time"
   ]
  },
  {
   "cell_type": "code",
   "execution_count": 29,
   "metadata": {},
   "outputs": [
    {
     "data": {
      "text/plain": [
       "array([[0.3, 0.4, 1.2],\n",
       "       [0.7, 0.1, 0.1],\n",
       "       [1.7, 0.6, 0.1]])"
      ]
     },
     "execution_count": 29,
     "metadata": {},
     "output_type": "execute_result"
    }
   ],
   "source": [
    "mat1 = np.array(\n",
    "    [\n",
    "        [0.3, 0.4, 1.2],\n",
    "        [0.7, 0.1, 0.1],\n",
    "        [1.7, 0.6, 0.1],\n",
    "    ]\n",
    "\n",
    ")\n",
    "mat1"
   ]
  },
  {
   "cell_type": "code",
   "execution_count": 75,
   "metadata": {},
   "outputs": [],
   "source": [
    "@njit(cache=True)\n",
    "def bucket_rounding(mat):\n",
    "    if mat.ndim != 2:\n",
    "        raise ValueError(\"Input must be a 2-dimensional numpy array\")\n",
    "\n",
    "    rounded = np.zeros_like(mat, dtype=np.double)\n",
    "\n",
    "    n = mat.shape[0]\n",
    "    for i in range(n):\n",
    "        residual = 0\n",
    "        for j in range(n):\n",
    "            if mat[i, j] != 0:\n",
    "                val = round(mat[i, j] + residual)\n",
    "                residual += mat[i, j] - val\n",
    "                rounded[i, j] = val\n",
    "\n",
    "    total_diff = np.round(rounded.sum() - mat.sum())\n",
    "    if total_diff > 0:\n",
    "        diff = -1\n",
    "    else:\n",
    "        diff = 1\n",
    "    indices = np.argsort(np.diag(rounded))[::-1].astype(np.int16)[:np.abs(total_diff)]\n",
    "    for i in range(indices.shape[0]):\n",
    "        rounded[int(indices[i]), int(indices[i])] += diff\n",
    "    \n",
    "    for i in range(rounded.shape[0]):\n",
    "        for j in range(rounded.shape[1]):\n",
    "            rounded[i, j] = max(0, rounded[i, j])\n",
    "    return rounded.astype(np.int32)"
   ]
  },
  {
   "cell_type": "code",
   "execution_count": 76,
   "metadata": {},
   "outputs": [],
   "source": [
    "def test_bucket_rounding(size, input_matrix=None):\n",
    "    if input_matrix is None:\n",
    "        mat = np.random.random((size,size))\n",
    "    else:\n",
    "        mat = input_matrix\n",
    "    print(\"Test Matrix Shape = {:} * {:}\".format(*mat.shape))\n",
    "    \n",
    "    start_time = time.time()\n",
    "    mat_rounded = bucket_rounding(mat)\n",
    "    end_time = time.time()\n",
    "    execution_time = end_time-start_time\n",
    "    print(\"Execution completed in %.2f seconds\" % execution_time)\n",
    "    \n",
    "    row_diff = np.max(np.abs(mat_rounded.sum(axis=0) - mat.sum(axis=0)))\n",
    "    print(\"Maximum row difference = {:.4f}\".format(row_diff))\n",
    "    \n",
    "    total_before, total_after = mat.sum(), mat_rounded.sum()\n",
    "    total_diff = np.max(total_after - total_before)\n",
    "    print(\"Before rounding = {:.4f}\".format(total_before))\n",
    "    print(\"After rounding  = {:.4f}\".format(total_after))\n",
    "    print(\"Total difference = {:.4f}\".format(total_diff))\n",
    "    return mat_rounded"
   ]
  },
  {
   "cell_type": "code",
   "execution_count": 77,
   "metadata": {},
   "outputs": [
    {
     "name": "stdout",
     "output_type": "stream",
     "text": [
      "Test Matrix Shape = 3 * 3\n",
      "Execution completed in 0.58 seconds\n",
      "Maximum row difference = 0.4000\n",
      "Before rounding = 5.2000\n",
      "After rounding  = 5.0000\n",
      "Total difference = -0.2000\n"
     ]
    },
    {
     "data": {
      "text/plain": [
       "array([[0, 1, 1],\n",
       "       [1, 0, 0],\n",
       "       [2, 0, 0]])"
      ]
     },
     "execution_count": 77,
     "metadata": {},
     "output_type": "execute_result"
    }
   ],
   "source": [
    "mat1_rounded = test_bucket_rounding(3, input_matrix=mat1)\n",
    "mat1_rounded"
   ]
  },
  {
   "cell_type": "code",
   "execution_count": 78,
   "metadata": {},
   "outputs": [
    {
     "name": "stdout",
     "output_type": "stream",
     "text": [
      "Test Matrix Shape = 100 * 100\n",
      "Execution completed in 0.00 seconds\n",
      "Maximum row difference = 8.4641\n",
      "Before rounding = 5000.2931\n",
      "After rounding  = 5000.0000\n",
      "Total difference = -0.2931\n"
     ]
    }
   ],
   "source": [
    "mat2_rounded = test_bucket_rounding(100)"
   ]
  },
  {
   "cell_type": "code",
   "execution_count": 79,
   "metadata": {},
   "outputs": [
    {
     "name": "stdout",
     "output_type": "stream",
     "text": [
      "Test Matrix Shape = 1000 * 1000\n",
      "Execution completed in 0.03 seconds\n",
      "Maximum row difference = 47.8521\n",
      "Before rounding = 500012.7307\n",
      "After rounding  = 500013.0000\n",
      "Total difference = 0.2693\n"
     ]
    }
   ],
   "source": [
    "mat3_rounded = test_bucket_rounding(1000)"
   ]
  },
  {
   "cell_type": "code",
   "execution_count": 80,
   "metadata": {},
   "outputs": [
    {
     "name": "stdout",
     "output_type": "stream",
     "text": [
      "Test Matrix Shape = 5263 * 5263\n",
      "Execution completed in 0.63 seconds\n",
      "Maximum row difference = 114.5581\n",
      "Before rounding = 13849531.9681\n",
      "After rounding  = 13849532.0000\n",
      "Total difference = 0.0319\n"
     ]
    }
   ],
   "source": [
    "mat4_rounded = test_bucket_rounding(5263)"
   ]
  },
  {
   "cell_type": "code",
   "execution_count": null,
   "metadata": {},
   "outputs": [],
   "source": []
  }
 ],
 "metadata": {
  "kernelspec": {
   "display_name": "Python 3",
   "language": "python",
   "name": "python3"
  },
  "language_info": {
   "codemirror_mode": {
    "name": "ipython",
    "version": 3
   },
   "file_extension": ".py",
   "mimetype": "text/x-python",
   "name": "python",
   "nbconvert_exporter": "python",
   "pygments_lexer": "ipython3",
   "version": "3.6.7"
  }
 },
 "nbformat": 4,
 "nbformat_minor": 2
}
