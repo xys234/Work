{
 "cells": [
  {
   "cell_type": "code",
   "execution_count": 2,
   "metadata": {},
   "outputs": [],
   "source": [
    "import numpy as np\n",
    "import pandas as pd\n",
    "import matplotlib.pyplot as plt\n",
    "import seaborn as sns\n",
    "\n",
    "sns.set(style=\"white\", context=\"talk\")\n",
    "\n",
    "%matplotlib inline"
   ]
  },
  {
   "cell_type": "code",
   "execution_count": 105,
   "metadata": {},
   "outputs": [],
   "source": [
    "FILE_LINK_AM = \"../Inputs/Link_AM.csv\"\n",
    "FILE_LINK_PM = \"../Inputs/Link_PM.csv\"\n",
    "FILE_TRAVEL_TIME_AM = \"../Inputs/Link_Travel_Time_AM.csv\"\n",
    "FILE_TRAVEL_TIME_PM = \"../Inputs/Link_Travel_Time_PM.csv\""
   ]
  },
  {
   "cell_type": "code",
   "execution_count": 152,
   "metadata": {},
   "outputs": [],
   "source": [
    "# Analysis parameters\n",
    "AM_LENGTH_SIM = 9\n",
    "PM_LENGTH_SIM = 9\n",
    "AM_LENGTH = 3\n",
    "PM_LENGTH = 4\n",
    "CONGESTION_TTR = 1.5"
   ]
  },
  {
   "cell_type": "code",
   "execution_count": 106,
   "metadata": {},
   "outputs": [],
   "source": [
    "df_link_am = pd.read_csv(FILE_LINK_AM, index_col=False)\n",
    "df_link_pm = pd.read_csv(FILE_LINK_PM, index_col=False)\n",
    "df_tt_am = pd.read_csv(FILE_TRAVEL_TIME_AM, index_col=False)\n",
    "df_tt_pm = pd.read_csv(FILE_TRAVEL_TIME_PM, index_col=False)"
   ]
  },
  {
   "cell_type": "code",
   "execution_count": 107,
   "metadata": {},
   "outputs": [
    {
     "data": {
      "text/plain": [
       "Index(['A_NODE(f0)', 'B_NODE(f0)', 'DISTANCE(f2)', '#STREET(c20)',\n",
       "       '#LENGTH(f0)', '#LTYPE(f0)', '#L_NODE(f0)', '#T_NODE(f0)',\n",
       "       '#R_NODE(f0)', '#O1_NODE(f0)', '#O2_NODE(f0)', '#LANES(f0)',\n",
       "       '#LBAYS(f0)', '#RBAYS(f0)', '#UTURN(f0)', '#SPEED(f0)', '#SPEEDADJ(f0)',\n",
       "       '#SERFLOW(f0)', '#SATFLOW(f0)', '#GRADE(f0)', '#TFMODEL(f0)',\n",
       "       '#GZONE1(f2)', '#GZONE2(f2)', '#GZONE3(f2)', '#GZONE4(f2)',\n",
       "       '#GZONE5(f2)', '#STOP(f0)', '#TOLL(f2)', '#INCIDENT(f2)', '#WZONE(f2)',\n",
       "       '#RMETER(f0)', '#VMS(f0)', '#HOT(f0)', '#VOLUME(f0)', '#TIME(f0)',\n",
       "       '#DELAY(f2)'],\n",
       "      dtype='object')"
      ]
     },
     "execution_count": 107,
     "metadata": {},
     "output_type": "execute_result"
    }
   ],
   "source": [
    "df_link_am.columns"
   ]
  },
  {
   "cell_type": "code",
   "execution_count": 108,
   "metadata": {},
   "outputs": [
    {
     "data": {
      "text/plain": [
       "(45840, 26034)"
      ]
     },
     "execution_count": 108,
     "metadata": {},
     "output_type": "execute_result"
    }
   ],
   "source": [
    "# Number of records; The travel time files do not contain centroid connectors, which were coded in the network\n",
    "df_link_am.shape[0], df_tt_am.shape[0]"
   ]
  },
  {
   "cell_type": "code",
   "execution_count": 109,
   "metadata": {},
   "outputs": [],
   "source": [
    "link_useful_col = [\n",
    "    \n",
    "    'A_NODE(f0)', 'B_NODE(f0)', '#STREET(c20)', \n",
    "    'DISTANCE(f2)', '#LENGTH(f0)', '#LANES(f0)', '#SPEED(f0)', \n",
    "    '#SATFLOW(f0)', '#VOLUME(f0)', '#TIME(f0)', '#DELAY(f2)'\n",
    "    \n",
    "]"
   ]
  },
  {
   "cell_type": "code",
   "execution_count": 110,
   "metadata": {},
   "outputs": [],
   "source": [
    "df_link_am = df_link_am.loc[:,link_useful_col]\n",
    "df_link_pm = df_link_pm.loc[:,['A_NODE(f0)','B_NODE(f0)','#VOLUME(f0)', '#TIME(f0)', '#DELAY(f2)' ]]"
   ]
  },
  {
   "cell_type": "code",
   "execution_count": 111,
   "metadata": {},
   "outputs": [],
   "source": [
    "# Join the columns '#VOLUME(f0)', '#TIME(f0)', '#DELAY(f2)' to AM\n",
    "df_link_perf = pd.merge(df_link_am, df_link_pm, how='left', \n",
    "                        left_on=['A_NODE(f0)', 'B_NODE(f0)'], right_on=['A_NODE(f0)', 'B_NODE(f0)'],\n",
    "                        suffixes=('_AM', '_PM')\n",
    "                       )"
   ]
  },
  {
   "cell_type": "code",
   "execution_count": 112,
   "metadata": {},
   "outputs": [
    {
     "data": {
      "text/html": [
       "<div>\n",
       "<style scoped>\n",
       "    .dataframe tbody tr th:only-of-type {\n",
       "        vertical-align: middle;\n",
       "    }\n",
       "\n",
       "    .dataframe tbody tr th {\n",
       "        vertical-align: top;\n",
       "    }\n",
       "\n",
       "    .dataframe thead th {\n",
       "        text-align: right;\n",
       "    }\n",
       "</style>\n",
       "<table border=\"1\" class=\"dataframe\">\n",
       "  <thead>\n",
       "    <tr style=\"text-align: right;\">\n",
       "      <th></th>\n",
       "      <th>A_NODE(f0)</th>\n",
       "      <th>B_NODE(f0)</th>\n",
       "      <th>DISTANCE(f2)</th>\n",
       "      <th>#LENGTH(f0)</th>\n",
       "      <th>#LANES(f0)</th>\n",
       "      <th>#SPEED(f0)</th>\n",
       "      <th>#SATFLOW(f0)</th>\n",
       "      <th>#VOLUME(f0)_AM</th>\n",
       "      <th>#TIME(f0)_AM</th>\n",
       "      <th>#DELAY(f2)_AM</th>\n",
       "      <th>#VOLUME(f0)_PM</th>\n",
       "      <th>#TIME(f0)_PM</th>\n",
       "      <th>#DELAY(f2)_PM</th>\n",
       "    </tr>\n",
       "  </thead>\n",
       "  <tbody>\n",
       "    <tr>\n",
       "      <th>count</th>\n",
       "      <td>45840.000000</td>\n",
       "      <td>45840.000000</td>\n",
       "      <td>45840.000000</td>\n",
       "      <td>45840.000000</td>\n",
       "      <td>45840.000000</td>\n",
       "      <td>45840.000000</td>\n",
       "      <td>45840.000000</td>\n",
       "      <td>45840.000000</td>\n",
       "      <td>45840.000000</td>\n",
       "      <td>45840.000000</td>\n",
       "      <td>45840.000000</td>\n",
       "      <td>45840.000000</td>\n",
       "      <td>45840.000000</td>\n",
       "    </tr>\n",
       "    <tr>\n",
       "      <th>mean</th>\n",
       "      <td>8833.918150</td>\n",
       "      <td>8836.576920</td>\n",
       "      <td>0.372398</td>\n",
       "      <td>1966.259988</td>\n",
       "      <td>1.571313</td>\n",
       "      <td>29.343652</td>\n",
       "      <td>1817.131326</td>\n",
       "      <td>2999.498320</td>\n",
       "      <td>0.386941</td>\n",
       "      <td>0.028950</td>\n",
       "      <td>3689.767321</td>\n",
       "      <td>0.416538</td>\n",
       "      <td>0.039572</td>\n",
       "    </tr>\n",
       "    <tr>\n",
       "      <th>std</th>\n",
       "      <td>5083.670424</td>\n",
       "      <td>5083.683648</td>\n",
       "      <td>0.331871</td>\n",
       "      <td>1752.278575</td>\n",
       "      <td>0.956285</td>\n",
       "      <td>12.922723</td>\n",
       "      <td>80.984794</td>\n",
       "      <td>6386.859852</td>\n",
       "      <td>0.574983</td>\n",
       "      <td>0.269328</td>\n",
       "      <td>7445.033044</td>\n",
       "      <td>0.620497</td>\n",
       "      <td>0.288448</td>\n",
       "    </tr>\n",
       "    <tr>\n",
       "      <th>min</th>\n",
       "      <td>1.000000</td>\n",
       "      <td>1.000000</td>\n",
       "      <td>0.006978</td>\n",
       "      <td>36.844410</td>\n",
       "      <td>0.000000</td>\n",
       "      <td>0.000000</td>\n",
       "      <td>1800.000000</td>\n",
       "      <td>0.000000</td>\n",
       "      <td>0.000000</td>\n",
       "      <td>-0.539182</td>\n",
       "      <td>0.000000</td>\n",
       "      <td>-0.040149</td>\n",
       "      <td>-0.626904</td>\n",
       "    </tr>\n",
       "    <tr>\n",
       "      <th>25%</th>\n",
       "      <td>4872.000000</td>\n",
       "      <td>4873.000000</td>\n",
       "      <td>0.159883</td>\n",
       "      <td>844.179600</td>\n",
       "      <td>1.000000</td>\n",
       "      <td>20.000000</td>\n",
       "      <td>1800.000000</td>\n",
       "      <td>38.750000</td>\n",
       "      <td>0.000000</td>\n",
       "      <td>-0.010607</td>\n",
       "      <td>50.000000</td>\n",
       "      <td>0.000000</td>\n",
       "      <td>-0.011693</td>\n",
       "    </tr>\n",
       "    <tr>\n",
       "      <th>50%</th>\n",
       "      <td>9002.500000</td>\n",
       "      <td>8995.000000</td>\n",
       "      <td>0.298320</td>\n",
       "      <td>1575.129600</td>\n",
       "      <td>1.000000</td>\n",
       "      <td>32.000000</td>\n",
       "      <td>1800.000000</td>\n",
       "      <td>1031.500000</td>\n",
       "      <td>0.206807</td>\n",
       "      <td>0.000000</td>\n",
       "      <td>1337.000000</td>\n",
       "      <td>0.214655</td>\n",
       "      <td>0.000000</td>\n",
       "    </tr>\n",
       "    <tr>\n",
       "      <th>75%</th>\n",
       "      <td>13285.250000</td>\n",
       "      <td>13288.000000</td>\n",
       "      <td>0.490740</td>\n",
       "      <td>2591.107200</td>\n",
       "      <td>2.000000</td>\n",
       "      <td>36.000000</td>\n",
       "      <td>1800.000000</td>\n",
       "      <td>3299.000000</td>\n",
       "      <td>0.613606</td>\n",
       "      <td>0.000000</td>\n",
       "      <td>4229.000000</td>\n",
       "      <td>0.646520</td>\n",
       "      <td>0.000000</td>\n",
       "    </tr>\n",
       "    <tr>\n",
       "      <th>max</th>\n",
       "      <td>17497.000000</td>\n",
       "      <td>17497.000000</td>\n",
       "      <td>5.274370</td>\n",
       "      <td>27848.673600</td>\n",
       "      <td>7.000000</td>\n",
       "      <td>65.000000</td>\n",
       "      <td>2200.000000</td>\n",
       "      <td>74685.000000</td>\n",
       "      <td>22.405707</td>\n",
       "      <td>21.790951</td>\n",
       "      <td>82406.000000</td>\n",
       "      <td>17.701111</td>\n",
       "      <td>12.436894</td>\n",
       "    </tr>\n",
       "  </tbody>\n",
       "</table>\n",
       "</div>"
      ],
      "text/plain": [
       "         A_NODE(f0)    B_NODE(f0)  DISTANCE(f2)   #LENGTH(f0)    #LANES(f0)  \\\n",
       "count  45840.000000  45840.000000  45840.000000  45840.000000  45840.000000   \n",
       "mean    8833.918150   8836.576920      0.372398   1966.259988      1.571313   \n",
       "std     5083.670424   5083.683648      0.331871   1752.278575      0.956285   \n",
       "min        1.000000      1.000000      0.006978     36.844410      0.000000   \n",
       "25%     4872.000000   4873.000000      0.159883    844.179600      1.000000   \n",
       "50%     9002.500000   8995.000000      0.298320   1575.129600      1.000000   \n",
       "75%    13285.250000  13288.000000      0.490740   2591.107200      2.000000   \n",
       "max    17497.000000  17497.000000      5.274370  27848.673600      7.000000   \n",
       "\n",
       "         #SPEED(f0)  #SATFLOW(f0)  #VOLUME(f0)_AM  #TIME(f0)_AM  \\\n",
       "count  45840.000000  45840.000000    45840.000000  45840.000000   \n",
       "mean      29.343652   1817.131326     2999.498320      0.386941   \n",
       "std       12.922723     80.984794     6386.859852      0.574983   \n",
       "min        0.000000   1800.000000        0.000000      0.000000   \n",
       "25%       20.000000   1800.000000       38.750000      0.000000   \n",
       "50%       32.000000   1800.000000     1031.500000      0.206807   \n",
       "75%       36.000000   1800.000000     3299.000000      0.613606   \n",
       "max       65.000000   2200.000000    74685.000000     22.405707   \n",
       "\n",
       "       #DELAY(f2)_AM  #VOLUME(f0)_PM  #TIME(f0)_PM  #DELAY(f2)_PM  \n",
       "count   45840.000000    45840.000000  45840.000000   45840.000000  \n",
       "mean        0.028950     3689.767321      0.416538       0.039572  \n",
       "std         0.269328     7445.033044      0.620497       0.288448  \n",
       "min        -0.539182        0.000000     -0.040149      -0.626904  \n",
       "25%        -0.010607       50.000000      0.000000      -0.011693  \n",
       "50%         0.000000     1337.000000      0.214655       0.000000  \n",
       "75%         0.000000     4229.000000      0.646520       0.000000  \n",
       "max        21.790951    82406.000000     17.701111      12.436894  "
      ]
     },
     "execution_count": 112,
     "metadata": {},
     "output_type": "execute_result"
    }
   ],
   "source": [
    "df_link_perf.describe()"
   ]
  },
  {
   "cell_type": "code",
   "execution_count": 113,
   "metadata": {},
   "outputs": [],
   "source": [
    "# Clean up the link travel time data\n",
    "df_tt_am = df_tt_am.iloc[:, :-1]  \n",
    "df_tt_am = pd.melt(df_tt_am, id_vars=[\"Link\",\"Anode\",\"Bnode\",\"Dist\",\"Lanes\"], var_name=\"Period\", value_name=\"Travel_Time\")\n",
    "\n",
    "df_tt_pm = df_tt_pm.iloc[:, :-1]  \n",
    "df_tt_pm = pd.melt(df_tt_pm, id_vars=[\"Link\",\"Anode\",\"Bnode\",\"Dist\",\"Lanes\"], var_name=\"Period\", value_name=\"Travel_Time\")"
   ]
  },
  {
   "cell_type": "code",
   "execution_count": 140,
   "metadata": {},
   "outputs": [],
   "source": [
    "# Remove the links not in the travel time data. They were not used in the Dynus-T model\n",
    "df_tt_am = df_tt_am.set_index([\"Anode\",\"Bnode\"])\n",
    "df_tt_pm = df_tt_pm.set_index([\"Anode\",\"Bnode\"])\n",
    "df_link_perf = df_link_perf.set_index(['A_NODE(f0)', 'B_NODE(f0)'])\n",
    "df_link_perf = df_link_perf.loc[df_link_perf.index.isin(df_tt_am.index),df_link_perf.columns]"
   ]
  },
  {
   "cell_type": "markdown",
   "metadata": {},
   "source": [
    "### KPI-1 Travel time index during peak periods"
   ]
  },
  {
   "cell_type": "code",
   "execution_count": 115,
   "metadata": {},
   "outputs": [],
   "source": [
    "# Compute FF_Time based on link attributes: #LENGTH(f0) and #SPEED(f0), Assume a minimum speed of 25 mph \n",
    "df_link_perf.loc[:,'FF_Time'] = np.where(df_link_perf.loc[:,'#SPEED(f0)']>0, \n",
    "                                           df_link_perf.loc[:,'DISTANCE(f2)'] / df_link_perf.loc[:,'#SPEED(f0)'] * 60,\n",
    "                                                df_link_perf.loc[:,'DISTANCE(f2)'] / 25 * 60                                  \n",
    "                                           ) "
   ]
  },
  {
   "cell_type": "code",
   "execution_count": 123,
   "metadata": {},
   "outputs": [],
   "source": [
    "# Clip the delay to zero and travel times to Free-flow travel times\n",
    "df_link_perf.loc[:,'#DELAY(f2)_AM'] = np.clip(df_link_perf.loc[:,'#DELAY(f2)_AM'].values, 0, None)\n",
    "df_link_perf.loc[:,'#DELAY(f2)_PM'] = np.clip(df_link_perf.loc[:,'#DELAY(f2)_PM'].values, 0, None)\n",
    "\n",
    "df_link_perf.loc[:,'#TIME(f0)_AM'] = np.clip(df_link_perf.loc[:,'#TIME(f0)_AM'].values, df_link_perf.loc[:,'FF_Time'].values, None)\n",
    "df_link_perf.loc[:,'#TIME(f0)_PM'] = np.clip(df_link_perf.loc[:,'#TIME(f0)_PM'].values, df_link_perf.loc[:,'FF_Time'].values, None)\n"
   ]
  },
  {
   "cell_type": "code",
   "execution_count": 124,
   "metadata": {},
   "outputs": [
    {
     "data": {
      "text/html": [
       "<div>\n",
       "<style scoped>\n",
       "    .dataframe tbody tr th:only-of-type {\n",
       "        vertical-align: middle;\n",
       "    }\n",
       "\n",
       "    .dataframe tbody tr th {\n",
       "        vertical-align: top;\n",
       "    }\n",
       "\n",
       "    .dataframe thead th {\n",
       "        text-align: right;\n",
       "    }\n",
       "</style>\n",
       "<table border=\"1\" class=\"dataframe\">\n",
       "  <thead>\n",
       "    <tr style=\"text-align: right;\">\n",
       "      <th></th>\n",
       "      <th>#TIME(f0)_AM</th>\n",
       "      <th>#TIME(f0)_AM</th>\n",
       "      <th>FF_Time</th>\n",
       "    </tr>\n",
       "  </thead>\n",
       "  <tbody>\n",
       "    <tr>\n",
       "      <th>count</th>\n",
       "      <td>26034.000000</td>\n",
       "      <td>26034.000000</td>\n",
       "      <td>26034.000000</td>\n",
       "    </tr>\n",
       "    <tr>\n",
       "      <th>mean</th>\n",
       "      <td>0.723366</td>\n",
       "      <td>0.723366</td>\n",
       "      <td>0.557477</td>\n",
       "    </tr>\n",
       "    <tr>\n",
       "      <th>std</th>\n",
       "      <td>0.636966</td>\n",
       "      <td>0.636966</td>\n",
       "      <td>0.443660</td>\n",
       "    </tr>\n",
       "    <tr>\n",
       "      <th>min</th>\n",
       "      <td>0.039523</td>\n",
       "      <td>0.039523</td>\n",
       "      <td>0.011760</td>\n",
       "    </tr>\n",
       "    <tr>\n",
       "      <th>25%</th>\n",
       "      <td>0.352157</td>\n",
       "      <td>0.352157</td>\n",
       "      <td>0.260634</td>\n",
       "    </tr>\n",
       "    <tr>\n",
       "      <th>50%</th>\n",
       "      <td>0.584570</td>\n",
       "      <td>0.584570</td>\n",
       "      <td>0.452183</td>\n",
       "    </tr>\n",
       "    <tr>\n",
       "      <th>75%</th>\n",
       "      <td>0.921142</td>\n",
       "      <td>0.921142</td>\n",
       "      <td>0.728967</td>\n",
       "    </tr>\n",
       "    <tr>\n",
       "      <th>max</th>\n",
       "      <td>22.405707</td>\n",
       "      <td>22.405707</td>\n",
       "      <td>7.032493</td>\n",
       "    </tr>\n",
       "  </tbody>\n",
       "</table>\n",
       "</div>"
      ],
      "text/plain": [
       "       #TIME(f0)_AM  #TIME(f0)_AM       FF_Time\n",
       "count  26034.000000  26034.000000  26034.000000\n",
       "mean       0.723366      0.723366      0.557477\n",
       "std        0.636966      0.636966      0.443660\n",
       "min        0.039523      0.039523      0.011760\n",
       "25%        0.352157      0.352157      0.260634\n",
       "50%        0.584570      0.584570      0.452183\n",
       "75%        0.921142      0.921142      0.728967\n",
       "max       22.405707     22.405707      7.032493"
      ]
     },
     "execution_count": 124,
     "metadata": {},
     "output_type": "execute_result"
    }
   ],
   "source": [
    "df_link_perf.loc[:,['#TIME(f0)_AM','#TIME(f0)_AM', 'FF_Time']].describe()"
   ]
  },
  {
   "cell_type": "code",
   "execution_count": 126,
   "metadata": {},
   "outputs": [],
   "source": [
    "df_link_perf.loc[:,'AM_TTR'] = df_link_perf.loc[:,'#TIME(f0)_AM'] / df_link_perf.loc[:,'FF_Time']\n",
    "df_link_perf.loc[:,'PM_TTR'] = df_link_perf.loc[:,'#TIME(f0)_PM'] / df_link_perf.loc[:,'FF_Time']"
   ]
  },
  {
   "cell_type": "code",
   "execution_count": 127,
   "metadata": {},
   "outputs": [
    {
     "data": {
      "image/png": "[encoded data removed]",
      "text/plain": [
       "<Figure size 864x576 with 2 Axes>"
      ]
     },
     "metadata": {},
     "output_type": "display_data"
    }
   ],
   "source": [
    "fig, ax = plt.subplots(ncols=2, figsize=(12,8))\n",
    "sns.distplot(df_link_perf.AM_TTR, bins=20, color='b', ax=ax[0]);\n",
    "sns.distplot(df_link_perf.PM_TTR, bins=20, color='r', ax=ax[1]);"
   ]
  },
  {
   "cell_type": "code",
   "execution_count": 130,
   "metadata": {},
   "outputs": [
    {
     "data": {
      "text/html": [
       "<div>\n",
       "<style scoped>\n",
       "    .dataframe tbody tr th:only-of-type {\n",
       "        vertical-align: middle;\n",
       "    }\n",
       "\n",
       "    .dataframe tbody tr th {\n",
       "        vertical-align: top;\n",
       "    }\n",
       "\n",
       "    .dataframe thead th {\n",
       "        text-align: right;\n",
       "    }\n",
       "</style>\n",
       "<table border=\"1\" class=\"dataframe\">\n",
       "  <thead>\n",
       "    <tr style=\"text-align: right;\">\n",
       "      <th></th>\n",
       "      <th>AM_TTR</th>\n",
       "      <th>PM_TTR</th>\n",
       "    </tr>\n",
       "  </thead>\n",
       "  <tbody>\n",
       "    <tr>\n",
       "      <th>count</th>\n",
       "      <td>26034.000000</td>\n",
       "      <td>26034.000000</td>\n",
       "    </tr>\n",
       "    <tr>\n",
       "      <th>mean</th>\n",
       "      <td>1.465310</td>\n",
       "      <td>1.588402</td>\n",
       "    </tr>\n",
       "    <tr>\n",
       "      <th>std</th>\n",
       "      <td>1.452681</td>\n",
       "      <td>1.884755</td>\n",
       "    </tr>\n",
       "    <tr>\n",
       "      <th>min</th>\n",
       "      <td>1.000000</td>\n",
       "      <td>1.000000</td>\n",
       "    </tr>\n",
       "    <tr>\n",
       "      <th>25%</th>\n",
       "      <td>1.032376</td>\n",
       "      <td>1.052239</td>\n",
       "    </tr>\n",
       "    <tr>\n",
       "      <th>50%</th>\n",
       "      <td>1.185170</td>\n",
       "      <td>1.231651</td>\n",
       "    </tr>\n",
       "    <tr>\n",
       "      <th>75%</th>\n",
       "      <td>1.437127</td>\n",
       "      <td>1.554988</td>\n",
       "    </tr>\n",
       "    <tr>\n",
       "      <th>max</th>\n",
       "      <td>95.375752</td>\n",
       "      <td>102.944419</td>\n",
       "    </tr>\n",
       "  </tbody>\n",
       "</table>\n",
       "</div>"
      ],
      "text/plain": [
       "             AM_TTR        PM_TTR\n",
       "count  26034.000000  26034.000000\n",
       "mean       1.465310      1.588402\n",
       "std        1.452681      1.884755\n",
       "min        1.000000      1.000000\n",
       "25%        1.032376      1.052239\n",
       "50%        1.185170      1.231651\n",
       "75%        1.437127      1.554988\n",
       "max       95.375752    102.944419"
      ]
     },
     "execution_count": 130,
     "metadata": {},
     "output_type": "execute_result"
    }
   ],
   "source": [
    "df_link_perf.loc[:, ['AM_TTR','PM_TTR']].describe()"
   ]
  },
  {
   "cell_type": "markdown",
   "metadata": {},
   "source": [
    "### KPI-2 Failing LOS Index\n",
    "Based on V/C ratio computed as: Total Volume / (Service_Rate x Lanes x Period_Length)"
   ]
  },
  {
   "cell_type": "code",
   "execution_count": 132,
   "metadata": {},
   "outputs": [],
   "source": [
    "df_link_perf.loc[:,'AM_VC'] = df_link_perf.loc[:,'#VOLUME(f0)_AM'] / (df_link_perf.loc[:,'#SATFLOW(f0)'] * df_link_perf.loc[:,'#LANES(f0)'] * AM_LENGTH_SIM)\n",
    "df_link_perf.loc[:,'PM_VC'] = df_link_perf.loc[:,'#VOLUME(f0)_PM'] / (df_link_perf.loc[:,'#SATFLOW(f0)'] * df_link_perf.loc[:,'#LANES(f0)'] * PM_LENGTH_SIM)"
   ]
  },
  {
   "cell_type": "code",
   "execution_count": 135,
   "metadata": {},
   "outputs": [
    {
     "data": {
      "text/plain": [
       "(0, 6)"
      ]
     },
     "execution_count": 135,
     "metadata": {},
     "output_type": "execute_result"
    },
    {
     "data": {
      "image/png": "[encoded data removed]",
      "text/plain": [
       "<Figure size 864x576 with 2 Axes>"
      ]
     },
     "metadata": {},
     "output_type": "display_data"
    }
   ],
   "source": [
    "fig, ax = plt.subplots(ncols=2, figsize=(12,8))\n",
    "sns.distplot(df_link_perf.AM_VC, bins=20, color='b', ax=ax[0]);\n",
    "sns.distplot(df_link_perf.PM_VC, bins=20, color='r', ax=ax[1]);\n",
    "ax[0].set_ylim((0,6))\n",
    "ax[1].set_ylim((0,6))"
   ]
  },
  {
   "cell_type": "code",
   "execution_count": 136,
   "metadata": {},
   "outputs": [
    {
     "data": {
      "text/html": [
       "<div>\n",
       "<style scoped>\n",
       "    .dataframe tbody tr th:only-of-type {\n",
       "        vertical-align: middle;\n",
       "    }\n",
       "\n",
       "    .dataframe tbody tr th {\n",
       "        vertical-align: top;\n",
       "    }\n",
       "\n",
       "    .dataframe thead th {\n",
       "        text-align: right;\n",
       "    }\n",
       "</style>\n",
       "<table border=\"1\" class=\"dataframe\">\n",
       "  <thead>\n",
       "    <tr style=\"text-align: right;\">\n",
       "      <th></th>\n",
       "      <th>AM_VC</th>\n",
       "      <th>PM_VC</th>\n",
       "    </tr>\n",
       "  </thead>\n",
       "  <tbody>\n",
       "    <tr>\n",
       "      <th>count</th>\n",
       "      <td>26034.000000</td>\n",
       "      <td>26034.000000</td>\n",
       "    </tr>\n",
       "    <tr>\n",
       "      <th>mean</th>\n",
       "      <td>0.134078</td>\n",
       "      <td>0.166789</td>\n",
       "    </tr>\n",
       "    <tr>\n",
       "      <th>std</th>\n",
       "      <td>0.124565</td>\n",
       "      <td>0.144851</td>\n",
       "    </tr>\n",
       "    <tr>\n",
       "      <th>min</th>\n",
       "      <td>0.000000</td>\n",
       "      <td>0.000000</td>\n",
       "    </tr>\n",
       "    <tr>\n",
       "      <th>25%</th>\n",
       "      <td>0.050943</td>\n",
       "      <td>0.066883</td>\n",
       "    </tr>\n",
       "    <tr>\n",
       "      <th>50%</th>\n",
       "      <td>0.099506</td>\n",
       "      <td>0.128148</td>\n",
       "    </tr>\n",
       "    <tr>\n",
       "      <th>75%</th>\n",
       "      <td>0.173063</td>\n",
       "      <td>0.218951</td>\n",
       "    </tr>\n",
       "    <tr>\n",
       "      <th>max</th>\n",
       "      <td>1.032531</td>\n",
       "      <td>1.108025</td>\n",
       "    </tr>\n",
       "  </tbody>\n",
       "</table>\n",
       "</div>"
      ],
      "text/plain": [
       "              AM_VC         PM_VC\n",
       "count  26034.000000  26034.000000\n",
       "mean       0.134078      0.166789\n",
       "std        0.124565      0.144851\n",
       "min        0.000000      0.000000\n",
       "25%        0.050943      0.066883\n",
       "50%        0.099506      0.128148\n",
       "75%        0.173063      0.218951\n",
       "max        1.032531      1.108025"
      ]
     },
     "execution_count": 136,
     "metadata": {},
     "output_type": "execute_result"
    }
   ],
   "source": [
    "df_link_perf.loc[:, ['AM_VC','PM_VC']].describe()"
   ]
  },
  {
   "cell_type": "markdown",
   "metadata": {},
   "source": [
    "### KPI-3: Peak Congestion Index"
   ]
  },
  {
   "cell_type": "code",
   "execution_count": 137,
   "metadata": {},
   "outputs": [],
   "source": [
    "# Overall maximum VC\n",
    "df_link_perf.loc[:,'PEAK_VC'] = df_link_perf.loc[:,['AM_VC','PM_VC']].max(axis=1)"
   ]
  },
  {
   "cell_type": "code",
   "execution_count": 138,
   "metadata": {},
   "outputs": [
    {
     "data": {
      "text/html": [
       "<div>\n",
       "<style scoped>\n",
       "    .dataframe tbody tr th:only-of-type {\n",
       "        vertical-align: middle;\n",
       "    }\n",
       "\n",
       "    .dataframe tbody tr th {\n",
       "        vertical-align: top;\n",
       "    }\n",
       "\n",
       "    .dataframe thead th {\n",
       "        text-align: right;\n",
       "    }\n",
       "</style>\n",
       "<table border=\"1\" class=\"dataframe\">\n",
       "  <thead>\n",
       "    <tr style=\"text-align: right;\">\n",
       "      <th></th>\n",
       "      <th>AM_VC</th>\n",
       "      <th>PM_VC</th>\n",
       "      <th>PEAK_VC</th>\n",
       "    </tr>\n",
       "  </thead>\n",
       "  <tbody>\n",
       "    <tr>\n",
       "      <th>count</th>\n",
       "      <td>26034.000000</td>\n",
       "      <td>26034.000000</td>\n",
       "      <td>26034.000000</td>\n",
       "    </tr>\n",
       "    <tr>\n",
       "      <th>mean</th>\n",
       "      <td>0.134078</td>\n",
       "      <td>0.166789</td>\n",
       "      <td>0.166885</td>\n",
       "    </tr>\n",
       "    <tr>\n",
       "      <th>std</th>\n",
       "      <td>0.124565</td>\n",
       "      <td>0.144851</td>\n",
       "      <td>0.145083</td>\n",
       "    </tr>\n",
       "    <tr>\n",
       "      <th>min</th>\n",
       "      <td>0.000000</td>\n",
       "      <td>0.000000</td>\n",
       "      <td>0.000000</td>\n",
       "    </tr>\n",
       "    <tr>\n",
       "      <th>25%</th>\n",
       "      <td>0.050943</td>\n",
       "      <td>0.066883</td>\n",
       "      <td>0.066883</td>\n",
       "    </tr>\n",
       "    <tr>\n",
       "      <th>50%</th>\n",
       "      <td>0.099506</td>\n",
       "      <td>0.128148</td>\n",
       "      <td>0.128148</td>\n",
       "    </tr>\n",
       "    <tr>\n",
       "      <th>75%</th>\n",
       "      <td>0.173063</td>\n",
       "      <td>0.218951</td>\n",
       "      <td>0.218988</td>\n",
       "    </tr>\n",
       "    <tr>\n",
       "      <th>max</th>\n",
       "      <td>1.032531</td>\n",
       "      <td>1.108025</td>\n",
       "      <td>1.108025</td>\n",
       "    </tr>\n",
       "  </tbody>\n",
       "</table>\n",
       "</div>"
      ],
      "text/plain": [
       "              AM_VC         PM_VC       PEAK_VC\n",
       "count  26034.000000  26034.000000  26034.000000\n",
       "mean       0.134078      0.166789      0.166885\n",
       "std        0.124565      0.144851      0.145083\n",
       "min        0.000000      0.000000      0.000000\n",
       "25%        0.050943      0.066883      0.066883\n",
       "50%        0.099506      0.128148      0.128148\n",
       "75%        0.173063      0.218951      0.218988\n",
       "max        1.032531      1.108025      1.108025"
      ]
     },
     "execution_count": 138,
     "metadata": {},
     "output_type": "execute_result"
    }
   ],
   "source": [
    "df_link_perf.loc[:, ['AM_VC','PM_VC', 'PEAK_VC']].describe()"
   ]
  },
  {
   "cell_type": "code",
   "execution_count": 168,
   "metadata": {},
   "outputs": [],
   "source": [
    "def get_los(vc):\n",
    "    if vc >= 0.0 and vc <= 0.4:\n",
    "        return 'A'\n",
    "    elif vc > 0.4 and vc <= 0.6:\n",
    "        return 'B'\n",
    "    elif vc > 0.6 and vc <= 0.8:\n",
    "        return 'C'\n",
    "    elif vc > 0.8 and vc <= 0.9:\n",
    "        return 'D'\n",
    "    elif vc > 1.0 and vc <= 1.1:\n",
    "        return 'E'\n",
    "    else:\n",
    "        return 'F'"
   ]
  },
  {
   "cell_type": "code",
   "execution_count": 169,
   "metadata": {},
   "outputs": [],
   "source": [
    "df_link_perf.loc[:,'LOS'] = df_link_perf.loc[:,'PEAK_VC'].apply(get_los)"
   ]
  },
  {
   "cell_type": "code",
   "execution_count": 171,
   "metadata": {},
   "outputs": [
    {
     "data": {
      "text/plain": [
       "A    24084\n",
       "B     1340\n",
       "C      510\n",
       "D       71\n",
       "E        6\n",
       "F       23\n",
       "Name: LOS, dtype: int64"
      ]
     },
     "execution_count": 171,
     "metadata": {},
     "output_type": "execute_result"
    }
   ],
   "source": [
    "df_link_perf.LOS.value_counts().sort_index()"
   ]
  },
  {
   "cell_type": "markdown",
   "metadata": {},
   "source": [
    "### KPI-4 Congestion Duration"
   ]
  },
  {
   "cell_type": "code",
   "execution_count": 146,
   "metadata": {},
   "outputs": [
    {
     "data": {
      "text/html": [
       "<div>\n",
       "<style scoped>\n",
       "    .dataframe tbody tr th:only-of-type {\n",
       "        vertical-align: middle;\n",
       "    }\n",
       "\n",
       "    .dataframe tbody tr th {\n",
       "        vertical-align: top;\n",
       "    }\n",
       "\n",
       "    .dataframe thead th {\n",
       "        text-align: right;\n",
       "    }\n",
       "</style>\n",
       "<table border=\"1\" class=\"dataframe\">\n",
       "  <thead>\n",
       "    <tr style=\"text-align: right;\">\n",
       "      <th></th>\n",
       "      <th></th>\n",
       "      <th>FF_Time</th>\n",
       "    </tr>\n",
       "    <tr>\n",
       "      <th>Anode</th>\n",
       "      <th>Bnode</th>\n",
       "      <th></th>\n",
       "    </tr>\n",
       "  </thead>\n",
       "  <tbody>\n",
       "    <tr>\n",
       "      <th>9683</th>\n",
       "      <th>3417</th>\n",
       "      <td>0.592717</td>\n",
       "    </tr>\n",
       "    <tr>\n",
       "      <th>9929</th>\n",
       "      <th>3418</th>\n",
       "      <td>2.405904</td>\n",
       "    </tr>\n",
       "    <tr>\n",
       "      <th>9931</th>\n",
       "      <th>3419</th>\n",
       "      <td>5.014640</td>\n",
       "    </tr>\n",
       "    <tr>\n",
       "      <th>10238</th>\n",
       "      <th>3420</th>\n",
       "      <td>1.496800</td>\n",
       "    </tr>\n",
       "    <tr>\n",
       "      <th>9837</th>\n",
       "      <th>3421</th>\n",
       "      <td>1.425636</td>\n",
       "    </tr>\n",
       "  </tbody>\n",
       "</table>\n",
       "</div>"
      ],
      "text/plain": [
       "              FF_Time\n",
       "Anode Bnode          \n",
       "9683  3417   0.592717\n",
       "9929  3418   2.405904\n",
       "9931  3419   5.014640\n",
       "10238 3420   1.496800\n",
       "9837  3421   1.425636"
      ]
     },
     "execution_count": 146,
     "metadata": {},
     "output_type": "execute_result"
    }
   ],
   "source": [
    "# join the speed from link data\n",
    "link_fft = df_link_perf.loc[:,['FF_Time']]\n",
    "link_fft.index.levels[0].name = \"Anode\"\n",
    "link_fft.index.levels[1].name = \"Bnode\"\n",
    "link_fft.head()"
   ]
  },
  {
   "cell_type": "code",
   "execution_count": 147,
   "metadata": {},
   "outputs": [],
   "source": [
    "df_tt_am = pd.merge(left=df_tt_am, right=link_fft, how='left', left_index=True, right_index=True).reset_index()\n",
    "df_tt_pm = pd.merge(left=df_tt_pm, right=link_fft, how='left', left_index=True, right_index=True).reset_index()"
   ]
  },
  {
   "cell_type": "code",
   "execution_count": 150,
   "metadata": {},
   "outputs": [
    {
     "data": {
      "text/html": [
       "<div>\n",
       "<style scoped>\n",
       "    .dataframe tbody tr th:only-of-type {\n",
       "        vertical-align: middle;\n",
       "    }\n",
       "\n",
       "    .dataframe tbody tr th {\n",
       "        vertical-align: top;\n",
       "    }\n",
       "\n",
       "    .dataframe thead th {\n",
       "        text-align: right;\n",
       "    }\n",
       "</style>\n",
       "<table border=\"1\" class=\"dataframe\">\n",
       "  <thead>\n",
       "    <tr style=\"text-align: right;\">\n",
       "      <th></th>\n",
       "      <th>Anode</th>\n",
       "      <th>Bnode</th>\n",
       "      <th>Link</th>\n",
       "      <th>Dist</th>\n",
       "      <th>Lanes</th>\n",
       "      <th>Period</th>\n",
       "      <th>Travel_Time</th>\n",
       "      <th>FF_Time</th>\n",
       "    </tr>\n",
       "  </thead>\n",
       "  <tbody>\n",
       "    <tr>\n",
       "      <th>0</th>\n",
       "      <td>3417</td>\n",
       "      <td>9364</td>\n",
       "      <td>9116</td>\n",
       "      <td>0.304</td>\n",
       "      <td>1</td>\n",
       "      <td>1</td>\n",
       "      <td>0.46</td>\n",
       "      <td>0.357765</td>\n",
       "    </tr>\n",
       "    <tr>\n",
       "      <th>1</th>\n",
       "      <td>3417</td>\n",
       "      <td>9364</td>\n",
       "      <td>9116</td>\n",
       "      <td>0.304</td>\n",
       "      <td>1</td>\n",
       "      <td>2</td>\n",
       "      <td>0.46</td>\n",
       "      <td>0.357765</td>\n",
       "    </tr>\n",
       "    <tr>\n",
       "      <th>2</th>\n",
       "      <td>3417</td>\n",
       "      <td>9364</td>\n",
       "      <td>9116</td>\n",
       "      <td>0.304</td>\n",
       "      <td>1</td>\n",
       "      <td>3</td>\n",
       "      <td>0.46</td>\n",
       "      <td>0.357765</td>\n",
       "    </tr>\n",
       "    <tr>\n",
       "      <th>3</th>\n",
       "      <td>3417</td>\n",
       "      <td>9364</td>\n",
       "      <td>9116</td>\n",
       "      <td>0.304</td>\n",
       "      <td>1</td>\n",
       "      <td>4</td>\n",
       "      <td>0.46</td>\n",
       "      <td>0.357765</td>\n",
       "    </tr>\n",
       "    <tr>\n",
       "      <th>4</th>\n",
       "      <td>3417</td>\n",
       "      <td>9364</td>\n",
       "      <td>9116</td>\n",
       "      <td>0.304</td>\n",
       "      <td>1</td>\n",
       "      <td>5</td>\n",
       "      <td>0.46</td>\n",
       "      <td>0.357765</td>\n",
       "    </tr>\n",
       "  </tbody>\n",
       "</table>\n",
       "</div>"
      ],
      "text/plain": [
       "   Anode  Bnode  Link   Dist  Lanes Period  Travel_Time   FF_Time\n",
       "0   3417   9364  9116  0.304      1      1         0.46  0.357765\n",
       "1   3417   9364  9116  0.304      1      2         0.46  0.357765\n",
       "2   3417   9364  9116  0.304      1      3         0.46  0.357765\n",
       "3   3417   9364  9116  0.304      1      4         0.46  0.357765\n",
       "4   3417   9364  9116  0.304      1      5         0.46  0.357765"
      ]
     },
     "execution_count": 150,
     "metadata": {},
     "output_type": "execute_result"
    }
   ],
   "source": [
    "df_tt_am.head()"
   ]
  },
  {
   "cell_type": "code",
   "execution_count": 151,
   "metadata": {},
   "outputs": [
    {
     "data": {
      "text/html": [
       "<div>\n",
       "<style scoped>\n",
       "    .dataframe tbody tr th:only-of-type {\n",
       "        vertical-align: middle;\n",
       "    }\n",
       "\n",
       "    .dataframe tbody tr th {\n",
       "        vertical-align: top;\n",
       "    }\n",
       "\n",
       "    .dataframe thead th {\n",
       "        text-align: right;\n",
       "    }\n",
       "</style>\n",
       "<table border=\"1\" class=\"dataframe\">\n",
       "  <thead>\n",
       "    <tr style=\"text-align: right;\">\n",
       "      <th></th>\n",
       "      <th>Anode</th>\n",
       "      <th>Bnode</th>\n",
       "      <th>Link</th>\n",
       "      <th>Dist</th>\n",
       "      <th>Lanes</th>\n",
       "      <th>Period</th>\n",
       "      <th>Travel_Time</th>\n",
       "      <th>FF_Time</th>\n",
       "      <th>TTR</th>\n",
       "    </tr>\n",
       "  </thead>\n",
       "  <tbody>\n",
       "    <tr>\n",
       "      <th>0</th>\n",
       "      <td>3417</td>\n",
       "      <td>9364</td>\n",
       "      <td>9116</td>\n",
       "      <td>0.304</td>\n",
       "      <td>1</td>\n",
       "      <td>1</td>\n",
       "      <td>0.46</td>\n",
       "      <td>0.357765</td>\n",
       "      <td>1.285761</td>\n",
       "    </tr>\n",
       "    <tr>\n",
       "      <th>1</th>\n",
       "      <td>3417</td>\n",
       "      <td>9364</td>\n",
       "      <td>9116</td>\n",
       "      <td>0.304</td>\n",
       "      <td>1</td>\n",
       "      <td>2</td>\n",
       "      <td>0.46</td>\n",
       "      <td>0.357765</td>\n",
       "      <td>1.285761</td>\n",
       "    </tr>\n",
       "    <tr>\n",
       "      <th>2</th>\n",
       "      <td>3417</td>\n",
       "      <td>9364</td>\n",
       "      <td>9116</td>\n",
       "      <td>0.304</td>\n",
       "      <td>1</td>\n",
       "      <td>3</td>\n",
       "      <td>0.46</td>\n",
       "      <td>0.357765</td>\n",
       "      <td>1.285761</td>\n",
       "    </tr>\n",
       "    <tr>\n",
       "      <th>3</th>\n",
       "      <td>3417</td>\n",
       "      <td>9364</td>\n",
       "      <td>9116</td>\n",
       "      <td>0.304</td>\n",
       "      <td>1</td>\n",
       "      <td>4</td>\n",
       "      <td>0.46</td>\n",
       "      <td>0.357765</td>\n",
       "      <td>1.285761</td>\n",
       "    </tr>\n",
       "    <tr>\n",
       "      <th>4</th>\n",
       "      <td>3417</td>\n",
       "      <td>9364</td>\n",
       "      <td>9116</td>\n",
       "      <td>0.304</td>\n",
       "      <td>1</td>\n",
       "      <td>5</td>\n",
       "      <td>0.46</td>\n",
       "      <td>0.357765</td>\n",
       "      <td>1.285761</td>\n",
       "    </tr>\n",
       "  </tbody>\n",
       "</table>\n",
       "</div>"
      ],
      "text/plain": [
       "   Anode  Bnode  Link   Dist  Lanes Period  Travel_Time   FF_Time       TTR\n",
       "0   3417   9364  9116  0.304      1      1         0.46  0.357765  1.285761\n",
       "1   3417   9364  9116  0.304      1      2         0.46  0.357765  1.285761\n",
       "2   3417   9364  9116  0.304      1      3         0.46  0.357765  1.285761\n",
       "3   3417   9364  9116  0.304      1      4         0.46  0.357765  1.285761\n",
       "4   3417   9364  9116  0.304      1      5         0.46  0.357765  1.285761"
      ]
     },
     "execution_count": 151,
     "metadata": {},
     "output_type": "execute_result"
    }
   ],
   "source": [
    "df_tt_am['TTR'] = df_tt_am['Travel_Time'] / df_tt_am['FF_Time']\n",
    "df_tt_pm['TTR'] = df_tt_pm['Travel_Time'] / df_tt_pm['FF_Time']\n",
    "df_tt_am.head()"
   ]
  },
  {
   "cell_type": "code",
   "execution_count": 153,
   "metadata": {},
   "outputs": [],
   "source": [
    "def count_congested_periods(df, threshold, column='TTR'):\n",
    "    return np.sum(df.loc[:,column] > threshold)"
   ]
  },
  {
   "cell_type": "code",
   "execution_count": 157,
   "metadata": {},
   "outputs": [],
   "source": [
    "# df_cong_dur_am = df_tt_am.groupby([\"Anode\", \"Bnode\"]).apply(count_congested_periods, 1.5).reset_index()\n",
    "# df_cong_dur_am =df_cong_dur_am.rename(columns={0:'Count_AM'})\n",
    "\n",
    "df_cong_dur_pm = df_tt_pm.groupby([\"Anode\", \"Bnode\"]).apply(count_congested_periods, 1.5).reset_index()\n",
    "df_cong_dur_pm =df_cong_dur_pm.rename(columns={0:'Count_PM'})"
   ]
  },
  {
   "cell_type": "code",
   "execution_count": 158,
   "metadata": {},
   "outputs": [],
   "source": [
    "df_cong_dur = pd.merge(df_cong_dur_am, df_cong_dur_pm, how='left', left_on=[\"Anode\", \"Bnode\"], right_on=[\"Anode\", \"Bnode\"])"
   ]
  },
  {
   "cell_type": "code",
   "execution_count": 163,
   "metadata": {},
   "outputs": [],
   "source": [
    "df_cong_dur.loc[:,'Count'] = (df_cong_dur.Count_AM / AM_LENGTH_SIM * AM_LENGTH + df_cong_dur.Count_PM / PM_LENGTH_SIM * PM_LENGTH)/ (AM_LENGTH+PM_LENGTH) "
   ]
  },
  {
   "cell_type": "code",
   "execution_count": 164,
   "metadata": {},
   "outputs": [
    {
     "data": {
      "text/html": [
       "<div>\n",
       "<style scoped>\n",
       "    .dataframe tbody tr th:only-of-type {\n",
       "        vertical-align: middle;\n",
       "    }\n",
       "\n",
       "    .dataframe tbody tr th {\n",
       "        vertical-align: top;\n",
       "    }\n",
       "\n",
       "    .dataframe thead th {\n",
       "        text-align: right;\n",
       "    }\n",
       "</style>\n",
       "<table border=\"1\" class=\"dataframe\">\n",
       "  <thead>\n",
       "    <tr style=\"text-align: right;\">\n",
       "      <th></th>\n",
       "      <th>Anode</th>\n",
       "      <th>Bnode</th>\n",
       "      <th>Count_AM</th>\n",
       "      <th>Count_PM</th>\n",
       "      <th>Count</th>\n",
       "    </tr>\n",
       "  </thead>\n",
       "  <tbody>\n",
       "    <tr>\n",
       "      <th>count</th>\n",
       "      <td>26034.000000</td>\n",
       "      <td>26034.000000</td>\n",
       "      <td>26034.000000</td>\n",
       "      <td>26034.000000</td>\n",
       "      <td>26034.000000</td>\n",
       "    </tr>\n",
       "    <tr>\n",
       "      <th>mean</th>\n",
       "      <td>10686.158716</td>\n",
       "      <td>10690.840209</td>\n",
       "      <td>1.744603</td>\n",
       "      <td>2.304832</td>\n",
       "      <td>0.229415</td>\n",
       "    </tr>\n",
       "    <tr>\n",
       "      <th>std</th>\n",
       "      <td>3703.591514</td>\n",
       "      <td>3701.280079</td>\n",
       "      <td>2.909926</td>\n",
       "      <td>3.287892</td>\n",
       "      <td>0.341631</td>\n",
       "    </tr>\n",
       "    <tr>\n",
       "      <th>min</th>\n",
       "      <td>3417.000000</td>\n",
       "      <td>3417.000000</td>\n",
       "      <td>0.000000</td>\n",
       "      <td>0.000000</td>\n",
       "      <td>0.000000</td>\n",
       "    </tr>\n",
       "    <tr>\n",
       "      <th>25%</th>\n",
       "      <td>7265.000000</td>\n",
       "      <td>7284.250000</td>\n",
       "      <td>0.000000</td>\n",
       "      <td>0.000000</td>\n",
       "      <td>0.000000</td>\n",
       "    </tr>\n",
       "    <tr>\n",
       "      <th>50%</th>\n",
       "      <td>10695.000000</td>\n",
       "      <td>10705.500000</td>\n",
       "      <td>0.000000</td>\n",
       "      <td>0.000000</td>\n",
       "      <td>0.000000</td>\n",
       "    </tr>\n",
       "    <tr>\n",
       "      <th>75%</th>\n",
       "      <td>13662.750000</td>\n",
       "      <td>13668.000000</td>\n",
       "      <td>3.000000</td>\n",
       "      <td>5.000000</td>\n",
       "      <td>0.428571</td>\n",
       "    </tr>\n",
       "    <tr>\n",
       "      <th>max</th>\n",
       "      <td>17497.000000</td>\n",
       "      <td>17497.000000</td>\n",
       "      <td>9.000000</td>\n",
       "      <td>9.000000</td>\n",
       "      <td>1.000000</td>\n",
       "    </tr>\n",
       "  </tbody>\n",
       "</table>\n",
       "</div>"
      ],
      "text/plain": [
       "              Anode         Bnode      Count_AM      Count_PM         Count\n",
       "count  26034.000000  26034.000000  26034.000000  26034.000000  26034.000000\n",
       "mean   10686.158716  10690.840209      1.744603      2.304832      0.229415\n",
       "std     3703.591514   3701.280079      2.909926      3.287892      0.341631\n",
       "min     3417.000000   3417.000000      0.000000      0.000000      0.000000\n",
       "25%     7265.000000   7284.250000      0.000000      0.000000      0.000000\n",
       "50%    10695.000000  10705.500000      0.000000      0.000000      0.000000\n",
       "75%    13662.750000  13668.000000      3.000000      5.000000      0.428571\n",
       "max    17497.000000  17497.000000      9.000000      9.000000      1.000000"
      ]
     },
     "execution_count": 164,
     "metadata": {},
     "output_type": "execute_result"
    }
   ],
   "source": [
    "df_cong_dur.describe()"
   ]
  },
  {
   "cell_type": "markdown",
   "metadata": {},
   "source": [
    "### Write the outputs"
   ]
  },
  {
   "cell_type": "code",
   "execution_count": 173,
   "metadata": {},
   "outputs": [],
   "source": [
    "df_link_perf.to_csv('../Outputs/link_performance.csv', index=False)\n",
    "df_cong_dur.to_csv('../Outputs/congestion_duration.csv', index=False)"
   ]
  },
  {
   "cell_type": "code",
   "execution_count": null,
   "metadata": {},
   "outputs": [],
   "source": []
  }
 ],
 "metadata": {
  "kernelspec": {
   "display_name": "Python 3",
   "language": "python",
   "name": "python3"
  },
  "language_info": {
   "codemirror_mode": {
    "name": "ipython",
    "version": 3
   },
   "file_extension": ".py",
   "mimetype": "text/x-python",
   "name": "python",
   "nbconvert_exporter": "python",
   "pygments_lexer": "ipython3",
   "version": "3.6.5"
  }
 },
 "nbformat": 4,
 "nbformat_minor": 2
}
