{
 "cells": [
  {
   "cell_type": "code",
   "execution_count": 4,
   "metadata": {
    "collapsed": true
   },
   "outputs": [],
   "source": [
    "import googlemaps\n",
    "from datetime import datetime\n",
    "import time\n",
    "import calendar\n",
    "import csv"
   ]
  },
  {
   "cell_type": "code",
   "execution_count": 5,
   "metadata": {
    "collapsed": true
   },
   "outputs": [],
   "source": [
    "gmaps = googlemaps.Client(key='')"
   ]
  },
  {
   "cell_type": "code",
   "execution_count": 6,
   "metadata": {
    "collapsed": true
   },
   "outputs": [],
   "source": [
    "# Specifies the desired time of departure. \n",
    "# As an integer in seconds since midnight, January 1, 1970 UTC.\n",
    "times_str = ['May 12 8:00:00 2019']\n",
    "times = [time.strptime(t, '%b %d %H:%M:%S %Y') for t in times_str] \n",
    "times_utc = [calendar.timegm(t) for t in times]\n",
    "departure_time = times_utc[0]"
   ]
  },
  {
   "cell_type": "code",
   "execution_count": 8,
   "metadata": {},
   "outputs": [
    {
     "data": {
      "text/plain": [
       "[(38.798461, -76.937486), (38.860533, -76.883026), (38.797746, -76.970517)]"
      ]
     },
     "execution_count": 8,
     "metadata": {},
     "output_type": "execute_result"
    }
   ],
   "source": [
    "# read in the zone centroids as destinations\n",
    "zones = []\n",
    "with open(r\"../data/origins.csv\", 'r') as csvfile:\n",
    "    reader = csv.reader(csvfile, delimiter=',')\n",
    "    i = 0\n",
    "    for row in reader:\n",
    "        if (i>0):\n",
    "            zones.append((float(row[1]), float(row[2]))) # id, long, lat\n",
    "        i += 1\n",
    "zones"
   ]
  },
  {
   "cell_type": "code",
   "execution_count": 17,
   "metadata": {},
   "outputs": [
    {
     "data": {
      "text/plain": [
       "['4704 Old Soper Road, Suitland, MD 20746',\n",
       " '4704 Old Soper Road, Suitland, MD 20746',\n",
       " '4704 Old Soper Road, Suitland, MD 20746']"
      ]
     },
     "execution_count": 17,
     "metadata": {},
     "output_type": "execute_result"
    }
   ],
   "source": [
    "# Destination\n",
    "addresses = [\n",
    "    '4704 Old Soper Road, Suitland, MD 20746'\n",
    "] * len(zones)\n",
    "addresses"
   ]
  },
  {
   "cell_type": "markdown",
   "metadata": {},
   "source": [
    "### Direction API"
   ]
  },
  {
   "cell_type": "code",
   "execution_count": 20,
   "metadata": {
    "collapsed": true
   },
   "outputs": [],
   "source": [
    "def parse_directions_result(directions_result):\n",
    "    '''\n",
    "    parse the returned json to get distance, duration_in_traffic, start_address, end_address, summary (main road)\n",
    "    \n",
    "    '''\n",
    "    \n",
    "    if directions_result:\n",
    "        \n",
    "        distance = round(directions_result[0]['legs'][0]['distance']['value']/1600.0, 1)      # value field always in meters\n",
    "        travel_time = round(directions_result[0]['legs'][0]['duration_in_traffic']['value']/60.0, 2) # always in seconds\n",
    "        \n",
    "        return distance, travel_time, \\\n",
    "               directions_result[0]['legs'][0]['start_address'],  directions_result[0]['legs'][0]['end_address'], \\\n",
    "               directions_result[0]['summary']\n",
    "    else:\n",
    "        return -1, -1, None, None, None\n",
    "    "
   ]
  },
  {
   "cell_type": "code",
   "execution_count": 21,
   "metadata": {
    "collapsed": true
   },
   "outputs": [],
   "source": [
    "def batch_processing(gmaps, origins, destinations, departure_time=None, batch_size=50, delay=60, verbose=10):\n",
    "    \"\"\"\n",
    "    batch process the direction requests.\n",
    "    \n",
    "    :param gmaps:  a gmap client \n",
    "    :type  gmaps:  a gmap client\n",
    "    \n",
    "    :param origins:  a list of origins in lat/long tuples or text addresses\n",
    "    :type  origins:  list\n",
    "    \n",
    "    :param destinations:  a list of destinations in lat/long tuples or text addresses\n",
    "    :type  destinations:  list\n",
    "    \n",
    "    :param departure_time:  departure time in utc\n",
    "    :type  departure_time:  int\n",
    "    \n",
    "    :param delay:  wait time in seconds for batch_size requests\n",
    "    :type  delay:  int\n",
    "\n",
    "    :param verbose:  print a status message for every \"verbose\" requests \n",
    "    :type  verbose:  int\n",
    "    \n",
    "    \"\"\"\n",
    "    \n",
    "    if len(origins) != len(destinations):\n",
    "        raise Exception('Number of origins and destinations must be the same.')\n",
    "    batch_size = min(batch_size, len(origins))\n",
    "    \n",
    "    if departure_time is None:\n",
    "        departure_time = datetime.utcnow()\n",
    "    \n",
    "    results = []\n",
    "    for i, (o, d) in enumerate(zip(origins, destinations)):\n",
    "        if i > 0 and i % batch_size == 0:\n",
    "            print('Waiting {0:d} seconds before continuing.'.format(delay))\n",
    "            time.sleep(delay)\n",
    "            \n",
    "        if i % verbose == 0 or i == len(origins) - 1:\n",
    "            print(\"Processing OD pair {0:d}\".format(i+1))\n",
    "        direction = gmaps.directions(o, d, mode=\"driving\", departure_time=departure_time) \n",
    "        distance, duration_in_traffic, start_address, end_address, summary = parse_directions_result(direction)\n",
    "        results.append((distance, duration_in_traffic, start_address, end_address, summary))\n",
    "    return results"
   ]
  },
  {
   "cell_type": "code",
   "execution_count": 22,
   "metadata": {},
   "outputs": [
    {
     "name": "stdout",
     "output_type": "stream",
     "text": [
      "Processing OD pair 1\n",
      "Processing OD pair 3\n"
     ]
    }
   ],
   "source": [
    "# test the current departure time\n",
    "results_depart_now = batch_processing(gmaps, zones, addresses)"
   ]
  },
  {
   "cell_type": "code",
   "execution_count": 23,
   "metadata": {},
   "outputs": [
    {
     "data": {
      "text/plain": [
       "[(4.1,\n",
       "  10.43,\n",
       "  '4100 Farmer Pl, Fort Washington, MD 20744, USA',\n",
       "  '4704 Old Soper Rd, Suitland, MD 20746, USA',\n",
       "  'Middleton Ln'),\n",
       " (6.2,\n",
       "  13.9,\n",
       "  '7131 Halleck St, District Heights, MD 20747, USA',\n",
       "  '4704 Old Soper Rd, Suitland, MD 20746, USA',\n",
       "  'I-495 S/I-95 S'),\n",
       " (6.0,\n",
       "  11.13,\n",
       "  '2211 Jerome Dr, Fort Washington, MD 20744, USA',\n",
       "  '4704 Old Soper Rd, Suitland, MD 20746, USA',\n",
       "  'I-495 N/I-95 N')]"
      ]
     },
     "execution_count": 23,
     "metadata": {},
     "output_type": "execute_result"
    }
   ],
   "source": [
    "results_depart_now"
   ]
  },
  {
   "cell_type": "code",
   "execution_count": 25,
   "metadata": {},
   "outputs": [
    {
     "name": "stdout",
     "output_type": "stream",
     "text": [
      "Processing OD pair 1\n",
      "Processing OD pair 3\n"
     ]
    },
    {
     "data": {
      "text/plain": [
       "[(4.1,\n",
       "  10.05,\n",
       "  '4100 Farmer Pl, Fort Washington, MD 20744, USA',\n",
       "  '4704 Old Soper Rd, Suitland, MD 20746, USA',\n",
       "  'Middleton Ln'),\n",
       " (6.2,\n",
       "  13.0,\n",
       "  '7131 Halleck St, District Heights, MD 20747, USA',\n",
       "  '4704 Old Soper Rd, Suitland, MD 20746, USA',\n",
       "  'I-495 S/I-95 S'),\n",
       " (6.0,\n",
       "  11.27,\n",
       "  '2211 Jerome Dr, Fort Washington, MD 20744, USA',\n",
       "  '4704 Old Soper Rd, Suitland, MD 20746, USA',\n",
       "  'I-495 N/I-95 N')]"
      ]
     },
     "execution_count": 25,
     "metadata": {},
     "output_type": "execute_result"
    }
   ],
   "source": [
    "results_depart_future = batch_processing(gmaps, zones, addresses, departure_time=departure_time)\n",
    "results_depart_future"
   ]
  },
  {
   "cell_type": "code",
   "execution_count": 113,
   "metadata": {},
   "outputs": [
    {
     "name": "stdout",
     "output_type": "stream",
     "text": [
      "Processing OD pair 1\n",
      "Waiting 2 seconds.\n",
      "Waiting 2 seconds.\n",
      "Processing OD pair 11\n",
      "Waiting 2 seconds.\n",
      "Processing OD pair 20\n"
     ]
    },
    {
     "data": {
      "text/plain": [
       "[]"
      ]
     },
     "execution_count": 113,
     "metadata": {},
     "output_type": "execute_result"
    }
   ],
   "source": [
    "# test the delay, need to comment out the API call\n",
    "a, b = range(20), range(20)\n",
    "batch_processing(gmaps, a, b, batch_size=5, delay=2)"
   ]
  },
  {
   "cell_type": "code",
   "execution_count": 27,
   "metadata": {},
   "outputs": [],
   "source": [
    "with open(r'..\\data\\Travel_times.csv', 'w', newline='') as csvfile:\n",
    "    writer = csv.writer(csvfile, delimiter=',')\n",
    "    writer.writerow([\"OD\", \"Distance\", \"Time\", \"Start_Address\", \"End_Address\", \"Main Leg\"])\n",
    "    for i, d in enumerate(results_depart_future):\n",
    "        writer.writerow([i, *d])"
   ]
  },
  {
   "cell_type": "code",
   "execution_count": null,
   "metadata": {
    "collapsed": true
   },
   "outputs": [],
   "source": []
  },
  {
   "cell_type": "code",
   "execution_count": null,
   "metadata": {
    "collapsed": true
   },
   "outputs": [],
   "source": []
  },
  {
   "cell_type": "code",
   "execution_count": null,
   "metadata": {
    "collapsed": true
   },
   "outputs": [],
   "source": []
  },
  {
   "cell_type": "code",
   "execution_count": null,
   "metadata": {
    "collapsed": true
   },
   "outputs": [],
   "source": []
  },
  {
   "cell_type": "code",
   "execution_count": null,
   "metadata": {
    "collapsed": true
   },
   "outputs": [],
   "source": []
  }
 ],
 "metadata": {
  "kernelspec": {
   "display_name": "Python 3",
   "language": "python",
   "name": "python3"
  },
  "language_info": {
   "codemirror_mode": {
    "name": "ipython",
    "version": 3
   },
   "file_extension": ".py",
   "mimetype": "text/x-python",
   "name": "python",
   "nbconvert_exporter": "python",
   "pygments_lexer": "ipython3",
   "version": "3.6.3"
  }
 },
 "nbformat": 4,
 "nbformat_minor": 2
}
