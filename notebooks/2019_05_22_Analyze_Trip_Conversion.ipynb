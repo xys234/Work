{
 "cells": [
  {
   "cell_type": "markdown",
   "metadata": {},
   "source": [
    "Analyze trip files converted from OMX matrices\n",
    "1. Are trips sorted by departure time?\n",
    "2. How does the temporal distribution look?\n",
    "3. What are the distribution by mode, purpose, VoT?"
   ]
  },
  {
   "cell_type": "code",
   "execution_count": 7,
   "metadata": {},
   "outputs": [],
   "source": [
    "import numpy as np\n",
    "import pandas as pd\n",
    "import h5py\n",
    "import os\n",
    "from tqdm import tqdm_notebook as tqdm\n",
    "\n",
    "import matplotlib.pyplot as plt\n",
    "import seaborn as sns\n",
    "%matplotlib inline\n",
    "\n",
    "pd.set_option('display.float_format', lambda x: '%.3f' % x)"
   ]
  },
  {
   "cell_type": "markdown",
   "metadata": {},
   "source": [
    "### Summarize OMX Trip Tables"
   ]
  },
  {
   "cell_type": "code",
   "execution_count": 8,
   "metadata": {
    "collapsed": true
   },
   "outputs": [],
   "source": [
    "# matrix_folder = r'C:\\Projects\\SWIFT\\SWIFT_Workspace\\Scenarios\\Scenario_S4_Full\\STM\\STM_D\\Outputs_SWIFT'\n",
    "matrix_folder = r'C:\\Projects\\SWIFT\\SWIFT_Workspace\\Scenarios\\Scenario_S12\\STM\\STM_D'\n",
    "matrices_am = [\"OD AM3HR Vehicles4DynusT EV\", \"OD AM3HR Vehicles4DynusT NonEV\"]\n",
    "matrices_md = [\"OD MD6HR Vehicles4DynusT EV\", \"OD MD6HR Vehicles4DynusT NonEV\"]\n",
    "matrices_pm = [\"OD PM4HR Vehicles4DynusT EV\", \"OD PM4HR Vehicles4DynusT NonEV\"]\n",
    "matrices_ov = [\"OD OV8HR Vehicles4DynusT EV\", \"OD OV8HR Vehicles4DynusT NonEV\"]\n",
    "matrices = matrices_am + matrices_md + matrices_pm + matrices_ov\n",
    "matrix_files = [os.path.join(matrix_folder, m+'.omx') for m in matrices]"
   ]
  },
  {
   "cell_type": "code",
   "execution_count": 9,
   "metadata": {
    "collapsed": true
   },
   "outputs": [],
   "source": [
    "vots = {\n",
    "        \"wi1da\": 9.6, \"wi2da\": 15.04, \"wi3da\": 20.48, \"wi4da\": 27.52, \"wi5da\": 37.12,\n",
    "        \"wi12a2\": 21.56, \"wi3a2\": 35.84, \"wi45a2\": 56.56,\n",
    "        \"wi12a3\": 30.8, \"wi3a3\": 51.2, \"wi45a3\": 80.8,\n",
    "        \"nwi12da\": 7.03, \"nwi3da\": 13.44, \"nwi45da\": 23.65,\n",
    "        \"nwi12a2\": 12.3, \"nwi3a2\": 23.52, \"nwi45a2\": 41.39,\n",
    "        \"nwi12a3\": 17.57, \"nwi3a3\": 33.6, \"nwi45a3\": 59.12,\n",
    "        \"Cargo\": 64.0, \"Serv\": 40.0, \"taxi_exta\": 18.94, \"TNC\": 18.94\n",
    "    }\n",
    "\n",
    "map_purp = {\n",
    "    1: \"WK\", \n",
    "    2: \"NW\", \n",
    "    3: \"Taxi\",\n",
    "    4: \"TNC\",\n",
    "    5: \"Service\",\n",
    "    6: \"Cargo\",\n",
    "    \n",
    "    10: \"WK\", \n",
    "    20: \"NW\", \n",
    "    30: \"Taxi\",\n",
    "    40: \"TNC\",\n",
    "    50: \"Service\",\n",
    "    60: \"Cargo\"\n",
    "    \n",
    "}\n"
   ]
  },
  {
   "cell_type": "code",
   "execution_count": 10,
   "metadata": {
    "collapsed": true
   },
   "outputs": [],
   "source": [
    "def parse_matrix_table(matrix_file_name, matrix_name, vots):\n",
    "    \"\"\"\n",
    "    Parse the matrix name \"amnhoai45\" for vehicle type, value of time, period, and purpose\n",
    "    :param matrix_name:\n",
    "    :type str\n",
    "    :param vots:        a dict for vots\n",
    "    :return: a tuple, vehicle_type, occupancy, purpose, value_of_time, period\n",
    "    \"\"\"\n",
    "\n",
    "    matrix_name = matrix_name.lower()\n",
    "\n",
    "    vtype = occ = purp = vot = 0\n",
    "    time_period = (0, 0)\n",
    "    period = ''\n",
    "\n",
    "    cav, ev = False, False\n",
    "\n",
    "    if matrix_name.lower().find(\"da\") >= 0:\n",
    "        if matrix_name.lower().find(\"cav\") >= 0:\n",
    "            vtype = 5\n",
    "            occ = 0\n",
    "            cav = True\n",
    "        elif matrix_name.lower().find(\"reg\") >= 0:\n",
    "            vtype = 1\n",
    "            occ = 0\n",
    "            cav = False\n",
    "\n",
    "    elif matrix_name.lower().find(\"s2\") >= 0 or matrix_name.find(\"a2\") >= 0:\n",
    "        if matrix_name.lower().find(\"cav\") >= 0:\n",
    "            vtype = 6\n",
    "            occ = 1\n",
    "            cav = True\n",
    "        elif matrix_name.lower().find(\"reg\") >= 0:\n",
    "            vtype = 2\n",
    "            occ = 1\n",
    "            cav = False\n",
    "    elif matrix_name.lower().find(\"s3\") >= 0 or matrix_name.find(\"a3\") >= 0:\n",
    "        if matrix_name.lower().find(\"cav\") >= 0:\n",
    "            vtype = 6\n",
    "            occ = 1\n",
    "            cav = True\n",
    "        elif matrix_name.lower().find(\"reg\") >= 0:\n",
    "            vtype = 2\n",
    "            occ = 1\n",
    "            cav = False\n",
    "    elif matrix_name.lower().find(\"cargo\") >= 0:\n",
    "        if matrix_name.lower().find(\"cav\") >= 0:\n",
    "            vtype = 8\n",
    "            occ = 2\n",
    "            cav = True\n",
    "        else:\n",
    "            vtype = 4\n",
    "            occ = 2\n",
    "            cav = False\n",
    "    elif matrix_name.lower().find(\"serv\") >= 0:\n",
    "        if matrix_name.lower().find(\"cav\") >= 0:\n",
    "            vtype = 7\n",
    "            occ = 2\n",
    "            cav = True\n",
    "        else:\n",
    "            vtype = 3\n",
    "            occ = 2\n",
    "            cav = False\n",
    "    elif matrix_name.lower().find(\"taxi\") >= 0:\n",
    "        vtype = 2\n",
    "        occ = 1\n",
    "    elif matrix_name.lower().find(\"exta\") >= 0:\n",
    "        vtype = 2\n",
    "        occ = 0\n",
    "    elif matrix_name.lower().find(\"tnc\") >= 0:\n",
    "        vtype = 9\n",
    "        occ = 1\n",
    "\n",
    "    if matrix_name.find(\"_w\") >= 0:\n",
    "        if matrix_file_name.lower().find(\"dynust nonev\") >= 0:\n",
    "            purp = 1\n",
    "        else:\n",
    "            purp = 10\n",
    "            ev = True\n",
    "    elif matrix_name.find(\"_nw\") >= 0:\n",
    "        if matrix_file_name.lower().find(\"dynust nonev\") >= 0:\n",
    "            purp = 2\n",
    "        else:\n",
    "            purp = 20\n",
    "            ev = True\n",
    "    elif matrix_name.lower().find(\"taxi\") >= 0:\n",
    "        if matrix_file_name.lower().find(\"dynust nonev\") >= 0:\n",
    "            purp = 3\n",
    "        else:\n",
    "            purp = 30\n",
    "            ev = True\n",
    "    elif matrix_name.lower().find(\"tnc\") >= 0:\n",
    "        if matrix_file_name.lower().find(\"dynust nonev\") >= 0:\n",
    "            purp = 4\n",
    "        else:\n",
    "            purp = 40\n",
    "            ev = True\n",
    "    elif matrix_name.lower().find(\"serv\") >= 0:\n",
    "        if matrix_file_name.lower().find(\"dynust nonev\") >= 0:\n",
    "            purp = 5\n",
    "        else:\n",
    "            purp = 50\n",
    "            ev = True\n",
    "    elif matrix_name.lower().find(\"cargo\") >= 0:\n",
    "        if matrix_file_name.lower().find(\"dynust nonev\") >= 0:\n",
    "            purp = 6\n",
    "        else:\n",
    "            purp = 60\n",
    "            ev = True\n",
    "\n",
    "    # Time periods\n",
    "    if matrix_file_name.lower().find(\"am\") >= 0:\n",
    "        period = 'am'\n",
    "        time_period = '6..9'\n",
    "    elif matrix_file_name.lower().find(\"md\") >= 0:\n",
    "        period = 'md'\n",
    "        time_period = '9..15'\n",
    "    elif matrix_file_name.lower().find(\"pm\") >= 0:\n",
    "        period = 'pm'\n",
    "        time_period = '15..19'\n",
    "    else:\n",
    "        period = 'ov'\n",
    "        time_period = '0..6, 19..24'\n",
    "\n",
    "    for key in vots.keys():\n",
    "        if matrix_name.find(key) >= 0:\n",
    "            vot = vots[key]\n",
    "            break\n",
    "\n",
    "    return dict(vtype=vtype, occ=occ, purp=purp, vot=vot, time_period=time_period, period=period, cav=cav, ev=ev)"
   ]
  },
  {
   "cell_type": "code",
   "execution_count": 11,
   "metadata": {
    "collapsed": true
   },
   "outputs": [],
   "source": [
    "def summarize_trip_tables(matrix_files, vots):\n",
    "    summary_records = []\n",
    "    for m in matrix_files:\n",
    "#         print('Processing Matrix File {:s}'.format(m))\n",
    "        h5 = h5py.File(m, 'r')\n",
    "        tables = h5['/data/'].keys()\n",
    "        for table in tqdm(tables, desc=os.path.split(m)[1].split('.')[0]):\n",
    "            if table.find('all') >= 0:\n",
    "                continue\n",
    "            info = parse_matrix_table(m, table, vots)\n",
    "            vtype = info['vtype']\n",
    "            occ = info['occ']\n",
    "            purp = info['purp']\n",
    "            vot = info['vot']\n",
    "            period = info['period']\n",
    "            cav = info['cav']\n",
    "            ev = info['ev']\n",
    "            \n",
    "            if cav:\n",
    "                cav = 'CAV'\n",
    "            else:\n",
    "                cav = 'REG'\n",
    "            \n",
    "            if ev:\n",
    "                ev = 'EV'\n",
    "            else:\n",
    "                ev = 'NonEV'\n",
    "            \n",
    "            od = h5['/data/' + table][:]\n",
    "            trips = od.sum()\n",
    "            summary_records.append((table.lower(), period, purp, vot, vtype, occ, cav, ev, trips))\n",
    "    \n",
    "    return pd.DataFrame(data=summary_records, columns=['table', 'period', 'purp', 'vot', 'vtype', 'occ', 'cav', 'ev', 'trips'])\n",
    "    "
   ]
  },
  {
   "cell_type": "code",
   "execution_count": 12,
   "metadata": {},
   "outputs": [
    {
     "data": {
      "application/vnd.jupyter.widget-view+json": {
       "model_id": "07b442d54f634bb4bb697319e821512d",
       "version_major": 2,
       "version_minor": 0
      },
      "text/plain": [
       "A Jupyter Widget"
      ]
     },
     "metadata": {},
     "output_type": "display_data"
    },
    {
     "data": {
      "application/vnd.jupyter.widget-view+json": {
       "model_id": "85972ec6c9814687bbc23cebce18886e",
       "version_major": 2,
       "version_minor": 0
      },
      "text/plain": [
       "A Jupyter Widget"
      ]
     },
     "metadata": {},
     "output_type": "display_data"
    },
    {
     "data": {
      "application/vnd.jupyter.widget-view+json": {
       "model_id": "af6b82b597ae45f5ac082598cdb946eb",
       "version_major": 2,
       "version_minor": 0
      },
      "text/plain": [
       "A Jupyter Widget"
      ]
     },
     "metadata": {},
     "output_type": "display_data"
    },
    {
     "data": {
      "application/vnd.jupyter.widget-view+json": {
       "model_id": "0cd0ebd527b741f897588e6ab7c7ee11",
       "version_major": 2,
       "version_minor": 0
      },
      "text/plain": [
       "A Jupyter Widget"
      ]
     },
     "metadata": {},
     "output_type": "display_data"
    },
    {
     "data": {
      "application/vnd.jupyter.widget-view+json": {
       "model_id": "38f52b9466d5416680b73f505e7ee8f8",
       "version_major": 2,
       "version_minor": 0
      },
      "text/plain": [
       "A Jupyter Widget"
      ]
     },
     "metadata": {},
     "output_type": "display_data"
    },
    {
     "data": {
      "application/vnd.jupyter.widget-view+json": {
       "model_id": "d0e64ed6fb33401d9fe2a02e3ccbdfd2",
       "version_major": 2,
       "version_minor": 0
      },
      "text/plain": [
       "A Jupyter Widget"
      ]
     },
     "metadata": {},
     "output_type": "display_data"
    },
    {
     "data": {
      "application/vnd.jupyter.widget-view+json": {
       "model_id": "85a4d58f9553497eaa4719c793a466e2",
       "version_major": 2,
       "version_minor": 0
      },
      "text/plain": [
       "A Jupyter Widget"
      ]
     },
     "metadata": {},
     "output_type": "display_data"
    },
    {
     "data": {
      "application/vnd.jupyter.widget-view+json": {
       "model_id": "c6aec7fc69de4c658f99918682628e78",
       "version_major": 2,
       "version_minor": 0
      },
      "text/plain": [
       "A Jupyter Widget"
      ]
     },
     "metadata": {},
     "output_type": "display_data"
    }
   ],
   "source": [
    "summary_omx = summarize_trip_tables(matrix_files, vots)"
   ]
  },
  {
   "cell_type": "code",
   "execution_count": 13,
   "metadata": {
    "collapsed": true
   },
   "outputs": [],
   "source": [
    "summary_omx['purp'] = summary_omx.purp.map(map_purp)"
   ]
  },
  {
   "cell_type": "code",
   "execution_count": 14,
   "metadata": {},
   "outputs": [
    {
     "data": {
      "text/html": [
       "<div>\n",
       "<style scoped>\n",
       "    .dataframe tbody tr th:only-of-type {\n",
       "        vertical-align: middle;\n",
       "    }\n",
       "\n",
       "    .dataframe tbody tr th {\n",
       "        vertical-align: top;\n",
       "    }\n",
       "\n",
       "    .dataframe thead th {\n",
       "        text-align: right;\n",
       "    }\n",
       "</style>\n",
       "<table border=\"1\" class=\"dataframe\">\n",
       "  <thead>\n",
       "    <tr style=\"text-align: right;\">\n",
       "      <th></th>\n",
       "      <th>period</th>\n",
       "      <th>purp</th>\n",
       "      <th>vtype</th>\n",
       "      <th>occ</th>\n",
       "      <th>cav</th>\n",
       "      <th>ev</th>\n",
       "      <th>trips</th>\n",
       "    </tr>\n",
       "  </thead>\n",
       "  <tbody>\n",
       "    <tr>\n",
       "      <th>0</th>\n",
       "      <td>am</td>\n",
       "      <td>Cargo</td>\n",
       "      <td>4</td>\n",
       "      <td>2</td>\n",
       "      <td>REG</td>\n",
       "      <td>EV</td>\n",
       "      <td>3894.141</td>\n",
       "    </tr>\n",
       "    <tr>\n",
       "      <th>1</th>\n",
       "      <td>am</td>\n",
       "      <td>Cargo</td>\n",
       "      <td>4</td>\n",
       "      <td>2</td>\n",
       "      <td>REG</td>\n",
       "      <td>NonEV</td>\n",
       "      <td>24339.711</td>\n",
       "    </tr>\n",
       "    <tr>\n",
       "      <th>2</th>\n",
       "      <td>am</td>\n",
       "      <td>NW</td>\n",
       "      <td>1</td>\n",
       "      <td>0</td>\n",
       "      <td>REG</td>\n",
       "      <td>EV</td>\n",
       "      <td>144982.867</td>\n",
       "    </tr>\n",
       "    <tr>\n",
       "      <th>3</th>\n",
       "      <td>am</td>\n",
       "      <td>NW</td>\n",
       "      <td>1</td>\n",
       "      <td>0</td>\n",
       "      <td>REG</td>\n",
       "      <td>NonEV</td>\n",
       "      <td>49629.123</td>\n",
       "    </tr>\n",
       "    <tr>\n",
       "      <th>4</th>\n",
       "      <td>am</td>\n",
       "      <td>NW</td>\n",
       "      <td>2</td>\n",
       "      <td>1</td>\n",
       "      <td>REG</td>\n",
       "      <td>EV</td>\n",
       "      <td>45616.976</td>\n",
       "    </tr>\n",
       "  </tbody>\n",
       "</table>\n",
       "</div>"
      ],
      "text/plain": [
       "  period   purp  vtype  occ  cav     ev      trips\n",
       "0     am  Cargo      4    2  REG     EV   3894.141\n",
       "1     am  Cargo      4    2  REG  NonEV  24339.711\n",
       "2     am     NW      1    0  REG     EV 144982.867\n",
       "3     am     NW      1    0  REG  NonEV  49629.123\n",
       "4     am     NW      2    1  REG     EV  45616.976"
      ]
     },
     "execution_count": 14,
     "metadata": {},
     "output_type": "execute_result"
    }
   ],
   "source": [
    "summary_omx_gb = summary_omx.groupby(['period', 'purp', 'vtype', 'occ', 'cav', 'ev'], as_index=False)['trips'].sum()\n",
    "summary_omx_gb.head()"
   ]
  },
  {
   "cell_type": "markdown",
   "metadata": {},
   "source": [
    "#### Facet View"
   ]
  },
  {
   "cell_type": "code",
   "execution_count": 15,
   "metadata": {},
   "outputs": [
    {
     "data": {
      "image/png": "[encoded data removed]",
      "text/plain": [
       "<Figure size 1568.88x504 with 8 Axes>"
      ]
     },
     "metadata": {},
     "output_type": "display_data"
    }
   ],
   "source": [
    "summary_omx_gb_plot = summary_omx_gb.groupby(['period', 'purp', 'cav', 'ev'], as_index=False)['trips'].sum()\n",
    "g = sns.catplot(x=\"purp\", y=\"trips\", hue=\"cav\", row='ev', col=\"period\", kind='bar', col_order=['am','md','pm','ov'], \n",
    "                data=summary_omx_gb_plot, height=3.5, aspect=1.5, order=summary_omx_gb_plot.purp.unique(), \n",
    "           palette=sns.color_palette(\"muted\", n_colors=2), hue_order=summary_omx_gb_plot.cav.unique(), ci=None)"
   ]
  },
  {
   "cell_type": "markdown",
   "metadata": {},
   "source": [
    "#### Period Totals"
   ]
  },
  {
   "cell_type": "code",
   "execution_count": 65,
   "metadata": {},
   "outputs": [
    {
     "data": {
      "text/html": [
       "<div>\n",
       "<style scoped>\n",
       "    .dataframe tbody tr th:only-of-type {\n",
       "        vertical-align: middle;\n",
       "    }\n",
       "\n",
       "    .dataframe tbody tr th {\n",
       "        vertical-align: top;\n",
       "    }\n",
       "\n",
       "    .dataframe thead th {\n",
       "        text-align: right;\n",
       "    }\n",
       "</style>\n",
       "<table border=\"1\" class=\"dataframe\">\n",
       "  <thead>\n",
       "    <tr style=\"text-align: right;\">\n",
       "      <th></th>\n",
       "      <th>period</th>\n",
       "      <th>trips</th>\n",
       "      <th>SHARE</th>\n",
       "    </tr>\n",
       "  </thead>\n",
       "  <tbody>\n",
       "    <tr>\n",
       "      <th>0</th>\n",
       "      <td>am</td>\n",
       "      <td>1277437.417</td>\n",
       "      <td>0.058</td>\n",
       "    </tr>\n",
       "    <tr>\n",
       "      <th>1</th>\n",
       "      <td>md</td>\n",
       "      <td>5625972.107</td>\n",
       "      <td>0.254</td>\n",
       "    </tr>\n",
       "    <tr>\n",
       "      <th>2</th>\n",
       "      <td>ov</td>\n",
       "      <td>5336136.315</td>\n",
       "      <td>0.241</td>\n",
       "    </tr>\n",
       "    <tr>\n",
       "      <th>3</th>\n",
       "      <td>pm</td>\n",
       "      <td>9889880.250</td>\n",
       "      <td>0.447</td>\n",
       "    </tr>\n",
       "  </tbody>\n",
       "</table>\n",
       "</div>"
      ],
      "text/plain": [
       "  period       trips  SHARE\n",
       "0     am 1277437.417  0.058\n",
       "1     md 5625972.107  0.254\n",
       "2     ov 5336136.315  0.241\n",
       "3     pm 9889880.250  0.447"
      ]
     },
     "execution_count": 65,
     "metadata": {},
     "output_type": "execute_result"
    }
   ],
   "source": [
    "summary_omx_gb_period_totals = summary_omx_gb.groupby('period', as_index=False)['trips'].sum()\n",
    "summary_omx_gb_period_totals['SHARE'] = summary_omx_gb_period_totals['trips'] / sum(summary_omx_gb_period_totals['trips'])\n",
    "summary_omx_gb_period_totals"
   ]
  },
  {
   "cell_type": "markdown",
   "metadata": {},
   "source": [
    "### Summary Converted Trip File"
   ]
  },
  {
   "cell_type": "code",
   "execution_count": 20,
   "metadata": {
    "collapsed": true
   },
   "outputs": [],
   "source": [
    "flat_trip_file = r'C:\\Projects\\SWIFT\\SWIFT_Workspace\\Scenarios\\Scenario_S12\\STM\\STM_A\\01_DynusT\\02_Demand\\vehicle.csv'"
   ]
  },
  {
   "cell_type": "code",
   "execution_count": 21,
   "metadata": {},
   "outputs": [
    {
     "data": {
      "text/html": [
       "<div>\n",
       "<style scoped>\n",
       "    .dataframe tbody tr th:only-of-type {\n",
       "        vertical-align: middle;\n",
       "    }\n",
       "\n",
       "    .dataframe tbody tr th {\n",
       "        vertical-align: top;\n",
       "    }\n",
       "\n",
       "    .dataframe thead th {\n",
       "        text-align: right;\n",
       "    }\n",
       "</style>\n",
       "<table border=\"1\" class=\"dataframe\">\n",
       "  <thead>\n",
       "    <tr style=\"text-align: right;\">\n",
       "      <th></th>\n",
       "      <th>vid</th>\n",
       "      <th>usec</th>\n",
       "      <th>dsec</th>\n",
       "      <th>stime</th>\n",
       "      <th>vehcls</th>\n",
       "      <th>vehtype</th>\n",
       "      <th>ioc</th>\n",
       "      <th>#ONode</th>\n",
       "      <th>#IntDe</th>\n",
       "      <th>info</th>\n",
       "      <th>...</th>\n",
       "      <th>Izone</th>\n",
       "      <th>Evac</th>\n",
       "      <th>InitPos</th>\n",
       "      <th>VoT</th>\n",
       "      <th>tFlag</th>\n",
       "      <th>pArrTime</th>\n",
       "      <th>TP</th>\n",
       "      <th>IniGas</th>\n",
       "      <th>DZone</th>\n",
       "      <th>waitTime</th>\n",
       "    </tr>\n",
       "  </thead>\n",
       "  <tbody>\n",
       "    <tr>\n",
       "      <th>0</th>\n",
       "      <td>1</td>\n",
       "      <td>44598</td>\n",
       "      <td>59076</td>\n",
       "      <td>0.000</td>\n",
       "      <td>3</td>\n",
       "      <td>5</td>\n",
       "      <td>0</td>\n",
       "      <td>1</td>\n",
       "      <td>1</td>\n",
       "      <td>0</td>\n",
       "      <td>...</td>\n",
       "      <td>380</td>\n",
       "      <td>0</td>\n",
       "      <td>0.300</td>\n",
       "      <td>37.120</td>\n",
       "      <td>0</td>\n",
       "      <td>0.000</td>\n",
       "      <td>10</td>\n",
       "      <td>0.000</td>\n",
       "      <td>2020</td>\n",
       "      <td>0.000</td>\n",
       "    </tr>\n",
       "    <tr>\n",
       "      <th>1</th>\n",
       "      <td>2</td>\n",
       "      <td>46318</td>\n",
       "      <td>282965</td>\n",
       "      <td>0.000</td>\n",
       "      <td>3</td>\n",
       "      <td>5</td>\n",
       "      <td>0</td>\n",
       "      <td>1</td>\n",
       "      <td>1</td>\n",
       "      <td>0</td>\n",
       "      <td>...</td>\n",
       "      <td>1861</td>\n",
       "      <td>0</td>\n",
       "      <td>0.919</td>\n",
       "      <td>37.120</td>\n",
       "      <td>0</td>\n",
       "      <td>0.000</td>\n",
       "      <td>10</td>\n",
       "      <td>0.000</td>\n",
       "      <td>423</td>\n",
       "      <td>0.000</td>\n",
       "    </tr>\n",
       "    <tr>\n",
       "      <th>2</th>\n",
       "      <td>3</td>\n",
       "      <td>341141</td>\n",
       "      <td>333619</td>\n",
       "      <td>0.000</td>\n",
       "      <td>3</td>\n",
       "      <td>5</td>\n",
       "      <td>0</td>\n",
       "      <td>1</td>\n",
       "      <td>1</td>\n",
       "      <td>0</td>\n",
       "      <td>...</td>\n",
       "      <td>2788</td>\n",
       "      <td>0</td>\n",
       "      <td>0.288</td>\n",
       "      <td>37.120</td>\n",
       "      <td>0</td>\n",
       "      <td>0.000</td>\n",
       "      <td>10</td>\n",
       "      <td>0.000</td>\n",
       "      <td>2937</td>\n",
       "      <td>0.000</td>\n",
       "    </tr>\n",
       "    <tr>\n",
       "      <th>3</th>\n",
       "      <td>4</td>\n",
       "      <td>23384</td>\n",
       "      <td>302871</td>\n",
       "      <td>0.000</td>\n",
       "      <td>3</td>\n",
       "      <td>5</td>\n",
       "      <td>0</td>\n",
       "      <td>1</td>\n",
       "      <td>1</td>\n",
       "      <td>0</td>\n",
       "      <td>...</td>\n",
       "      <td>909</td>\n",
       "      <td>0</td>\n",
       "      <td>0.551</td>\n",
       "      <td>9.600</td>\n",
       "      <td>0</td>\n",
       "      <td>0.000</td>\n",
       "      <td>10</td>\n",
       "      <td>0.000</td>\n",
       "      <td>2324</td>\n",
       "      <td>0.000</td>\n",
       "    </tr>\n",
       "    <tr>\n",
       "      <th>4</th>\n",
       "      <td>5</td>\n",
       "      <td>286624</td>\n",
       "      <td>20298</td>\n",
       "      <td>0.000</td>\n",
       "      <td>3</td>\n",
       "      <td>6</td>\n",
       "      <td>1</td>\n",
       "      <td>1</td>\n",
       "      <td>1</td>\n",
       "      <td>0</td>\n",
       "      <td>...</td>\n",
       "      <td>1494</td>\n",
       "      <td>0</td>\n",
       "      <td>0.724</td>\n",
       "      <td>80.800</td>\n",
       "      <td>0</td>\n",
       "      <td>0.000</td>\n",
       "      <td>10</td>\n",
       "      <td>0.000</td>\n",
       "      <td>2317</td>\n",
       "      <td>0.000</td>\n",
       "    </tr>\n",
       "  </tbody>\n",
       "</table>\n",
       "<p>5 rows × 22 columns</p>\n",
       "</div>"
      ],
      "text/plain": [
       "   vid    usec    dsec  stime  vehcls  vehtype  ioc  #ONode  #IntDe  info  \\\n",
       "0    1   44598   59076  0.000       3        5    0       1       1     0   \n",
       "1    2   46318  282965  0.000       3        5    0       1       1     0   \n",
       "2    3  341141  333619  0.000       3        5    0       1       1     0   \n",
       "3    4   23384  302871  0.000       3        5    0       1       1     0   \n",
       "4    5  286624   20298  0.000       3        6    1       1       1     0   \n",
       "\n",
       "     ...     Izone  Evac  InitPos    VoT  tFlag  pArrTime  TP  IniGas  DZone  \\\n",
       "0    ...       380     0    0.300 37.120      0     0.000  10   0.000   2020   \n",
       "1    ...      1861     0    0.919 37.120      0     0.000  10   0.000    423   \n",
       "2    ...      2788     0    0.288 37.120      0     0.000  10   0.000   2937   \n",
       "3    ...       909     0    0.551  9.600      0     0.000  10   0.000   2324   \n",
       "4    ...      1494     0    0.724 80.800      0     0.000  10   0.000   2317   \n",
       "\n",
       "   waitTime  \n",
       "0     0.000  \n",
       "1     0.000  \n",
       "2     0.000  \n",
       "3     0.000  \n",
       "4     0.000  \n",
       "\n",
       "[5 rows x 22 columns]"
      ]
     },
     "execution_count": 21,
     "metadata": {},
     "output_type": "execute_result"
    }
   ],
   "source": [
    "df_flat_trip = pd.read_csv(flat_trip_file)\n",
    "df_flat_trip.head()"
   ]
  },
  {
   "cell_type": "markdown",
   "metadata": {},
   "source": [
    "#### Occupancy Distribution"
   ]
  },
  {
   "cell_type": "code",
   "execution_count": 22,
   "metadata": {},
   "outputs": [
    {
     "data": {
      "text/plain": [
       "0    15343644\n",
       "1     5592221\n",
       "2     1214479\n",
       "Name: ioc, dtype: int64"
      ]
     },
     "execution_count": 22,
     "metadata": {},
     "output_type": "execute_result"
    }
   ],
   "source": [
    "df_flat_trip.ioc.value_counts()"
   ]
  },
  {
   "cell_type": "markdown",
   "metadata": {},
   "source": [
    "#### Vehicle type distribution"
   ]
  },
  {
   "cell_type": "code",
   "execution_count": 23,
   "metadata": {},
   "outputs": [
    {
     "data": {
      "text/plain": [
       "1    8424037\n",
       "2    2942697\n",
       "3    1029356\n",
       "4     185123\n",
       "5    6919607\n",
       "6    1901298\n",
       "9     748226\n",
       "Name: vehtype, dtype: int64"
      ]
     },
     "execution_count": 23,
     "metadata": {},
     "output_type": "execute_result"
    }
   ],
   "source": [
    "df_flat_trip.vehtype.value_counts().sort_index()"
   ]
  },
  {
   "cell_type": "markdown",
   "metadata": {},
   "source": [
    "#### Purpose distribution"
   ]
  },
  {
   "cell_type": "code",
   "execution_count": 24,
   "metadata": {},
   "outputs": [
    {
     "data": {
      "text/plain": [
       "1      1225702\n",
       "2      3835242\n",
       "3       530668\n",
       "4       184893\n",
       "5       259093\n",
       "6       155238\n",
       "10     3625110\n",
       "20    10892955\n",
       "30       77962\n",
       "40      563333\n",
       "50      770263\n",
       "60       29885\n",
       "Name: TP, dtype: int64"
      ]
     },
     "execution_count": 24,
     "metadata": {},
     "output_type": "execute_result"
    }
   ],
   "source": [
    "df_flat_trip.TP.value_counts().sort_index()"
   ]
  },
  {
   "cell_type": "markdown",
   "metadata": {},
   "source": [
    "#### Are trips sorted by departure time in non-decreasing order?"
   ]
  },
  {
   "cell_type": "code",
   "execution_count": 25,
   "metadata": {},
   "outputs": [
    {
     "name": "stdout",
     "output_type": "stream",
     "text": [
      "Trips are sorted by stime in increasing order = True\n"
     ]
    }
   ],
   "source": [
    "print('Trips are sorted by stime in increasing order = {:s}'.format(str(df_flat_trip.stime.is_monotonic_increasing)))"
   ]
  },
  {
   "cell_type": "markdown",
   "metadata": {},
   "source": [
    "#### Compare temporal distribution"
   ]
  },
  {
   "cell_type": "code",
   "execution_count": 43,
   "metadata": {
    "collapsed": true
   },
   "outputs": [],
   "source": [
    "INPUT_DIURNAL_FILE = r'C:\\Projects\\SWIFT\\SWIFT_Workspace\\CommonData\\STM\\STM_A\\Shared_Inputs\\Diurnal_Full.csv'"
   ]
  },
  {
   "cell_type": "code",
   "execution_count": 44,
   "metadata": {},
   "outputs": [
    {
     "data": {
      "text/html": [
       "<div>\n",
       "<style scoped>\n",
       "    .dataframe tbody tr th:only-of-type {\n",
       "        vertical-align: middle;\n",
       "    }\n",
       "\n",
       "    .dataframe tbody tr th {\n",
       "        vertical-align: top;\n",
       "    }\n",
       "\n",
       "    .dataframe thead th {\n",
       "        text-align: right;\n",
       "    }\n",
       "</style>\n",
       "<table border=\"1\" class=\"dataframe\">\n",
       "  <thead>\n",
       "    <tr style=\"text-align: right;\">\n",
       "      <th></th>\n",
       "      <th>HOUR</th>\n",
       "      <th>SHARE</th>\n",
       "    </tr>\n",
       "  </thead>\n",
       "  <tbody>\n",
       "    <tr>\n",
       "      <th>0</th>\n",
       "      <td>0.000</td>\n",
       "      <td>0.000</td>\n",
       "    </tr>\n",
       "    <tr>\n",
       "      <th>1</th>\n",
       "      <td>0.002</td>\n",
       "      <td>0.000</td>\n",
       "    </tr>\n",
       "    <tr>\n",
       "      <th>2</th>\n",
       "      <td>0.003</td>\n",
       "      <td>0.000</td>\n",
       "    </tr>\n",
       "    <tr>\n",
       "      <th>3</th>\n",
       "      <td>0.005</td>\n",
       "      <td>0.000</td>\n",
       "    </tr>\n",
       "    <tr>\n",
       "      <th>4</th>\n",
       "      <td>0.007</td>\n",
       "      <td>0.000</td>\n",
       "    </tr>\n",
       "    <tr>\n",
       "      <th>5</th>\n",
       "      <td>0.008</td>\n",
       "      <td>0.000</td>\n",
       "    </tr>\n",
       "    <tr>\n",
       "      <th>6</th>\n",
       "      <td>0.010</td>\n",
       "      <td>0.000</td>\n",
       "    </tr>\n",
       "    <tr>\n",
       "      <th>7</th>\n",
       "      <td>0.012</td>\n",
       "      <td>0.000</td>\n",
       "    </tr>\n",
       "    <tr>\n",
       "      <th>8</th>\n",
       "      <td>0.013</td>\n",
       "      <td>0.000</td>\n",
       "    </tr>\n",
       "    <tr>\n",
       "      <th>9</th>\n",
       "      <td>0.015</td>\n",
       "      <td>0.000</td>\n",
       "    </tr>\n",
       "    <tr>\n",
       "      <th>10</th>\n",
       "      <td>0.017</td>\n",
       "      <td>0.000</td>\n",
       "    </tr>\n",
       "    <tr>\n",
       "      <th>11</th>\n",
       "      <td>0.018</td>\n",
       "      <td>0.000</td>\n",
       "    </tr>\n",
       "    <tr>\n",
       "      <th>12</th>\n",
       "      <td>0.020</td>\n",
       "      <td>0.000</td>\n",
       "    </tr>\n",
       "    <tr>\n",
       "      <th>13</th>\n",
       "      <td>0.022</td>\n",
       "      <td>0.000</td>\n",
       "    </tr>\n",
       "    <tr>\n",
       "      <th>14</th>\n",
       "      <td>0.023</td>\n",
       "      <td>0.000</td>\n",
       "    </tr>\n",
       "    <tr>\n",
       "      <th>15</th>\n",
       "      <td>0.025</td>\n",
       "      <td>0.000</td>\n",
       "    </tr>\n",
       "    <tr>\n",
       "      <th>16</th>\n",
       "      <td>0.027</td>\n",
       "      <td>0.000</td>\n",
       "    </tr>\n",
       "    <tr>\n",
       "      <th>17</th>\n",
       "      <td>0.028</td>\n",
       "      <td>0.000</td>\n",
       "    </tr>\n",
       "    <tr>\n",
       "      <th>18</th>\n",
       "      <td>0.030</td>\n",
       "      <td>0.000</td>\n",
       "    </tr>\n",
       "    <tr>\n",
       "      <th>19</th>\n",
       "      <td>0.032</td>\n",
       "      <td>0.000</td>\n",
       "    </tr>\n",
       "  </tbody>\n",
       "</table>\n",
       "</div>"
      ],
      "text/plain": [
       "    HOUR  SHARE\n",
       "0  0.000  0.000\n",
       "1  0.002  0.000\n",
       "2  0.003  0.000\n",
       "3  0.005  0.000\n",
       "4  0.007  0.000\n",
       "5  0.008  0.000\n",
       "6  0.010  0.000\n",
       "7  0.012  0.000\n",
       "8  0.013  0.000\n",
       "9  0.015  0.000\n",
       "10 0.017  0.000\n",
       "11 0.018  0.000\n",
       "12 0.020  0.000\n",
       "13 0.022  0.000\n",
       "14 0.023  0.000\n",
       "15 0.025  0.000\n",
       "16 0.027  0.000\n",
       "17 0.028  0.000\n",
       "18 0.030  0.000\n",
       "19 0.032  0.000"
      ]
     },
     "execution_count": 44,
     "metadata": {},
     "output_type": "execute_result"
    }
   ],
   "source": [
    "df_input_diurnal = pd.read_csv(INPUT_DIURNAL_FILE)\n",
    "df_input_diurnal.info()"
   ]
  },
  {
   "cell_type": "code",
   "execution_count": 40,
   "metadata": {},
   "outputs": [
    {
     "data": {
      "text/plain": [
       "array([ 0.  ,  0.25,  0.5 ,  0.75,  1.  ,  1.25,  1.5 ,  1.75,  2.  ,\n",
       "        2.25,  2.5 ,  2.75,  3.  ,  3.25,  3.5 ,  3.75,  4.  ,  4.25,\n",
       "        4.5 ,  4.75,  5.  ,  5.25,  5.5 ,  5.75,  6.  ,  6.25,  6.5 ,\n",
       "        6.75,  7.  ,  7.25,  7.5 ,  7.75,  8.  ,  8.25,  8.5 ,  8.75,\n",
       "        9.  ,  9.25,  9.5 ,  9.75, 10.  , 10.25, 10.5 , 10.75, 11.  ,\n",
       "       11.25, 11.5 , 11.75, 12.  , 12.25, 12.5 , 12.75, 13.  , 13.25,\n",
       "       13.5 , 13.75, 14.  , 14.25, 14.5 , 14.75, 15.  , 15.25, 15.5 ,\n",
       "       15.75, 16.  , 16.25, 16.5 , 16.75, 17.  , 17.25, 17.5 , 17.75,\n",
       "       18.  , 18.25, 18.5 , 18.75, 19.  , 19.25, 19.5 , 19.75, 20.  ,\n",
       "       20.25, 20.5 , 20.75, 21.  , 21.25, 21.5 , 21.75, 22.  , 22.25,\n",
       "       22.5 , 22.75, 23.  , 23.25, 23.5 , 23.75, 24.  ])"
      ]
     },
     "execution_count": 40,
     "metadata": {},
     "output_type": "execute_result"
    }
   ],
   "source": [
    "# recompute the binned input diurnal curve using a 15-min bin size\n",
    "bins_15min = np.arange(0, 1440+15, 15) / 60.0\n",
    "bins_15min"
   ]
  },
  {
   "cell_type": "code",
   "execution_count": 45,
   "metadata": {},
   "outputs": [],
   "source": [
    "df_input_diurnal['15min_bin'] = pd.cut(x=df_input_diurnal.HOUR, bins=bins_15min, right=False)"
   ]
  },
  {
   "cell_type": "code",
   "execution_count": 54,
   "metadata": {},
   "outputs": [],
   "source": [
    "df_input_diurnal_gb = df_input_diurnal.groupby('15min_bin', as_index=False)['SHARE'].sum()"
   ]
  },
  {
   "cell_type": "markdown",
   "metadata": {},
   "source": [
    "#### Input Diurnal Period Totals"
   ]
  },
  {
   "cell_type": "code",
   "execution_count": 31,
   "metadata": {},
   "outputs": [],
   "source": [
    "# Compute the hourly representation of the departure times\n",
    "df_flat_trip['stime_hr'] = df_flat_trip['stime'] / 60.0"
   ]
  },
  {
   "cell_type": "code",
   "execution_count": 55,
   "metadata": {},
   "outputs": [],
   "source": [
    "df_converted_diurnal = pd.DataFrame(pd.cut(x=df_flat_trip.stime_hr, bins=bins_15min, right=False).value_counts()).sort_index().reset_index().rename({'index':'15min_bin',\n",
    "                                                                                                                                                    'stime_hr':'SHARE'}, axis=1)\n",
    "df_converted_diurnal['SHARE'] = df_converted_diurnal.SHARE / np.sum(df_converted_diurnal.SHARE.values)"
   ]
  },
  {
   "cell_type": "code",
   "execution_count": 56,
   "metadata": {},
   "outputs": [],
   "source": [
    "df_diurnals_wide = pd.DataFrame({'hour': bins_15min[:-1], \n",
    "                           'input': df_input_diurnal_gb.SHARE,\n",
    "                           'converted': df_converted_diurnal.SHARE\n",
    "                           })\n",
    "df_diurnals = df_diurnals_wide.melt(id_vars='hour', value_vars=['input','converted'])"
   ]
  },
  {
   "cell_type": "code",
   "execution_count": 57,
   "metadata": {},
   "outputs": [
    {
     "data": {
      "image/png": "[encoded data removed]",
      "text/plain": [
       "<Figure size 734.375x432 with 1 Axes>"
      ]
     },
     "metadata": {},
     "output_type": "display_data"
    }
   ],
   "source": [
    "fig, ax = plt.subplots(figsize=(12,8))\n",
    "g = sns.relplot(x=\"hour\", y=\"value\", hue='variable', kind=\"line\", data=df_diurnals, aspect=1.5, height=6)"
   ]
  },
  {
   "cell_type": "markdown",
   "metadata": {},
   "source": [
    "#### Period Totals"
   ]
  },
  {
   "cell_type": "code",
   "execution_count": 58,
   "metadata": {
    "collapsed": true
   },
   "outputs": [],
   "source": [
    "def period(r):\n",
    "    if 0 <= r < 6 or 19 <= r < 24:\n",
    "        return 'ov'\n",
    "    elif 6 <= r < 9:\n",
    "        return 'am'\n",
    "    elif 9 <= r < 15:\n",
    "        return 'md'\n",
    "    else:\n",
    "        return 'pm'"
   ]
  },
  {
   "cell_type": "code",
   "execution_count": 59,
   "metadata": {},
   "outputs": [
    {
     "data": {
      "text/html": [
       "<div>\n",
       "<style scoped>\n",
       "    .dataframe tbody tr th:only-of-type {\n",
       "        vertical-align: middle;\n",
       "    }\n",
       "\n",
       "    .dataframe tbody tr th {\n",
       "        vertical-align: top;\n",
       "    }\n",
       "\n",
       "    .dataframe thead th {\n",
       "        text-align: right;\n",
       "    }\n",
       "</style>\n",
       "<table border=\"1\" class=\"dataframe\">\n",
       "  <thead>\n",
       "    <tr style=\"text-align: right;\">\n",
       "      <th></th>\n",
       "      <th>period</th>\n",
       "      <th>SHARE</th>\n",
       "    </tr>\n",
       "  </thead>\n",
       "  <tbody>\n",
       "    <tr>\n",
       "      <th>0</th>\n",
       "      <td>am</td>\n",
       "      <td>0.211</td>\n",
       "    </tr>\n",
       "    <tr>\n",
       "      <th>1</th>\n",
       "      <td>md</td>\n",
       "      <td>0.348</td>\n",
       "    </tr>\n",
       "    <tr>\n",
       "      <th>2</th>\n",
       "      <td>ov</td>\n",
       "      <td>0.133</td>\n",
       "    </tr>\n",
       "    <tr>\n",
       "      <th>3</th>\n",
       "      <td>pm</td>\n",
       "      <td>0.307</td>\n",
       "    </tr>\n",
       "  </tbody>\n",
       "</table>\n",
       "</div>"
      ],
      "text/plain": [
       "  period  SHARE\n",
       "0     am  0.211\n",
       "1     md  0.348\n",
       "2     ov  0.133\n",
       "3     pm  0.307"
      ]
     },
     "execution_count": 59,
     "metadata": {},
     "output_type": "execute_result"
    }
   ],
   "source": [
    "df_input_diurnal['period'] = df_input_diurnal.HOUR.apply(period)\n",
    "df_input_diurnal_period_totals = df_input_diurnal.groupby('period', as_index=False)['SHARE'].sum()\n",
    "df_input_diurnal_period_totals"
   ]
  },
  {
   "cell_type": "code",
   "execution_count": 64,
   "metadata": {},
   "outputs": [
    {
     "data": {
      "text/html": [
       "<div>\n",
       "<style scoped>\n",
       "    .dataframe tbody tr th:only-of-type {\n",
       "        vertical-align: middle;\n",
       "    }\n",
       "\n",
       "    .dataframe tbody tr th {\n",
       "        vertical-align: top;\n",
       "    }\n",
       "\n",
       "    .dataframe thead th {\n",
       "        text-align: right;\n",
       "    }\n",
       "</style>\n",
       "<table border=\"1\" class=\"dataframe\">\n",
       "  <thead>\n",
       "    <tr style=\"text-align: right;\">\n",
       "      <th></th>\n",
       "      <th>period</th>\n",
       "      <th>SHARE</th>\n",
       "    </tr>\n",
       "  </thead>\n",
       "  <tbody>\n",
       "    <tr>\n",
       "      <th>0</th>\n",
       "      <td>am</td>\n",
       "      <td>0.058</td>\n",
       "    </tr>\n",
       "    <tr>\n",
       "      <th>1</th>\n",
       "      <td>md</td>\n",
       "      <td>0.254</td>\n",
       "    </tr>\n",
       "    <tr>\n",
       "      <th>2</th>\n",
       "      <td>ov</td>\n",
       "      <td>0.242</td>\n",
       "    </tr>\n",
       "    <tr>\n",
       "      <th>3</th>\n",
       "      <td>pm</td>\n",
       "      <td>0.446</td>\n",
       "    </tr>\n",
       "  </tbody>\n",
       "</table>\n",
       "</div>"
      ],
      "text/plain": [
       "  period  SHARE\n",
       "0     am  0.058\n",
       "1     md  0.254\n",
       "2     ov  0.242\n",
       "3     pm  0.446"
      ]
     },
     "execution_count": 64,
     "metadata": {},
     "output_type": "execute_result"
    }
   ],
   "source": [
    "# df_flat_trip['period'] = df_flat_trip.stime_hr.apply(period)\n",
    "# df_converted_diurnal_period_totals = df_flat_trip.groupby('period', as_index=False)['vid'].count()\n",
    "# df_converted_diurnal_period_totals.vid = df_converted_diurnal_period_totals.vid / np.sum(df_converted_diurnal_period_totals.vid)\n",
    "# df_converted_diurnal_period_totals.rename({'vid':'SHARE'}, axis=1, inplace=True)\n",
    "df_converted_diurnal_period_totals"
   ]
  },
  {
   "cell_type": "code",
   "execution_count": null,
   "metadata": {
    "collapsed": true
   },
   "outputs": [],
   "source": []
  }
 ],
 "metadata": {
  "kernelspec": {
   "display_name": "Python 3",
   "language": "python",
   "name": "python3"
  },
  "language_info": {
   "codemirror_mode": {
    "name": "ipython",
    "version": 3
   },
   "file_extension": ".py",
   "mimetype": "text/x-python",
   "name": "python",
   "nbconvert_exporter": "python",
   "pygments_lexer": "ipython3",
   "version": "3.6.3"
  }
 },
 "nbformat": 4,
 "nbformat_minor": 2
}
