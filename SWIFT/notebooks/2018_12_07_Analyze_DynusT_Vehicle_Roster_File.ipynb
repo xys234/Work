{
 "cells": [
  {
   "cell_type": "markdown",
   "metadata": {},
   "source": [
    "### Tasks\n",
    "1. Determine the performance of storing vehicle roster as a pandas dataframe. \n",
    "2. Compare the departure time profile with smoothing to the one without\n",
    "\n",
    "\n",
    "Change log\n",
    "\n",
    "v1: 2018-12-07"
   ]
  },
  {
   "cell_type": "code",
   "execution_count": 1,
   "metadata": {
    "collapsed": true
   },
   "outputs": [],
   "source": [
    "import numpy as np\n",
    "import pandas as pd\n",
    "\n",
    "import matplotlib.pyplot as plt\n",
    "%matplotlib inline"
   ]
  },
  {
   "cell_type": "code",
   "execution_count": 43,
   "metadata": {
    "collapsed": true
   },
   "outputs": [],
   "source": [
    "import os\n",
    "from time import time\n",
    "import gc"
   ]
  },
  {
   "cell_type": "code",
   "execution_count": 3,
   "metadata": {},
   "outputs": [
    {
     "data": {
      "text/plain": [
       "'C:\\\\Projects\\\\Repo\\\\Work\\\\SWIFT\\\\data\\\\Dynus_T\\\\vehicles_deliv_17.csv'"
      ]
     },
     "execution_count": 3,
     "metadata": {},
     "output_type": "execute_result"
    }
   ],
   "source": [
    "DYNUS_T_DATA_DIR = 'C:\\Projects\\Repo\\Work\\SWIFT\\data\\Dynus_T'\n",
    "vehicle_roster_file_deliv = 'vehicles_deliv_17.csv'\n",
    "vehicle_roster_file_deliv = os.path.join(DYNUS_T_DATA_DIR, vehicle_roster_file_deliv)\n",
    "vehicle_roster_file_deliv"
   ]
  },
  {
   "cell_type": "code",
   "execution_count": 4,
   "metadata": {
    "collapsed": true
   },
   "outputs": [],
   "source": [
    "# The file has two header rows. The second row has the column defs. \n",
    "\n",
    "\n",
    "# 55669           1    # of vehicles in the file, Max # of STOPs\n",
    "#  #   usec   dsec   stime vehcls vehtype ioc #ONode #IntDe info ribf    comp   izone Evac InitPos    VoT  tFlag pArrTime TP IniGas\n",
    "#  1 115449 278035    12.7     3     6     1     1     1     0  0.0000  0.0000     5     0  0.92110000    0.00    0    0.0    5  0.0\n",
    "#    61   0.00\n",
    "\n",
    "dtypes = {\n",
    "    '#':np.int32,\n",
    "    'usec': np.int32,   \n",
    "    'dsec': np.int32,   \n",
    "    'stime': np.float32, \n",
    "    'vehcls': np.uint8, \n",
    "    'vehtype': np.uint8, \n",
    "    'ioc': np.uint8, \n",
    "    '#ONode': np.uint32, \n",
    "    '#IntDe': np.uint16, \n",
    "    'info': np.uint8,\n",
    "    'ribf': np.float16,    \n",
    "    'comp': np.float16,   \n",
    "    'izone': np.uint16, \n",
    "    'Evac': np.uint8, \n",
    "    'InitPos': np.float32,    \n",
    "    'VoT': np.float32,  \n",
    "    'tFlag': np.uint8, \n",
    "    'pArrTime': np.float16, \n",
    "    'TP': np.uint8, \n",
    "    'IniGas': np.float16,\n",
    "    'DZone': np.uint16,\n",
    "    'waitTime': np.float\n",
    "}\n"
   ]
  },
  {
   "cell_type": "code",
   "execution_count": 5,
   "metadata": {},
   "outputs": [
    {
     "name": "stdout",
     "output_type": "stream",
     "text": [
      "19301935 trips read in 73 seconds\n"
     ]
    }
   ],
   "source": [
    "start_time = time()\n",
    "df_vehicles_deliv = pd.read_csv(vehicle_roster_file_deliv, skiprows=0, header=0,\n",
    "                                sep=',', \n",
    "                                dtype=dtypes,  \n",
    "                               )\n",
    "end_time = time()\n",
    "print(\"{0:d} trips read in {1:.0f} seconds\".format(df_vehicles_deliv.shape[0], (end_time-start_time)))"
   ]
  },
  {
   "cell_type": "code",
   "execution_count": 6,
   "metadata": {},
   "outputs": [
    {
     "data": {
      "text/html": [
       "<div>\n",
       "<style scoped>\n",
       "    .dataframe tbody tr th:only-of-type {\n",
       "        vertical-align: middle;\n",
       "    }\n",
       "\n",
       "    .dataframe tbody tr th {\n",
       "        vertical-align: top;\n",
       "    }\n",
       "\n",
       "    .dataframe thead th {\n",
       "        text-align: right;\n",
       "    }\n",
       "</style>\n",
       "<table border=\"1\" class=\"dataframe\">\n",
       "  <thead>\n",
       "    <tr style=\"text-align: right;\">\n",
       "      <th></th>\n",
       "      <th>vid</th>\n",
       "      <th>usec</th>\n",
       "      <th>dsec</th>\n",
       "      <th>stime</th>\n",
       "      <th>vehcls</th>\n",
       "      <th>vehtype</th>\n",
       "      <th>ioc</th>\n",
       "      <th>#ONode</th>\n",
       "      <th>#IntDe</th>\n",
       "      <th>info</th>\n",
       "      <th>...</th>\n",
       "      <th>Izone</th>\n",
       "      <th>Evac</th>\n",
       "      <th>InitPos</th>\n",
       "      <th>VoT</th>\n",
       "      <th>tFlag</th>\n",
       "      <th>pArrTime</th>\n",
       "      <th>TP</th>\n",
       "      <th>IniGas</th>\n",
       "      <th>DZone</th>\n",
       "      <th>waitTime</th>\n",
       "    </tr>\n",
       "  </thead>\n",
       "  <tbody>\n",
       "    <tr>\n",
       "      <th>0</th>\n",
       "      <td>1</td>\n",
       "      <td>252555</td>\n",
       "      <td>14547</td>\n",
       "      <td>0.0</td>\n",
       "      <td>3</td>\n",
       "      <td>1</td>\n",
       "      <td>0</td>\n",
       "      <td>8</td>\n",
       "      <td>1</td>\n",
       "      <td>0</td>\n",
       "      <td>...</td>\n",
       "      <td>2774</td>\n",
       "      <td>0</td>\n",
       "      <td>0.7882</td>\n",
       "      <td>23.65</td>\n",
       "      <td>0</td>\n",
       "      <td>0.0</td>\n",
       "      <td>2</td>\n",
       "      <td>0.0</td>\n",
       "      <td>2782</td>\n",
       "      <td>0.0</td>\n",
       "    </tr>\n",
       "    <tr>\n",
       "      <th>1</th>\n",
       "      <td>2</td>\n",
       "      <td>322244</td>\n",
       "      <td>313074</td>\n",
       "      <td>0.0</td>\n",
       "      <td>3</td>\n",
       "      <td>1</td>\n",
       "      <td>0</td>\n",
       "      <td>12</td>\n",
       "      <td>1</td>\n",
       "      <td>0</td>\n",
       "      <td>...</td>\n",
       "      <td>2816</td>\n",
       "      <td>0</td>\n",
       "      <td>0.6758</td>\n",
       "      <td>23.65</td>\n",
       "      <td>0</td>\n",
       "      <td>0.0</td>\n",
       "      <td>2</td>\n",
       "      <td>0.0</td>\n",
       "      <td>2729</td>\n",
       "      <td>0.0</td>\n",
       "    </tr>\n",
       "    <tr>\n",
       "      <th>2</th>\n",
       "      <td>3</td>\n",
       "      <td>271541</td>\n",
       "      <td>82019</td>\n",
       "      <td>0.0</td>\n",
       "      <td>3</td>\n",
       "      <td>6</td>\n",
       "      <td>1</td>\n",
       "      <td>123</td>\n",
       "      <td>1</td>\n",
       "      <td>0</td>\n",
       "      <td>...</td>\n",
       "      <td>961</td>\n",
       "      <td>0</td>\n",
       "      <td>0.2846</td>\n",
       "      <td>64.00</td>\n",
       "      <td>0</td>\n",
       "      <td>0.0</td>\n",
       "      <td>5</td>\n",
       "      <td>0.0</td>\n",
       "      <td>5248</td>\n",
       "      <td>0.0</td>\n",
       "    </tr>\n",
       "    <tr>\n",
       "      <th>3</th>\n",
       "      <td>4</td>\n",
       "      <td>306502</td>\n",
       "      <td>302598</td>\n",
       "      <td>0.0</td>\n",
       "      <td>3</td>\n",
       "      <td>5</td>\n",
       "      <td>1</td>\n",
       "      <td>28</td>\n",
       "      <td>1</td>\n",
       "      <td>0</td>\n",
       "      <td>...</td>\n",
       "      <td>5077</td>\n",
       "      <td>0</td>\n",
       "      <td>0.6623</td>\n",
       "      <td>40.00</td>\n",
       "      <td>0</td>\n",
       "      <td>0.0</td>\n",
       "      <td>5</td>\n",
       "      <td>0.0</td>\n",
       "      <td>430</td>\n",
       "      <td>0.0</td>\n",
       "    </tr>\n",
       "    <tr>\n",
       "      <th>4</th>\n",
       "      <td>5</td>\n",
       "      <td>24808</td>\n",
       "      <td>294441</td>\n",
       "      <td>0.0</td>\n",
       "      <td>3</td>\n",
       "      <td>1</td>\n",
       "      <td>0</td>\n",
       "      <td>2</td>\n",
       "      <td>1</td>\n",
       "      <td>0</td>\n",
       "      <td>...</td>\n",
       "      <td>328</td>\n",
       "      <td>0</td>\n",
       "      <td>0.6336</td>\n",
       "      <td>20.48</td>\n",
       "      <td>0</td>\n",
       "      <td>0.0</td>\n",
       "      <td>1</td>\n",
       "      <td>0.0</td>\n",
       "      <td>328</td>\n",
       "      <td>0.0</td>\n",
       "    </tr>\n",
       "  </tbody>\n",
       "</table>\n",
       "<p>5 rows × 22 columns</p>\n",
       "</div>"
      ],
      "text/plain": [
       "   vid    usec    dsec  stime  vehcls  vehtype  ioc  #ONode  #IntDe  info  \\\n",
       "0    1  252555   14547    0.0       3        1    0       8       1     0   \n",
       "1    2  322244  313074    0.0       3        1    0      12       1     0   \n",
       "2    3  271541   82019    0.0       3        6    1     123       1     0   \n",
       "3    4  306502  302598    0.0       3        5    1      28       1     0   \n",
       "4    5   24808  294441    0.0       3        1    0       2       1     0   \n",
       "\n",
       "     ...     Izone  Evac  InitPos    VoT  tFlag  pArrTime  TP  IniGas  DZone  \\\n",
       "0    ...      2774     0   0.7882  23.65      0       0.0   2     0.0   2782   \n",
       "1    ...      2816     0   0.6758  23.65      0       0.0   2     0.0   2729   \n",
       "2    ...       961     0   0.2846  64.00      0       0.0   5     0.0   5248   \n",
       "3    ...      5077     0   0.6623  40.00      0       0.0   5     0.0    430   \n",
       "4    ...       328     0   0.6336  20.48      0       0.0   1     0.0    328   \n",
       "\n",
       "   waitTime  \n",
       "0       0.0  \n",
       "1       0.0  \n",
       "2       0.0  \n",
       "3       0.0  \n",
       "4       0.0  \n",
       "\n",
       "[5 rows x 22 columns]"
      ]
     },
     "execution_count": 6,
     "metadata": {},
     "output_type": "execute_result"
    }
   ],
   "source": [
    "df_vehicles_deliv.head()"
   ]
  },
  {
   "cell_type": "code",
   "execution_count": 7,
   "metadata": {},
   "outputs": [
    {
     "name": "stdout",
     "output_type": "stream",
     "text": [
      "<class 'pandas.core.frame.DataFrame'>\n",
      "RangeIndex: 19301935 entries, 0 to 19301934\n",
      "Data columns (total 22 columns):\n",
      "vid         int64\n",
      "usec        int32\n",
      "dsec        int32\n",
      "stime       float32\n",
      "vehcls      uint8\n",
      "vehtype     uint8\n",
      "ioc         uint8\n",
      "#ONode      uint32\n",
      "#IntDe      uint16\n",
      "info        uint8\n",
      "ribf        float16\n",
      "comp        float16\n",
      "Izone       int64\n",
      "Evac        uint8\n",
      "InitPos     float32\n",
      "VoT         float32\n",
      "tFlag       uint8\n",
      "pArrTime    float16\n",
      "TP          uint8\n",
      "IniGas      float16\n",
      "DZone       uint16\n",
      "waitTime    float64\n",
      "dtypes: float16(4), float32(3), float64(1), int32(2), int64(2), uint16(2), uint32(1), uint8(7)\n",
      "memory usage: 1.2 GB\n"
     ]
    }
   ],
   "source": [
    "df_vehicles_deliv.info()"
   ]
  },
  {
   "cell_type": "code",
   "execution_count": 8,
   "metadata": {
    "collapsed": true
   },
   "outputs": [],
   "source": [
    "# stime mean/std probably overflowed.\n",
    "min_stime, max_stime = df_vehicles_deliv.stime.values.min(), df_vehicles_deliv.stime.values.max()\n",
    "min_vot, max_vot = df_vehicles_deliv.VoT.values.min(), df_vehicles_deliv.VoT.values.max()\n",
    "min_zone, max_zone = 1, 5262\n",
    "min_tp, max_tp = df_vehicles_deliv.TP.values.min(), df_vehicles_deliv.TP.values.max()\n",
    "min_ioc, max_ioc = df_vehicles_deliv.ioc.values.min(), df_vehicles_deliv.ioc.values.max()\n",
    "min_vehtype, max_vehtype = df_vehicles_deliv.vehtype.values.min(), df_vehicles_deliv.vehtype.values.max()"
   ]
  },
  {
   "cell_type": "code",
   "execution_count": 9,
   "metadata": {},
   "outputs": [],
   "source": [
    "index_columns = ['Izone', 'DZone', 'TP', 'ioc', 'vehtype']\n",
    "vehicle_counts = df_vehicles_deliv.groupby(by=index_columns)['vid'].count()"
   ]
  },
  {
   "cell_type": "code",
   "execution_count": 12,
   "metadata": {},
   "outputs": [
    {
     "data": {
      "text/plain": [
       "(array([6.401635e+06, 1.520800e+04, 3.832000e+03, 1.552000e+03,\n",
       "        6.980000e+02, 3.660000e+02, 2.450000e+02, 1.400000e+02,\n",
       "        1.050000e+02, 7.300000e+01, 4.700000e+01, 3.300000e+01,\n",
       "        3.000000e+01, 1.300000e+01, 2.500000e+01, 7.000000e+00,\n",
       "        7.000000e+00, 8.000000e+00, 8.000000e+00, 4.000000e+00,\n",
       "        1.000000e+00, 0.000000e+00, 5.000000e+00, 1.000000e+00,\n",
       "        4.000000e+00, 3.000000e+00, 0.000000e+00, 0.000000e+00,\n",
       "        0.000000e+00, 0.000000e+00, 0.000000e+00, 0.000000e+00,\n",
       "        0.000000e+00, 2.000000e+00, 0.000000e+00, 3.000000e+00,\n",
       "        0.000000e+00, 0.000000e+00, 2.000000e+00, 0.000000e+00,\n",
       "        0.000000e+00, 0.000000e+00, 2.000000e+00, 0.000000e+00,\n",
       "        0.000000e+00, 0.000000e+00, 0.000000e+00, 0.000000e+00,\n",
       "        0.000000e+00, 2.000000e+00]),\n",
       " array([1.0000e+00, 6.2100e+01, 1.2320e+02, 1.8430e+02, 2.4540e+02,\n",
       "        3.0650e+02, 3.6760e+02, 4.2870e+02, 4.8980e+02, 5.5090e+02,\n",
       "        6.1200e+02, 6.7310e+02, 7.3420e+02, 7.9530e+02, 8.5640e+02,\n",
       "        9.1750e+02, 9.7860e+02, 1.0397e+03, 1.1008e+03, 1.1619e+03,\n",
       "        1.2230e+03, 1.2841e+03, 1.3452e+03, 1.4063e+03, 1.4674e+03,\n",
       "        1.5285e+03, 1.5896e+03, 1.6507e+03, 1.7118e+03, 1.7729e+03,\n",
       "        1.8340e+03, 1.8951e+03, 1.9562e+03, 2.0173e+03, 2.0784e+03,\n",
       "        2.1395e+03, 2.2006e+03, 2.2617e+03, 2.3228e+03, 2.3839e+03,\n",
       "        2.4450e+03, 2.5061e+03, 2.5672e+03, 2.6283e+03, 2.6894e+03,\n",
       "        2.7505e+03, 2.8116e+03, 2.8727e+03, 2.9338e+03, 2.9949e+03,\n",
       "        3.0560e+03]),\n",
       " <a list of 50 Patch objects>)"
      ]
     },
     "execution_count": 12,
     "metadata": {},
     "output_type": "execute_result"
    },
    {
     "data": {
      "image/png": "[encoded data removed]",
      "text/plain": [
       "<Figure size 432x288 with 1 Axes>"
      ]
     },
     "metadata": {},
     "output_type": "display_data"
    }
   ],
   "source": [
    "plt.hist(, bins=50)"
   ]
  },
  {
   "cell_type": "markdown",
   "metadata": {},
   "source": [
    "Most OD pairs only have only a few trips. "
   ]
  },
  {
   "cell_type": "markdown",
   "metadata": {},
   "source": [
    "#### Generate random instructions"
   ]
  },
  {
   "cell_type": "code",
   "execution_count": 150,
   "metadata": {},
   "outputs": [],
   "source": [
    "df_vehicles_deliv.reset_index(inplace=True)"
   ]
  },
  {
   "cell_type": "code",
   "execution_count": 151,
   "metadata": {
    "collapsed": true
   },
   "outputs": [],
   "source": [
    "NUMBER_OF_INSTRUCTIONS = 100"
   ]
  },
  {
   "cell_type": "code",
   "execution_count": 177,
   "metadata": {
    "collapsed": true
   },
   "outputs": [],
   "source": [
    "def generate_instructions(n, df_vehicles, index_col=['Izone', 'DZone', 'TP', 'ioc', 'vehtype']):\n",
    "    \"\"\"\n",
    "    n: number of instructions to generate\n",
    "    \"\"\"\n",
    "    \n",
    "    global min_stime, max_stime, min_vot, max_vot, min_zone, max_zone, min_tp, max_tp, min_ioc, max_ioc\n",
    "    global min_vehtype, max_veh_type\n",
    "    \n",
    "    stime_lb = np.random.uniform(low=min_stime, high=max_stime, size=n)\n",
    "    stime_buffer = np.random.randint(low=1, high=4, size=n)\n",
    "    stime_hb = np.clip(stime_lb + stime_buffer, a_min=0, a_max=max_stime)\n",
    "    \n",
    "    vot_lb = np.random.uniform(low=min_vot, high=max_vot, size=n)\n",
    "    vot_buffer = np.random.randint(15, size=n)\n",
    "    vot_hb = np.clip(vot_lb + vot_buffer, a_min=min_vot, a_max=max_stime)\n",
    "    \n",
    "    select_index = df_vehicles_deliv.loc[:,index_col].values[np.random.randint(df_vehicles_deliv.shape[0],size=n)]\n",
    "    \n",
    "#     origins = np.random.choice(np.arange(1,max_zone+1), replace=True, size=n)\n",
    "#     destinations = np.random.choice(np.arange(1,max_zone+1), replace=True, size=n)\n",
    "    \n",
    "#     purposes = np.random.choice(np.arange(1,max_tp+1), replace=True, size=n)\n",
    "#     occs = np.random.choice(np.arange(1,max_ioc+1), replace=True, size=n)\n",
    "#     vehtypes = np.random.choice(np.arange(1,max_vehtype+1), replace=True, size=n)\n",
    "    \n",
    "    changes = np.random.choice(np.arange(-10,10), replace=True, size=n)\n",
    "    \n",
    "    return np.column_stack((select_index, stime_lb, stime_hb, vot_lb, vot_hb))\n",
    "    "
   ]
  },
  {
   "cell_type": "code",
   "execution_count": 178,
   "metadata": {},
   "outputs": [
    {
     "ename": "KeyError",
     "evalue": "\"None of [['Izone', 'DZone', 'TP', 'ioc', 'vehtype']] are in the [columns]\"",
     "output_type": "error",
     "traceback": [
      "\u001b[1;31m---------------------------------------------------------------------------\u001b[0m",
      "\u001b[1;31mKeyError\u001b[0m                                  Traceback (most recent call last)",
      "\u001b[1;32m<ipython-input-178-76f5e5386e22>\u001b[0m in \u001b[0;36m<module>\u001b[1;34m()\u001b[0m\n\u001b[1;32m----> 1\u001b[1;33m \u001b[0minstructions\u001b[0m \u001b[1;33m=\u001b[0m \u001b[0mgenerate_instructions\u001b[0m\u001b[1;33m(\u001b[0m\u001b[1;36m5\u001b[0m\u001b[1;33m,\u001b[0m \u001b[0mdf_vehicles_deliv\u001b[0m\u001b[1;33m)\u001b[0m\u001b[1;33m\u001b[0m\u001b[0m\n\u001b[0m\u001b[0;32m      2\u001b[0m \u001b[0minstructions\u001b[0m\u001b[1;33m.\u001b[0m\u001b[0mshape\u001b[0m\u001b[1;33m\u001b[0m\u001b[0m\n",
      "\u001b[1;32m<ipython-input-177-7694bd7032aa>\u001b[0m in \u001b[0;36mgenerate_instructions\u001b[1;34m(n, df_vehicles, index_col)\u001b[0m\n\u001b[0;32m     15\u001b[0m     \u001b[0mvot_hb\u001b[0m \u001b[1;33m=\u001b[0m \u001b[0mnp\u001b[0m\u001b[1;33m.\u001b[0m\u001b[0mclip\u001b[0m\u001b[1;33m(\u001b[0m\u001b[0mvot_lb\u001b[0m \u001b[1;33m+\u001b[0m \u001b[0mvot_buffer\u001b[0m\u001b[1;33m,\u001b[0m \u001b[0ma_min\u001b[0m\u001b[1;33m=\u001b[0m\u001b[0mmin_vot\u001b[0m\u001b[1;33m,\u001b[0m \u001b[0ma_max\u001b[0m\u001b[1;33m=\u001b[0m\u001b[0mmax_stime\u001b[0m\u001b[1;33m)\u001b[0m\u001b[1;33m\u001b[0m\u001b[0m\n\u001b[0;32m     16\u001b[0m \u001b[1;33m\u001b[0m\u001b[0m\n\u001b[1;32m---> 17\u001b[1;33m     \u001b[0mselect_index\u001b[0m \u001b[1;33m=\u001b[0m \u001b[0mdf_vehicles_deliv\u001b[0m\u001b[1;33m.\u001b[0m\u001b[0mloc\u001b[0m\u001b[1;33m[\u001b[0m\u001b[1;33m:\u001b[0m\u001b[1;33m,\u001b[0m\u001b[0mindex_col\u001b[0m\u001b[1;33m]\u001b[0m\u001b[1;33m.\u001b[0m\u001b[0mvalues\u001b[0m\u001b[1;33m[\u001b[0m\u001b[0mnp\u001b[0m\u001b[1;33m.\u001b[0m\u001b[0mrandom\u001b[0m\u001b[1;33m.\u001b[0m\u001b[0mrandint\u001b[0m\u001b[1;33m(\u001b[0m\u001b[0mdf_vehicles_deliv\u001b[0m\u001b[1;33m.\u001b[0m\u001b[0mshape\u001b[0m\u001b[1;33m[\u001b[0m\u001b[1;36m0\u001b[0m\u001b[1;33m]\u001b[0m\u001b[1;33m,\u001b[0m\u001b[0msize\u001b[0m\u001b[1;33m=\u001b[0m\u001b[0mn\u001b[0m\u001b[1;33m)\u001b[0m\u001b[1;33m]\u001b[0m\u001b[1;33m\u001b[0m\u001b[0m\n\u001b[0m\u001b[0;32m     18\u001b[0m \u001b[1;33m\u001b[0m\u001b[0m\n\u001b[0;32m     19\u001b[0m \u001b[1;31m#     origins = np.random.choice(np.arange(1,max_zone+1), replace=True, size=n)\u001b[0m\u001b[1;33m\u001b[0m\u001b[1;33m\u001b[0m\u001b[0m\n",
      "\u001b[1;32mC:\\Anaconda3\\lib\\site-packages\\pandas\\core\\indexing.py\u001b[0m in \u001b[0;36m__getitem__\u001b[1;34m(self, key)\u001b[0m\n\u001b[0;32m   1470\u001b[0m             \u001b[1;32mexcept\u001b[0m \u001b[1;33m(\u001b[0m\u001b[0mKeyError\u001b[0m\u001b[1;33m,\u001b[0m \u001b[0mIndexError\u001b[0m\u001b[1;33m)\u001b[0m\u001b[1;33m:\u001b[0m\u001b[1;33m\u001b[0m\u001b[0m\n\u001b[0;32m   1471\u001b[0m                 \u001b[1;32mpass\u001b[0m\u001b[1;33m\u001b[0m\u001b[0m\n\u001b[1;32m-> 1472\u001b[1;33m             \u001b[1;32mreturn\u001b[0m \u001b[0mself\u001b[0m\u001b[1;33m.\u001b[0m\u001b[0m_getitem_tuple\u001b[0m\u001b[1;33m(\u001b[0m\u001b[0mkey\u001b[0m\u001b[1;33m)\u001b[0m\u001b[1;33m\u001b[0m\u001b[0m\n\u001b[0m\u001b[0;32m   1473\u001b[0m         \u001b[1;32melse\u001b[0m\u001b[1;33m:\u001b[0m\u001b[1;33m\u001b[0m\u001b[0m\n\u001b[0;32m   1474\u001b[0m             \u001b[1;31m# we by definition only have the 0th axis\u001b[0m\u001b[1;33m\u001b[0m\u001b[1;33m\u001b[0m\u001b[0m\n",
      "\u001b[1;32mC:\\Anaconda3\\lib\\site-packages\\pandas\\core\\indexing.py\u001b[0m in \u001b[0;36m_getitem_tuple\u001b[1;34m(self, tup)\u001b[0m\n\u001b[0;32m    868\u001b[0m     \u001b[1;32mdef\u001b[0m \u001b[0m_getitem_tuple\u001b[0m\u001b[1;33m(\u001b[0m\u001b[0mself\u001b[0m\u001b[1;33m,\u001b[0m \u001b[0mtup\u001b[0m\u001b[1;33m)\u001b[0m\u001b[1;33m:\u001b[0m\u001b[1;33m\u001b[0m\u001b[0m\n\u001b[0;32m    869\u001b[0m         \u001b[1;32mtry\u001b[0m\u001b[1;33m:\u001b[0m\u001b[1;33m\u001b[0m\u001b[0m\n\u001b[1;32m--> 870\u001b[1;33m             \u001b[1;32mreturn\u001b[0m \u001b[0mself\u001b[0m\u001b[1;33m.\u001b[0m\u001b[0m_getitem_lowerdim\u001b[0m\u001b[1;33m(\u001b[0m\u001b[0mtup\u001b[0m\u001b[1;33m)\u001b[0m\u001b[1;33m\u001b[0m\u001b[0m\n\u001b[0m\u001b[0;32m    871\u001b[0m         \u001b[1;32mexcept\u001b[0m \u001b[0mIndexingError\u001b[0m\u001b[1;33m:\u001b[0m\u001b[1;33m\u001b[0m\u001b[0m\n\u001b[0;32m    872\u001b[0m             \u001b[1;32mpass\u001b[0m\u001b[1;33m\u001b[0m\u001b[0m\n",
      "\u001b[1;32mC:\\Anaconda3\\lib\\site-packages\\pandas\\core\\indexing.py\u001b[0m in \u001b[0;36m_getitem_lowerdim\u001b[1;34m(self, tup)\u001b[0m\n\u001b[0;32m    977\u001b[0m         \u001b[1;31m# we may have a nested tuples indexer here\u001b[0m\u001b[1;33m\u001b[0m\u001b[1;33m\u001b[0m\u001b[0m\n\u001b[0;32m    978\u001b[0m         \u001b[1;32mif\u001b[0m \u001b[0mself\u001b[0m\u001b[1;33m.\u001b[0m\u001b[0m_is_nested_tuple_indexer\u001b[0m\u001b[1;33m(\u001b[0m\u001b[0mtup\u001b[0m\u001b[1;33m)\u001b[0m\u001b[1;33m:\u001b[0m\u001b[1;33m\u001b[0m\u001b[0m\n\u001b[1;32m--> 979\u001b[1;33m             \u001b[1;32mreturn\u001b[0m \u001b[0mself\u001b[0m\u001b[1;33m.\u001b[0m\u001b[0m_getitem_nested_tuple\u001b[0m\u001b[1;33m(\u001b[0m\u001b[0mtup\u001b[0m\u001b[1;33m)\u001b[0m\u001b[1;33m\u001b[0m\u001b[0m\n\u001b[0m\u001b[0;32m    980\u001b[0m \u001b[1;33m\u001b[0m\u001b[0m\n\u001b[0;32m    981\u001b[0m         \u001b[1;31m# we maybe be using a tuple to represent multiple dimensions here\u001b[0m\u001b[1;33m\u001b[0m\u001b[1;33m\u001b[0m\u001b[0m\n",
      "\u001b[1;32mC:\\Anaconda3\\lib\\site-packages\\pandas\\core\\indexing.py\u001b[0m in \u001b[0;36m_getitem_nested_tuple\u001b[1;34m(self, tup)\u001b[0m\n\u001b[0;32m   1056\u001b[0m \u001b[1;33m\u001b[0m\u001b[0m\n\u001b[0;32m   1057\u001b[0m             \u001b[0mcurrent_ndim\u001b[0m \u001b[1;33m=\u001b[0m \u001b[0mobj\u001b[0m\u001b[1;33m.\u001b[0m\u001b[0mndim\u001b[0m\u001b[1;33m\u001b[0m\u001b[0m\n\u001b[1;32m-> 1058\u001b[1;33m             \u001b[0mobj\u001b[0m \u001b[1;33m=\u001b[0m \u001b[0mgetattr\u001b[0m\u001b[1;33m(\u001b[0m\u001b[0mobj\u001b[0m\u001b[1;33m,\u001b[0m \u001b[0mself\u001b[0m\u001b[1;33m.\u001b[0m\u001b[0mname\u001b[0m\u001b[1;33m)\u001b[0m\u001b[1;33m.\u001b[0m\u001b[0m_getitem_axis\u001b[0m\u001b[1;33m(\u001b[0m\u001b[0mkey\u001b[0m\u001b[1;33m,\u001b[0m \u001b[0maxis\u001b[0m\u001b[1;33m=\u001b[0m\u001b[0maxis\u001b[0m\u001b[1;33m)\u001b[0m\u001b[1;33m\u001b[0m\u001b[0m\n\u001b[0m\u001b[0;32m   1059\u001b[0m             \u001b[0maxis\u001b[0m \u001b[1;33m+=\u001b[0m \u001b[1;36m1\u001b[0m\u001b[1;33m\u001b[0m\u001b[0m\n\u001b[0;32m   1060\u001b[0m \u001b[1;33m\u001b[0m\u001b[0m\n",
      "\u001b[1;32mC:\\Anaconda3\\lib\\site-packages\\pandas\\core\\indexing.py\u001b[0m in \u001b[0;36m_getitem_axis\u001b[1;34m(self, key, axis)\u001b[0m\n\u001b[0;32m   1899\u001b[0m                     \u001b[1;32mraise\u001b[0m \u001b[0mValueError\u001b[0m\u001b[1;33m(\u001b[0m\u001b[1;34m'Cannot index with multidimensional key'\u001b[0m\u001b[1;33m)\u001b[0m\u001b[1;33m\u001b[0m\u001b[0m\n\u001b[0;32m   1900\u001b[0m \u001b[1;33m\u001b[0m\u001b[0m\n\u001b[1;32m-> 1901\u001b[1;33m                 \u001b[1;32mreturn\u001b[0m \u001b[0mself\u001b[0m\u001b[1;33m.\u001b[0m\u001b[0m_getitem_iterable\u001b[0m\u001b[1;33m(\u001b[0m\u001b[0mkey\u001b[0m\u001b[1;33m,\u001b[0m \u001b[0maxis\u001b[0m\u001b[1;33m=\u001b[0m\u001b[0maxis\u001b[0m\u001b[1;33m)\u001b[0m\u001b[1;33m\u001b[0m\u001b[0m\n\u001b[0m\u001b[0;32m   1902\u001b[0m \u001b[1;33m\u001b[0m\u001b[0m\n\u001b[0;32m   1903\u001b[0m             \u001b[1;31m# nested tuple slicing\u001b[0m\u001b[1;33m\u001b[0m\u001b[1;33m\u001b[0m\u001b[0m\n",
      "\u001b[1;32mC:\\Anaconda3\\lib\\site-packages\\pandas\\core\\indexing.py\u001b[0m in \u001b[0;36m_getitem_iterable\u001b[1;34m(self, key, axis)\u001b[0m\n\u001b[0;32m   1141\u001b[0m             \u001b[1;32mif\u001b[0m \u001b[0mlabels\u001b[0m\u001b[1;33m.\u001b[0m\u001b[0mis_unique\u001b[0m \u001b[1;32mand\u001b[0m \u001b[0mIndex\u001b[0m\u001b[1;33m(\u001b[0m\u001b[0mkeyarr\u001b[0m\u001b[1;33m)\u001b[0m\u001b[1;33m.\u001b[0m\u001b[0mis_unique\u001b[0m\u001b[1;33m:\u001b[0m\u001b[1;33m\u001b[0m\u001b[0m\n\u001b[0;32m   1142\u001b[0m                 \u001b[0mindexer\u001b[0m \u001b[1;33m=\u001b[0m \u001b[0max\u001b[0m\u001b[1;33m.\u001b[0m\u001b[0mget_indexer_for\u001b[0m\u001b[1;33m(\u001b[0m\u001b[0mkey\u001b[0m\u001b[1;33m)\u001b[0m\u001b[1;33m\u001b[0m\u001b[0m\n\u001b[1;32m-> 1143\u001b[1;33m                 \u001b[0mself\u001b[0m\u001b[1;33m.\u001b[0m\u001b[0m_validate_read_indexer\u001b[0m\u001b[1;33m(\u001b[0m\u001b[0mkey\u001b[0m\u001b[1;33m,\u001b[0m \u001b[0mindexer\u001b[0m\u001b[1;33m,\u001b[0m \u001b[0maxis\u001b[0m\u001b[1;33m)\u001b[0m\u001b[1;33m\u001b[0m\u001b[0m\n\u001b[0m\u001b[0;32m   1144\u001b[0m \u001b[1;33m\u001b[0m\u001b[0m\n\u001b[0;32m   1145\u001b[0m                 \u001b[0md\u001b[0m \u001b[1;33m=\u001b[0m \u001b[1;33m{\u001b[0m\u001b[0maxis\u001b[0m\u001b[1;33m:\u001b[0m \u001b[1;33m[\u001b[0m\u001b[0max\u001b[0m\u001b[1;33m.\u001b[0m\u001b[0mreindex\u001b[0m\u001b[1;33m(\u001b[0m\u001b[0mkeyarr\u001b[0m\u001b[1;33m)\u001b[0m\u001b[1;33m[\u001b[0m\u001b[1;36m0\u001b[0m\u001b[1;33m]\u001b[0m\u001b[1;33m,\u001b[0m \u001b[0mindexer\u001b[0m\u001b[1;33m]\u001b[0m\u001b[1;33m}\u001b[0m\u001b[1;33m\u001b[0m\u001b[0m\n",
      "\u001b[1;32mC:\\Anaconda3\\lib\\site-packages\\pandas\\core\\indexing.py\u001b[0m in \u001b[0;36m_validate_read_indexer\u001b[1;34m(self, key, indexer, axis)\u001b[0m\n\u001b[0;32m   1204\u001b[0m                 raise KeyError(\n\u001b[0;32m   1205\u001b[0m                     u\"None of [{key}] are in the [{axis}]\".format(\n\u001b[1;32m-> 1206\u001b[1;33m                         key=key, axis=self.obj._get_axis_name(axis)))\n\u001b[0m\u001b[0;32m   1207\u001b[0m \u001b[1;33m\u001b[0m\u001b[0m\n\u001b[0;32m   1208\u001b[0m             \u001b[1;31m# we skip the warning on Categorical/Interval\u001b[0m\u001b[1;33m\u001b[0m\u001b[1;33m\u001b[0m\u001b[0m\n",
      "\u001b[1;31mKeyError\u001b[0m: \"None of [['Izone', 'DZone', 'TP', 'ioc', 'vehtype']] are in the [columns]\""
     ]
    }
   ],
   "source": [
    "instructions = generate_instructions(5, df_vehicles_deliv)\n",
    "instructions.shape"
   ]
  },
  {
   "cell_type": "code",
   "execution_count": 156,
   "metadata": {},
   "outputs": [
    {
     "data": {
      "text/plain": [
       "array([[1.86100000e+03, 9.22000000e+02, 5.00000000e+00, 0.00000000e+00,\n",
       "        4.00000000e+00, 4.91067415e+02, 4.91067415e+02, 3.52688743e+01,\n",
       "        3.82688743e+01],\n",
       "       [2.14800000e+03, 2.15100000e+03, 3.00000000e+00, 0.00000000e+00,\n",
       "        1.00000000e+00, 1.32560663e+03, 1.32560663e+03, 8.00006848e+01,\n",
       "        8.50006848e+01],\n",
       "       [1.02000000e+03, 1.99000000e+03, 2.00000000e+00, 0.00000000e+00,\n",
       "        1.00000000e+00, 1.15546470e+03, 1.15646470e+03, 7.76582831e+01,\n",
       "        8.56582831e+01],\n",
       "       [5.13000000e+02, 1.24200000e+03, 4.00000000e+00, 0.00000000e+00,\n",
       "        1.00000000e+00, 2.11379807e+02, 2.13379807e+02, 6.29048065e+01,\n",
       "        6.29048065e+01],\n",
       "       [3.39100000e+03, 1.47300000e+03, 4.00000000e+00, 0.00000000e+00,\n",
       "        1.00000000e+00, 6.24282569e+02, 6.24282569e+02, 4.09324973e+01,\n",
       "        4.49324973e+01]])"
      ]
     },
     "execution_count": 156,
     "metadata": {},
     "output_type": "execute_result"
    }
   ],
   "source": [
    "instructions"
   ]
  },
  {
   "cell_type": "code",
   "execution_count": 154,
   "metadata": {
    "collapsed": true
   },
   "outputs": [],
   "source": [
    "def timeit(func):\n",
    "    def f(*args, **kwargs):\n",
    "        args = list(args)\n",
    "        start_time = time()\n",
    "        rv = func(*args, **kwargs)\n",
    "        end_time = time()\n",
    "        print(\"Execution time = {0:.0f} sec\".format(end_time-start_time))\n",
    "        return rv\n",
    "    return f"
   ]
  },
  {
   "cell_type": "code",
   "execution_count": 155,
   "metadata": {
    "collapsed": true
   },
   "outputs": [],
   "source": [
    "@timeit\n",
    "def find_vehicles(df_vehicles, instructions):\n",
    "    vehicle_count = 0\n",
    "    vehicles_invalid = []\n",
    "    for instruction in instructions:\n",
    "        anchor = tuple(instruction[:5])\n",
    "        if df_vehicles.index.contains(anchor):\n",
    "            chosen = df_vehicles.loc[anchor]\n",
    "            stime_lb, stime_hb, vot_lb, vot_hb = tuple(instruction[5:])\n",
    "            selection_time = (df_vehicles.stime >= stime_lb) & (df_vehicles.stime <= stime_hb)\n",
    "            selection_vot = (df_vehicles.VoT >= vot_lb) & (df_vehicles.VoT <= vot_hb)\n",
    "            chosen = df_vehicles.loc[selection_time & selection_vot]\n",
    "            if chosen.shape[0] > 0:\n",
    "                vehicle_count += chosen.shape[0]\n",
    "        else:\n",
    "            vehicles_invalid.append(anchor)\n",
    "    return vehicle_count, vehicles_invalid"
   ]
  },
  {
   "cell_type": "code",
   "execution_count": 161,
   "metadata": {
    "collapsed": true
   },
   "outputs": [],
   "source": [
    "df_vehicles_deliv.set_index(index_columns, inplace=True)"
   ]
  },
  {
   "cell_type": "code",
   "execution_count": 111,
   "metadata": {
    "collapsed": true
   },
   "outputs": [],
   "source": [
    "df_vehicles_deliv_subset = df_vehicles_deliv.head()"
   ]
  },
  {
   "cell_type": "code",
   "execution_count": 162,
   "metadata": {},
   "outputs": [
    {
     "ename": "KeyError",
     "evalue": "'the label [1861.0] is not in the [index]'",
     "output_type": "error",
     "traceback": [
      "\u001b[1;31m---------------------------------------------------------------------------\u001b[0m",
      "\u001b[1;31mKeyError\u001b[0m                                  Traceback (most recent call last)",
      "\u001b[1;32mC:\\Anaconda3\\lib\\site-packages\\pandas\\core\\indexing.py\u001b[0m in \u001b[0;36m_validate_key\u001b[1;34m(self, key, axis)\u001b[0m\n\u001b[0;32m   1789\u001b[0m                 \u001b[1;32mif\u001b[0m \u001b[1;32mnot\u001b[0m \u001b[0max\u001b[0m\u001b[1;33m.\u001b[0m\u001b[0mcontains\u001b[0m\u001b[1;33m(\u001b[0m\u001b[0mkey\u001b[0m\u001b[1;33m)\u001b[0m\u001b[1;33m:\u001b[0m\u001b[1;33m\u001b[0m\u001b[0m\n\u001b[1;32m-> 1790\u001b[1;33m                     \u001b[0merror\u001b[0m\u001b[1;33m(\u001b[0m\u001b[1;33m)\u001b[0m\u001b[1;33m\u001b[0m\u001b[0m\n\u001b[0m\u001b[0;32m   1791\u001b[0m             \u001b[1;32mexcept\u001b[0m \u001b[0mTypeError\u001b[0m \u001b[1;32mas\u001b[0m \u001b[0me\u001b[0m\u001b[1;33m:\u001b[0m\u001b[1;33m\u001b[0m\u001b[0m\n",
      "\u001b[1;32mC:\\Anaconda3\\lib\\site-packages\\pandas\\core\\indexing.py\u001b[0m in \u001b[0;36merror\u001b[1;34m()\u001b[0m\n\u001b[0;32m   1784\u001b[0m                                .format(key=key,\n\u001b[1;32m-> 1785\u001b[1;33m                                        axis=self.obj._get_axis_name(axis)))\n\u001b[0m\u001b[0;32m   1786\u001b[0m \u001b[1;33m\u001b[0m\u001b[0m\n",
      "\u001b[1;31mKeyError\u001b[0m: 'the label [1861.0] is not in the [index]'",
      "\nDuring handling of the above exception, another exception occurred:\n",
      "\u001b[1;31mKeyError\u001b[0m                                  Traceback (most recent call last)",
      "\u001b[1;32m<ipython-input-162-c44198d9bdca>\u001b[0m in \u001b[0;36m<module>\u001b[1;34m()\u001b[0m\n\u001b[1;32m----> 1\u001b[1;33m \u001b[0mvehicle_count\u001b[0m\u001b[1;33m,\u001b[0m \u001b[0mvehicles_invalid\u001b[0m \u001b[1;33m=\u001b[0m \u001b[0mfind_vehicles\u001b[0m\u001b[1;33m(\u001b[0m\u001b[0mdf_vehicles_deliv\u001b[0m\u001b[1;33m,\u001b[0m \u001b[0minstructions\u001b[0m\u001b[1;33m)\u001b[0m\u001b[1;33m\u001b[0m\u001b[0m\n\u001b[0m",
      "\u001b[1;32m<ipython-input-154-42e887d0d4c1>\u001b[0m in \u001b[0;36mf\u001b[1;34m(*args, **kwargs)\u001b[0m\n\u001b[0;32m      3\u001b[0m         \u001b[0margs\u001b[0m \u001b[1;33m=\u001b[0m \u001b[0mlist\u001b[0m\u001b[1;33m(\u001b[0m\u001b[0margs\u001b[0m\u001b[1;33m)\u001b[0m\u001b[1;33m\u001b[0m\u001b[0m\n\u001b[0;32m      4\u001b[0m         \u001b[0mstart_time\u001b[0m \u001b[1;33m=\u001b[0m \u001b[0mtime\u001b[0m\u001b[1;33m(\u001b[0m\u001b[1;33m)\u001b[0m\u001b[1;33m\u001b[0m\u001b[0m\n\u001b[1;32m----> 5\u001b[1;33m         \u001b[0mrv\u001b[0m \u001b[1;33m=\u001b[0m \u001b[0mfunc\u001b[0m\u001b[1;33m(\u001b[0m\u001b[1;33m*\u001b[0m\u001b[0margs\u001b[0m\u001b[1;33m,\u001b[0m \u001b[1;33m**\u001b[0m\u001b[0mkwargs\u001b[0m\u001b[1;33m)\u001b[0m\u001b[1;33m\u001b[0m\u001b[0m\n\u001b[0m\u001b[0;32m      6\u001b[0m         \u001b[0mend_time\u001b[0m \u001b[1;33m=\u001b[0m \u001b[0mtime\u001b[0m\u001b[1;33m(\u001b[0m\u001b[1;33m)\u001b[0m\u001b[1;33m\u001b[0m\u001b[0m\n\u001b[0;32m      7\u001b[0m         \u001b[0mprint\u001b[0m\u001b[1;33m(\u001b[0m\u001b[1;34m\"Execution time = {0:.0f} sec\"\u001b[0m\u001b[1;33m.\u001b[0m\u001b[0mformat\u001b[0m\u001b[1;33m(\u001b[0m\u001b[0mend_time\u001b[0m\u001b[1;33m-\u001b[0m\u001b[0mstart_time\u001b[0m\u001b[1;33m)\u001b[0m\u001b[1;33m)\u001b[0m\u001b[1;33m\u001b[0m\u001b[0m\n",
      "\u001b[1;32m<ipython-input-155-d2d91adeec91>\u001b[0m in \u001b[0;36mfind_vehicles\u001b[1;34m(df_vehicles, instructions)\u001b[0m\n\u001b[0;32m      9\u001b[0m             \u001b[0mselection_time\u001b[0m \u001b[1;33m=\u001b[0m \u001b[1;33m(\u001b[0m\u001b[0mdf_vehicles\u001b[0m\u001b[1;33m.\u001b[0m\u001b[0mstime\u001b[0m \u001b[1;33m>=\u001b[0m \u001b[0mstime_lb\u001b[0m\u001b[1;33m)\u001b[0m \u001b[1;33m&\u001b[0m \u001b[1;33m(\u001b[0m\u001b[0mdf_vehicles\u001b[0m\u001b[1;33m.\u001b[0m\u001b[0mstime\u001b[0m \u001b[1;33m<=\u001b[0m \u001b[0mstime_hb\u001b[0m\u001b[1;33m)\u001b[0m\u001b[1;33m\u001b[0m\u001b[0m\n\u001b[0;32m     10\u001b[0m             \u001b[0mselection_vot\u001b[0m \u001b[1;33m=\u001b[0m \u001b[1;33m(\u001b[0m\u001b[0mdf_vehicles\u001b[0m\u001b[1;33m.\u001b[0m\u001b[0mVoT\u001b[0m \u001b[1;33m>=\u001b[0m \u001b[0mvot_lb\u001b[0m\u001b[1;33m)\u001b[0m \u001b[1;33m&\u001b[0m \u001b[1;33m(\u001b[0m\u001b[0mdf_vehicles\u001b[0m\u001b[1;33m.\u001b[0m\u001b[0mVoT\u001b[0m \u001b[1;33m<=\u001b[0m \u001b[0mvot_hb\u001b[0m\u001b[1;33m)\u001b[0m\u001b[1;33m\u001b[0m\u001b[0m\n\u001b[1;32m---> 11\u001b[1;33m             \u001b[0mchosen\u001b[0m \u001b[1;33m=\u001b[0m \u001b[0mdf_vehicles\u001b[0m\u001b[1;33m.\u001b[0m\u001b[0mloc\u001b[0m\u001b[1;33m[\u001b[0m\u001b[0mselection_time\u001b[0m \u001b[1;33m&\u001b[0m \u001b[0mselection_vot\u001b[0m\u001b[1;33m]\u001b[0m\u001b[1;33m.\u001b[0m\u001b[0mloc\u001b[0m\u001b[1;33m[\u001b[0m\u001b[0manchor\u001b[0m\u001b[1;33m]\u001b[0m\u001b[1;33m\u001b[0m\u001b[0m\n\u001b[0m\u001b[0;32m     12\u001b[0m             \u001b[0mchosen\u001b[0m \u001b[1;33m=\u001b[0m \u001b[0mdf_vehicles\u001b[0m\u001b[1;33m.\u001b[0m\u001b[0mloc\u001b[0m\u001b[1;33m[\u001b[0m\u001b[0manchor\u001b[0m\u001b[1;33m]\u001b[0m\u001b[1;33m\u001b[0m\u001b[0m\n\u001b[0;32m     13\u001b[0m             \u001b[0mvehicle_count\u001b[0m \u001b[1;33m+=\u001b[0m \u001b[0mchosen\u001b[0m\u001b[1;33m.\u001b[0m\u001b[0mshape\u001b[0m\u001b[1;33m[\u001b[0m\u001b[1;36m0\u001b[0m\u001b[1;33m]\u001b[0m\u001b[1;33m\u001b[0m\u001b[0m\n",
      "\u001b[1;32mC:\\Anaconda3\\lib\\site-packages\\pandas\\core\\indexing.py\u001b[0m in \u001b[0;36m__getitem__\u001b[1;34m(self, key)\u001b[0m\n\u001b[0;32m   1470\u001b[0m             \u001b[1;32mexcept\u001b[0m \u001b[1;33m(\u001b[0m\u001b[0mKeyError\u001b[0m\u001b[1;33m,\u001b[0m \u001b[0mIndexError\u001b[0m\u001b[1;33m)\u001b[0m\u001b[1;33m:\u001b[0m\u001b[1;33m\u001b[0m\u001b[0m\n\u001b[0;32m   1471\u001b[0m                 \u001b[1;32mpass\u001b[0m\u001b[1;33m\u001b[0m\u001b[0m\n\u001b[1;32m-> 1472\u001b[1;33m             \u001b[1;32mreturn\u001b[0m \u001b[0mself\u001b[0m\u001b[1;33m.\u001b[0m\u001b[0m_getitem_tuple\u001b[0m\u001b[1;33m(\u001b[0m\u001b[0mkey\u001b[0m\u001b[1;33m)\u001b[0m\u001b[1;33m\u001b[0m\u001b[0m\n\u001b[0m\u001b[0;32m   1473\u001b[0m         \u001b[1;32melse\u001b[0m\u001b[1;33m:\u001b[0m\u001b[1;33m\u001b[0m\u001b[0m\n\u001b[0;32m   1474\u001b[0m             \u001b[1;31m# we by definition only have the 0th axis\u001b[0m\u001b[1;33m\u001b[0m\u001b[1;33m\u001b[0m\u001b[0m\n",
      "\u001b[1;32mC:\\Anaconda3\\lib\\site-packages\\pandas\\core\\indexing.py\u001b[0m in \u001b[0;36m_getitem_tuple\u001b[1;34m(self, tup)\u001b[0m\n\u001b[0;32m    873\u001b[0m \u001b[1;33m\u001b[0m\u001b[0m\n\u001b[0;32m    874\u001b[0m         \u001b[1;31m# no multi-index, so validate all of the indexers\u001b[0m\u001b[1;33m\u001b[0m\u001b[1;33m\u001b[0m\u001b[0m\n\u001b[1;32m--> 875\u001b[1;33m         \u001b[0mself\u001b[0m\u001b[1;33m.\u001b[0m\u001b[0m_has_valid_tuple\u001b[0m\u001b[1;33m(\u001b[0m\u001b[0mtup\u001b[0m\u001b[1;33m)\u001b[0m\u001b[1;33m\u001b[0m\u001b[0m\n\u001b[0m\u001b[0;32m    876\u001b[0m \u001b[1;33m\u001b[0m\u001b[0m\n\u001b[0;32m    877\u001b[0m         \u001b[1;31m# ugly hack for GH #836\u001b[0m\u001b[1;33m\u001b[0m\u001b[1;33m\u001b[0m\u001b[0m\n",
      "\u001b[1;32mC:\\Anaconda3\\lib\\site-packages\\pandas\\core\\indexing.py\u001b[0m in \u001b[0;36m_has_valid_tuple\u001b[1;34m(self, key)\u001b[0m\n\u001b[0;32m    220\u001b[0m                 \u001b[1;32mraise\u001b[0m \u001b[0mIndexingError\u001b[0m\u001b[1;33m(\u001b[0m\u001b[1;34m'Too many indexers'\u001b[0m\u001b[1;33m)\u001b[0m\u001b[1;33m\u001b[0m\u001b[0m\n\u001b[0;32m    221\u001b[0m             \u001b[1;32mtry\u001b[0m\u001b[1;33m:\u001b[0m\u001b[1;33m\u001b[0m\u001b[0m\n\u001b[1;32m--> 222\u001b[1;33m                 \u001b[0mself\u001b[0m\u001b[1;33m.\u001b[0m\u001b[0m_validate_key\u001b[0m\u001b[1;33m(\u001b[0m\u001b[0mk\u001b[0m\u001b[1;33m,\u001b[0m \u001b[0mi\u001b[0m\u001b[1;33m)\u001b[0m\u001b[1;33m\u001b[0m\u001b[0m\n\u001b[0m\u001b[0;32m    223\u001b[0m             \u001b[1;32mexcept\u001b[0m \u001b[0mValueError\u001b[0m\u001b[1;33m:\u001b[0m\u001b[1;33m\u001b[0m\u001b[0m\n\u001b[0;32m    224\u001b[0m                 raise ValueError(\"Location based indexing can only have \"\n",
      "\u001b[1;32mC:\\Anaconda3\\lib\\site-packages\\pandas\\core\\indexing.py\u001b[0m in \u001b[0;36m_validate_key\u001b[1;34m(self, key, axis)\u001b[0m\n\u001b[0;32m   1796\u001b[0m                 \u001b[1;32mraise\u001b[0m\u001b[1;33m\u001b[0m\u001b[0m\n\u001b[0;32m   1797\u001b[0m             \u001b[1;32mexcept\u001b[0m\u001b[1;33m:\u001b[0m\u001b[1;33m\u001b[0m\u001b[0m\n\u001b[1;32m-> 1798\u001b[1;33m                 \u001b[0merror\u001b[0m\u001b[1;33m(\u001b[0m\u001b[1;33m)\u001b[0m\u001b[1;33m\u001b[0m\u001b[0m\n\u001b[0m\u001b[0;32m   1799\u001b[0m \u001b[1;33m\u001b[0m\u001b[0m\n\u001b[0;32m   1800\u001b[0m     \u001b[1;32mdef\u001b[0m \u001b[0m_is_scalar_access\u001b[0m\u001b[1;33m(\u001b[0m\u001b[0mself\u001b[0m\u001b[1;33m,\u001b[0m \u001b[0mkey\u001b[0m\u001b[1;33m)\u001b[0m\u001b[1;33m:\u001b[0m\u001b[1;33m\u001b[0m\u001b[0m\n",
      "\u001b[1;32mC:\\Anaconda3\\lib\\site-packages\\pandas\\core\\indexing.py\u001b[0m in \u001b[0;36merror\u001b[1;34m()\u001b[0m\n\u001b[0;32m   1783\u001b[0m                 raise KeyError(u\"the label [{key}] is not in the [{axis}]\"\n\u001b[0;32m   1784\u001b[0m                                .format(key=key,\n\u001b[1;32m-> 1785\u001b[1;33m                                        axis=self.obj._get_axis_name(axis)))\n\u001b[0m\u001b[0;32m   1786\u001b[0m \u001b[1;33m\u001b[0m\u001b[0m\n\u001b[0;32m   1787\u001b[0m             \u001b[1;32mtry\u001b[0m\u001b[1;33m:\u001b[0m\u001b[1;33m\u001b[0m\u001b[0m\n",
      "\u001b[1;31mKeyError\u001b[0m: 'the label [1861.0] is not in the [index]'"
     ]
    }
   ],
   "source": [
    "vehicle_count, vehicles_invalid = find_vehicles(df_vehicles_deliv, instructions)"
   ]
  },
  {
   "cell_type": "code",
   "execution_count": 159,
   "metadata": {},
   "outputs": [
    {
     "name": "stdout",
     "output_type": "stream",
     "text": [
      "0\n"
     ]
    }
   ],
   "source": [
    "print(vehicle_count)"
   ]
  },
  {
   "cell_type": "code",
   "execution_count": 163,
   "metadata": {},
   "outputs": [
    {
     "data": {
      "text/plain": [
       "True"
      ]
     },
     "execution_count": 163,
     "metadata": {},
     "output_type": "execute_result"
    }
   ],
   "source": [
    "df_vehicles_deliv.index.contains((1861.0, 922.0, 5.0, 0.0, 4.0))"
   ]
  },
  {
   "cell_type": "code",
   "execution_count": 164,
   "metadata": {},
   "outputs": [
    {
     "data": {
      "text/html": [
       "<div>\n",
       "<style scoped>\n",
       "    .dataframe tbody tr th:only-of-type {\n",
       "        vertical-align: middle;\n",
       "    }\n",
       "\n",
       "    .dataframe tbody tr th {\n",
       "        vertical-align: top;\n",
       "    }\n",
       "\n",
       "    .dataframe thead th {\n",
       "        text-align: right;\n",
       "    }\n",
       "</style>\n",
       "<table border=\"1\" class=\"dataframe\">\n",
       "  <thead>\n",
       "    <tr style=\"text-align: right;\">\n",
       "      <th></th>\n",
       "      <th></th>\n",
       "      <th></th>\n",
       "      <th></th>\n",
       "      <th></th>\n",
       "      <th>vid</th>\n",
       "      <th>usec</th>\n",
       "      <th>dsec</th>\n",
       "      <th>stime</th>\n",
       "      <th>vehcls</th>\n",
       "      <th>#ONode</th>\n",
       "      <th>#IntDe</th>\n",
       "      <th>info</th>\n",
       "      <th>ribf</th>\n",
       "      <th>comp</th>\n",
       "      <th>Evac</th>\n",
       "      <th>InitPos</th>\n",
       "      <th>VoT</th>\n",
       "      <th>tFlag</th>\n",
       "      <th>pArrTime</th>\n",
       "      <th>IniGas</th>\n",
       "      <th>waitTime</th>\n",
       "    </tr>\n",
       "    <tr>\n",
       "      <th>Izone</th>\n",
       "      <th>DZone</th>\n",
       "      <th>TP</th>\n",
       "      <th>ioc</th>\n",
       "      <th>vehtype</th>\n",
       "      <th></th>\n",
       "      <th></th>\n",
       "      <th></th>\n",
       "      <th></th>\n",
       "      <th></th>\n",
       "      <th></th>\n",
       "      <th></th>\n",
       "      <th></th>\n",
       "      <th></th>\n",
       "      <th></th>\n",
       "      <th></th>\n",
       "      <th></th>\n",
       "      <th></th>\n",
       "      <th></th>\n",
       "      <th></th>\n",
       "      <th></th>\n",
       "      <th></th>\n",
       "    </tr>\n",
       "  </thead>\n",
       "  <tbody>\n",
       "    <tr>\n",
       "      <th rowspan=\"2\" valign=\"top\">1861</th>\n",
       "      <th rowspan=\"2\" valign=\"top\">922</th>\n",
       "      <th rowspan=\"2\" valign=\"top\">5</th>\n",
       "      <th rowspan=\"2\" valign=\"top\">0</th>\n",
       "      <th>4</th>\n",
       "      <td>6852616</td>\n",
       "      <td>282965</td>\n",
       "      <td>39460</td>\n",
       "      <td>709.900024</td>\n",
       "      <td>3</td>\n",
       "      <td>24</td>\n",
       "      <td>1</td>\n",
       "      <td>0</td>\n",
       "      <td>0.199951</td>\n",
       "      <td>0.0</td>\n",
       "      <td>0</td>\n",
       "      <td>0.1381</td>\n",
       "      <td>18.940001</td>\n",
       "      <td>0</td>\n",
       "      <td>0.0</td>\n",
       "      <td>0.0</td>\n",
       "      <td>0.0</td>\n",
       "    </tr>\n",
       "    <tr>\n",
       "      <th>4</th>\n",
       "      <td>7184080</td>\n",
       "      <td>282965</td>\n",
       "      <td>79489</td>\n",
       "      <td>726.900024</td>\n",
       "      <td>3</td>\n",
       "      <td>15</td>\n",
       "      <td>1</td>\n",
       "      <td>0</td>\n",
       "      <td>0.199951</td>\n",
       "      <td>0.0</td>\n",
       "      <td>0</td>\n",
       "      <td>0.7025</td>\n",
       "      <td>18.940001</td>\n",
       "      <td>0</td>\n",
       "      <td>0.0</td>\n",
       "      <td>0.0</td>\n",
       "      <td>0.0</td>\n",
       "    </tr>\n",
       "  </tbody>\n",
       "</table>\n",
       "</div>"
      ],
      "text/plain": [
       "                                vid    usec   dsec       stime  vehcls  \\\n",
       "Izone DZone TP ioc vehtype                                               \n",
       "1861  922   5  0   4        6852616  282965  39460  709.900024       3   \n",
       "                   4        7184080  282965  79489  726.900024       3   \n",
       "\n",
       "                            #ONode  #IntDe  info      ribf  comp  Evac  \\\n",
       "Izone DZone TP ioc vehtype                                               \n",
       "1861  922   5  0   4            24       1     0  0.199951   0.0     0   \n",
       "                   4            15       1     0  0.199951   0.0     0   \n",
       "\n",
       "                            InitPos        VoT  tFlag  pArrTime  IniGas  \\\n",
       "Izone DZone TP ioc vehtype                                                \n",
       "1861  922   5  0   4         0.1381  18.940001      0       0.0     0.0   \n",
       "                   4         0.7025  18.940001      0       0.0     0.0   \n",
       "\n",
       "                            waitTime  \n",
       "Izone DZone TP ioc vehtype            \n",
       "1861  922   5  0   4             0.0  \n",
       "                   4             0.0  "
      ]
     },
     "execution_count": 164,
     "metadata": {},
     "output_type": "execute_result"
    }
   ],
   "source": [
    "df_vehicles_deliv.loc[(1861.0, 922.0, 5.0, 0.0, 4.0)]"
   ]
  },
  {
   "cell_type": "code",
   "execution_count": 173,
   "metadata": {},
   "outputs": [],
   "source": [
    "stime_lb = np.random.uniform(low=min_stime, high=max_stime, size=5)\n",
    "stime_buffer = np.random.randint(low=1, high=3, size=5)\n",
    "stime_hb = np.clip(stime_lb + stime_buffer, a_min=0, a_max=max_stime)"
   ]
  },
  {
   "cell_type": "code",
   "execution_count": 174,
   "metadata": {},
   "outputs": [
    {
     "data": {
      "text/plain": [
       "(array([ 884.16911472, 1260.11489003,   62.51035024, 1111.04520824,\n",
       "         616.14279798]),\n",
       " array([2, 1, 1, 1, 1]),\n",
       " array([ 886.16911472, 1261.11489003,   63.51035024, 1112.04520824,\n",
       "         617.14279798]))"
      ]
     },
     "execution_count": 174,
     "metadata": {},
     "output_type": "execute_result"
    }
   ],
   "source": [
    "stime_lb, stime_buffer, stime_hb"
   ]
  },
  {
   "cell_type": "code",
   "execution_count": 176,
   "metadata": {},
   "outputs": [
    {
     "data": {
      "text/plain": [
       "array([ 886.16911472, 1261.11489003,   63.51035024, 1112.04520824,\n",
       "        617.14279798])"
      ]
     },
     "execution_count": 176,
     "metadata": {},
     "output_type": "execute_result"
    }
   ],
   "source": [
    "np.clip(stime_lb + stime_buffer, a_min=0, a_max=max_stime)"
   ]
  },
  {
   "cell_type": "code",
   "execution_count": 145,
   "metadata": {},
   "outputs": [
    {
     "data": {
      "text/plain": [
       "array([[0, 1, 0, 1, 2],\n",
       "       [2, 3, 3, 4, 5],\n",
       "       [4, 5, 6, 7, 8]])"
      ]
     },
     "execution_count": 145,
     "metadata": {},
     "output_type": "execute_result"
    }
   ],
   "source": [
    "a = np.arange(6)\n",
    "a.resize((3,2))\n",
    "b = np.arange(9)\n",
    "b.resize(3,3)\n",
    "np.column_stack((a,b))"
   ]
  },
  {
   "cell_type": "code",
   "execution_count": 146,
   "metadata": {},
   "outputs": [
    {
     "data": {
      "text/plain": [
       "(array([[0, 1],\n",
       "        [2, 3],\n",
       "        [4, 5]]), array([[0, 1, 2],\n",
       "        [3, 4, 5],\n",
       "        [6, 7, 8]]))"
      ]
     },
     "execution_count": 146,
     "metadata": {},
     "output_type": "execute_result"
    }
   ],
   "source": [
    "a, b"
   ]
  },
  {
   "cell_type": "code",
   "execution_count": null,
   "metadata": {
    "collapsed": true
   },
   "outputs": [],
   "source": []
  },
  {
   "cell_type": "code",
   "execution_count": null,
   "metadata": {
    "collapsed": true
   },
   "outputs": [],
   "source": []
  },
  {
   "cell_type": "code",
   "execution_count": null,
   "metadata": {
    "collapsed": true
   },
   "outputs": [],
   "source": []
  },
  {
   "cell_type": "code",
   "execution_count": 120,
   "metadata": {},
   "outputs": [
    {
     "data": {
      "text/plain": [
       "False"
      ]
     },
     "execution_count": 120,
     "metadata": {},
     "output_type": "execute_result"
    }
   ],
   "source": []
  },
  {
   "cell_type": "code",
   "execution_count": 121,
   "metadata": {},
   "outputs": [
    {
     "data": {
      "text/html": [
       "<div>\n",
       "<style scoped>\n",
       "    .dataframe tbody tr th:only-of-type {\n",
       "        vertical-align: middle;\n",
       "    }\n",
       "\n",
       "    .dataframe tbody tr th {\n",
       "        vertical-align: top;\n",
       "    }\n",
       "\n",
       "    .dataframe thead th {\n",
       "        text-align: right;\n",
       "    }\n",
       "</style>\n",
       "<table border=\"1\" class=\"dataframe\">\n",
       "  <thead>\n",
       "    <tr style=\"text-align: right;\">\n",
       "      <th></th>\n",
       "      <th></th>\n",
       "      <th></th>\n",
       "      <th></th>\n",
       "      <th></th>\n",
       "      <th>vid</th>\n",
       "      <th>usec</th>\n",
       "      <th>dsec</th>\n",
       "      <th>stime</th>\n",
       "      <th>vehcls</th>\n",
       "      <th>#ONode</th>\n",
       "      <th>#IntDe</th>\n",
       "      <th>info</th>\n",
       "      <th>ribf</th>\n",
       "      <th>comp</th>\n",
       "      <th>Evac</th>\n",
       "      <th>InitPos</th>\n",
       "      <th>VoT</th>\n",
       "      <th>tFlag</th>\n",
       "      <th>pArrTime</th>\n",
       "      <th>IniGas</th>\n",
       "      <th>waitTime</th>\n",
       "    </tr>\n",
       "    <tr>\n",
       "      <th>Izone</th>\n",
       "      <th>DZone</th>\n",
       "      <th>TP</th>\n",
       "      <th>ioc</th>\n",
       "      <th>vehtype</th>\n",
       "      <th></th>\n",
       "      <th></th>\n",
       "      <th></th>\n",
       "      <th></th>\n",
       "      <th></th>\n",
       "      <th></th>\n",
       "      <th></th>\n",
       "      <th></th>\n",
       "      <th></th>\n",
       "      <th></th>\n",
       "      <th></th>\n",
       "      <th></th>\n",
       "      <th></th>\n",
       "      <th></th>\n",
       "      <th></th>\n",
       "      <th></th>\n",
       "      <th></th>\n",
       "    </tr>\n",
       "  </thead>\n",
       "  <tbody>\n",
       "    <tr>\n",
       "      <th rowspan=\"5\" valign=\"top\">5262</th>\n",
       "      <th>5106</th>\n",
       "      <th>5</th>\n",
       "      <th>0</th>\n",
       "      <th>1</th>\n",
       "      <td>7110806</td>\n",
       "      <td>6210</td>\n",
       "      <td>449173</td>\n",
       "      <td>723.099976</td>\n",
       "      <td>3</td>\n",
       "      <td>114</td>\n",
       "      <td>1</td>\n",
       "      <td>0</td>\n",
       "      <td>0.199951</td>\n",
       "      <td>0.0</td>\n",
       "      <td>0</td>\n",
       "      <td>0.5196</td>\n",
       "      <td>18.940001</td>\n",
       "      <td>0</td>\n",
       "      <td>0.0</td>\n",
       "      <td>0.0</td>\n",
       "      <td>0.0</td>\n",
       "    </tr>\n",
       "    <tr>\n",
       "      <th>5110</th>\n",
       "      <th>5</th>\n",
       "      <th>0</th>\n",
       "      <th>1</th>\n",
       "      <td>5190815</td>\n",
       "      <td>6210</td>\n",
       "      <td>449173</td>\n",
       "      <td>619.099976</td>\n",
       "      <td>3</td>\n",
       "      <td>110</td>\n",
       "      <td>1</td>\n",
       "      <td>0</td>\n",
       "      <td>0.199951</td>\n",
       "      <td>0.0</td>\n",
       "      <td>0</td>\n",
       "      <td>0.5298</td>\n",
       "      <td>18.940001</td>\n",
       "      <td>0</td>\n",
       "      <td>0.0</td>\n",
       "      <td>0.0</td>\n",
       "      <td>0.0</td>\n",
       "    </tr>\n",
       "    <tr>\n",
       "      <th>5127</th>\n",
       "      <th>5</th>\n",
       "      <th>0</th>\n",
       "      <th>1</th>\n",
       "      <td>787126</td>\n",
       "      <td>6210</td>\n",
       "      <td>449173</td>\n",
       "      <td>369.000000</td>\n",
       "      <td>3</td>\n",
       "      <td>91</td>\n",
       "      <td>1</td>\n",
       "      <td>0</td>\n",
       "      <td>0.199951</td>\n",
       "      <td>0.0</td>\n",
       "      <td>0</td>\n",
       "      <td>0.1345</td>\n",
       "      <td>18.940001</td>\n",
       "      <td>0</td>\n",
       "      <td>0.0</td>\n",
       "      <td>0.0</td>\n",
       "      <td>0.0</td>\n",
       "    </tr>\n",
       "    <tr>\n",
       "      <th>5165</th>\n",
       "      <th>5</th>\n",
       "      <th>0</th>\n",
       "      <th>1</th>\n",
       "      <td>1527686</td>\n",
       "      <td>6210</td>\n",
       "      <td>449173</td>\n",
       "      <td>422.000000</td>\n",
       "      <td>3</td>\n",
       "      <td>120</td>\n",
       "      <td>1</td>\n",
       "      <td>0</td>\n",
       "      <td>0.199951</td>\n",
       "      <td>0.0</td>\n",
       "      <td>0</td>\n",
       "      <td>0.8096</td>\n",
       "      <td>18.940001</td>\n",
       "      <td>0</td>\n",
       "      <td>0.0</td>\n",
       "      <td>0.0</td>\n",
       "      <td>0.0</td>\n",
       "    </tr>\n",
       "    <tr>\n",
       "      <th>5188</th>\n",
       "      <th>5</th>\n",
       "      <th>0</th>\n",
       "      <th>1</th>\n",
       "      <td>11087053</td>\n",
       "      <td>6210</td>\n",
       "      <td>449173</td>\n",
       "      <td>914.900024</td>\n",
       "      <td>3</td>\n",
       "      <td>136</td>\n",
       "      <td>1</td>\n",
       "      <td>0</td>\n",
       "      <td>0.199951</td>\n",
       "      <td>0.0</td>\n",
       "      <td>0</td>\n",
       "      <td>0.8081</td>\n",
       "      <td>18.940001</td>\n",
       "      <td>0</td>\n",
       "      <td>0.0</td>\n",
       "      <td>0.0</td>\n",
       "      <td>0.0</td>\n",
       "    </tr>\n",
       "  </tbody>\n",
       "</table>\n",
       "</div>"
      ],
      "text/plain": [
       "                                 vid  usec    dsec       stime  vehcls  \\\n",
       "Izone DZone TP ioc vehtype                                               \n",
       "5262  5106  5  0   1         7110806  6210  449173  723.099976       3   \n",
       "      5110  5  0   1         5190815  6210  449173  619.099976       3   \n",
       "      5127  5  0   1          787126  6210  449173  369.000000       3   \n",
       "      5165  5  0   1         1527686  6210  449173  422.000000       3   \n",
       "      5188  5  0   1        11087053  6210  449173  914.900024       3   \n",
       "\n",
       "                            #ONode  #IntDe  info      ribf  comp  Evac  \\\n",
       "Izone DZone TP ioc vehtype                                               \n",
       "5262  5106  5  0   1           114       1     0  0.199951   0.0     0   \n",
       "      5110  5  0   1           110       1     0  0.199951   0.0     0   \n",
       "      5127  5  0   1            91       1     0  0.199951   0.0     0   \n",
       "      5165  5  0   1           120       1     0  0.199951   0.0     0   \n",
       "      5188  5  0   1           136       1     0  0.199951   0.0     0   \n",
       "\n",
       "                            InitPos        VoT  tFlag  pArrTime  IniGas  \\\n",
       "Izone DZone TP ioc vehtype                                                \n",
       "5262  5106  5  0   1         0.5196  18.940001      0       0.0     0.0   \n",
       "      5110  5  0   1         0.5298  18.940001      0       0.0     0.0   \n",
       "      5127  5  0   1         0.1345  18.940001      0       0.0     0.0   \n",
       "      5165  5  0   1         0.8096  18.940001      0       0.0     0.0   \n",
       "      5188  5  0   1         0.8081  18.940001      0       0.0     0.0   \n",
       "\n",
       "                            waitTime  \n",
       "Izone DZone TP ioc vehtype            \n",
       "5262  5106  5  0   1             0.0  \n",
       "      5110  5  0   1             0.0  \n",
       "      5127  5  0   1             0.0  \n",
       "      5165  5  0   1             0.0  \n",
       "      5188  5  0   1             0.0  "
      ]
     },
     "execution_count": 121,
     "metadata": {},
     "output_type": "execute_result"
    }
   ],
   "source": [
    "df_vehicles_deliv.tail()"
   ]
  },
  {
   "cell_type": "code",
   "execution_count": 126,
   "metadata": {},
   "outputs": [
    {
     "data": {
      "text/plain": [
       "array([9, 4, 0])"
      ]
     },
     "execution_count": 126,
     "metadata": {},
     "output_type": "execute_result"
    }
   ],
   "source": [
    "np.random.randint(10,size=3)"
   ]
  },
  {
   "cell_type": "code",
   "execution_count": 29,
   "metadata": {},
   "outputs": [
    {
     "data": {
      "text/plain": [
       "array([[3.65600000e+03, 6.31000000e+02, 3.00000000e+00, 2.00000000e+00,\n",
       "        4.00000000e+00, 8.50234510e+02, 8.51234510e+02, 1.81683354e+01,\n",
       "        3.01683354e+01],\n",
       "       [4.15600000e+03, 9.74000000e+02, 4.00000000e+00, 1.00000000e+00,\n",
       "        5.00000000e+00, 2.30026686e+02, 2.32026686e+02, 7.58008792e+01,\n",
       "        8.18008792e+01],\n",
       "       [6.02000000e+02, 3.64000000e+03, 3.00000000e+00, 1.00000000e+00,\n",
       "        2.00000000e+00, 6.20933658e+02, 6.21933658e+02, 2.46636549e+01,\n",
       "        3.06636549e+01],\n",
       "       [4.20100000e+03, 6.75000000e+02, 3.00000000e+00, 1.00000000e+00,\n",
       "        2.00000000e+00, 1.10438983e+03, 1.10438983e+03, 3.64461683e+01,\n",
       "        3.64461683e+01],\n",
       "       [2.07500000e+03, 1.51800000e+03, 3.00000000e+00, 2.00000000e+00,\n",
       "        2.00000000e+00, 8.54478299e+02, 8.55478299e+02, 7.13732313e+00,\n",
       "        2.11373231e+01]])"
      ]
     },
     "execution_count": 29,
     "metadata": {},
     "output_type": "execute_result"
    }
   ],
   "source": [
    "instructions"
   ]
  },
  {
   "cell_type": "code",
   "execution_count": 82,
   "metadata": {},
   "outputs": [
    {
     "data": {
      "text/plain": [
       "[array([0, 1, 2, 3, 4, 5, 6, 7]), array([1, 2, 1, 2, 1, 2, 1, 2])]"
      ]
     },
     "execution_count": 82,
     "metadata": {},
     "output_type": "execute_result"
    }
   ],
   "source": [
    "arrays = [np.arange(8), np.array([1,2,1,2,1,2,1,2])]\n",
    "arrays"
   ]
  },
  {
   "cell_type": "code",
   "execution_count": 83,
   "metadata": {},
   "outputs": [
    {
     "data": {
      "text/plain": [
       "0  1    0.165646\n",
       "1  2   -0.170022\n",
       "2  1   -0.776249\n",
       "3  2    1.709138\n",
       "4  1    0.036056\n",
       "5  2   -0.569341\n",
       "6  1   -0.674400\n",
       "7  2    1.323972\n",
       "dtype: float64"
      ]
     },
     "execution_count": 83,
     "metadata": {},
     "output_type": "execute_result"
    }
   ],
   "source": [
    "s = pd.Series(np.random.randn(8), index=arrays)\n",
    "s"
   ]
  },
  {
   "cell_type": "code",
   "execution_count": 89,
   "metadata": {},
   "outputs": [
    {
     "data": {
      "text/plain": [
       "MultiIndex(levels=[[0, 1, 2, 3, 4, 5, 6, 7], [1, 2]],\n",
       "           labels=[[0, 1, 2, 3, 4, 5, 6, 7], [0, 1, 0, 1, 0, 1, 0, 1]])"
      ]
     },
     "execution_count": 89,
     "metadata": {},
     "output_type": "execute_result"
    }
   ],
   "source": [
    "s.index"
   ]
  },
  {
   "cell_type": "code",
   "execution_count": 102,
   "metadata": {},
   "outputs": [
    {
     "data": {
      "text/plain": [
       "False"
      ]
     },
     "execution_count": 102,
     "metadata": {},
     "output_type": "execute_result"
    }
   ],
   "source": [
    "s.index.contains((1,3))"
   ]
  },
  {
   "cell_type": "code",
   "execution_count": 98,
   "metadata": {},
   "outputs": [
    {
     "ename": "IndexingError",
     "evalue": "Too many indexers",
     "output_type": "error",
     "traceback": [
      "\u001b[1;31m---------------------------------------------------------------------------\u001b[0m",
      "\u001b[1;31mIndexingError\u001b[0m                             Traceback (most recent call last)",
      "\u001b[1;32m<ipython-input-98-a3a486522d6f>\u001b[0m in \u001b[0;36m<module>\u001b[1;34m()\u001b[0m\n\u001b[0;32m      1\u001b[0m \u001b[0midx\u001b[0m \u001b[1;33m=\u001b[0m \u001b[0mpd\u001b[0m\u001b[1;33m.\u001b[0m\u001b[0mIndexSlice\u001b[0m\u001b[1;33m\u001b[0m\u001b[0m\n\u001b[1;32m----> 2\u001b[1;33m \u001b[0ms\u001b[0m\u001b[1;33m.\u001b[0m\u001b[0mloc\u001b[0m\u001b[1;33m[\u001b[0m\u001b[0midx\u001b[0m\u001b[1;33m[\u001b[0m\u001b[1;36m1\u001b[0m\u001b[1;33m]\u001b[0m\u001b[1;33m,\u001b[0m \u001b[0midx\u001b[0m\u001b[1;33m[\u001b[0m\u001b[1;36m3\u001b[0m\u001b[1;33m]\u001b[0m\u001b[1;33m]\u001b[0m\u001b[1;33m\u001b[0m\u001b[0m\n\u001b[0m",
      "\u001b[1;32mC:\\Anaconda3\\lib\\site-packages\\pandas\\core\\indexing.py\u001b[0m in \u001b[0;36m__getitem__\u001b[1;34m(self, key)\u001b[0m\n\u001b[0;32m   1470\u001b[0m             \u001b[1;32mexcept\u001b[0m \u001b[1;33m(\u001b[0m\u001b[0mKeyError\u001b[0m\u001b[1;33m,\u001b[0m \u001b[0mIndexError\u001b[0m\u001b[1;33m)\u001b[0m\u001b[1;33m:\u001b[0m\u001b[1;33m\u001b[0m\u001b[0m\n\u001b[0;32m   1471\u001b[0m                 \u001b[1;32mpass\u001b[0m\u001b[1;33m\u001b[0m\u001b[0m\n\u001b[1;32m-> 1472\u001b[1;33m             \u001b[1;32mreturn\u001b[0m \u001b[0mself\u001b[0m\u001b[1;33m.\u001b[0m\u001b[0m_getitem_tuple\u001b[0m\u001b[1;33m(\u001b[0m\u001b[0mkey\u001b[0m\u001b[1;33m)\u001b[0m\u001b[1;33m\u001b[0m\u001b[0m\n\u001b[0m\u001b[0;32m   1473\u001b[0m         \u001b[1;32melse\u001b[0m\u001b[1;33m:\u001b[0m\u001b[1;33m\u001b[0m\u001b[0m\n\u001b[0;32m   1474\u001b[0m             \u001b[1;31m# we by definition only have the 0th axis\u001b[0m\u001b[1;33m\u001b[0m\u001b[1;33m\u001b[0m\u001b[0m\n",
      "\u001b[1;32mC:\\Anaconda3\\lib\\site-packages\\pandas\\core\\indexing.py\u001b[0m in \u001b[0;36m_getitem_tuple\u001b[1;34m(self, tup)\u001b[0m\n\u001b[0;32m    873\u001b[0m \u001b[1;33m\u001b[0m\u001b[0m\n\u001b[0;32m    874\u001b[0m         \u001b[1;31m# no multi-index, so validate all of the indexers\u001b[0m\u001b[1;33m\u001b[0m\u001b[1;33m\u001b[0m\u001b[0m\n\u001b[1;32m--> 875\u001b[1;33m         \u001b[0mself\u001b[0m\u001b[1;33m.\u001b[0m\u001b[0m_has_valid_tuple\u001b[0m\u001b[1;33m(\u001b[0m\u001b[0mtup\u001b[0m\u001b[1;33m)\u001b[0m\u001b[1;33m\u001b[0m\u001b[0m\n\u001b[0m\u001b[0;32m    876\u001b[0m \u001b[1;33m\u001b[0m\u001b[0m\n\u001b[0;32m    877\u001b[0m         \u001b[1;31m# ugly hack for GH #836\u001b[0m\u001b[1;33m\u001b[0m\u001b[1;33m\u001b[0m\u001b[0m\n",
      "\u001b[1;32mC:\\Anaconda3\\lib\\site-packages\\pandas\\core\\indexing.py\u001b[0m in \u001b[0;36m_has_valid_tuple\u001b[1;34m(self, key)\u001b[0m\n\u001b[0;32m    218\u001b[0m         \u001b[1;32mfor\u001b[0m \u001b[0mi\u001b[0m\u001b[1;33m,\u001b[0m \u001b[0mk\u001b[0m \u001b[1;32min\u001b[0m \u001b[0menumerate\u001b[0m\u001b[1;33m(\u001b[0m\u001b[0mkey\u001b[0m\u001b[1;33m)\u001b[0m\u001b[1;33m:\u001b[0m\u001b[1;33m\u001b[0m\u001b[0m\n\u001b[0;32m    219\u001b[0m             \u001b[1;32mif\u001b[0m \u001b[0mi\u001b[0m \u001b[1;33m>=\u001b[0m \u001b[0mself\u001b[0m\u001b[1;33m.\u001b[0m\u001b[0mobj\u001b[0m\u001b[1;33m.\u001b[0m\u001b[0mndim\u001b[0m\u001b[1;33m:\u001b[0m\u001b[1;33m\u001b[0m\u001b[0m\n\u001b[1;32m--> 220\u001b[1;33m                 \u001b[1;32mraise\u001b[0m \u001b[0mIndexingError\u001b[0m\u001b[1;33m(\u001b[0m\u001b[1;34m'Too many indexers'\u001b[0m\u001b[1;33m)\u001b[0m\u001b[1;33m\u001b[0m\u001b[0m\n\u001b[0m\u001b[0;32m    221\u001b[0m             \u001b[1;32mtry\u001b[0m\u001b[1;33m:\u001b[0m\u001b[1;33m\u001b[0m\u001b[0m\n\u001b[0;32m    222\u001b[0m                 \u001b[0mself\u001b[0m\u001b[1;33m.\u001b[0m\u001b[0m_validate_key\u001b[0m\u001b[1;33m(\u001b[0m\u001b[0mk\u001b[0m\u001b[1;33m,\u001b[0m \u001b[0mi\u001b[0m\u001b[1;33m)\u001b[0m\u001b[1;33m\u001b[0m\u001b[0m\n",
      "\u001b[1;31mIndexingError\u001b[0m: Too many indexers"
     ]
    }
   ],
   "source": [
    "idx = pd.IndexSlice\n",
    "s.loc[idx[1], idx[3]]"
   ]
  },
  {
   "cell_type": "code",
   "execution_count": null,
   "metadata": {
    "collapsed": true
   },
   "outputs": [],
   "source": []
  }
 ],
 "metadata": {
  "kernelspec": {
   "display_name": "Python 3",
   "language": "python",
   "name": "python3"
  },
  "language_info": {
   "codemirror_mode": {
    "name": "ipython",
    "version": 3
   },
   "file_extension": ".py",
   "mimetype": "text/x-python",
   "name": "python",
   "nbconvert_exporter": "python",
   "pygments_lexer": "ipython3",
   "version": "3.6.3"
  }
 },
 "nbformat": 4,
 "nbformat_minor": 2
}
